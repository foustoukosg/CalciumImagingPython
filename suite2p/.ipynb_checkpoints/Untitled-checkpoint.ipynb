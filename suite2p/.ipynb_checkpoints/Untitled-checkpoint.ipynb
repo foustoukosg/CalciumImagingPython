{
 "cells": [
  {
   "cell_type": "code",
   "execution_count": 1,
   "metadata": {},
   "outputs": [],
   "source": [
    "import numpy as np\n",
    "import sys\n",
    "import glob \n",
    "import os \n",
    "from pathlib import Path\n",
    "import matplotlib.pyplot as plt\n",
    "import matplotlib.image as mpimg\n",
    "import numpy as np\n",
    "import scipy.io as sio\n",
    "from scipy import stats\n",
    "from natsort import natsorted, ns\n",
    "import statistics as st\n",
    "import pickle"
   ]
  },
  {
   "cell_type": "code",
   "execution_count": 2,
   "metadata": {},
   "outputs": [],
   "source": [
    "def ModeBaselineZscoreF(F,Fneu, a = 0.7, deg = 5, binSize = 3000):\n",
    "    \n",
    "    \"\"\"Function in order to calculate the baseline of suite2p extracted fluo traces using mode and noise level\n",
    "    approximation\"\"\"\n",
    "    \n",
    "    binSize =int(binSize)\n",
    "    test = F - a*Fneu\n",
    "    xts = []\n",
    "    yts = []\n",
    "    \n",
    "    \n",
    "    for tm in range(int(binSize/2),int((len(test)-binSize/2)),int(binSize)):\n",
    "        xts.append(tm)\n",
    "        winMode = int(stats.mode(test[int((tm-binSize/2)):int((tm+binSize/2))])[0])\n",
    "        yts.append(winMode)\n",
    "        \n",
    "    p = np.polyfit(np.array(xts),np.array(yts),deg)\n",
    "    \n",
    "    bas = np.polyval(p,np.arange(len(test)))\n",
    "    \n",
    "    Fsub = test - bas\n",
    "    \n",
    "    \n",
    "   \n",
    "    sigma = np.std(np.concatenate((Fsub[Fsub>np.mean(Fsub)],-1*Fsub[Fsub<np.mean(Fsub)]),axis = 0))\n",
    "    \n",
    "    Fbas = Fsub/sigma\n",
    "        \n",
    "    return Fbas"
   ]
  },
  {
   "cell_type": "code",
   "execution_count": 3,
   "metadata": {},
   "outputs": [],
   "source": [
    "name = 'GF201'"
   ]
  },
  {
   "cell_type": "code",
   "execution_count": 4,
   "metadata": {},
   "outputs": [
    {
     "name": "stdout",
     "output_type": "stream",
     "text": [
      "Calculating mouse: GF201\n",
      "Windows system detected\n",
      "Loading frames for splitting: \\\\sv1files.epfl.ch\\Petersen-Lab\\data\\GF201\\Recordings\\Imaging\\GF201_05092019\\TrialFrames.mat\n",
      "Loading frames for splitting: \\\\sv1files.epfl.ch\\Petersen-Lab\\data\\GF201\\Recordings\\Imaging\\GF201_06092019\\TrialFrames.mat\n",
      "Loading frames for splitting: \\\\sv1files.epfl.ch\\Petersen-Lab\\data\\GF201\\Recordings\\Imaging\\GF201_07092019\\TrialFrames.mat\n",
      "Loading frames for splitting: \\\\sv1files.epfl.ch\\Petersen-Lab\\data\\GF201\\Recordings\\Imaging\\GF201_08092019\\TrialFrames.mat\n",
      "Loading frames for splitting: \\\\sv1files.epfl.ch\\Petersen-Lab\\data\\GF201\\Recordings\\Imaging\\GF201_09092019\\TrialFrames.mat\n",
      "Loading frames for splitting: \\\\sv1files.epfl.ch\\Petersen-Lab\\data\\GF201\\Recordings\\Imaging\\GF201_10092019\\TrialFrames.mat\n",
      "Loading suite2p files ...\n",
      "Files loaded\n"
     ]
    }
   ],
   "source": [
    "print('Calculating mouse: ' + name )\n",
    "\n",
    "mouseName = name\n",
    "nframes = 211\n",
    "\n",
    "# Hardcoded paths to the server\n",
    "datapath = '\\\\\\\\sv1files.epfl.ch\\\\Petersen-Lab\\\\analysis\\\\Georgios_Foustoukos\\\\DataAll\\\\' + mouseName + \"\\\\\" \n",
    "readingpath = '\\\\\\\\sv1files.epfl.ch\\\\Petersen-Lab\\\\analysis\\\\Georgios_Foustoukos\\\\' + mouseName + \"\\\\\" \n",
    "serverpath = '\\\\\\\\sv1files.epfl.ch\\\\Petersen-Lab\\\\data\\\\' + mouseName + '\\\\Recordings\\\\Imaging\\\\'\n",
    "behavpath = '\\\\\\\\sv1files.epfl.ch\\\\Petersen-Lab\\\\data\\\\' + mouseName + '\\\\Recordings\\\\BehaviourFiles\\\\'\n",
    "\n",
    "# Detect the operating system to fix the slashes\n",
    "\n",
    "if (os.name == \"posix\"):\n",
    "    print(\"Linux or MacOS system detected\")\n",
    "\n",
    "    #Play with the names only important for MacOS\n",
    "\n",
    "    datapath= datapath.replace('\\\\','/')\n",
    "    datapath = '/Volumes/' + datapath[18:] \n",
    "    behavpath = behavpath.replace('\\\\','/')\n",
    "    behavpath = '/Volumes' + behavpath[18:] \n",
    "    serverpath = serverpath.replace('\\\\','/')\n",
    "    serverpath = '/Volumes' + serverpath[18:] \n",
    "\n",
    "else:\n",
    "    print(\"Windows system detected\")\n",
    "\n",
    "# Find the imaging days\n",
    "imaging_days = glob.glob(os.path.join(behavpath, \"GF*\"))\n",
    "\n",
    "for n,f in enumerate(imaging_days):\n",
    "    imaging_days[n] = os.path.basename(f)\n",
    "\n",
    "# Sort the imaging days by year and month in case the order is not correct\n",
    "year = []\n",
    "month = []\n",
    "for i,f in enumerate(imaging_days):\n",
    "    year.append(f[-4:])\n",
    "    month.append(f[-6:-4])\n",
    "\n",
    "yearZip = []\n",
    "yearZip = natsorted(list(zip(year,imaging_days)))\n",
    "year_sorted = [x for y, x in yearZip]\n",
    "\n",
    "\n",
    "year = []\n",
    "month = []\n",
    "for i,f in enumerate(year_sorted):\n",
    "    year.append(f[-4:])\n",
    "    month.append(f[-6:-4])\n",
    "\n",
    "\n",
    "monthZip = []\n",
    "monthZip = natsorted(list(zip(month,year_sorted)))\n",
    "month_sorted = [x for y, x in monthZip]\n",
    "\n",
    "\n",
    "imaging_days = natsorted(month_sorted)\n",
    "\n",
    "if name == 'GF207':\n",
    "\n",
    "    print('Mouse ' + name + ' big correction needed')\n",
    "\n",
    "    imaging_days_cor = [imaging_days[0], imaging_days[1], imaging_days[3], imaging_days[5], imaging_days[6],imaging_days[7]] \n",
    "\n",
    "    imaging_days = imaging_days_cor\n",
    "\n",
    "elif name == 'GF187':\n",
    "\n",
    "    print('Mouse ' + name + ' big correction needed')\n",
    "\n",
    "    imaging_days = imaging_days[:-1]\n",
    "\n",
    "\n",
    "# Thats a list of dictionaries where all the days for one mouse will be stored\n",
    "AllData = []\n",
    "\n",
    "DaysLength = np.zeros([1, len(imaging_days)])\n",
    "\n",
    "for i,f in enumerate(imaging_days):\n",
    "\n",
    "    frames_path = serverpath + imaging_days[i] + os.sep + 'TrialFrames.mat'\n",
    "\n",
    "    print('Loading frames for splitting: ' + frames_path)\n",
    "\n",
    "    frames = sio.loadmat(frames_path)\n",
    "\n",
    "    numOfFrames = frames['NumOfFrames']\n",
    "\n",
    "    numOfFrames = np.array(numOfFrames)\n",
    "\n",
    "    DaysLength[0,i] = np.sum(numOfFrames)\n",
    "\n",
    "#Create the paths to the suite2p files\n",
    "\n",
    "F_path = datapath + os.sep + 'suite2p' + os.sep + 'plane0' + os.sep + \"F.npy\"\n",
    "Fneu_path = datapath + os.sep + 'suite2p' + os.sep + 'plane0' + os.sep + \"Fneu.npy\"\n",
    "iscell_path = datapath + os.sep + 'suite2p' + os.sep + 'plane0' + os.sep + \"iscell.npy\"\n",
    "spks_path = datapath  + os.sep + 'suite2p' + os.sep + 'plane0' + os.sep + \"spks.npy\"\n",
    "\n",
    "print('Loading suite2p files ...')\n",
    "\n",
    "FAll = np.load(F_path)\n",
    "FneuAll = np.load(Fneu_path)\n",
    "spksAll = np.load(spks_path)\n",
    "iscell = np.load(iscell_path)\n",
    "\n",
    "print('Files loaded')\n",
    "\n",
    "#Keep only the ROIs detected as cells \n",
    "\n",
    "FAll = FAll[iscell[:,0]==1.]\n",
    "FneuAll = FneuAll[iscell[:,0]==1.]\n",
    "spksAll = spksAll[iscell[:,0]==1.]\n",
    "\n",
    "for d in range(DaysLength.shape[1]):\n",
    "    F = FAll[:,int(np.sum(DaysLength[0,0:d])):int(np.sum(DaysLength[0,0:(d+1)]))]\n",
    "    Fneu = FneuAll[:,int(np.sum(DaysLength[0,0:d])):int(np.sum(DaysLength[0,0:(d+1)]))]\n",
    "    spks = spksAll[:,int(np.sum(DaysLength[0,0:d])):int(np.sum(DaysLength[0,0:(d+1)]))]\n",
    "    Fbas = np.empty([F.shape[0],F.shape[1]])\n",
    "    spksbas =  np.empty([spks.shape[0],spks.shape[1]])\n",
    "\n"
   ]
  },
  {
   "cell_type": "code",
   "execution_count": 6,
   "metadata": {},
   "outputs": [
    {
     "data": {
      "text/plain": [
       "6"
      ]
     },
     "execution_count": 6,
     "metadata": {},
     "output_type": "execute_result"
    }
   ],
   "source": [
    "DaysLength.shape[1]"
   ]
  },
  {
   "cell_type": "code",
   "execution_count": 7,
   "metadata": {},
   "outputs": [
    {
     "data": {
      "text/plain": [
       "(428, 675362)"
      ]
     },
     "execution_count": 7,
     "metadata": {},
     "output_type": "execute_result"
    }
   ],
   "source": [
    "FAll.shape"
   ]
  },
  {
   "cell_type": "code",
   "execution_count": 15,
   "metadata": {},
   "outputs": [],
   "source": [
    "F = FAll[:,int(np.sum(DaysLength[0,0:d])):int(np.sum(DaysLength[0,0:(d+1)]))]\n",
    "Fneu = FneuAll[:,int(np.sum(DaysLength[0,0:d])):int(np.sum(DaysLength[0,0:(d+1)]))]\n",
    "spks = spksAll[:,int(np.sum(DaysLength[0,0:d])):int(np.sum(DaysLength[0,0:(d+1)]))]\n",
    "Fbas = np.empty([F.shape[0],F.shape[1]])\n",
    "spksbas =  np.empty([spks.shape[0],spks.shape[1]])"
   ]
  },
  {
   "cell_type": "code",
   "execution_count": 14,
   "metadata": {},
   "outputs": [],
   "source": [
    "d = 3"
   ]
  },
  {
   "cell_type": "code",
   "execution_count": 16,
   "metadata": {},
   "outputs": [
    {
     "data": {
      "text/plain": [
       "[<matplotlib.lines.Line2D at 0x202aa518>]"
      ]
     },
     "execution_count": 16,
     "metadata": {},
     "output_type": "execute_result"
    },
    {
     "data": {
      "image/png": "[encoded data removed]",
      "text/plain": [
       "<Figure size 432x288 with 1 Axes>"
      ]
     },
     "metadata": {
      "needs_background": "light"
     },
     "output_type": "display_data"
    }
   ],
   "source": [
    "plt.plot(F[0,:])"
   ]
  },
  {
   "cell_type": "code",
   "execution_count": 17,
   "metadata": {},
   "outputs": [],
   "source": [
    "Fbas[0][:] = ModeBaselineZscoreF(F[0,:],Fneu[0,:],0.7,5,3000)"
   ]
  },
  {
   "cell_type": "code",
   "execution_count": null,
   "metadata": {},
   "outputs": [],
   "source": []
  },
  {
   "cell_type": "code",
   "execution_count": null,
   "metadata": {},
   "outputs": [],
   "source": []
  },
  {
   "cell_type": "code",
   "execution_count": null,
   "metadata": {},
   "outputs": [],
   "source": []
  },
  {
   "cell_type": "code",
   "execution_count": 19,
   "metadata": {},
   "outputs": [
    {
     "data": {
      "text/plain": [
       "<matplotlib.axes._subplots.AxesSubplot at 0x20377e10>"
      ]
     },
     "execution_count": 19,
     "metadata": {},
     "output_type": "execute_result"
    },
    {
     "data": {
      "image/png": "[encoded data removed]",
      "text/plain": [
       "<Figure size 1440x1080 with 1 Axes>"
      ]
     },
     "metadata": {
      "needs_background": "light"
     },
     "output_type": "display_data"
    }
   ],
   "source": [
    "time = \n",
    "plt.figure(figsize=(20, 15))\n",
    "plt.subplot(2,1,1)\n",
    "plt.plot"
   ]
  }
 ],
 "metadata": {
  "kernelspec": {
   "display_name": "Python 3",
   "language": "python",
   "name": "python3"
  },
  "language_info": {
   "codemirror_mode": {
    "name": "ipython",
    "version": 3
   },
   "file_extension": ".py",
   "mimetype": "text/x-python",
   "name": "python",
   "nbconvert_exporter": "python",
   "pygments_lexer": "ipython3",
   "version": "3.7.3"
  }
 },
 "nbformat": 4,
 "nbformat_minor": 2
}

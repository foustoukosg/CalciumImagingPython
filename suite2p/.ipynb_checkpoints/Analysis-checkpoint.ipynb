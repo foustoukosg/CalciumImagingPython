{
 "cells": [
  {
   "cell_type": "code",
   "execution_count": 2,
   "metadata": {},
   "outputs": [],
   "source": [
    "import numpy as np\n",
    "import sys\n",
    "import glob \n",
    "import os \n",
    "from pathlib import Path\n",
    "import matplotlib.pyplot as plt\n",
    "import matplotlib.image as mpimg\n",
    "import numpy as np\n",
    "import scipy.io as sio"
   ]
  },
  {
   "cell_type": "code",
   "execution_count": null,
   "metadata": {},
   "outputs": [],
   "source": []
  },
  {
   "cell_type": "code",
   "execution_count": 22,
   "metadata": {},
   "outputs": [
    {
     "name": "stdout",
     "output_type": "stream",
     "text": [
      "Windows system detected\n"
     ]
    }
   ],
   "source": [
    "mouseName = \"GF193\"\n",
    "nframes = 211\n",
    "\n",
    "# Hardcoded paths to the server\n",
    "datapath = '\\\\\\\\sv1files.epfl.ch\\\\Petersen-Lab\\\\analysis\\\\Georgios_Foustoukos\\\\' + mouseName + \"\\\\\" \n",
    "serverpath = '\\\\\\\\sv1files.epfl.ch\\\\Petersen-Lab\\\\data\\\\' + mouseName + '\\\\Recordings\\\\Imaging\\\\'\n",
    "behavpath = '\\\\\\\\sv1files.epfl.ch\\\\Petersen-Lab\\\\data\\\\' + mouseName + '\\\\Recordings\\\\BehaviourFiles\\\\'\n",
    "\n",
    "# Detect the operating system to fix the slashes\n",
    "\n",
    "if (os.name == \"posix\"):\n",
    "    print(\"Linux or MacOS system detected\")\n",
    "    datapath= datapath.replace('\\\\','/')\n",
    "    datapath = '/Volumes/' + datapath[18:] \n",
    "    behavpath = behavpath.replace('\\\\','/')\n",
    "    behavpath = '/Volumes' + behavpath[18:] \n",
    "    serverpath = serverpath.replace('\\\\','/')\n",
    "    serverpath = '/Volumes' + serverpath[18:] \n",
    "else:\n",
    "    print(\"Windows system detected\")\n",
    "\n",
    "# Find the imaging days\n",
    "imaging_days = glob.glob(os.path.join(datapath, \"GF*\"))\n",
    "\n",
    "for n,f in enumerate(imaging_days):\n",
    "    imaging_days[n] = os.path.basename(f)\n",
    "    \n",
    "AllData = []\n",
    "    \n",
    "for i,f in enumerate(imaging_days):\n",
    "    \n",
    "    print('Loading day : ' + imaging_days[i])\n",
    "    \n",
    "    F_path = datapath + imaging_days[i] + os.sep + 'suite2p' + os.sep + 'plane0' + os.sep + \"F.npy\"\n",
    "    Fneu_path = datapath + imaging_days[i] + os.sep + 'suite2p' + os.sep + 'plane0' + os.sep + \"Fneu.npy\"\n",
    "    iscell_path = datapath + imaging_days[i] + os.sep + 'suite2p' + os.sep + 'plane0' + os.sep + \"iscell.npy\"\n",
    "    spks_path = datapath + imaging_days[i] + os.sep + 'suite2p' + os.sep + 'plane0' + os.sep + \"spks.npy\"\n",
    "    \n",
    "    F = np.load(F_path)\n",
    "    Fneu = np.load(Fneu_path)\n",
    "    spks = np.load(spks_path)\n",
    "    iscell = np.load(iscell_path)\n",
    "    \n",
    "    F = F[iscell[:,0]==1.]\n",
    "    Fneu = Fneu[iscell[:,0]==1.]\n",
    "    spks = spks[iscell[:,0]==1.]\n",
    "    \n",
    "    print('Number of Selected ROIs : ' + str(F.shape[0])\n",
    "          \n",
    "          \n",
    "    behav_path = behavpath + imaging_days[i] + os.sep + 'BehavResults.mat'\n",
    "\n",
    "    print('Loading behaviour: ' + behav_path)\n",
    "\n",
    "    beh = sio.loadmat(behav_path)\n",
    "\n",
    "    vals = beh['BehavResults'][0,0]\n",
    "\n",
    "    keys = beh['BehavResults'][0,0].dtype.descr\n",
    "\n",
    "    beh = np.array(vals[keys[0][0]][:][:])\n",
    "    \n",
    "\n",
    "    \n",
    "    frames_path = serverpath + imaging_days[i] + os.sep + 'TrialFrames.mat'\n",
    "          \n",
    "    print('Loading frame info: ' +  frames_path)\n",
    "\n",
    "    frames = sio.loadmat(frames_path)\n",
    "          \n",
    "    numOfFrames = frames['NumOfFrames']\n",
    "\n",
    "    numOfFrames = np.array(numOfFrames)\n",
    "          \n",
    "    \n",
    "    daysDict = dict.fromkeys(['dayName','WM','AM','WH','AH','CR','FA'])\n",
    "\n",
    "    daysDict['dayName'] = imaging_days[i]\n",
    "    \n",
    "    dataDictWM = dict.fromkeys(['WMF','WMFneu','WMspks'])\n",
    "    dataDictWH = dict.fromkeys(['WHF','WHFneu','WHspks'])\n",
    "    dataDictAH = dict.fromkeys(['AHF','AHFneu','AHspks'])\n",
    "    dataDictAM = dict.fromkeys(['AMF','AMFneu','AMspks'])\n",
    "    dataDictFA = dict.fromkeys(['FAF','FAFneu','FAspks'])\n",
    "    dataDictFA = dict.fromkeys(['CRF','CRFneu','CRspks'])\n",
    "    \n",
    "    WMc = 0;\n",
    "    AMc = 0;\n",
    "    WHc = 0;\n",
    "    AHc = 0;\n",
    "    CRc = 0;\n",
    "    FAc = 0;\n",
    "          \n",
    "    WMF = np.zeros()\n",
    "          \n",
    "    for t in range(len(performance)):\n",
    "        \n",
    "        if performance[t] == 0.0:\n",
    "          \n",
    "          WMc += 1\n",
    "          WMF = F[:,np.sum(numOframes[0:t]):(np.sum(numOframes[0:t])+ 211)]\n",
    "        \n",
    "            \n",
    "        elif performance[t] == 1.0:\n",
    "            \n",
    "            trialType.append('AM')\n",
    "            \n",
    "        elif performance[t] == 2.0:\n",
    "            \n",
    "            trialType.append('WH')\n",
    "         \n",
    "        elif performance[t] == 3.0:\n",
    "            \n",
    "            trialType.append('AH')\n",
    "           \n",
    "        elif performance[t] == 4.0:\n",
    "            \n",
    "            trialType.append('CR')\n",
    "            \n",
    "        elif performance[t] == 5.0:\n",
    "            \n",
    "            trialType.append('FA')\n",
    "\n",
    "          \n",
    "          \n",
    "          \n",
    "\n",
    "    \n",
    "    "
   ]
  },
  {
   "cell_type": "code",
   "execution_count": 11,
   "metadata": {},
   "outputs": [
    {
     "name": "stdout",
     "output_type": "stream",
     "text": [
      "Linux or MacOS system detected\n",
      "Loading day : GF193_21062019\n",
      "Number of Selected ROIs : 220\n",
      "Loading behaviour: /Volumes/Petersen-Lab/data/GF193/Recordings/BehaviourFiles/GF193_21062019/BehavResults.mat\n",
      "Loading frame info: /Volumes/Petersen-Lab/data/GF193/Recordings/Imaging/GF193_21062019/TrialFrames.mat\n"
     ]
    }
   ],
   "source": [
    "mouseName = \"GF193\"\n",
    "nframes = 211\n",
    "\n",
    "# Hardcoded paths to the server\n",
    "datapath = '\\\\\\\\sv1files.epfl.ch\\\\Petersen-Lab\\\\analysis\\\\Georgios_Foustoukos\\\\' + mouseName + \"\\\\\" \n",
    "serverpath = '\\\\\\\\sv1files.epfl.ch\\\\Petersen-Lab\\\\data\\\\' + mouseName + '\\\\Recordings\\\\Imaging\\\\'\n",
    "behavpath = '\\\\\\\\sv1files.epfl.ch\\\\Petersen-Lab\\\\data\\\\' + mouseName + '\\\\Recordings\\\\BehaviourFiles\\\\'\n",
    "\n",
    "# Detect the operating system to fix the slashes\n",
    "\n",
    "if (os.name == \"posix\"):\n",
    "    print(\"Linux or MacOS system detected\")\n",
    "    datapath= datapath.replace('\\\\','/')\n",
    "    datapath = '/Volumes' + datapath[18:] \n",
    "    behavpath = behavpath.replace('\\\\','/')\n",
    "    behavpath = '/Volumes' + behavpath[18:] \n",
    "    serverpath = serverpath.replace('\\\\','/')\n",
    "    serverpath = '/Volumes' + serverpath[18:] \n",
    "else:\n",
    "    print(\"Windows system detected\")\n",
    "\n",
    "imaging_days = glob.glob(os.path.join(datapath, \"GF*\"))\n",
    "\n",
    "\n",
    "for n,f in enumerate(imaging_days ):\n",
    "    imaging_days[n] = os.path.basename(f)\n",
    "    \n",
    "AllData = []\n",
    "\n",
    "i = 1\n",
    "print('Loading day : ' + imaging_days[i])\n",
    "\n",
    "F_path = datapath + imaging_days[i] + os.sep + 'suite2p' + os.sep + 'plane0' + os.sep + \"F.npy\"\n",
    "Fneu_path = datapath + imaging_days[i] + os.sep + 'suite2p' + os.sep + 'plane0' + os.sep + \"Fneu.npy\"\n",
    "iscell_path = datapath + imaging_days[i] + os.sep + 'suite2p' + os.sep + 'plane0' + os.sep + \"iscell.npy\"\n",
    "spks_path = datapath + imaging_days[i] + os.sep + 'suite2p' + os.sep + 'plane0' + os.sep + \"spks.npy\"\n",
    "\n",
    "F = np.load(F_path)\n",
    "Fneu = np.load(Fneu_path)\n",
    "spks = np.load(spks_path)\n",
    "iscell = np.load(iscell_path)\n",
    "\n",
    "F = F[iscell[:,0]==1.]\n",
    "Fneu = Fneu[iscell[:,0]==1.]\n",
    "spks = spks[iscell[:,0]==1.]\n",
    "\n",
    "print('Number of Selected ROIs : ' + str(F.shape[0]))\n",
    "\n",
    "\n",
    "behav_path = behavpath + imaging_days[i] + os.sep + 'BehavResults.mat'\n",
    "\n",
    "print('Loading behaviour: ' + behav_path)\n",
    "\n",
    "beh = sio.loadmat(behav_path)\n",
    "\n",
    "vals = beh['BehavResults'][0,0]\n",
    "\n",
    "keys = beh['BehavResults'][0,0].dtype.descr\n",
    "\n",
    "beh = np.array(vals[keys[0][0]][:][:])\n",
    "\n",
    "\n",
    "\n",
    "frames_path = serverpath + imaging_days[i] + os.sep + 'TrialFrames.mat'\n",
    "\n",
    "print('Loading frame info: ' +  frames_path)\n",
    "\n",
    "frames = sio.loadmat(frames_path)\n",
    "\n",
    "numOfFrames = frames['NumOfFrames']\n",
    "\n",
    "numOfFrames = np.array(numOfFrames)\n",
    "\n",
    "\n",
    "daysDict = dict.fromkeys(['dayName','WM','AM','WH','AH','CR','FA'])\n",
    "\n",
    "daysDict['dayName'] = imaging_days[i]"
   ]
  },
  {
   "cell_type": "code",
   "execution_count": 10,
   "metadata": {},
   "outputs": [
    {
     "data": {
      "text/plain": [
       "'/Volumes/Petersen-Lab/data/GF193/Recordings/BehaviourFiles/GF193_21062019/BehavResults.mat'"
      ]
     },
     "execution_count": 10,
     "metadata": {},
     "output_type": "execute_result"
    }
   ],
   "source": [
    "behavpath + imaging_days[i] + os.sep + 'BehavResults.mat'"
   ]
  },
  {
   "cell_type": "code",
   "execution_count": 5,
   "metadata": {},
   "outputs": [
    {
     "name": "stdout",
     "output_type": "stream",
     "text": [
      "Linux or MacOS system detected\n",
      "Loading day : GF193_21062019\n"
     ]
    }
   ],
   "source": [
    "mouseName = \"GF193\"\n",
    "nframes = 211\n",
    "\n",
    "# Hardcoded paths to the server\n",
    "datapath = '\\\\\\\\sv1files.epfl.ch\\\\Petersen-Lab\\\\analysis\\\\Georgios_Foustoukos\\\\' + mouseName + \"\\\\\" \n",
    "serverpath = '\\\\\\\\sv1files.epfl.ch\\\\Petersen-Lab\\\\data\\\\' + mouseName + '\\\\Recordings\\\\Imaging\\\\'\n",
    "behavpath = '\\\\\\\\sv1files.epfl.ch\\\\Petersen-Lab\\\\data\\\\' + mouseName + '\\\\Recordings\\\\BehaviourFiles\\\\'\n",
    "\n",
    "# Detect the operating system to fix the slashes\n",
    "\n",
    "if (os.name == \"posix\"):\n",
    "    print(\"Linux or MacOS system detected\")\n",
    "    datapath= datapath.replace('\\\\','/')\n",
    "    datapath = '/Volumes' + datapath[18:] \n",
    "    behavpath = behavpath.replace('\\\\','/')\n",
    "    behavpath = '/Volumes' + behavpath[18:] \n",
    "    serverpath = serverpath.replace('\\\\','/')\n",
    "    serverpath = '/Volumes' + serverpath[18:] \n",
    "else:\n",
    "    print(\"Windows system detected\")\n",
    "\n",
    "imaging_days = glob.glob(os.path.join(datapath, \"GF*\"))\n",
    "\n",
    "\n",
    "for n,f in enumerate(imaging_days ):\n",
    "    imaging_days[n] = os.path.basename(f)\n",
    "    \n",
    "AllData = []\n",
    "\n",
    "i = 1\n",
    "print('Loading day : ' + imaging_days[i])\n",
    "\n",
    "F_path = datapath + imaging_days[i] + os.sep + 'suite2p' + os.sep + 'plane0' + os.sep + \"F.npy\"\n",
    "F = np.load(F_path)"
   ]
  },
  {
   "cell_type": "code",
   "execution_count": 15,
   "metadata": {
    "slideshow": {
     "slide_type": "fragment"
    }
   },
   "outputs": [
    {
     "data": {
      "text/plain": [
       "(220, 87266)"
      ]
     },
     "execution_count": 15,
     "metadata": {},
     "output_type": "execute_result"
    }
   ],
   "source": [
    "spks.shape"
   ]
  },
  {
   "cell_type": "code",
   "execution_count": 23,
   "metadata": {},
   "outputs": [
    {
     "ename": "IndexError",
     "evalue": "boolean index did not match indexed array along dimension 0; dimension is 220 but corresponding boolean dimension is 248",
     "output_type": "error",
     "traceback": [
      "\u001b[0;31m---------------------------------------------------------------------------\u001b[0m",
      "\u001b[0;31mIndexError\u001b[0m                                Traceback (most recent call last)",
      "\u001b[0;32m<ipython-input-23-debd6c435ce1>\u001b[0m in \u001b[0;36m<module>\u001b[0;34m()\u001b[0m\n\u001b[0;32m----> 1\u001b[0;31m \u001b[0mF\u001b[0m \u001b[0;34m=\u001b[0m \u001b[0mF\u001b[0m\u001b[0;34m[\u001b[0m\u001b[0miscell\u001b[0m\u001b[0;34m[\u001b[0m\u001b[0;34m:\u001b[0m\u001b[0;34m,\u001b[0m\u001b[0;36m0\u001b[0m\u001b[0;34m]\u001b[0m\u001b[0;34m==\u001b[0m\u001b[0;36m1.\u001b[0m\u001b[0;34m]\u001b[0m\u001b[0;34m\u001b[0m\u001b[0;34m\u001b[0m\u001b[0m\n\u001b[0m\u001b[1;32m      2\u001b[0m \u001b[0mFneu\u001b[0m \u001b[0;34m=\u001b[0m \u001b[0mFneu\u001b[0m\u001b[0;34m[\u001b[0m\u001b[0miscell\u001b[0m\u001b[0;34m[\u001b[0m\u001b[0;34m:\u001b[0m\u001b[0;34m,\u001b[0m\u001b[0;36m0\u001b[0m\u001b[0;34m]\u001b[0m\u001b[0;34m==\u001b[0m\u001b[0;36m1.\u001b[0m\u001b[0;34m]\u001b[0m\u001b[0;34m\u001b[0m\u001b[0;34m\u001b[0m\u001b[0m\n\u001b[1;32m      3\u001b[0m \u001b[0mspks\u001b[0m \u001b[0;34m=\u001b[0m \u001b[0mspks\u001b[0m\u001b[0;34m[\u001b[0m\u001b[0miscell\u001b[0m\u001b[0;34m[\u001b[0m\u001b[0;34m:\u001b[0m\u001b[0;34m,\u001b[0m\u001b[0;36m0\u001b[0m\u001b[0;34m]\u001b[0m\u001b[0;34m==\u001b[0m\u001b[0;36m1.\u001b[0m\u001b[0;34m]\u001b[0m\u001b[0;34m\u001b[0m\u001b[0;34m\u001b[0m\u001b[0m\n",
      "\u001b[0;31mIndexError\u001b[0m: boolean index did not match indexed array along dimension 0; dimension is 220 but corresponding boolean dimension is 248"
     ]
    }
   ],
   "source": [
    "F = F[iscell[:,0]==1.]\n",
    "Fneu = Fneu[iscell[:,0]==1.]\n",
    "spks = spks[iscell[:,0]==1.]\n"
   ]
  },
  {
   "cell_type": "code",
   "execution_count": 22,
   "metadata": {},
   "outputs": [
    {
     "data": {
      "text/plain": [
       "100"
      ]
     },
     "execution_count": 22,
     "metadata": {},
     "output_type": "execute_result"
    }
   ],
   "source": [
    "sum(performance == 4.0)"
   ]
  },
  {
   "cell_type": "code",
   "execution_count": null,
   "metadata": {
    "slideshow": {
     "slide_type": "fragment"
    }
   },
   "outputs": [],
   "source": []
  }
 ],
 "metadata": {
  "kernelspec": {
   "display_name": "Python 3",
   "language": "python",
   "name": "python3"
  },
  "language_info": {
   "codemirror_mode": {
    "name": "ipython",
    "version": 3
   },
   "file_extension": ".py",
   "mimetype": "text/x-python",
   "name": "python",
   "nbconvert_exporter": "python",
   "pygments_lexer": "ipython3",
   "version": "3.7.3"
  }
 },
 "nbformat": 4,
 "nbformat_minor": 2
}

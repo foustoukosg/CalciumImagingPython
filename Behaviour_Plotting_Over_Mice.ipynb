{
 "cells": [
  {
   "cell_type": "code",
   "execution_count": 1,
   "metadata": {},
   "outputs": [
    {
     "data": {
      "text/html": [
       "\n",
       "    <div class=\"bk-root\">\n",
       "        <a href=\"https://bokeh.pydata.org\" target=\"_blank\" class=\"bk-logo bk-logo-small bk-logo-notebook\"></a>\n",
       "        <span id=\"1001\">Loading BokehJS ...</span>\n",
       "    </div>"
      ]
     },
     "metadata": {},
     "output_type": "display_data"
    },
    {
     "data": {
      "application/javascript": [
       "\n",
       "(function(root) {\n",
       "  function now() {\n",
       "    return new Date();\n",
       "  }\n",
       "\n",
       "  var force = true;\n",
       "\n",
       "  if (typeof (root._bokeh_onload_callbacks) === \"undefined\" || force === true) {\n",
       "    root._bokeh_onload_callbacks = [];\n",
       "    root._bokeh_is_loading = undefined;\n",
       "  }\n",
       "\n",
       "  var JS_MIME_TYPE = 'application/javascript';\n",
       "  var HTML_MIME_TYPE = 'text/html';\n",
       "  var EXEC_MIME_TYPE = 'application/vnd.bokehjs_exec.v0+json';\n",
       "  var CLASS_NAME = 'output_bokeh rendered_html';\n",
       "\n",
       "  /**\n",
       "   * Render data to the DOM node\n",
       "   */\n",
       "  function render(props, node) {\n",
       "    var script = document.createElement(\"script\");\n",
       "    node.appendChild(script);\n",
       "  }\n",
       "\n",
       "  /**\n",
       "   * Handle when an output is cleared or removed\n",
       "   */\n",
       "  function handleClearOutput(event, handle) {\n",
       "    var cell = handle.cell;\n",
       "\n",
       "    var id = cell.output_area._bokeh_element_id;\n",
       "    var server_id = cell.output_area._bokeh_server_id;\n",
       "    // Clean up Bokeh references\n",
       "    if (id != null && id in Bokeh.index) {\n",
       "      Bokeh.index[id].model.document.clear();\n",
       "      delete Bokeh.index[id];\n",
       "    }\n",
       "\n",
       "    if (server_id !== undefined) {\n",
       "      // Clean up Bokeh references\n",
       "      var cmd = \"from bokeh.io.state import curstate; print(curstate().uuid_to_server['\" + server_id + \"'].get_sessions()[0].document.roots[0]._id)\";\n",
       "      cell.notebook.kernel.execute(cmd, {\n",
       "        iopub: {\n",
       "          output: function(msg) {\n",
       "            var id = msg.content.text.trim();\n",
       "            if (id in Bokeh.index) {\n",
       "              Bokeh.index[id].model.document.clear();\n",
       "              delete Bokeh.index[id];\n",
       "            }\n",
       "          }\n",
       "        }\n",
       "      });\n",
       "      // Destroy server and session\n",
       "      var cmd = \"import bokeh.io.notebook as ion; ion.destroy_server('\" + server_id + \"')\";\n",
       "      cell.notebook.kernel.execute(cmd);\n",
       "    }\n",
       "  }\n",
       "\n",
       "  /**\n",
       "   * Handle when a new output is added\n",
       "   */\n",
       "  function handleAddOutput(event, handle) {\n",
       "    var output_area = handle.output_area;\n",
       "    var output = handle.output;\n",
       "\n",
       "    // limit handleAddOutput to display_data with EXEC_MIME_TYPE content only\n",
       "    if ((output.output_type != \"display_data\") || (!output.data.hasOwnProperty(EXEC_MIME_TYPE))) {\n",
       "      return\n",
       "    }\n",
       "\n",
       "    var toinsert = output_area.element.find(\".\" + CLASS_NAME.split(' ')[0]);\n",
       "\n",
       "    if (output.metadata[EXEC_MIME_TYPE][\"id\"] !== undefined) {\n",
       "      toinsert[toinsert.length - 1].firstChild.textContent = output.data[JS_MIME_TYPE];\n",
       "      // store reference to embed id on output_area\n",
       "      output_area._bokeh_element_id = output.metadata[EXEC_MIME_TYPE][\"id\"];\n",
       "    }\n",
       "    if (output.metadata[EXEC_MIME_TYPE][\"server_id\"] !== undefined) {\n",
       "      var bk_div = document.createElement(\"div\");\n",
       "      bk_div.innerHTML = output.data[HTML_MIME_TYPE];\n",
       "      var script_attrs = bk_div.children[0].attributes;\n",
       "      for (var i = 0; i < script_attrs.length; i++) {\n",
       "        toinsert[toinsert.length - 1].firstChild.setAttribute(script_attrs[i].name, script_attrs[i].value);\n",
       "      }\n",
       "      // store reference to server id on output_area\n",
       "      output_area._bokeh_server_id = output.metadata[EXEC_MIME_TYPE][\"server_id\"];\n",
       "    }\n",
       "  }\n",
       "\n",
       "  function register_renderer(events, OutputArea) {\n",
       "\n",
       "    function append_mime(data, metadata, element) {\n",
       "      // create a DOM node to render to\n",
       "      var toinsert = this.create_output_subarea(\n",
       "        metadata,\n",
       "        CLASS_NAME,\n",
       "        EXEC_MIME_TYPE\n",
       "      );\n",
       "      this.keyboard_manager.register_events(toinsert);\n",
       "      // Render to node\n",
       "      var props = {data: data, metadata: metadata[EXEC_MIME_TYPE]};\n",
       "      render(props, toinsert[toinsert.length - 1]);\n",
       "      element.append(toinsert);\n",
       "      return toinsert\n",
       "    }\n",
       "\n",
       "    /* Handle when an output is cleared or removed */\n",
       "    events.on('clear_output.CodeCell', handleClearOutput);\n",
       "    events.on('delete.Cell', handleClearOutput);\n",
       "\n",
       "    /* Handle when a new output is added */\n",
       "    events.on('output_added.OutputArea', handleAddOutput);\n",
       "\n",
       "    /**\n",
       "     * Register the mime type and append_mime function with output_area\n",
       "     */\n",
       "    OutputArea.prototype.register_mime_type(EXEC_MIME_TYPE, append_mime, {\n",
       "      /* Is output safe? */\n",
       "      safe: true,\n",
       "      /* Index of renderer in `output_area.display_order` */\n",
       "      index: 0\n",
       "    });\n",
       "  }\n",
       "\n",
       "  // register the mime type if in Jupyter Notebook environment and previously unregistered\n",
       "  if (root.Jupyter !== undefined) {\n",
       "    var events = require('base/js/events');\n",
       "    var OutputArea = require('notebook/js/outputarea').OutputArea;\n",
       "\n",
       "    if (OutputArea.prototype.mime_types().indexOf(EXEC_MIME_TYPE) == -1) {\n",
       "      register_renderer(events, OutputArea);\n",
       "    }\n",
       "  }\n",
       "\n",
       "  \n",
       "  if (typeof (root._bokeh_timeout) === \"undefined\" || force === true) {\n",
       "    root._bokeh_timeout = Date.now() + 5000;\n",
       "    root._bokeh_failed_load = false;\n",
       "  }\n",
       "\n",
       "  var NB_LOAD_WARNING = {'data': {'text/html':\n",
       "     \"<div style='background-color: #fdd'>\\n\"+\n",
       "     \"<p>\\n\"+\n",
       "     \"BokehJS does not appear to have successfully loaded. If loading BokehJS from CDN, this \\n\"+\n",
       "     \"may be due to a slow or bad network connection. Possible fixes:\\n\"+\n",
       "     \"</p>\\n\"+\n",
       "     \"<ul>\\n\"+\n",
       "     \"<li>re-rerun `output_notebook()` to attempt to load from CDN again, or</li>\\n\"+\n",
       "     \"<li>use INLINE resources instead, as so:</li>\\n\"+\n",
       "     \"</ul>\\n\"+\n",
       "     \"<code>\\n\"+\n",
       "     \"from bokeh.resources import INLINE\\n\"+\n",
       "     \"output_notebook(resources=INLINE)\\n\"+\n",
       "     \"</code>\\n\"+\n",
       "     \"</div>\"}};\n",
       "\n",
       "  function display_loaded() {\n",
       "    var el = document.getElementById(\"1001\");\n",
       "    if (el != null) {\n",
       "      el.textContent = \"BokehJS is loading...\";\n",
       "    }\n",
       "    if (root.Bokeh !== undefined) {\n",
       "      if (el != null) {\n",
       "        el.textContent = \"BokehJS \" + root.Bokeh.version + \" successfully loaded.\";\n",
       "      }\n",
       "    } else if (Date.now() < root._bokeh_timeout) {\n",
       "      setTimeout(display_loaded, 100)\n",
       "    }\n",
       "  }\n",
       "\n",
       "\n",
       "  function run_callbacks() {\n",
       "    try {\n",
       "      root._bokeh_onload_callbacks.forEach(function(callback) { callback() });\n",
       "    }\n",
       "    finally {\n",
       "      delete root._bokeh_onload_callbacks\n",
       "    }\n",
       "    console.info(\"Bokeh: all callbacks have finished\");\n",
       "  }\n",
       "\n",
       "  function load_libs(js_urls, callback) {\n",
       "    root._bokeh_onload_callbacks.push(callback);\n",
       "    if (root._bokeh_is_loading > 0) {\n",
       "      console.log(\"Bokeh: BokehJS is being loaded, scheduling callback at\", now());\n",
       "      return null;\n",
       "    }\n",
       "    if (js_urls == null || js_urls.length === 0) {\n",
       "      run_callbacks();\n",
       "      return null;\n",
       "    }\n",
       "    console.log(\"Bokeh: BokehJS not loaded, scheduling load and callback at\", now());\n",
       "    root._bokeh_is_loading = js_urls.length;\n",
       "    for (var i = 0; i < js_urls.length; i++) {\n",
       "      var url = js_urls[i];\n",
       "      var s = document.createElement('script');\n",
       "      s.src = url;\n",
       "      s.async = false;\n",
       "      s.onreadystatechange = s.onload = function() {\n",
       "        root._bokeh_is_loading--;\n",
       "        if (root._bokeh_is_loading === 0) {\n",
       "          console.log(\"Bokeh: all BokehJS libraries loaded\");\n",
       "          run_callbacks()\n",
       "        }\n",
       "      };\n",
       "      s.onerror = function() {\n",
       "        console.warn(\"failed to load library \" + url);\n",
       "      };\n",
       "      console.log(\"Bokeh: injecting script tag for BokehJS library: \", url);\n",
       "      document.getElementsByTagName(\"head\")[0].appendChild(s);\n",
       "    }\n",
       "  };var element = document.getElementById(\"1001\");\n",
       "  if (element == null) {\n",
       "    console.log(\"Bokeh: ERROR: autoload.js configured with elementid '1001' but no matching script tag was found. \")\n",
       "    return false;\n",
       "  }\n",
       "\n",
       "  var js_urls = [\"https://cdn.pydata.org/bokeh/release/bokeh-1.0.4.min.js\", \"https://cdn.pydata.org/bokeh/release/bokeh-widgets-1.0.4.min.js\", \"https://cdn.pydata.org/bokeh/release/bokeh-tables-1.0.4.min.js\", \"https://cdn.pydata.org/bokeh/release/bokeh-gl-1.0.4.min.js\"];\n",
       "\n",
       "  var inline_js = [\n",
       "    function(Bokeh) {\n",
       "      Bokeh.set_log_level(\"info\");\n",
       "    },\n",
       "    \n",
       "    function(Bokeh) {\n",
       "      \n",
       "    },\n",
       "    function(Bokeh) {\n",
       "      console.log(\"Bokeh: injecting CSS: https://cdn.pydata.org/bokeh/release/bokeh-1.0.4.min.css\");\n",
       "      Bokeh.embed.inject_css(\"https://cdn.pydata.org/bokeh/release/bokeh-1.0.4.min.css\");\n",
       "      console.log(\"Bokeh: injecting CSS: https://cdn.pydata.org/bokeh/release/bokeh-widgets-1.0.4.min.css\");\n",
       "      Bokeh.embed.inject_css(\"https://cdn.pydata.org/bokeh/release/bokeh-widgets-1.0.4.min.css\");\n",
       "      console.log(\"Bokeh: injecting CSS: https://cdn.pydata.org/bokeh/release/bokeh-tables-1.0.4.min.css\");\n",
       "      Bokeh.embed.inject_css(\"https://cdn.pydata.org/bokeh/release/bokeh-tables-1.0.4.min.css\");\n",
       "    }\n",
       "  ];\n",
       "\n",
       "  function run_inline_js() {\n",
       "    \n",
       "    if ((root.Bokeh !== undefined) || (force === true)) {\n",
       "      for (var i = 0; i < inline_js.length; i++) {\n",
       "        inline_js[i].call(root, root.Bokeh);\n",
       "      }if (force === true) {\n",
       "        display_loaded();\n",
       "      }} else if (Date.now() < root._bokeh_timeout) {\n",
       "      setTimeout(run_inline_js, 100);\n",
       "    } else if (!root._bokeh_failed_load) {\n",
       "      console.log(\"Bokeh: BokehJS failed to load within specified timeout.\");\n",
       "      root._bokeh_failed_load = true;\n",
       "    } else if (force !== true) {\n",
       "      var cell = $(document.getElementById(\"1001\")).parents('.cell').data().cell;\n",
       "      cell.output_area.append_execute_result(NB_LOAD_WARNING)\n",
       "    }\n",
       "\n",
       "  }\n",
       "\n",
       "  if (root._bokeh_is_loading === 0) {\n",
       "    console.log(\"Bokeh: BokehJS loaded, going straight to plotting\");\n",
       "    run_inline_js();\n",
       "  } else {\n",
       "    load_libs(js_urls, function() {\n",
       "      console.log(\"Bokeh: BokehJS plotting callback run at\", now());\n",
       "      run_inline_js();\n",
       "    });\n",
       "  }\n",
       "}(window));"
      ],
      "application/vnd.bokehjs_load.v0+json": "\n(function(root) {\n  function now() {\n    return new Date();\n  }\n\n  var force = true;\n\n  if (typeof (root._bokeh_onload_callbacks) === \"undefined\" || force === true) {\n    root._bokeh_onload_callbacks = [];\n    root._bokeh_is_loading = undefined;\n  }\n\n  \n\n  \n  if (typeof (root._bokeh_timeout) === \"undefined\" || force === true) {\n    root._bokeh_timeout = Date.now() + 5000;\n    root._bokeh_failed_load = false;\n  }\n\n  var NB_LOAD_WARNING = {'data': {'text/html':\n     \"<div style='background-color: #fdd'>\\n\"+\n     \"<p>\\n\"+\n     \"BokehJS does not appear to have successfully loaded. If loading BokehJS from CDN, this \\n\"+\n     \"may be due to a slow or bad network connection. Possible fixes:\\n\"+\n     \"</p>\\n\"+\n     \"<ul>\\n\"+\n     \"<li>re-rerun `output_notebook()` to attempt to load from CDN again, or</li>\\n\"+\n     \"<li>use INLINE resources instead, as so:</li>\\n\"+\n     \"</ul>\\n\"+\n     \"<code>\\n\"+\n     \"from bokeh.resources import INLINE\\n\"+\n     \"output_notebook(resources=INLINE)\\n\"+\n     \"</code>\\n\"+\n     \"</div>\"}};\n\n  function display_loaded() {\n    var el = document.getElementById(\"1001\");\n    if (el != null) {\n      el.textContent = \"BokehJS is loading...\";\n    }\n    if (root.Bokeh !== undefined) {\n      if (el != null) {\n        el.textContent = \"BokehJS \" + root.Bokeh.version + \" successfully loaded.\";\n      }\n    } else if (Date.now() < root._bokeh_timeout) {\n      setTimeout(display_loaded, 100)\n    }\n  }\n\n\n  function run_callbacks() {\n    try {\n      root._bokeh_onload_callbacks.forEach(function(callback) { callback() });\n    }\n    finally {\n      delete root._bokeh_onload_callbacks\n    }\n    console.info(\"Bokeh: all callbacks have finished\");\n  }\n\n  function load_libs(js_urls, callback) {\n    root._bokeh_onload_callbacks.push(callback);\n    if (root._bokeh_is_loading > 0) {\n      console.log(\"Bokeh: BokehJS is being loaded, scheduling callback at\", now());\n      return null;\n    }\n    if (js_urls == null || js_urls.length === 0) {\n      run_callbacks();\n      return null;\n    }\n    console.log(\"Bokeh: BokehJS not loaded, scheduling load and callback at\", now());\n    root._bokeh_is_loading = js_urls.length;\n    for (var i = 0; i < js_urls.length; i++) {\n      var url = js_urls[i];\n      var s = document.createElement('script');\n      s.src = url;\n      s.async = false;\n      s.onreadystatechange = s.onload = function() {\n        root._bokeh_is_loading--;\n        if (root._bokeh_is_loading === 0) {\n          console.log(\"Bokeh: all BokehJS libraries loaded\");\n          run_callbacks()\n        }\n      };\n      s.onerror = function() {\n        console.warn(\"failed to load library \" + url);\n      };\n      console.log(\"Bokeh: injecting script tag for BokehJS library: \", url);\n      document.getElementsByTagName(\"head\")[0].appendChild(s);\n    }\n  };var element = document.getElementById(\"1001\");\n  if (element == null) {\n    console.log(\"Bokeh: ERROR: autoload.js configured with elementid '1001' but no matching script tag was found. \")\n    return false;\n  }\n\n  var js_urls = [\"https://cdn.pydata.org/bokeh/release/bokeh-1.0.4.min.js\", \"https://cdn.pydata.org/bokeh/release/bokeh-widgets-1.0.4.min.js\", \"https://cdn.pydata.org/bokeh/release/bokeh-tables-1.0.4.min.js\", \"https://cdn.pydata.org/bokeh/release/bokeh-gl-1.0.4.min.js\"];\n\n  var inline_js = [\n    function(Bokeh) {\n      Bokeh.set_log_level(\"info\");\n    },\n    \n    function(Bokeh) {\n      \n    },\n    function(Bokeh) {\n      console.log(\"Bokeh: injecting CSS: https://cdn.pydata.org/bokeh/release/bokeh-1.0.4.min.css\");\n      Bokeh.embed.inject_css(\"https://cdn.pydata.org/bokeh/release/bokeh-1.0.4.min.css\");\n      console.log(\"Bokeh: injecting CSS: https://cdn.pydata.org/bokeh/release/bokeh-widgets-1.0.4.min.css\");\n      Bokeh.embed.inject_css(\"https://cdn.pydata.org/bokeh/release/bokeh-widgets-1.0.4.min.css\");\n      console.log(\"Bokeh: injecting CSS: https://cdn.pydata.org/bokeh/release/bokeh-tables-1.0.4.min.css\");\n      Bokeh.embed.inject_css(\"https://cdn.pydata.org/bokeh/release/bokeh-tables-1.0.4.min.css\");\n    }\n  ];\n\n  function run_inline_js() {\n    \n    if ((root.Bokeh !== undefined) || (force === true)) {\n      for (var i = 0; i < inline_js.length; i++) {\n        inline_js[i].call(root, root.Bokeh);\n      }if (force === true) {\n        display_loaded();\n      }} else if (Date.now() < root._bokeh_timeout) {\n      setTimeout(run_inline_js, 100);\n    } else if (!root._bokeh_failed_load) {\n      console.log(\"Bokeh: BokehJS failed to load within specified timeout.\");\n      root._bokeh_failed_load = true;\n    } else if (force !== true) {\n      var cell = $(document.getElementById(\"1001\")).parents('.cell').data().cell;\n      cell.output_area.append_execute_result(NB_LOAD_WARNING)\n    }\n\n  }\n\n  if (root._bokeh_is_loading === 0) {\n    console.log(\"Bokeh: BokehJS loaded, going straight to plotting\");\n    run_inline_js();\n  } else {\n    load_libs(js_urls, function() {\n      console.log(\"Bokeh: BokehJS plotting callback run at\", now());\n      run_inline_js();\n    });\n  }\n}(window));"
     },
     "metadata": {},
     "output_type": "display_data"
    }
   ],
   "source": [
    "import bokeh.io\n",
    "import bokeh.plotting\n",
    "from bokeh.io import output_file, show\n",
    "from bokeh.layouts import column, row\n",
    "from bokeh.plotting import figure\n",
    "import sys\n",
    "import glob \n",
    "import os \n",
    "import scipy.io as sio\n",
    "import numpy as np\n",
    "import decimal as dc\n",
    "import matplotlib.pyplot as plt\n",
    "import matplotlib.image as mpimg\n",
    "import pickle\n",
    "from bokeh.models import ColumnDataSource, Whisker\n",
    "\n",
    "from natsort import natsorted, ns\n",
    "\n",
    "from bokeh.models import Legend\n",
    "\n",
    "from pathlib import Path\n",
    "\n",
    "from scipy.stats import norm\n",
    "\n",
    "# Enable viewing Bokeh plots in the notebook\n",
    "bokeh.io.output_notebook()"
   ]
  },
  {
   "cell_type": "code",
   "execution_count": 2,
   "metadata": {},
   "outputs": [],
   "source": [
    "MiceToAnalyze = ['GF173','GF174','GF175','GF181',\n",
    "                 'GF182','GF187','GF193','GF199',\n",
    "                 'GF200','GF201','GF202','GF203',\n",
    "                 'GF204','GF206','GF207','GF209']"
   ]
  },
  {
   "cell_type": "code",
   "execution_count": 3,
   "metadata": {},
   "outputs": [
    {
     "name": "stdout",
     "output_type": "stream",
     "text": [
      "Reading behaviour file for the mouse : GF173...\n",
      "Reading behaviour file for the mouse : GF174...\n",
      "Reading behaviour file for the mouse : GF175...\n",
      "Reading behaviour file for the mouse : GF181...\n",
      "Reading behaviour file for the mouse : GF182...\n",
      "Reading behaviour file for the mouse : GF187...\n",
      "Reading behaviour file for the mouse : GF193...\n",
      "Reading behaviour file for the mouse : GF199...\n",
      "Reading behaviour file for the mouse : GF200...\n",
      "Reading behaviour file for the mouse : GF201...\n",
      "Reading behaviour file for the mouse : GF202...\n",
      "Reading behaviour file for the mouse : GF203...\n",
      "Reading behaviour file for the mouse : GF204...\n",
      "Reading behaviour file for the mouse : GF206...\n",
      "Reading behaviour file for the mouse : GF207...\n",
      "Reading behaviour file for the mouse : GF209...\n"
     ]
    }
   ],
   "source": [
    "#Read the behaviour pickle file for every mouse to analyse\n",
    "\n",
    "serverPath = '\\\\\\\\sv1files.epfl.ch\\\\Petersen-Lab\\\\analysis\\\\Georgios_Foustoukos\\\\'\n",
    "\n",
    "dataAll = np.zeros([len(MiceToAnalyze),6,4])\n",
    "dprime = np.zeros([len(MiceToAnalyze),6])\n",
    "\n",
    "\n",
    "for i, mouse in enumerate(MiceToAnalyze):\n",
    "    \n",
    "    print('Reading behaviour file for the mouse : ' + mouse + '...')\n",
    "    \n",
    "    dataPath = serverPath + mouse + \"\\\\Behaviour\\\\\" + mouse + '_Bhv.p' \n",
    "    \n",
    "    with open(dataPath, 'rb') as fp:\n",
    "        data = pickle.load(fp)\n",
    "      \n",
    "    dDays = np.zeros([len(data['dR'])]) \n",
    "    \n",
    "    for d in range(len(data['dR'])):\n",
    "        dDays[d] =np.nanmean(data['dR'][d])\n",
    "    \n",
    "    if len(data['AudHit']) == 6 :\n",
    "        \n",
    "        AudHit = np.reshape(np.array(data['AudHit']),[1,6])\n",
    "        WhHit =  np.reshape(np.array(data['WhHit']), [1,6]) \n",
    "        FA = np.reshape(np.array(data['FA']),[1,6])\n",
    "    \n",
    "        dataAll[i,:,0] = AudHit\n",
    "        dataAll[i,:,1] = WhHit\n",
    "        dataAll[i,:,2] = FA\n",
    "        dataAll[i,:,3] = dDays\n",
    "        \n",
    "    else:\n",
    "        \n",
    "        AudHit = np.reshape(np.array(data['AudHit']),[1,2])\n",
    "        WhHit =  np.reshape(np.array(data['WhHit']), [1,2]) \n",
    "        FA = np.reshape(np.array(data['FA']),[1,2])\n",
    "        dDays = np.reshape(dDays,[1,2])\n",
    "        \n",
    "        AudHitExt = np.concatenate((np.empty([1,3])*np.nan,AudHit,np.empty([1,1])*np.nan),axis =1)\n",
    "        WhHitExt = np.concatenate((np.empty([1,3])*np.nan,WhHit,np.empty([1,1])*np.nan),axis =1) \n",
    "        FAExt = np.concatenate((np.empty([1,3])*np.nan,FA,np.empty([1,1])*np.nan),axis =1)\n",
    "        dpExt = np.concatenate((np.empty([1,3])*np.nan,dDays,np.empty([1,1])*np.nan),axis =1)\n",
    "        \n",
    "        \n",
    "        dataAll[i,:,0] = AudHitExt\n",
    "        dataAll[i,:,1] = WhHitExt\n",
    "        dataAll[i,:,2] = FAExt\n",
    "        dataAll[i,:,3] = dpExt\n",
    "    \n",
    "    "
   ]
  },
  {
   "cell_type": "code",
   "execution_count": 5,
   "metadata": {},
   "outputs": [
    {
     "data": {
      "text/plain": [
       "(2,)"
      ]
     },
     "execution_count": 5,
     "metadata": {},
     "output_type": "execute_result"
    }
   ],
   "source": [
    "dDays.shape"
   ]
  },
  {
   "cell_type": "code",
   "execution_count": 127,
   "metadata": {},
   "outputs": [],
   "source": [
    "with open(dataPath, 'rb') as fp:\n",
    "    data = pickle.load(fp)"
   ]
  },
  {
   "cell_type": "code",
   "execution_count": 137,
   "metadata": {},
   "outputs": [
    {
     "data": {
      "text/plain": [
       "(2,)"
      ]
     },
     "execution_count": 137,
     "metadata": {},
     "output_type": "execute_result"
    }
   ],
   "source": [
    "d = np.array(data['dR'])\n",
    "\n",
    "dDays = np.zeros([len(data['dR'])]) \n",
    "\n",
    "dDays.shape"
   ]
  },
  {
   "cell_type": "code",
   "execution_count": 144,
   "metadata": {},
   "outputs": [],
   "source": [
    "for d in range(len(data['dR'])):\n",
    "    dDays[d] =np.nanmean(data['dR'][d])"
   ]
  },
  {
   "cell_type": "code",
   "execution_count": 145,
   "metadata": {},
   "outputs": [
    {
     "data": {
      "text/plain": [
       "array([2.26900387, 2.08847163])"
      ]
     },
     "execution_count": 145,
     "metadata": {},
     "output_type": "execute_result"
    }
   ],
   "source": [
    "dDays"
   ]
  },
  {
   "cell_type": "code",
   "execution_count": 7,
   "metadata": {},
   "outputs": [
    {
     "data": {
      "text/plain": [
       "(14, 6)"
      ]
     },
     "execution_count": 7,
     "metadata": {},
     "output_type": "execute_result"
    }
   ],
   "source": [
    "dataAll[:,:,3].shape"
   ]
  },
  {
   "cell_type": "code",
   "execution_count": 10,
   "metadata": {},
   "outputs": [
    {
     "data": {
      "text/plain": [
       "[<matplotlib.lines.Line2D at 0x215c80b8>]"
      ]
     },
     "execution_count": 10,
     "metadata": {},
     "output_type": "execute_result"
    },
    {
     "data": {
      "image/png": "[encoded data removed]",
      "text/plain": [
       "<Figure size 432x288 with 1 Axes>"
      ]
     },
     "metadata": {
      "needs_background": "light"
     },
     "output_type": "display_data"
    }
   ],
   "source": [
    "plt.plot(np.nanmean(dataAll[:,:,3],axis=0))"
   ]
  },
  {
   "cell_type": "code",
   "execution_count": 4,
   "metadata": {},
   "outputs": [
    {
     "data": {
      "text/html": [
       "\n",
       "\n",
       "\n",
       "\n",
       "\n",
       "\n",
       "  <div class=\"bk-root\" id=\"b4125e62-2a24-4041-8f2b-06610aeb7d62\" data-root-id=\"1003\"></div>\n"
      ]
     },
     "metadata": {},
     "output_type": "display_data"
    },
    {
     "data": {
      "application/javascript": [
       "(function(root) {\n",
       "  function embed_document(root) {\n",
       "    \n",
       "  var docs_json = {\"073c2840-e357-46f1-9080-eda772f73593\":{\"roots\":{\"references\":[{\"attributes\":{\"below\":[{\"id\":\"1013\",\"type\":\"LinearAxis\"}],\"left\":[{\"id\":\"1018\",\"type\":\"LinearAxis\"}],\"plot_height\":500,\"plot_width\":900,\"renderers\":[{\"id\":\"1013\",\"type\":\"LinearAxis\"},{\"id\":\"1017\",\"type\":\"Grid\"},{\"id\":\"1018\",\"type\":\"LinearAxis\"},{\"id\":\"1022\",\"type\":\"Grid\"},{\"id\":\"1031\",\"type\":\"BoxAnnotation\"},{\"id\":\"1041\",\"type\":\"GlyphRenderer\"},{\"id\":\"1046\",\"type\":\"GlyphRenderer\"},{\"id\":\"1051\",\"type\":\"GlyphRenderer\"},{\"id\":\"1056\",\"type\":\"GlyphRenderer\"},{\"id\":\"1061\",\"type\":\"GlyphRenderer\"},{\"id\":\"1066\",\"type\":\"GlyphRenderer\"},{\"id\":\"1071\",\"type\":\"GlyphRenderer\"},{\"id\":\"1076\",\"type\":\"GlyphRenderer\"},{\"id\":\"1081\",\"type\":\"GlyphRenderer\"},{\"id\":\"1083\",\"type\":\"Legend\"}],\"right\":[{\"id\":\"1083\",\"type\":\"Legend\"}],\"title\":{\"id\":\"1002\",\"type\":\"Title\"},\"toolbar\":{\"id\":\"1029\",\"type\":\"Toolbar\"},\"x_range\":{\"id\":\"1005\",\"type\":\"DataRange1d\"},\"x_scale\":{\"id\":\"1009\",\"type\":\"LinearScale\"},\"y_range\":{\"id\":\"1007\",\"type\":\"DataRange1d\"},\"y_scale\":{\"id\":\"1011\",\"type\":\"LinearScale\"}},\"id\":\"1003\",\"subtype\":\"Figure\",\"type\":\"Plot\"},{\"attributes\":{},\"id\":\"1014\",\"type\":\"BasicTicker\"},{\"attributes\":{\"label\":{\"value\":\"WhHit\"},\"renderers\":[{\"id\":\"1076\",\"type\":\"GlyphRenderer\"}]},\"id\":\"1085\",\"type\":\"LegendItem\"},{\"attributes\":{\"plot\":{\"id\":\"1003\",\"subtype\":\"Figure\",\"type\":\"Plot\"},\"ticker\":{\"id\":\"1014\",\"type\":\"BasicTicker\"}},\"id\":\"1017\",\"type\":\"Grid\"},{\"attributes\":{\"axis_label\":\"AudHit/WhHit/FA\",\"axis_label_text_font_style\":\"bold\",\"formatter\":{\"id\":\"1088\",\"type\":\"BasicTickFormatter\"},\"plot\":{\"id\":\"1003\",\"subtype\":\"Figure\",\"type\":\"Plot\"},\"ticker\":{\"id\":\"1019\",\"type\":\"BasicTicker\"}},\"id\":\"1018\",\"type\":\"LinearAxis\"},{\"attributes\":{},\"id\":\"1019\",\"type\":\"BasicTicker\"},{\"attributes\":{\"dimension\":1,\"plot\":{\"id\":\"1003\",\"subtype\":\"Figure\",\"type\":\"Plot\"},\"ticker\":{\"id\":\"1019\",\"type\":\"BasicTicker\"}},\"id\":\"1022\",\"type\":\"Grid\"},{\"attributes\":{\"line_color\":\"blue\",\"line_width\":2,\"x\":{\"field\":\"x\"},\"y\":{\"field\":\"y\"}},\"id\":\"1039\",\"type\":\"Line\"},{\"attributes\":{},\"id\":\"1023\",\"type\":\"PanTool\"},{\"attributes\":{},\"id\":\"1024\",\"type\":\"WheelZoomTool\"},{\"attributes\":{\"overlay\":{\"id\":\"1031\",\"type\":\"BoxAnnotation\"}},\"id\":\"1025\",\"type\":\"BoxZoomTool\"},{\"attributes\":{},\"id\":\"1026\",\"type\":\"SaveTool\"},{\"attributes\":{},\"id\":\"1027\",\"type\":\"ResetTool\"},{\"attributes\":{},\"id\":\"1028\",\"type\":\"HelpTool\"},{\"attributes\":{\"active_drag\":\"auto\",\"active_inspect\":\"auto\",\"active_multi\":null,\"active_scroll\":\"auto\",\"active_tap\":\"auto\",\"tools\":[{\"id\":\"1023\",\"type\":\"PanTool\"},{\"id\":\"1024\",\"type\":\"WheelZoomTool\"},{\"id\":\"1025\",\"type\":\"BoxZoomTool\"},{\"id\":\"1026\",\"type\":\"SaveTool\"},{\"id\":\"1027\",\"type\":\"ResetTool\"},{\"id\":\"1028\",\"type\":\"HelpTool\"}]},\"id\":\"1029\",\"type\":\"Toolbar\"},{\"attributes\":{\"data_source\":{\"id\":\"1038\",\"type\":\"ColumnDataSource\"},\"glyph\":{\"id\":\"1039\",\"type\":\"Line\"},\"hover_glyph\":null,\"muted_glyph\":null,\"nonselection_glyph\":{\"id\":\"1040\",\"type\":\"Line\"},\"selection_glyph\":null,\"view\":{\"id\":\"1042\",\"type\":\"CDSView\"}},\"id\":\"1041\",\"type\":\"GlyphRenderer\"},{\"attributes\":{\"bottom_units\":\"screen\",\"fill_alpha\":{\"value\":0.5},\"fill_color\":{\"value\":\"lightgrey\"},\"left_units\":\"screen\",\"level\":\"overlay\",\"line_alpha\":{\"value\":1.0},\"line_color\":{\"value\":\"black\"},\"line_dash\":[4,4],\"line_width\":{\"value\":2},\"plot\":null,\"render_mode\":\"css\",\"right_units\":\"screen\",\"top_units\":\"screen\"},\"id\":\"1031\",\"type\":\"BoxAnnotation\"},{\"attributes\":{\"source\":{\"id\":\"1038\",\"type\":\"ColumnDataSource\"}},\"id\":\"1042\",\"type\":\"CDSView\"},{\"attributes\":{\"callback\":null,\"data\":{\"xs\":[[1,1],[2,2],[3,3],[4,4],[5,5],[6,6]],\"ys\":[[0.7885222956762401,0.8247819567780394],[0.7753540542247528,0.8083188694313541],[0.7973413392044364,0.857231991688211],[0.821787866881164,0.8679853865055056],[0.7720019804551588,0.8246756369271269],[0.7781509129482859,0.8421943959172605]]},\"selected\":{\"id\":\"1095\",\"type\":\"Selection\"},\"selection_policy\":{\"id\":\"1094\",\"type\":\"UnionRenderers\"}},\"id\":\"1043\",\"type\":\"ColumnDataSource\"},{\"attributes\":{\"line_color\":{\"value\":\"blue\"},\"xs\":{\"field\":\"xs\"},\"ys\":{\"field\":\"ys\"}},\"id\":\"1044\",\"type\":\"MultiLine\"},{\"attributes\":{\"line_alpha\":{\"value\":0.1},\"line_color\":{\"value\":\"#1f77b4\"},\"xs\":{\"field\":\"xs\"},\"ys\":{\"field\":\"ys\"}},\"id\":\"1045\",\"type\":\"MultiLine\"},{\"attributes\":{\"data_source\":{\"id\":\"1043\",\"type\":\"ColumnDataSource\"},\"glyph\":{\"id\":\"1044\",\"type\":\"MultiLine\"},\"hover_glyph\":null,\"muted_glyph\":null,\"nonselection_glyph\":{\"id\":\"1045\",\"type\":\"MultiLine\"},\"selection_glyph\":null,\"view\":{\"id\":\"1047\",\"type\":\"CDSView\"}},\"id\":\"1046\",\"type\":\"GlyphRenderer\"},{\"attributes\":{\"source\":{\"id\":\"1043\",\"type\":\"ColumnDataSource\"}},\"id\":\"1047\",\"type\":\"CDSView\"},{\"attributes\":{\"callback\":null,\"data\":{\"xs\":[[1,1],[2,2],[3,3],[4,4],[5,5],[6,6]],\"ys\":[[0.015412421289288093,0.026728088604223512],[0.017017774028343306,0.02927029232631572],[0.016124348645015635,0.0470349396664025],[0.5082640010168346,0.6345161987901234],[0.6626487604645551,0.72522097518139],[0.6963017319917792,0.7543364127012928]]},\"selected\":{\"id\":\"1097\",\"type\":\"Selection\"},\"selection_policy\":{\"id\":\"1096\",\"type\":\"UnionRenderers\"}},\"id\":\"1048\",\"type\":\"ColumnDataSource\"},{\"attributes\":{\"xs\":{\"field\":\"xs\"},\"ys\":{\"field\":\"ys\"}},\"id\":\"1049\",\"type\":\"MultiLine\"},{\"attributes\":{\"line_alpha\":{\"value\":0.1},\"line_color\":{\"value\":\"#1f77b4\"},\"xs\":{\"field\":\"xs\"},\"ys\":{\"field\":\"ys\"}},\"id\":\"1050\",\"type\":\"MultiLine\"},{\"attributes\":{\"data_source\":{\"id\":\"1048\",\"type\":\"ColumnDataSource\"},\"glyph\":{\"id\":\"1049\",\"type\":\"MultiLine\"},\"hover_glyph\":null,\"muted_glyph\":null,\"nonselection_glyph\":{\"id\":\"1050\",\"type\":\"MultiLine\"},\"selection_glyph\":null,\"view\":{\"id\":\"1052\",\"type\":\"CDSView\"}},\"id\":\"1051\",\"type\":\"GlyphRenderer\"},{\"attributes\":{\"source\":{\"id\":\"1048\",\"type\":\"ColumnDataSource\"}},\"id\":\"1052\",\"type\":\"CDSView\"},{\"attributes\":{\"callback\":null,\"data\":{\"x\":[1,2,3,4,5,6],\"y\":{\"__ndarray__\":\"Kp+sHhjQ6T9znmpruVbpP4dIkOIheeo/ZDjPrU8J6z8JmE7U/YvpP2bf3DPv7Ok/\",\"dtype\":\"float64\",\"shape\":[6]}},\"selected\":{\"id\":\"1093\",\"type\":\"Selection\"},\"selection_policy\":{\"id\":\"1092\",\"type\":\"UnionRenderers\"}},\"id\":\"1038\",\"type\":\"ColumnDataSource\"},{\"attributes\":{\"callback\":null,\"data\":{\"xs\":[[1,1],[2,2],[3,3],[4,4],[5,5],[6,6]],\"ys\":[[0.16016642326843328,0.18738614637165585],[0.12719485233194044,0.16436809462636975],[0.10624237422163937,0.13983216696145778],[0.11208789896638321,0.1357005178798187],[0.10907012906733726,0.14238795184130615],[0.0965169834288032,0.11523706337528734]]},\"selected\":{\"id\":\"1099\",\"type\":\"Selection\"},\"selection_policy\":{\"id\":\"1098\",\"type\":\"UnionRenderers\"}},\"id\":\"1053\",\"type\":\"ColumnDataSource\"},{\"attributes\":{\"callback\":null,\"data\":{\"x\":[1,2,3,4,5,6],\"y\":{\"__ndarray__\":\"Kp+sHhjQ6T9znmpruVbpP4dIkOIheeo/ZDjPrU8J6z8JmE7U/YvpP2bf3DPv7Ok/\",\"dtype\":\"float64\",\"shape\":[6]}},\"selected\":{\"id\":\"1101\",\"type\":\"Selection\"},\"selection_policy\":{\"id\":\"1100\",\"type\":\"UnionRenderers\"}},\"id\":\"1058\",\"type\":\"ColumnDataSource\"},{\"attributes\":{\"align\":\"center\",\"plot\":null,\"text\":\"Mean Behaviour (n=15)\"},\"id\":\"1002\",\"type\":\"Title\"},{\"attributes\":{\"line_color\":{\"value\":\"red\"},\"xs\":{\"field\":\"xs\"},\"ys\":{\"field\":\"ys\"}},\"id\":\"1054\",\"type\":\"MultiLine\"},{\"attributes\":{\"callback\":null},\"id\":\"1005\",\"type\":\"DataRange1d\"},{\"attributes\":{\"line_alpha\":{\"value\":0.1},\"line_color\":{\"value\":\"#1f77b4\"},\"xs\":{\"field\":\"xs\"},\"ys\":{\"field\":\"ys\"}},\"id\":\"1055\",\"type\":\"MultiLine\"},{\"attributes\":{\"callback\":null},\"id\":\"1007\",\"type\":\"DataRange1d\"},{\"attributes\":{\"data_source\":{\"id\":\"1053\",\"type\":\"ColumnDataSource\"},\"glyph\":{\"id\":\"1054\",\"type\":\"MultiLine\"},\"hover_glyph\":null,\"muted_glyph\":null,\"nonselection_glyph\":{\"id\":\"1055\",\"type\":\"MultiLine\"},\"selection_glyph\":null,\"view\":{\"id\":\"1057\",\"type\":\"CDSView\"}},\"id\":\"1056\",\"type\":\"GlyphRenderer\"},{\"attributes\":{},\"id\":\"1009\",\"type\":\"LinearScale\"},{\"attributes\":{\"source\":{\"id\":\"1053\",\"type\":\"ColumnDataSource\"}},\"id\":\"1057\",\"type\":\"CDSView\"},{\"attributes\":{},\"id\":\"1011\",\"type\":\"LinearScale\"},{\"attributes\":{\"callback\":null,\"data\":{\"x\":[1,2,3,4,5,6],\"y\":{\"__ndarray__\":\"L60PIk0+xj8mU3qi96jCP9E6Yd1ef78/gU1X5Ye3vz+qUnSi4xfAP0bc6LDBGrs/\",\"dtype\":\"float64\",\"shape\":[6]}},\"selected\":{\"id\":\"1105\",\"type\":\"Selection\"},\"selection_policy\":{\"id\":\"1104\",\"type\":\"UnionRenderers\"}},\"id\":\"1068\",\"type\":\"ColumnDataSource\"},{\"attributes\":{\"fill_color\":{\"value\":\"blue\"},\"line_alpha\":{\"value\":0},\"line_color\":{\"value\":\"blue\"},\"size\":{\"units\":\"screen\",\"value\":5},\"x\":{\"field\":\"x\"},\"y\":{\"field\":\"y\"}},\"id\":\"1059\",\"type\":\"Circle\"},{\"attributes\":{\"axis_label\":\"Days of training\",\"axis_label_text_font_style\":\"bold\",\"formatter\":{\"id\":\"1090\",\"type\":\"BasicTickFormatter\"},\"plot\":{\"id\":\"1003\",\"subtype\":\"Figure\",\"type\":\"Plot\"},\"ticker\":{\"id\":\"1014\",\"type\":\"BasicTicker\"}},\"id\":\"1013\",\"type\":\"LinearAxis\"},{\"attributes\":{\"fill_alpha\":{\"value\":0.1},\"fill_color\":{\"value\":\"#1f77b4\"},\"line_alpha\":{\"value\":0.1},\"line_color\":{\"value\":\"#1f77b4\"},\"size\":{\"units\":\"screen\",\"value\":5},\"x\":{\"field\":\"x\"},\"y\":{\"field\":\"y\"}},\"id\":\"1060\",\"type\":\"Circle\"},{\"attributes\":{\"line_alpha\":0.1,\"line_color\":\"#1f77b4\",\"line_width\":2,\"x\":{\"field\":\"x\"},\"y\":{\"field\":\"y\"}},\"id\":\"1040\",\"type\":\"Line\"},{\"attributes\":{},\"id\":\"1099\",\"type\":\"Selection\"},{\"attributes\":{\"data_source\":{\"id\":\"1058\",\"type\":\"ColumnDataSource\"},\"glyph\":{\"id\":\"1059\",\"type\":\"Circle\"},\"hover_glyph\":null,\"muted_glyph\":null,\"nonselection_glyph\":{\"id\":\"1060\",\"type\":\"Circle\"},\"selection_glyph\":null,\"view\":{\"id\":\"1062\",\"type\":\"CDSView\"}},\"id\":\"1061\",\"type\":\"GlyphRenderer\"},{\"attributes\":{},\"id\":\"1100\",\"type\":\"UnionRenderers\"},{\"attributes\":{\"source\":{\"id\":\"1058\",\"type\":\"ColumnDataSource\"}},\"id\":\"1062\",\"type\":\"CDSView\"},{\"attributes\":{},\"id\":\"1101\",\"type\":\"Selection\"},{\"attributes\":{\"callback\":null,\"data\":{\"x\":[1,2,3,4,5,6],\"y\":{\"__ndarray__\":\"L60PIk0+xj8mU3qi96jCP9E6Yd1ef78/gU1X5Ye3vz+qUnSi4xfAP0bc6LDBGrs/\",\"dtype\":\"float64\",\"shape\":[6]}},\"selected\":{\"id\":\"1103\",\"type\":\"Selection\"},\"selection_policy\":{\"id\":\"1102\",\"type\":\"UnionRenderers\"}},\"id\":\"1063\",\"type\":\"ColumnDataSource\"},{\"attributes\":{},\"id\":\"1102\",\"type\":\"UnionRenderers\"},{\"attributes\":{\"line_color\":\"red\",\"line_width\":2,\"x\":{\"field\":\"x\"},\"y\":{\"field\":\"y\"}},\"id\":\"1064\",\"type\":\"Line\"},{\"attributes\":{},\"id\":\"1103\",\"type\":\"Selection\"},{\"attributes\":{\"line_alpha\":0.1,\"line_color\":\"#1f77b4\",\"line_width\":2,\"x\":{\"field\":\"x\"},\"y\":{\"field\":\"y\"}},\"id\":\"1065\",\"type\":\"Line\"},{\"attributes\":{},\"id\":\"1104\",\"type\":\"UnionRenderers\"},{\"attributes\":{\"data_source\":{\"id\":\"1063\",\"type\":\"ColumnDataSource\"},\"glyph\":{\"id\":\"1064\",\"type\":\"Line\"},\"hover_glyph\":null,\"muted_glyph\":null,\"nonselection_glyph\":{\"id\":\"1065\",\"type\":\"Line\"},\"selection_glyph\":null,\"view\":{\"id\":\"1067\",\"type\":\"CDSView\"}},\"id\":\"1066\",\"type\":\"GlyphRenderer\"},{\"attributes\":{},\"id\":\"1105\",\"type\":\"Selection\"},{\"attributes\":{\"source\":{\"id\":\"1063\",\"type\":\"ColumnDataSource\"}},\"id\":\"1067\",\"type\":\"CDSView\"},{\"attributes\":{},\"id\":\"1106\",\"type\":\"UnionRenderers\"},{\"attributes\":{\"callback\":null,\"data\":{\"x\":[1,2,3,4,5,6],\"y\":{\"__ndarray__\":\"sqao33CTlT/mbWDGEbOXPwd2vAU1K6A/5f4K5NNI4j/rUVvltjTmP/uW3FfQNec/\",\"dtype\":\"float64\",\"shape\":[6]}},\"selected\":{\"id\":\"1109\",\"type\":\"Selection\"},\"selection_policy\":{\"id\":\"1108\",\"type\":\"UnionRenderers\"}},\"id\":\"1078\",\"type\":\"ColumnDataSource\"},{\"attributes\":{},\"id\":\"1107\",\"type\":\"Selection\"},{\"attributes\":{\"fill_color\":{\"value\":\"red\"},\"line_alpha\":{\"value\":0},\"line_color\":{\"value\":\"red\"},\"size\":{\"units\":\"screen\",\"value\":5},\"x\":{\"field\":\"x\"},\"y\":{\"field\":\"y\"}},\"id\":\"1069\",\"type\":\"Circle\"},{\"attributes\":{},\"id\":\"1108\",\"type\":\"UnionRenderers\"},{\"attributes\":{\"fill_alpha\":{\"value\":0.1},\"fill_color\":{\"value\":\"#1f77b4\"},\"line_alpha\":{\"value\":0.1},\"line_color\":{\"value\":\"#1f77b4\"},\"size\":{\"units\":\"screen\",\"value\":5},\"x\":{\"field\":\"x\"},\"y\":{\"field\":\"y\"}},\"id\":\"1070\",\"type\":\"Circle\"},{\"attributes\":{},\"id\":\"1109\",\"type\":\"Selection\"},{\"attributes\":{\"data_source\":{\"id\":\"1068\",\"type\":\"ColumnDataSource\"},\"glyph\":{\"id\":\"1069\",\"type\":\"Circle\"},\"hover_glyph\":null,\"muted_glyph\":null,\"nonselection_glyph\":{\"id\":\"1070\",\"type\":\"Circle\"},\"selection_glyph\":null,\"view\":{\"id\":\"1072\",\"type\":\"CDSView\"}},\"id\":\"1071\",\"type\":\"GlyphRenderer\"},{\"attributes\":{\"source\":{\"id\":\"1068\",\"type\":\"ColumnDataSource\"}},\"id\":\"1072\",\"type\":\"CDSView\"},{\"attributes\":{\"callback\":null,\"data\":{\"x\":[1,2,3,4,5,6],\"y\":{\"__ndarray__\":\"sqao33CTlT/mbWDGEbOXPwd2vAU1K6A/5f4K5NNI4j/rUVvltjTmP/uW3FfQNec/\",\"dtype\":\"float64\",\"shape\":[6]}},\"selected\":{\"id\":\"1107\",\"type\":\"Selection\"},\"selection_policy\":{\"id\":\"1106\",\"type\":\"UnionRenderers\"}},\"id\":\"1073\",\"type\":\"ColumnDataSource\"},{\"attributes\":{\"line_width\":2,\"x\":{\"field\":\"x\"},\"y\":{\"field\":\"y\"}},\"id\":\"1074\",\"type\":\"Line\"},{\"attributes\":{\"line_alpha\":0.1,\"line_color\":\"#1f77b4\",\"line_width\":2,\"x\":{\"field\":\"x\"},\"y\":{\"field\":\"y\"}},\"id\":\"1075\",\"type\":\"Line\"},{\"attributes\":{\"data_source\":{\"id\":\"1073\",\"type\":\"ColumnDataSource\"},\"glyph\":{\"id\":\"1074\",\"type\":\"Line\"},\"hover_glyph\":null,\"muted_glyph\":null,\"nonselection_glyph\":{\"id\":\"1075\",\"type\":\"Line\"},\"selection_glyph\":null,\"view\":{\"id\":\"1077\",\"type\":\"CDSView\"}},\"id\":\"1076\",\"type\":\"GlyphRenderer\"},{\"attributes\":{\"source\":{\"id\":\"1073\",\"type\":\"ColumnDataSource\"}},\"id\":\"1077\",\"type\":\"CDSView\"},{\"attributes\":{\"click_policy\":\"hide\",\"items\":[{\"id\":\"1084\",\"type\":\"LegendItem\"},{\"id\":\"1085\",\"type\":\"LegendItem\"},{\"id\":\"1086\",\"type\":\"LegendItem\"}],\"location\":\"center\",\"plot\":{\"id\":\"1003\",\"subtype\":\"Figure\",\"type\":\"Plot\"}},\"id\":\"1083\",\"type\":\"Legend\"},{\"attributes\":{\"fill_color\":{\"value\":\"black\"},\"line_alpha\":{\"value\":0},\"size\":{\"units\":\"screen\",\"value\":5},\"x\":{\"field\":\"x\"},\"y\":{\"field\":\"y\"}},\"id\":\"1079\",\"type\":\"Circle\"},{\"attributes\":{\"fill_alpha\":{\"value\":0.1},\"fill_color\":{\"value\":\"#1f77b4\"},\"line_alpha\":{\"value\":0.1},\"line_color\":{\"value\":\"#1f77b4\"},\"size\":{\"units\":\"screen\",\"value\":5},\"x\":{\"field\":\"x\"},\"y\":{\"field\":\"y\"}},\"id\":\"1080\",\"type\":\"Circle\"},{\"attributes\":{\"data_source\":{\"id\":\"1078\",\"type\":\"ColumnDataSource\"},\"glyph\":{\"id\":\"1079\",\"type\":\"Circle\"},\"hover_glyph\":null,\"muted_glyph\":null,\"nonselection_glyph\":{\"id\":\"1080\",\"type\":\"Circle\"},\"selection_glyph\":null,\"view\":{\"id\":\"1082\",\"type\":\"CDSView\"}},\"id\":\"1081\",\"type\":\"GlyphRenderer\"},{\"attributes\":{\"source\":{\"id\":\"1078\",\"type\":\"ColumnDataSource\"}},\"id\":\"1082\",\"type\":\"CDSView\"},{\"attributes\":{},\"id\":\"1088\",\"type\":\"BasicTickFormatter\"},{\"attributes\":{\"label\":{\"value\":\"AudHit\"},\"renderers\":[{\"id\":\"1041\",\"type\":\"GlyphRenderer\"}]},\"id\":\"1084\",\"type\":\"LegendItem\"},{\"attributes\":{\"label\":{\"value\":\"FA\"},\"renderers\":[{\"id\":\"1066\",\"type\":\"GlyphRenderer\"}]},\"id\":\"1086\",\"type\":\"LegendItem\"},{\"attributes\":{},\"id\":\"1090\",\"type\":\"BasicTickFormatter\"},{\"attributes\":{},\"id\":\"1092\",\"type\":\"UnionRenderers\"},{\"attributes\":{},\"id\":\"1093\",\"type\":\"Selection\"},{\"attributes\":{},\"id\":\"1094\",\"type\":\"UnionRenderers\"},{\"attributes\":{},\"id\":\"1095\",\"type\":\"Selection\"},{\"attributes\":{},\"id\":\"1096\",\"type\":\"UnionRenderers\"},{\"attributes\":{},\"id\":\"1097\",\"type\":\"Selection\"},{\"attributes\":{},\"id\":\"1098\",\"type\":\"UnionRenderers\"}],\"root_ids\":[\"1003\"]},\"title\":\"Bokeh Application\",\"version\":\"1.0.4\"}};\n",
       "  var render_items = [{\"docid\":\"073c2840-e357-46f1-9080-eda772f73593\",\"roots\":{\"1003\":\"b4125e62-2a24-4041-8f2b-06610aeb7d62\"}}];\n",
       "  root.Bokeh.embed.embed_items_notebook(docs_json, render_items);\n",
       "\n",
       "  }\n",
       "  if (root.Bokeh !== undefined) {\n",
       "    embed_document(root);\n",
       "  } else {\n",
       "    var attempts = 0;\n",
       "    var timer = setInterval(function(root) {\n",
       "      if (root.Bokeh !== undefined) {\n",
       "        embed_document(root);\n",
       "        clearInterval(timer);\n",
       "      }\n",
       "      attempts++;\n",
       "      if (attempts > 100) {\n",
       "        console.log(\"Bokeh: ERROR: Unable to run BokehJS code because BokehJS library is missing\");\n",
       "        clearInterval(timer);\n",
       "      }\n",
       "    }, 10, root)\n",
       "  }\n",
       "})(window);"
      ],
      "application/vnd.bokehjs_exec.v0+json": ""
     },
     "metadata": {
      "application/vnd.bokehjs_exec.v0+json": {
       "id": "1003"
      }
     },
     "output_type": "display_data"
    },
    {
     "data": {
      "text/html": [
       "\n",
       "\n",
       "\n",
       "\n",
       "\n",
       "\n",
       "  <div class=\"bk-root\" id=\"927d239d-c082-4bc5-8db5-6304607b374a\" data-root-id=\"1256\"></div>\n"
      ]
     },
     "metadata": {},
     "output_type": "display_data"
    },
    {
     "data": {
      "application/javascript": [
       "(function(root) {\n",
       "  function embed_document(root) {\n",
       "    \n",
       "  var docs_json = {\"8b7de227-d0d1-4c5a-80b7-d1e69040f8cb\":{\"roots\":{\"references\":[{\"attributes\":{\"below\":[{\"id\":\"1266\",\"type\":\"LinearAxis\"}],\"left\":[{\"id\":\"1271\",\"type\":\"LinearAxis\"}],\"plot_height\":500,\"plot_width\":900,\"renderers\":[{\"id\":\"1266\",\"type\":\"LinearAxis\"},{\"id\":\"1270\",\"type\":\"Grid\"},{\"id\":\"1271\",\"type\":\"LinearAxis\"},{\"id\":\"1275\",\"type\":\"Grid\"},{\"id\":\"1284\",\"type\":\"BoxAnnotation\"},{\"id\":\"1294\",\"type\":\"GlyphRenderer\"},{\"id\":\"1299\",\"type\":\"GlyphRenderer\"}],\"title\":{\"id\":\"1255\",\"type\":\"Title\"},\"toolbar\":{\"id\":\"1282\",\"type\":\"Toolbar\"},\"x_range\":{\"id\":\"1258\",\"type\":\"DataRange1d\"},\"x_scale\":{\"id\":\"1262\",\"type\":\"LinearScale\"},\"y_range\":{\"id\":\"1260\",\"type\":\"DataRange1d\"},\"y_scale\":{\"id\":\"1264\",\"type\":\"LinearScale\"}},\"id\":\"1256\",\"subtype\":\"Figure\",\"type\":\"Plot\"},{\"attributes\":{\"line_alpha\":{\"value\":0.1},\"line_color\":{\"value\":\"#1f77b4\"},\"xs\":{\"field\":\"xs\"},\"ys\":{\"field\":\"ys\"}},\"id\":\"1298\",\"type\":\"MultiLine\"},{\"attributes\":{\"bottom_units\":\"screen\",\"fill_alpha\":{\"value\":0.5},\"fill_color\":{\"value\":\"lightgrey\"},\"left_units\":\"screen\",\"level\":\"overlay\",\"line_alpha\":{\"value\":1.0},\"line_color\":{\"value\":\"black\"},\"line_dash\":[4,4],\"line_width\":{\"value\":2},\"plot\":null,\"render_mode\":\"css\",\"right_units\":\"screen\",\"top_units\":\"screen\"},\"id\":\"1284\",\"type\":\"BoxAnnotation\"},{\"attributes\":{\"line_color\":\"green\",\"line_width\":2,\"x\":{\"field\":\"x\"},\"y\":{\"field\":\"y\"}},\"id\":\"1292\",\"type\":\"Line\"},{\"attributes\":{\"dimension\":1,\"plot\":{\"id\":\"1256\",\"subtype\":\"Figure\",\"type\":\"Plot\"},\"ticker\":{\"id\":\"1272\",\"type\":\"BasicTicker\"}},\"id\":\"1275\",\"type\":\"Grid\"},{\"attributes\":{\"line_color\":{\"value\":\"green\"},\"xs\":{\"field\":\"xs\"},\"ys\":{\"field\":\"ys\"}},\"id\":\"1297\",\"type\":\"MultiLine\"},{\"attributes\":{},\"id\":\"1328\",\"type\":\"BasicTickFormatter\"},{\"attributes\":{\"callback\":null,\"data\":{\"x\":[1,2,3,4,5,6],\"y\":{\"__ndarray__\":\"kfWisr3to7/DnhhGlJm3v5dsLp5TKrS/bwwLJVDO9j/UK4+adDj9P/Kwi41TpQBA\",\"dtype\":\"float64\",\"shape\":[6]}},\"selected\":{\"id\":\"1331\",\"type\":\"Selection\"},\"selection_policy\":{\"id\":\"1330\",\"type\":\"UnionRenderers\"}},\"id\":\"1291\",\"type\":\"ColumnDataSource\"},{\"attributes\":{},\"id\":\"1276\",\"type\":\"PanTool\"},{\"attributes\":{\"source\":{\"id\":\"1296\",\"type\":\"ColumnDataSource\"}},\"id\":\"1300\",\"type\":\"CDSView\"},{\"attributes\":{},\"id\":\"1277\",\"type\":\"WheelZoomTool\"},{\"attributes\":{\"data_source\":{\"id\":\"1296\",\"type\":\"ColumnDataSource\"},\"glyph\":{\"id\":\"1297\",\"type\":\"MultiLine\"},\"hover_glyph\":null,\"muted_glyph\":null,\"nonselection_glyph\":{\"id\":\"1298\",\"type\":\"MultiLine\"},\"selection_glyph\":null,\"view\":{\"id\":\"1300\",\"type\":\"CDSView\"}},\"id\":\"1299\",\"type\":\"GlyphRenderer\"},{\"attributes\":{\"callback\":null,\"data\":{\"xs\":[[1,1],[2,2],[3,3],[4,4],[5,5],[6,6]],\"ys\":[[-0.09794361988160095,0.020097230003860767],[-0.16014021190989902,-0.024234153159153435],[-0.1815588638420142,0.02401715753080301],[1.2591952079489357,1.591543593434727],[1.7113473218927155,1.941218832104933],[1.9773523549560788,2.1840991866117943]]},\"selected\":{\"id\":\"1333\",\"type\":\"Selection\"},\"selection_policy\":{\"id\":\"1332\",\"type\":\"UnionRenderers\"}},\"id\":\"1296\",\"type\":\"ColumnDataSource\"},{\"attributes\":{\"overlay\":{\"id\":\"1284\",\"type\":\"BoxAnnotation\"}},\"id\":\"1278\",\"type\":\"BoxZoomTool\"},{\"attributes\":{},\"id\":\"1330\",\"type\":\"UnionRenderers\"},{\"attributes\":{},\"id\":\"1279\",\"type\":\"SaveTool\"},{\"attributes\":{},\"id\":\"1331\",\"type\":\"Selection\"},{\"attributes\":{},\"id\":\"1332\",\"type\":\"UnionRenderers\"},{\"attributes\":{},\"id\":\"1280\",\"type\":\"ResetTool\"},{\"attributes\":{},\"id\":\"1272\",\"type\":\"BasicTicker\"},{\"attributes\":{\"axis_label\":\"dprime for W\",\"axis_label_text_font_style\":\"bold\",\"formatter\":{\"id\":\"1326\",\"type\":\"BasicTickFormatter\"},\"plot\":{\"id\":\"1256\",\"subtype\":\"Figure\",\"type\":\"Plot\"},\"ticker\":{\"id\":\"1272\",\"type\":\"BasicTicker\"}},\"id\":\"1271\",\"type\":\"LinearAxis\"},{\"attributes\":{},\"id\":\"1333\",\"type\":\"Selection\"},{\"attributes\":{\"align\":\"center\",\"plot\":null,\"text\":\"Mean dprime (n=15)\"},\"id\":\"1255\",\"type\":\"Title\"},{\"attributes\":{\"data_source\":{\"id\":\"1291\",\"type\":\"ColumnDataSource\"},\"glyph\":{\"id\":\"1292\",\"type\":\"Line\"},\"hover_glyph\":null,\"muted_glyph\":null,\"nonselection_glyph\":{\"id\":\"1293\",\"type\":\"Line\"},\"selection_glyph\":null,\"view\":{\"id\":\"1295\",\"type\":\"CDSView\"}},\"id\":\"1294\",\"type\":\"GlyphRenderer\"},{\"attributes\":{\"plot\":{\"id\":\"1256\",\"subtype\":\"Figure\",\"type\":\"Plot\"},\"ticker\":{\"id\":\"1267\",\"type\":\"BasicTicker\"}},\"id\":\"1270\",\"type\":\"Grid\"},{\"attributes\":{},\"id\":\"1267\",\"type\":\"BasicTicker\"},{\"attributes\":{\"active_drag\":\"auto\",\"active_inspect\":\"auto\",\"active_multi\":null,\"active_scroll\":\"auto\",\"active_tap\":\"auto\",\"tools\":[{\"id\":\"1276\",\"type\":\"PanTool\"},{\"id\":\"1277\",\"type\":\"WheelZoomTool\"},{\"id\":\"1278\",\"type\":\"BoxZoomTool\"},{\"id\":\"1279\",\"type\":\"SaveTool\"},{\"id\":\"1280\",\"type\":\"ResetTool\"},{\"id\":\"1281\",\"type\":\"HelpTool\"}]},\"id\":\"1282\",\"type\":\"Toolbar\"},{\"attributes\":{\"axis_label\":\"Days of training\",\"axis_label_text_font_style\":\"bold\",\"formatter\":{\"id\":\"1328\",\"type\":\"BasicTickFormatter\"},\"plot\":{\"id\":\"1256\",\"subtype\":\"Figure\",\"type\":\"Plot\"},\"ticker\":{\"id\":\"1267\",\"type\":\"BasicTicker\"}},\"id\":\"1266\",\"type\":\"LinearAxis\"},{\"attributes\":{\"source\":{\"id\":\"1291\",\"type\":\"ColumnDataSource\"}},\"id\":\"1295\",\"type\":\"CDSView\"},{\"attributes\":{},\"id\":\"1264\",\"type\":\"LinearScale\"},{\"attributes\":{},\"id\":\"1281\",\"type\":\"HelpTool\"},{\"attributes\":{},\"id\":\"1262\",\"type\":\"LinearScale\"},{\"attributes\":{\"callback\":null},\"id\":\"1260\",\"type\":\"DataRange1d\"},{\"attributes\":{\"callback\":null},\"id\":\"1258\",\"type\":\"DataRange1d\"},{\"attributes\":{\"line_alpha\":0.1,\"line_color\":\"#1f77b4\",\"line_width\":2,\"x\":{\"field\":\"x\"},\"y\":{\"field\":\"y\"}},\"id\":\"1293\",\"type\":\"Line\"},{\"attributes\":{},\"id\":\"1326\",\"type\":\"BasicTickFormatter\"}],\"root_ids\":[\"1256\"]},\"title\":\"Bokeh Application\",\"version\":\"1.0.4\"}};\n",
       "  var render_items = [{\"docid\":\"8b7de227-d0d1-4c5a-80b7-d1e69040f8cb\",\"roots\":{\"1256\":\"927d239d-c082-4bc5-8db5-6304607b374a\"}}];\n",
       "  root.Bokeh.embed.embed_items_notebook(docs_json, render_items);\n",
       "\n",
       "  }\n",
       "  if (root.Bokeh !== undefined) {\n",
       "    embed_document(root);\n",
       "  } else {\n",
       "    var attempts = 0;\n",
       "    var timer = setInterval(function(root) {\n",
       "      if (root.Bokeh !== undefined) {\n",
       "        embed_document(root);\n",
       "        clearInterval(timer);\n",
       "      }\n",
       "      attempts++;\n",
       "      if (attempts > 100) {\n",
       "        console.log(\"Bokeh: ERROR: Unable to run BokehJS code because BokehJS library is missing\");\n",
       "        clearInterval(timer);\n",
       "      }\n",
       "    }, 10, root)\n",
       "  }\n",
       "})(window);"
      ],
      "application/vnd.bokehjs_exec.v0+json": ""
     },
     "metadata": {
      "application/vnd.bokehjs_exec.v0+json": {
       "id": "1256"
      }
     },
     "output_type": "display_data"
    }
   ],
   "source": [
    "errorAudH = np.nanstd(dataAll[:,:,0],axis = 0)/np.sqrt(np.sum(np.invert(np.isnan(dataAll[:,:,0])),axis = 0))\n",
    "errorWhH = np.nanstd(dataAll[:,:,1],axis = 0)/np.sqrt(np.sum(np.invert(np.isnan(dataAll[:,:,1])),axis = 0))\n",
    "errorFA = np.nanstd(dataAll[:,:,2],axis = 0)/np.sqrt(np.sum(np.invert(np.isnan(dataAll[:,:,2])),axis = 0))\n",
    "\n",
    "\n",
    "MeanAudH = np.nanmean(dataAll[:,:,0],axis=0)\n",
    "MeanWhH = np.nanmean(dataAll[:,:,1],axis=0)\n",
    "MeanFA = np.nanmean(dataAll[:,:,2],axis=0)\n",
    "\n",
    "Days = dataAll.shape[1] + 1\n",
    "\n",
    "p = bokeh.plotting.figure(\n",
    "    width=900,\n",
    "    height=500,\n",
    "    x_axis_label='Days of training',\n",
    "    y_axis_label='AudHit/WhHit/FA',\n",
    "    title= 'Mean Behaviour (n=15)' \n",
    "    )\n",
    "\n",
    "p.yaxis.axis_label_text_font_style = \"bold\"\n",
    "p.xaxis.axis_label_text_font_style = \"bold\"\n",
    "p.title.align = 'center'\n",
    "\n",
    "\n",
    "audh = p.line(\n",
    "x= range(1,Days,1),\n",
    "y= MeanAudH ,\n",
    "line_join='bevel',\n",
    "line_width=2,\n",
    "color = 'blue',\n",
    ")\n",
    "\n",
    "\n",
    "err_xs = []\n",
    "err_ys = []\n",
    "\n",
    "for x, y, yerr in zip(range(1,Days,1), MeanAudH, errorAudH ):\n",
    "    err_xs.append((x, x))\n",
    "    err_ys.append((y - yerr, y + yerr))\n",
    "\n",
    "# plot them\n",
    "p.multi_line(err_xs, err_ys, color='blue')\n",
    "\n",
    "\n",
    "\n",
    "err_xs = []\n",
    "err_ys = []\n",
    "\n",
    "for x, y, yerr in zip(range(1,Days,1), MeanWhH, errorWhH ):\n",
    "    err_xs.append((x, x))\n",
    "    err_ys.append((y - yerr, y + yerr))\n",
    "\n",
    "# plot them\n",
    "p.multi_line(err_xs, err_ys, color='black')\n",
    "\n",
    "\n",
    "err_xs = []\n",
    "err_ys = []\n",
    "\n",
    "for x, y, yerr in zip(range(1,Days,1), MeanFA, errorFA ):\n",
    "    err_xs.append((x, x))\n",
    "    err_ys.append((y - yerr, y + yerr))\n",
    "\n",
    "# plot them\n",
    "p.multi_line(err_xs, err_ys, color='red')\n",
    "\n",
    "\n",
    "p.circle(range(1,Days,1), MeanAudH , color='blue', size=5, line_alpha=0)\n",
    "\n",
    "fa = p.line(\n",
    "x= range(1,Days,1),\n",
    "y= MeanFA,\n",
    "line_join='bevel',\n",
    "line_width=2,\n",
    "color = 'red',\n",
    ")\n",
    "\n",
    "p.circle(range(1,Days,1), MeanFA , color='red', size=5, line_alpha=0)\n",
    "\n",
    "whhit = p.line(\n",
    "x= range(1,Days,1),\n",
    "y= MeanWhH,\n",
    "line_join='bevel',\n",
    "line_width=2,\n",
    "color = 'black',\n",
    ")\n",
    "\n",
    "p.circle(range(1,Days,1), MeanWhH , color='black', size=5, line_alpha=0)\n",
    "\n",
    "legend = Legend(items=[\n",
    "(\"AudHit\" , [audh]),\n",
    "(\"WhHit\" , [whhit]),\n",
    "(\"FA\" , [fa])   \n",
    "], location=\"center\")\n",
    "\n",
    "p.add_layout(legend, 'right')\n",
    "\n",
    "p.legend.click_policy=\"hide\"\n",
    "\n",
    "bokeh.io.show(p) \n",
    "\n",
    "errorDprime = np.nanstd(dataAll[:,:,3],axis = 0)/np.sqrt(np.sum(np.invert(np.isnan(dataAll[:,:,3])),axis = 0))\n",
    "MeanDprime = np.nanmean(dataAll[:,:,3],axis=0)\n",
    "\n",
    "k = bokeh.plotting.figure(\n",
    "    width=900,\n",
    "    height=500,\n",
    "    x_axis_label='Days of training',\n",
    "    y_axis_label='dprime for W',\n",
    "    title= 'Mean dprime (n=15)' \n",
    "    )\n",
    "\n",
    "k.yaxis.axis_label_text_font_style = \"bold\"\n",
    "k.xaxis.axis_label_text_font_style = \"bold\"\n",
    "k.title.align = 'center'\n",
    "\n",
    "dprime = k.line(\n",
    "x= range(1,Days,1),\n",
    "y= MeanDprime ,\n",
    "line_join='bevel',\n",
    "line_width=2,\n",
    "color = 'green',\n",
    ")\n",
    "\n",
    "\n",
    "err_xs = []\n",
    "err_ys = []\n",
    "\n",
    "for x, y, yerr in zip(range(1,Days,1), MeanDprime, errorDprime):\n",
    "    err_xs.append((x, x))\n",
    "    err_ys.append((y - yerr, y + yerr))\n",
    "\n",
    "# plot them\n",
    "k.multi_line(err_xs, err_ys, color='green')\n",
    "bokeh.io.show(k) \n"
   ]
  },
  {
   "cell_type": "code",
   "execution_count": 113,
   "metadata": {},
   "outputs": [
    {
     "data": {
      "text/plain": [
       "array([[0.89772727, 0.        , 0.14285714],\n",
       "       [0.75      , 0.        , 0.10447761],\n",
       "       [0.692607  , 0.        , 0.07421875],\n",
       "       [0.68548387, 0.        , 0.05263158],\n",
       "       [0.88405797, 0.        , 0.14285714],\n",
       "       [0.87804878, 0.        , 0.08433735],\n",
       "       [0.83571429, 0.        , 0.23571429],\n",
       "       [0.82758621, 0.        , 0.18103448],\n",
       "       [0.79807692, 0.        , 0.20192308],\n",
       "       [0.87313433, 0.        , 0.17164179],\n",
       "       [0.8452381 , 0.        , 0.1       ],\n",
       "       [0.72826087, 0.        , 0.2173913 ],\n",
       "       [0.60416667, 0.        , 0.11805556]])"
      ]
     },
     "execution_count": 113,
     "metadata": {},
     "output_type": "execute_result"
    }
   ],
   "source": [
    "dataAll[dataAll[:,:,1] ==0]"
   ]
  },
  {
   "cell_type": "code",
   "execution_count": 5,
   "metadata": {},
   "outputs": [
    {
     "data": {
      "text/html": [
       "\n",
       "\n",
       "\n",
       "\n",
       "\n",
       "\n",
       "  <div class=\"bk-root\" id=\"05cd375f-4cce-4ad5-846a-e7fbfd9cbce2\" data-root-id=\"1396\"></div>\n"
      ]
     },
     "metadata": {},
     "output_type": "display_data"
    },
    {
     "data": {
      "application/javascript": [
       "(function(root) {\n",
       "  function embed_document(root) {\n",
       "    \n",
       "  var docs_json = {\"2d86de04-943e-4a64-8a0c-6a363bd7d523\":{\"roots\":{\"references\":[{\"attributes\":{\"below\":[{\"id\":\"1406\",\"type\":\"LinearAxis\"}],\"left\":[{\"id\":\"1411\",\"type\":\"LinearAxis\"}],\"plot_height\":500,\"plot_width\":400,\"renderers\":[{\"id\":\"1406\",\"type\":\"LinearAxis\"},{\"id\":\"1410\",\"type\":\"Grid\"},{\"id\":\"1411\",\"type\":\"LinearAxis\"},{\"id\":\"1415\",\"type\":\"Grid\"},{\"id\":\"1424\",\"type\":\"BoxAnnotation\"},{\"id\":\"1434\",\"type\":\"GlyphRenderer\"},{\"id\":\"1439\",\"type\":\"GlyphRenderer\"},{\"id\":\"1444\",\"type\":\"GlyphRenderer\"},{\"id\":\"1449\",\"type\":\"GlyphRenderer\"},{\"id\":\"1454\",\"type\":\"GlyphRenderer\"},{\"id\":\"1459\",\"type\":\"GlyphRenderer\"},{\"id\":\"1464\",\"type\":\"GlyphRenderer\"},{\"id\":\"1469\",\"type\":\"GlyphRenderer\"},{\"id\":\"1474\",\"type\":\"GlyphRenderer\"},{\"id\":\"1479\",\"type\":\"GlyphRenderer\"},{\"id\":\"1484\",\"type\":\"GlyphRenderer\"},{\"id\":\"1489\",\"type\":\"GlyphRenderer\"},{\"id\":\"1494\",\"type\":\"GlyphRenderer\"},{\"id\":\"1499\",\"type\":\"GlyphRenderer\"},{\"id\":\"1504\",\"type\":\"GlyphRenderer\"},{\"id\":\"1509\",\"type\":\"GlyphRenderer\"},{\"id\":\"1514\",\"type\":\"GlyphRenderer\"},{\"id\":\"1519\",\"type\":\"GlyphRenderer\"},{\"id\":\"1524\",\"type\":\"GlyphRenderer\"},{\"id\":\"1529\",\"type\":\"GlyphRenderer\"},{\"id\":\"1534\",\"type\":\"GlyphRenderer\"}],\"title\":{\"id\":\"1395\",\"type\":\"Title\"},\"toolbar\":{\"id\":\"1422\",\"type\":\"Toolbar\"},\"x_range\":{\"id\":\"1398\",\"type\":\"DataRange1d\"},\"x_scale\":{\"id\":\"1402\",\"type\":\"LinearScale\"},\"y_range\":{\"id\":\"1400\",\"type\":\"DataRange1d\"},\"y_scale\":{\"id\":\"1404\",\"type\":\"LinearScale\"}},\"id\":\"1396\",\"subtype\":\"Figure\",\"type\":\"Plot\"},{\"attributes\":{\"line_color\":\"gray\",\"line_width\":0.5,\"x\":{\"field\":\"x\"},\"y\":{\"field\":\"y\"}},\"id\":\"1512\",\"type\":\"Line\"},{\"attributes\":{},\"id\":\"1585\",\"type\":\"Selection\"},{\"attributes\":{\"line_alpha\":0.1,\"line_color\":\"#1f77b4\",\"line_width\":0.5,\"x\":{\"field\":\"x\"},\"y\":{\"field\":\"y\"}},\"id\":\"1513\",\"type\":\"Line\"},{\"attributes\":{},\"id\":\"1586\",\"type\":\"UnionRenderers\"},{\"attributes\":{\"data_source\":{\"id\":\"1511\",\"type\":\"ColumnDataSource\"},\"glyph\":{\"id\":\"1512\",\"type\":\"Line\"},\"hover_glyph\":null,\"muted_glyph\":null,\"nonselection_glyph\":{\"id\":\"1513\",\"type\":\"Line\"},\"selection_glyph\":null,\"view\":{\"id\":\"1515\",\"type\":\"CDSView\"}},\"id\":\"1514\",\"type\":\"GlyphRenderer\"},{\"attributes\":{},\"id\":\"1587\",\"type\":\"Selection\"},{\"attributes\":{\"source\":{\"id\":\"1511\",\"type\":\"ColumnDataSource\"}},\"id\":\"1515\",\"type\":\"CDSView\"},{\"attributes\":{},\"id\":\"1588\",\"type\":\"UnionRenderers\"},{\"attributes\":{\"callback\":null,\"data\":{\"x\":{\"__ndarray__\":\"AQAAAAIAAAA=\",\"dtype\":\"int32\",\"shape\":[2]},\"y\":{\"__ndarray__\":\"gQtc4AIX6D8fclkxUMLrPw==\",\"dtype\":\"float64\",\"shape\":[2]}},\"selected\":{\"id\":\"1611\",\"type\":\"Selection\"},\"selection_policy\":{\"id\":\"1610\",\"type\":\"UnionRenderers\"}},\"id\":\"1516\",\"type\":\"ColumnDataSource\"},{\"attributes\":{},\"id\":\"1589\",\"type\":\"Selection\"},{\"attributes\":{\"line_color\":\"gray\",\"line_width\":0.5,\"x\":{\"field\":\"x\"},\"y\":{\"field\":\"y\"}},\"id\":\"1517\",\"type\":\"Line\"},{\"attributes\":{},\"id\":\"1590\",\"type\":\"UnionRenderers\"},{\"attributes\":{\"line_alpha\":0.1,\"line_color\":\"#1f77b4\",\"line_width\":0.5,\"x\":{\"field\":\"x\"},\"y\":{\"field\":\"y\"}},\"id\":\"1518\",\"type\":\"Line\"},{\"attributes\":{},\"id\":\"1591\",\"type\":\"Selection\"},{\"attributes\":{\"data_source\":{\"id\":\"1516\",\"type\":\"ColumnDataSource\"},\"glyph\":{\"id\":\"1517\",\"type\":\"Line\"},\"hover_glyph\":null,\"muted_glyph\":null,\"nonselection_glyph\":{\"id\":\"1518\",\"type\":\"Line\"},\"selection_glyph\":null,\"view\":{\"id\":\"1520\",\"type\":\"CDSView\"}},\"id\":\"1519\",\"type\":\"GlyphRenderer\"},{\"attributes\":{},\"id\":\"1592\",\"type\":\"UnionRenderers\"},{\"attributes\":{\"source\":{\"id\":\"1516\",\"type\":\"ColumnDataSource\"}},\"id\":\"1520\",\"type\":\"CDSView\"},{\"attributes\":{},\"id\":\"1593\",\"type\":\"Selection\"},{\"attributes\":{\"callback\":null,\"data\":{\"x\":{\"__ndarray__\":\"AQAAAAIAAAA=\",\"dtype\":\"int32\",\"shape\":[2]},\"y\":{\"__ndarray__\":\"lD7pkz7pwz8WX/EVX/HlPw==\",\"dtype\":\"float64\",\"shape\":[2]}},\"selected\":{\"id\":\"1613\",\"type\":\"Selection\"},\"selection_policy\":{\"id\":\"1612\",\"type\":\"UnionRenderers\"}},\"id\":\"1521\",\"type\":\"ColumnDataSource\"},{\"attributes\":{},\"id\":\"1594\",\"type\":\"UnionRenderers\"},{\"attributes\":{\"line_color\":\"gray\",\"line_width\":0.5,\"x\":{\"field\":\"x\"},\"y\":{\"field\":\"y\"}},\"id\":\"1522\",\"type\":\"Line\"},{\"attributes\":{},\"id\":\"1595\",\"type\":\"Selection\"},{\"attributes\":{\"line_alpha\":0.1,\"line_color\":\"#1f77b4\",\"line_width\":0.5,\"x\":{\"field\":\"x\"},\"y\":{\"field\":\"y\"}},\"id\":\"1523\",\"type\":\"Line\"},{\"attributes\":{},\"id\":\"1596\",\"type\":\"UnionRenderers\"},{\"attributes\":{\"data_source\":{\"id\":\"1521\",\"type\":\"ColumnDataSource\"},\"glyph\":{\"id\":\"1522\",\"type\":\"Line\"},\"hover_glyph\":null,\"muted_glyph\":null,\"nonselection_glyph\":{\"id\":\"1523\",\"type\":\"Line\"},\"selection_glyph\":null,\"view\":{\"id\":\"1525\",\"type\":\"CDSView\"}},\"id\":\"1524\",\"type\":\"GlyphRenderer\"},{\"attributes\":{},\"id\":\"1597\",\"type\":\"Selection\"},{\"attributes\":{\"source\":{\"id\":\"1521\",\"type\":\"ColumnDataSource\"}},\"id\":\"1525\",\"type\":\"CDSView\"},{\"attributes\":{},\"id\":\"1598\",\"type\":\"UnionRenderers\"},{\"attributes\":{\"callback\":null,\"data\":{\"x\":{\"__ndarray__\":\"AQAAAAIAAAA=\",\"dtype\":\"int32\",\"shape\":[2]},\"y\":{\"__ndarray__\":\"gr1jamDv6D9BnhLkKUHmPw==\",\"dtype\":\"float64\",\"shape\":[2]}},\"selected\":{\"id\":\"1615\",\"type\":\"Selection\"},\"selection_policy\":{\"id\":\"1614\",\"type\":\"UnionRenderers\"}},\"id\":\"1526\",\"type\":\"ColumnDataSource\"},{\"attributes\":{},\"id\":\"1599\",\"type\":\"Selection\"},{\"attributes\":{\"line_color\":\"gray\",\"line_width\":0.5,\"x\":{\"field\":\"x\"},\"y\":{\"field\":\"y\"}},\"id\":\"1527\",\"type\":\"Line\"},{\"attributes\":{},\"id\":\"1600\",\"type\":\"UnionRenderers\"},{\"attributes\":{\"line_alpha\":0.1,\"line_color\":\"#1f77b4\",\"line_width\":0.5,\"x\":{\"field\":\"x\"},\"y\":{\"field\":\"y\"}},\"id\":\"1528\",\"type\":\"Line\"},{\"attributes\":{},\"id\":\"1601\",\"type\":\"Selection\"},{\"attributes\":{\"data_source\":{\"id\":\"1526\",\"type\":\"ColumnDataSource\"},\"glyph\":{\"id\":\"1527\",\"type\":\"Line\"},\"hover_glyph\":null,\"muted_glyph\":null,\"nonselection_glyph\":{\"id\":\"1528\",\"type\":\"Line\"},\"selection_glyph\":null,\"view\":{\"id\":\"1530\",\"type\":\"CDSView\"}},\"id\":\"1529\",\"type\":\"GlyphRenderer\"},{\"attributes\":{},\"id\":\"1602\",\"type\":\"UnionRenderers\"},{\"attributes\":{\"source\":{\"id\":\"1526\",\"type\":\"ColumnDataSource\"}},\"id\":\"1530\",\"type\":\"CDSView\"},{\"attributes\":{},\"id\":\"1603\",\"type\":\"Selection\"},{\"attributes\":{},\"id\":\"1604\",\"type\":\"UnionRenderers\"},{\"attributes\":{\"x\":{\"field\":\"x\"},\"y\":{\"field\":\"y\"}},\"id\":\"1532\",\"type\":\"Line\"},{\"attributes\":{},\"id\":\"1605\",\"type\":\"Selection\"},{\"attributes\":{\"line_alpha\":0.1,\"line_color\":\"#1f77b4\",\"x\":{\"field\":\"x\"},\"y\":{\"field\":\"y\"}},\"id\":\"1533\",\"type\":\"Line\"},{\"attributes\":{},\"id\":\"1606\",\"type\":\"UnionRenderers\"},{\"attributes\":{\"data_source\":{\"id\":\"1531\",\"type\":\"ColumnDataSource\"},\"glyph\":{\"id\":\"1532\",\"type\":\"Line\"},\"hover_glyph\":null,\"muted_glyph\":null,\"nonselection_glyph\":{\"id\":\"1533\",\"type\":\"Line\"},\"selection_glyph\":null,\"view\":{\"id\":\"1535\",\"type\":\"CDSView\"}},\"id\":\"1534\",\"type\":\"GlyphRenderer\"},{\"attributes\":{},\"id\":\"1607\",\"type\":\"Selection\"},{\"attributes\":{\"source\":{\"id\":\"1531\",\"type\":\"ColumnDataSource\"}},\"id\":\"1535\",\"type\":\"CDSView\"},{\"attributes\":{},\"id\":\"1608\",\"type\":\"UnionRenderers\"},{\"attributes\":{},\"id\":\"1573\",\"type\":\"BasicTickFormatter\"},{\"attributes\":{},\"id\":\"1609\",\"type\":\"Selection\"},{\"attributes\":{\"ticks\":[1,1.2,1.4,1.6,1.8,2]},\"id\":\"1536\",\"type\":\"FixedTicker\"},{\"attributes\":{},\"id\":\"1610\",\"type\":\"UnionRenderers\"},{\"attributes\":{},\"id\":\"1575\",\"type\":\"BasicTickFormatter\"},{\"attributes\":{},\"id\":\"1611\",\"type\":\"Selection\"},{\"attributes\":{},\"id\":\"1576\",\"type\":\"UnionRenderers\"},{\"attributes\":{},\"id\":\"1613\",\"type\":\"Selection\"},{\"attributes\":{},\"id\":\"1577\",\"type\":\"Selection\"},{\"attributes\":{},\"id\":\"1614\",\"type\":\"UnionRenderers\"},{\"attributes\":{},\"id\":\"1578\",\"type\":\"UnionRenderers\"},{\"attributes\":{},\"id\":\"1612\",\"type\":\"UnionRenderers\"},{\"attributes\":{},\"id\":\"1615\",\"type\":\"Selection\"},{\"attributes\":{},\"id\":\"1579\",\"type\":\"Selection\"},{\"attributes\":{},\"id\":\"1616\",\"type\":\"UnionRenderers\"},{\"attributes\":{},\"id\":\"1580\",\"type\":\"UnionRenderers\"},{\"attributes\":{},\"id\":\"1617\",\"type\":\"Selection\"},{\"attributes\":{},\"id\":\"1581\",\"type\":\"Selection\"},{\"attributes\":{},\"id\":\"1582\",\"type\":\"UnionRenderers\"},{\"attributes\":{},\"id\":\"1583\",\"type\":\"Selection\"},{\"attributes\":{},\"id\":\"1584\",\"type\":\"UnionRenderers\"},{\"attributes\":{\"callback\":null,\"data\":{\"x\":{\"__ndarray__\":\"AQAAAAIAAAA=\",\"dtype\":\"int32\",\"shape\":[2]},\"y\":{\"__ndarray__\":\"GIERGIER2D/vWyOry7DnPw==\",\"dtype\":\"float64\",\"shape\":[2]}},\"selected\":{\"id\":\"1595\",\"type\":\"Selection\"},\"selection_policy\":{\"id\":\"1594\",\"type\":\"UnionRenderers\"}},\"id\":\"1476\",\"type\":\"ColumnDataSource\"},{\"attributes\":{\"callback\":null,\"data\":{},\"selected\":{\"id\":\"1583\",\"type\":\"Selection\"},\"selection_policy\":{\"id\":\"1582\",\"type\":\"UnionRenderers\"}},\"id\":\"1446\",\"type\":\"ColumnDataSource\"},{\"attributes\":{\"line_color\":\"gray\",\"line_width\":0.5,\"x\":{\"field\":\"x\"},\"y\":{\"field\":\"y\"}},\"id\":\"1477\",\"type\":\"Line\"},{\"attributes\":{\"fill_color\":{\"value\":\"white\"},\"line_width\":{\"value\":1.5},\"size\":{\"units\":\"screen\",\"value\":5},\"x\":{\"value\":2},\"y\":{\"field\":\"y\"}},\"id\":\"1442\",\"type\":\"Circle\"},{\"attributes\":{\"line_alpha\":0.1,\"line_color\":\"#1f77b4\",\"line_width\":0.5,\"x\":{\"field\":\"x\"},\"y\":{\"field\":\"y\"}},\"id\":\"1478\",\"type\":\"Line\"},{\"attributes\":{\"fill_alpha\":{\"value\":0.1},\"fill_color\":{\"value\":\"#1f77b4\"},\"line_alpha\":{\"value\":0.1},\"line_color\":{\"value\":\"#1f77b4\"},\"line_width\":{\"value\":1.5},\"size\":{\"units\":\"screen\",\"value\":5},\"x\":{\"value\":2},\"y\":{\"field\":\"y\"}},\"id\":\"1443\",\"type\":\"Circle\"},{\"attributes\":{\"data_source\":{\"id\":\"1476\",\"type\":\"ColumnDataSource\"},\"glyph\":{\"id\":\"1477\",\"type\":\"Line\"},\"hover_glyph\":null,\"muted_glyph\":null,\"nonselection_glyph\":{\"id\":\"1478\",\"type\":\"Line\"},\"selection_glyph\":null,\"view\":{\"id\":\"1480\",\"type\":\"CDSView\"}},\"id\":\"1479\",\"type\":\"GlyphRenderer\"},{\"attributes\":{\"data_source\":{\"id\":\"1441\",\"type\":\"ColumnDataSource\"},\"glyph\":{\"id\":\"1442\",\"type\":\"Circle\"},\"hover_glyph\":null,\"muted_glyph\":null,\"nonselection_glyph\":{\"id\":\"1443\",\"type\":\"Circle\"},\"selection_glyph\":null,\"view\":{\"id\":\"1445\",\"type\":\"CDSView\"}},\"id\":\"1444\",\"type\":\"GlyphRenderer\"},{\"attributes\":{\"source\":{\"id\":\"1476\",\"type\":\"ColumnDataSource\"}},\"id\":\"1480\",\"type\":\"CDSView\"},{\"attributes\":{\"source\":{\"id\":\"1441\",\"type\":\"ColumnDataSource\"}},\"id\":\"1445\",\"type\":\"CDSView\"},{\"attributes\":{\"callback\":null,\"data\":{\"x\":{\"__ndarray__\":\"AQAAAAIAAAA=\",\"dtype\":\"int32\",\"shape\":[2]},\"y\":{\"__ndarray__\":\"I/qA6thb6z/IpHiBTIrnPw==\",\"dtype\":\"float64\",\"shape\":[2]}},\"selected\":{\"id\":\"1597\",\"type\":\"Selection\"},\"selection_policy\":{\"id\":\"1596\",\"type\":\"UnionRenderers\"}},\"id\":\"1481\",\"type\":\"ColumnDataSource\"},{\"attributes\":{\"callback\":null,\"data\":{\"x\":{\"__ndarray__\":\"AQAAAAIAAAA=\",\"dtype\":\"int32\",\"shape\":[2]},\"y\":{\"__ndarray__\":\"5v4K5NNI4j/sUVvltjTmPw==\",\"dtype\":\"float64\",\"shape\":[2]}},\"selected\":{\"id\":\"1617\",\"type\":\"Selection\"},\"selection_policy\":{\"id\":\"1616\",\"type\":\"UnionRenderers\"}},\"id\":\"1531\",\"type\":\"ColumnDataSource\"},{\"attributes\":{\"callback\":null,\"data\":{},\"selected\":{\"id\":\"1579\",\"type\":\"Selection\"},\"selection_policy\":{\"id\":\"1578\",\"type\":\"UnionRenderers\"}},\"id\":\"1436\",\"type\":\"ColumnDataSource\"},{\"attributes\":{\"line_color\":\"gray\",\"line_width\":0.5,\"x\":{\"field\":\"x\"},\"y\":{\"field\":\"y\"}},\"id\":\"1482\",\"type\":\"Line\"},{\"attributes\":{\"fill_color\":{\"value\":\"black\"},\"line_width\":{\"value\":1.5},\"size\":{\"units\":\"screen\",\"value\":5},\"x\":{\"value\":2},\"y\":{\"value\":0.6939348678229726}},\"id\":\"1447\",\"type\":\"Circle\"},{\"attributes\":{\"line_alpha\":0.1,\"line_color\":\"#1f77b4\",\"line_width\":0.5,\"x\":{\"field\":\"x\"},\"y\":{\"field\":\"y\"}},\"id\":\"1483\",\"type\":\"Line\"},{\"attributes\":{\"align\":\"center\",\"plot\":null,\"text\":\"Individual Mouse Whisker Hit\"},\"id\":\"1395\",\"type\":\"Title\"},{\"attributes\":{\"fill_alpha\":{\"value\":0.1},\"fill_color\":{\"value\":\"#1f77b4\"},\"line_alpha\":{\"value\":0.1},\"line_color\":{\"value\":\"#1f77b4\"},\"line_width\":{\"value\":1.5},\"size\":{\"units\":\"screen\",\"value\":5},\"x\":{\"value\":2},\"y\":{\"value\":0.6939348678229726}},\"id\":\"1448\",\"type\":\"Circle\"},{\"attributes\":{\"data_source\":{\"id\":\"1481\",\"type\":\"ColumnDataSource\"},\"glyph\":{\"id\":\"1482\",\"type\":\"Line\"},\"hover_glyph\":null,\"muted_glyph\":null,\"nonselection_glyph\":{\"id\":\"1483\",\"type\":\"Line\"},\"selection_glyph\":null,\"view\":{\"id\":\"1485\",\"type\":\"CDSView\"}},\"id\":\"1484\",\"type\":\"GlyphRenderer\"},{\"attributes\":{\"data_source\":{\"id\":\"1446\",\"type\":\"ColumnDataSource\"},\"glyph\":{\"id\":\"1447\",\"type\":\"Circle\"},\"hover_glyph\":null,\"muted_glyph\":null,\"nonselection_glyph\":{\"id\":\"1448\",\"type\":\"Circle\"},\"selection_glyph\":null,\"view\":{\"id\":\"1450\",\"type\":\"CDSView\"}},\"id\":\"1449\",\"type\":\"GlyphRenderer\"},{\"attributes\":{\"callback\":null},\"id\":\"1398\",\"type\":\"DataRange1d\"},{\"attributes\":{\"source\":{\"id\":\"1481\",\"type\":\"ColumnDataSource\"}},\"id\":\"1485\",\"type\":\"CDSView\"},{\"attributes\":{\"source\":{\"id\":\"1446\",\"type\":\"ColumnDataSource\"}},\"id\":\"1450\",\"type\":\"CDSView\"},{\"attributes\":{\"callback\":null},\"id\":\"1400\",\"type\":\"DataRange1d\"},{\"attributes\":{\"callback\":null,\"data\":{\"x\":{\"__ndarray__\":\"AQAAAAIAAAA=\",\"dtype\":\"int32\",\"shape\":[2]},\"y\":{\"__ndarray__\":\"fdmgyZcN2j9HLUL+mh3lPw==\",\"dtype\":\"float64\",\"shape\":[2]}},\"selected\":{\"id\":\"1599\",\"type\":\"Selection\"},\"selection_policy\":{\"id\":\"1598\",\"type\":\"UnionRenderers\"}},\"id\":\"1486\",\"type\":\"ColumnDataSource\"},{\"attributes\":{},\"id\":\"1402\",\"type\":\"LinearScale\"},{\"attributes\":{\"callback\":null,\"data\":{\"x\":{\"__ndarray__\":\"AQAAAAIAAAA=\",\"dtype\":\"int32\",\"shape\":[2]},\"y\":{\"__ndarray__\":\"uZEbuZEb6T9Y+4a1b1jrPw==\",\"dtype\":\"float64\",\"shape\":[2]}},\"selected\":{\"id\":\"1585\",\"type\":\"Selection\"},\"selection_policy\":{\"id\":\"1584\",\"type\":\"UnionRenderers\"}},\"id\":\"1451\",\"type\":\"ColumnDataSource\"},{\"attributes\":{\"line_color\":\"gray\",\"line_width\":0.5,\"x\":{\"field\":\"x\"},\"y\":{\"field\":\"y\"}},\"id\":\"1487\",\"type\":\"Line\"},{\"attributes\":{},\"id\":\"1404\",\"type\":\"LinearScale\"},{\"attributes\":{\"line_color\":\"gray\",\"line_width\":0.5,\"x\":{\"field\":\"x\"},\"y\":{\"field\":\"y\"}},\"id\":\"1452\",\"type\":\"Line\"},{\"attributes\":{\"line_alpha\":0.1,\"line_color\":\"#1f77b4\",\"line_width\":0.5,\"x\":{\"field\":\"x\"},\"y\":{\"field\":\"y\"}},\"id\":\"1488\",\"type\":\"Line\"},{\"attributes\":{\"axis_label\":\"Days\",\"axis_label_text_font_style\":\"bold\",\"formatter\":{\"id\":\"1575\",\"type\":\"BasicTickFormatter\"},\"major_label_overrides\":{\"1\":\"SWD\",\"1.2\":\"\",\"1.4\":\"\",\"1.6\":\"\",\"1.8\":\"\",\"2\":\"SWD+1\"},\"plot\":{\"id\":\"1396\",\"subtype\":\"Figure\",\"type\":\"Plot\"},\"ticker\":{\"id\":\"1536\",\"type\":\"FixedTicker\"}},\"id\":\"1406\",\"type\":\"LinearAxis\"},{\"attributes\":{\"data_source\":{\"id\":\"1486\",\"type\":\"ColumnDataSource\"},\"glyph\":{\"id\":\"1487\",\"type\":\"Line\"},\"hover_glyph\":null,\"muted_glyph\":null,\"nonselection_glyph\":{\"id\":\"1488\",\"type\":\"Line\"},\"selection_glyph\":null,\"view\":{\"id\":\"1490\",\"type\":\"CDSView\"}},\"id\":\"1489\",\"type\":\"GlyphRenderer\"},{\"attributes\":{\"line_alpha\":0.1,\"line_color\":\"#1f77b4\",\"line_width\":0.5,\"x\":{\"field\":\"x\"},\"y\":{\"field\":\"y\"}},\"id\":\"1453\",\"type\":\"Line\"},{\"attributes\":{\"data_source\":{\"id\":\"1451\",\"type\":\"ColumnDataSource\"},\"glyph\":{\"id\":\"1452\",\"type\":\"Line\"},\"hover_glyph\":null,\"muted_glyph\":null,\"nonselection_glyph\":{\"id\":\"1453\",\"type\":\"Line\"},\"selection_glyph\":null,\"view\":{\"id\":\"1455\",\"type\":\"CDSView\"}},\"id\":\"1454\",\"type\":\"GlyphRenderer\"},{\"attributes\":{},\"id\":\"1407\",\"type\":\"BasicTicker\"},{\"attributes\":{\"source\":{\"id\":\"1486\",\"type\":\"ColumnDataSource\"}},\"id\":\"1490\",\"type\":\"CDSView\"},{\"attributes\":{\"plot\":{\"id\":\"1396\",\"subtype\":\"Figure\",\"type\":\"Plot\"},\"ticker\":{\"id\":\"1407\",\"type\":\"BasicTicker\"}},\"id\":\"1410\",\"type\":\"Grid\"},{\"attributes\":{\"source\":{\"id\":\"1451\",\"type\":\"ColumnDataSource\"}},\"id\":\"1455\",\"type\":\"CDSView\"},{\"attributes\":{\"callback\":null,\"data\":{\"x\":{\"__ndarray__\":\"AQAAAAIAAAA=\",\"dtype\":\"int32\",\"shape\":[2]},\"y\":{\"__ndarray__\":\"aWlpaWlp6T9vMEU+6wbrPw==\",\"dtype\":\"float64\",\"shape\":[2]}},\"selected\":{\"id\":\"1601\",\"type\":\"Selection\"},\"selection_policy\":{\"id\":\"1600\",\"type\":\"UnionRenderers\"}},\"id\":\"1491\",\"type\":\"ColumnDataSource\"},{\"attributes\":{\"axis_label\":\"WhHit\",\"axis_label_text_font_style\":\"bold\",\"formatter\":{\"id\":\"1573\",\"type\":\"BasicTickFormatter\"},\"plot\":{\"id\":\"1396\",\"subtype\":\"Figure\",\"type\":\"Plot\"},\"ticker\":{\"id\":\"1412\",\"type\":\"BasicTicker\"}},\"id\":\"1411\",\"type\":\"LinearAxis\"},{\"attributes\":{\"callback\":null,\"data\":{\"x\":{\"__ndarray__\":\"AQAAAAIAAAA=\",\"dtype\":\"int32\",\"shape\":[2]},\"y\":{\"__ndarray__\":\"via916T32j8atQZykrniPw==\",\"dtype\":\"float64\",\"shape\":[2]}},\"selected\":{\"id\":\"1587\",\"type\":\"Selection\"},\"selection_policy\":{\"id\":\"1586\",\"type\":\"UnionRenderers\"}},\"id\":\"1456\",\"type\":\"ColumnDataSource\"},{\"attributes\":{\"line_color\":\"gray\",\"line_width\":0.5,\"x\":{\"field\":\"x\"},\"y\":{\"field\":\"y\"}},\"id\":\"1492\",\"type\":\"Line\"},{\"attributes\":{},\"id\":\"1412\",\"type\":\"BasicTicker\"},{\"attributes\":{\"line_color\":\"gray\",\"line_width\":0.5,\"x\":{\"field\":\"x\"},\"y\":{\"field\":\"y\"}},\"id\":\"1457\",\"type\":\"Line\"},{\"attributes\":{\"line_alpha\":0.1,\"line_color\":\"#1f77b4\",\"line_width\":0.5,\"x\":{\"field\":\"x\"},\"y\":{\"field\":\"y\"}},\"id\":\"1493\",\"type\":\"Line\"},{\"attributes\":{\"dimension\":1,\"plot\":{\"id\":\"1396\",\"subtype\":\"Figure\",\"type\":\"Plot\"},\"ticker\":{\"id\":\"1412\",\"type\":\"BasicTicker\"}},\"id\":\"1415\",\"type\":\"Grid\"},{\"attributes\":{\"data_source\":{\"id\":\"1491\",\"type\":\"ColumnDataSource\"},\"glyph\":{\"id\":\"1492\",\"type\":\"Line\"},\"hover_glyph\":null,\"muted_glyph\":null,\"nonselection_glyph\":{\"id\":\"1493\",\"type\":\"Line\"},\"selection_glyph\":null,\"view\":{\"id\":\"1495\",\"type\":\"CDSView\"}},\"id\":\"1494\",\"type\":\"GlyphRenderer\"},{\"attributes\":{\"line_alpha\":0.1,\"line_color\":\"#1f77b4\",\"line_width\":0.5,\"x\":{\"field\":\"x\"},\"y\":{\"field\":\"y\"}},\"id\":\"1458\",\"type\":\"Line\"},{\"attributes\":{\"data_source\":{\"id\":\"1456\",\"type\":\"ColumnDataSource\"},\"glyph\":{\"id\":\"1457\",\"type\":\"Line\"},\"hover_glyph\":null,\"muted_glyph\":null,\"nonselection_glyph\":{\"id\":\"1458\",\"type\":\"Line\"},\"selection_glyph\":null,\"view\":{\"id\":\"1460\",\"type\":\"CDSView\"}},\"id\":\"1459\",\"type\":\"GlyphRenderer\"},{\"attributes\":{\"fill_alpha\":{\"value\":0.1},\"fill_color\":{\"value\":\"#1f77b4\"},\"line_alpha\":{\"value\":0.1},\"line_color\":{\"value\":\"#1f77b4\"},\"line_width\":{\"value\":1.5},\"size\":{\"units\":\"screen\",\"value\":5},\"x\":{\"value\":1},\"y\":{\"field\":\"y\"}},\"id\":\"1433\",\"type\":\"Circle\"},{\"attributes\":{\"source\":{\"id\":\"1491\",\"type\":\"ColumnDataSource\"}},\"id\":\"1495\",\"type\":\"CDSView\"},{\"attributes\":{\"callback\":null,\"data\":{\"x\":{\"__ndarray__\":\"AQAAAAIAAAA=\",\"dtype\":\"int32\",\"shape\":[2]},\"y\":{\"__ndarray__\":\"27Zt27Zt6z+/GhPpgcrpPw==\",\"dtype\":\"float64\",\"shape\":[2]}},\"selected\":{\"id\":\"1609\",\"type\":\"Selection\"},\"selection_policy\":{\"id\":\"1608\",\"type\":\"UnionRenderers\"}},\"id\":\"1511\",\"type\":\"ColumnDataSource\"},{\"attributes\":{\"fill_color\":{\"value\":\"white\"},\"line_width\":{\"value\":1.5},\"size\":{\"units\":\"screen\",\"value\":5},\"x\":{\"value\":1},\"y\":{\"field\":\"y\"}},\"id\":\"1432\",\"type\":\"Circle\"},{\"attributes\":{\"source\":{\"id\":\"1456\",\"type\":\"ColumnDataSource\"}},\"id\":\"1460\",\"type\":\"CDSView\"},{\"attributes\":{\"callback\":null,\"data\":{\"x\":{\"__ndarray__\":\"AQAAAAIAAAA=\",\"dtype\":\"int32\",\"shape\":[2]},\"y\":{\"__ndarray__\":\"l3Ipl3Ip5z8TjLeyzyHlPw==\",\"dtype\":\"float64\",\"shape\":[2]}},\"selected\":{\"id\":\"1603\",\"type\":\"Selection\"},\"selection_policy\":{\"id\":\"1602\",\"type\":\"UnionRenderers\"}},\"id\":\"1496\",\"type\":\"ColumnDataSource\"},{\"attributes\":{\"callback\":null,\"data\":{\"y\":{\"__ndarray__\":\"uZEbuZEb6T++Jr3XpPfaP1HdDtXtUN0/6ZM+6ZM+6T9SuB6F61HYPxiBERiBEdg/I/qA6thb6z992aDJlw3aP2lpaWlpaek/l3Ipl3Ip5z85juM4juPiP0ArAa0EtJI/27Zt27Zt6z+BC1zgAhfoP5Q+6ZM+6cM/gr1jamDv6D8=\",\"dtype\":\"float64\",\"shape\":[16]}},\"selected\":{\"id\":\"1577\",\"type\":\"Selection\"},\"selection_policy\":{\"id\":\"1576\",\"type\":\"UnionRenderers\"}},\"id\":\"1431\",\"type\":\"ColumnDataSource\"},{\"attributes\":{\"callback\":null,\"data\":{\"x\":{\"__ndarray__\":\"AQAAAAIAAAA=\",\"dtype\":\"int32\",\"shape\":[2]},\"y\":{\"__ndarray__\":\"Ud0O1e1Q3T/gXJ79zeXZPw==\",\"dtype\":\"float64\",\"shape\":[2]}},\"selected\":{\"id\":\"1589\",\"type\":\"Selection\"},\"selection_policy\":{\"id\":\"1588\",\"type\":\"UnionRenderers\"}},\"id\":\"1461\",\"type\":\"ColumnDataSource\"},{\"attributes\":{\"line_color\":\"gray\",\"line_width\":0.5,\"x\":{\"field\":\"x\"},\"y\":{\"field\":\"y\"}},\"id\":\"1497\",\"type\":\"Line\"},{\"attributes\":{},\"id\":\"1416\",\"type\":\"PanTool\"},{\"attributes\":{\"line_color\":\"gray\",\"line_width\":0.5,\"x\":{\"field\":\"x\"},\"y\":{\"field\":\"y\"}},\"id\":\"1462\",\"type\":\"Line\"},{\"attributes\":{\"line_alpha\":0.1,\"line_color\":\"#1f77b4\",\"line_width\":0.5,\"x\":{\"field\":\"x\"},\"y\":{\"field\":\"y\"}},\"id\":\"1498\",\"type\":\"Line\"},{\"attributes\":{},\"id\":\"1417\",\"type\":\"WheelZoomTool\"},{\"attributes\":{\"data_source\":{\"id\":\"1496\",\"type\":\"ColumnDataSource\"},\"glyph\":{\"id\":\"1497\",\"type\":\"Line\"},\"hover_glyph\":null,\"muted_glyph\":null,\"nonselection_glyph\":{\"id\":\"1498\",\"type\":\"Line\"},\"selection_glyph\":null,\"view\":{\"id\":\"1500\",\"type\":\"CDSView\"}},\"id\":\"1499\",\"type\":\"GlyphRenderer\"},{\"attributes\":{\"line_alpha\":0.1,\"line_color\":\"#1f77b4\",\"line_width\":0.5,\"x\":{\"field\":\"x\"},\"y\":{\"field\":\"y\"}},\"id\":\"1463\",\"type\":\"Line\"},{\"attributes\":{\"overlay\":{\"id\":\"1424\",\"type\":\"BoxAnnotation\"}},\"id\":\"1418\",\"type\":\"BoxZoomTool\"},{\"attributes\":{\"data_source\":{\"id\":\"1461\",\"type\":\"ColumnDataSource\"},\"glyph\":{\"id\":\"1462\",\"type\":\"Line\"},\"hover_glyph\":null,\"muted_glyph\":null,\"nonselection_glyph\":{\"id\":\"1463\",\"type\":\"Line\"},\"selection_glyph\":null,\"view\":{\"id\":\"1465\",\"type\":\"CDSView\"}},\"id\":\"1464\",\"type\":\"GlyphRenderer\"},{\"attributes\":{\"source\":{\"id\":\"1496\",\"type\":\"ColumnDataSource\"}},\"id\":\"1500\",\"type\":\"CDSView\"},{\"attributes\":{},\"id\":\"1419\",\"type\":\"SaveTool\"},{\"attributes\":{\"source\":{\"id\":\"1461\",\"type\":\"ColumnDataSource\"}},\"id\":\"1465\",\"type\":\"CDSView\"},{\"attributes\":{\"callback\":null,\"data\":{\"x\":{\"__ndarray__\":\"AQAAAAIAAAA=\",\"dtype\":\"int32\",\"shape\":[2]},\"y\":{\"__ndarray__\":\"OY7jOI7j4j/Z2NjY2NjoPw==\",\"dtype\":\"float64\",\"shape\":[2]}},\"selected\":{\"id\":\"1605\",\"type\":\"Selection\"},\"selection_policy\":{\"id\":\"1604\",\"type\":\"UnionRenderers\"}},\"id\":\"1501\",\"type\":\"ColumnDataSource\"},{\"attributes\":{},\"id\":\"1420\",\"type\":\"ResetTool\"},{\"attributes\":{\"callback\":null,\"data\":{\"x\":{\"__ndarray__\":\"AQAAAAIAAAA=\",\"dtype\":\"int32\",\"shape\":[2]},\"y\":{\"__ndarray__\":\"6ZM+6ZM+6T+vobyG8hrmPw==\",\"dtype\":\"float64\",\"shape\":[2]}},\"selected\":{\"id\":\"1591\",\"type\":\"Selection\"},\"selection_policy\":{\"id\":\"1590\",\"type\":\"UnionRenderers\"}},\"id\":\"1466\",\"type\":\"ColumnDataSource\"},{\"attributes\":{\"line_color\":\"gray\",\"line_width\":0.5,\"x\":{\"field\":\"x\"},\"y\":{\"field\":\"y\"}},\"id\":\"1502\",\"type\":\"Line\"},{\"attributes\":{},\"id\":\"1421\",\"type\":\"HelpTool\"},{\"attributes\":{\"line_color\":\"gray\",\"line_width\":0.5,\"x\":{\"field\":\"x\"},\"y\":{\"field\":\"y\"}},\"id\":\"1467\",\"type\":\"Line\"},{\"attributes\":{\"line_alpha\":0.1,\"line_color\":\"#1f77b4\",\"line_width\":0.5,\"x\":{\"field\":\"x\"},\"y\":{\"field\":\"y\"}},\"id\":\"1503\",\"type\":\"Line\"},{\"attributes\":{\"active_drag\":\"auto\",\"active_inspect\":\"auto\",\"active_multi\":null,\"active_scroll\":\"auto\",\"active_tap\":\"auto\",\"tools\":[{\"id\":\"1416\",\"type\":\"PanTool\"},{\"id\":\"1417\",\"type\":\"WheelZoomTool\"},{\"id\":\"1418\",\"type\":\"BoxZoomTool\"},{\"id\":\"1419\",\"type\":\"SaveTool\"},{\"id\":\"1420\",\"type\":\"ResetTool\"},{\"id\":\"1421\",\"type\":\"HelpTool\"}]},\"id\":\"1422\",\"type\":\"Toolbar\"},{\"attributes\":{\"data_source\":{\"id\":\"1431\",\"type\":\"ColumnDataSource\"},\"glyph\":{\"id\":\"1432\",\"type\":\"Circle\"},\"hover_glyph\":null,\"muted_glyph\":null,\"nonselection_glyph\":{\"id\":\"1433\",\"type\":\"Circle\"},\"selection_glyph\":null,\"view\":{\"id\":\"1435\",\"type\":\"CDSView\"}},\"id\":\"1434\",\"type\":\"GlyphRenderer\"},{\"attributes\":{\"data_source\":{\"id\":\"1501\",\"type\":\"ColumnDataSource\"},\"glyph\":{\"id\":\"1502\",\"type\":\"Line\"},\"hover_glyph\":null,\"muted_glyph\":null,\"nonselection_glyph\":{\"id\":\"1503\",\"type\":\"Line\"},\"selection_glyph\":null,\"view\":{\"id\":\"1505\",\"type\":\"CDSView\"}},\"id\":\"1504\",\"type\":\"GlyphRenderer\"},{\"attributes\":{\"line_alpha\":0.1,\"line_color\":\"#1f77b4\",\"line_width\":0.5,\"x\":{\"field\":\"x\"},\"y\":{\"field\":\"y\"}},\"id\":\"1468\",\"type\":\"Line\"},{\"attributes\":{\"bottom_units\":\"screen\",\"fill_alpha\":{\"value\":0.5},\"fill_color\":{\"value\":\"lightgrey\"},\"left_units\":\"screen\",\"level\":\"overlay\",\"line_alpha\":{\"value\":1.0},\"line_color\":{\"value\":\"black\"},\"line_dash\":[4,4],\"line_width\":{\"value\":2},\"plot\":null,\"render_mode\":\"css\",\"right_units\":\"screen\",\"top_units\":\"screen\"},\"id\":\"1424\",\"type\":\"BoxAnnotation\"},{\"attributes\":{\"source\":{\"id\":\"1501\",\"type\":\"ColumnDataSource\"}},\"id\":\"1505\",\"type\":\"CDSView\"},{\"attributes\":{\"source\":{\"id\":\"1431\",\"type\":\"ColumnDataSource\"}},\"id\":\"1435\",\"type\":\"CDSView\"},{\"attributes\":{\"source\":{\"id\":\"1466\",\"type\":\"ColumnDataSource\"}},\"id\":\"1470\",\"type\":\"CDSView\"},{\"attributes\":{\"callback\":null,\"data\":{\"x\":{\"__ndarray__\":\"AQAAAAIAAAA=\",\"dtype\":\"int32\",\"shape\":[2]},\"y\":{\"__ndarray__\":\"QCsBrQS0kj/43nvvvffePw==\",\"dtype\":\"float64\",\"shape\":[2]}},\"selected\":{\"id\":\"1607\",\"type\":\"Selection\"},\"selection_policy\":{\"id\":\"1606\",\"type\":\"UnionRenderers\"}},\"id\":\"1506\",\"type\":\"ColumnDataSource\"},{\"attributes\":{\"callback\":null,\"data\":{\"y\":{\"__ndarray__\":\"WPuGtW9Y6z8atQZykrniP+Bcnv3N5dk/r6G8hvIa5j8aYbmnEZbjP+9bI6vLsOc/yKR4gUyK5z9HLUL+mh3lP28wRT7rBus/E4y3ss8h5T/Z2NjY2NjoP/jee++9994/vxoT6YHK6T8fclkxUMLrPxZf8RVf8eU/QZ4S5ClB5j8=\",\"dtype\":\"float64\",\"shape\":[16]}},\"selected\":{\"id\":\"1581\",\"type\":\"Selection\"},\"selection_policy\":{\"id\":\"1580\",\"type\":\"UnionRenderers\"}},\"id\":\"1441\",\"type\":\"ColumnDataSource\"},{\"attributes\":{\"callback\":null,\"data\":{\"x\":{\"__ndarray__\":\"AQAAAAIAAAA=\",\"dtype\":\"int32\",\"shape\":[2]},\"y\":{\"__ndarray__\":\"UrgehetR2D8aYbmnEZbjPw==\",\"dtype\":\"float64\",\"shape\":[2]}},\"selected\":{\"id\":\"1593\",\"type\":\"Selection\"},\"selection_policy\":{\"id\":\"1592\",\"type\":\"UnionRenderers\"}},\"id\":\"1471\",\"type\":\"ColumnDataSource\"},{\"attributes\":{\"line_color\":\"gray\",\"line_width\":0.5,\"x\":{\"field\":\"x\"},\"y\":{\"field\":\"y\"}},\"id\":\"1507\",\"type\":\"Line\"},{\"attributes\":{\"data_source\":{\"id\":\"1466\",\"type\":\"ColumnDataSource\"},\"glyph\":{\"id\":\"1467\",\"type\":\"Line\"},\"hover_glyph\":null,\"muted_glyph\":null,\"nonselection_glyph\":{\"id\":\"1468\",\"type\":\"Line\"},\"selection_glyph\":null,\"view\":{\"id\":\"1470\",\"type\":\"CDSView\"}},\"id\":\"1469\",\"type\":\"GlyphRenderer\"},{\"attributes\":{\"line_color\":\"gray\",\"line_width\":0.5,\"x\":{\"field\":\"x\"},\"y\":{\"field\":\"y\"}},\"id\":\"1472\",\"type\":\"Line\"},{\"attributes\":{\"line_alpha\":0.1,\"line_color\":\"#1f77b4\",\"line_width\":0.5,\"x\":{\"field\":\"x\"},\"y\":{\"field\":\"y\"}},\"id\":\"1508\",\"type\":\"Line\"},{\"attributes\":{\"fill_color\":{\"value\":\"black\"},\"line_width\":{\"value\":1.5},\"size\":{\"units\":\"screen\",\"value\":5},\"x\":{\"value\":1},\"y\":{\"value\":0.5713900999034791}},\"id\":\"1437\",\"type\":\"Circle\"},{\"attributes\":{\"data_source\":{\"id\":\"1506\",\"type\":\"ColumnDataSource\"},\"glyph\":{\"id\":\"1507\",\"type\":\"Line\"},\"hover_glyph\":null,\"muted_glyph\":null,\"nonselection_glyph\":{\"id\":\"1508\",\"type\":\"Line\"},\"selection_glyph\":null,\"view\":{\"id\":\"1510\",\"type\":\"CDSView\"}},\"id\":\"1509\",\"type\":\"GlyphRenderer\"},{\"attributes\":{\"line_alpha\":0.1,\"line_color\":\"#1f77b4\",\"line_width\":0.5,\"x\":{\"field\":\"x\"},\"y\":{\"field\":\"y\"}},\"id\":\"1473\",\"type\":\"Line\"},{\"attributes\":{\"fill_alpha\":{\"value\":0.1},\"fill_color\":{\"value\":\"#1f77b4\"},\"line_alpha\":{\"value\":0.1},\"line_color\":{\"value\":\"#1f77b4\"},\"line_width\":{\"value\":1.5},\"size\":{\"units\":\"screen\",\"value\":5},\"x\":{\"value\":1},\"y\":{\"value\":0.5713900999034791}},\"id\":\"1438\",\"type\":\"Circle\"},{\"attributes\":{\"data_source\":{\"id\":\"1471\",\"type\":\"ColumnDataSource\"},\"glyph\":{\"id\":\"1472\",\"type\":\"Line\"},\"hover_glyph\":null,\"muted_glyph\":null,\"nonselection_glyph\":{\"id\":\"1473\",\"type\":\"Line\"},\"selection_glyph\":null,\"view\":{\"id\":\"1475\",\"type\":\"CDSView\"}},\"id\":\"1474\",\"type\":\"GlyphRenderer\"},{\"attributes\":{\"source\":{\"id\":\"1506\",\"type\":\"ColumnDataSource\"}},\"id\":\"1510\",\"type\":\"CDSView\"},{\"attributes\":{\"data_source\":{\"id\":\"1436\",\"type\":\"ColumnDataSource\"},\"glyph\":{\"id\":\"1437\",\"type\":\"Circle\"},\"hover_glyph\":null,\"muted_glyph\":null,\"nonselection_glyph\":{\"id\":\"1438\",\"type\":\"Circle\"},\"selection_glyph\":null,\"view\":{\"id\":\"1440\",\"type\":\"CDSView\"}},\"id\":\"1439\",\"type\":\"GlyphRenderer\"},{\"attributes\":{\"source\":{\"id\":\"1471\",\"type\":\"ColumnDataSource\"}},\"id\":\"1475\",\"type\":\"CDSView\"},{\"attributes\":{\"source\":{\"id\":\"1436\",\"type\":\"ColumnDataSource\"}},\"id\":\"1440\",\"type\":\"CDSView\"}],\"root_ids\":[\"1396\"]},\"title\":\"Bokeh Application\",\"version\":\"1.0.4\"}};\n",
       "  var render_items = [{\"docid\":\"2d86de04-943e-4a64-8a0c-6a363bd7d523\",\"roots\":{\"1396\":\"05cd375f-4cce-4ad5-846a-e7fbfd9cbce2\"}}];\n",
       "  root.Bokeh.embed.embed_items_notebook(docs_json, render_items);\n",
       "\n",
       "  }\n",
       "  if (root.Bokeh !== undefined) {\n",
       "    embed_document(root);\n",
       "  } else {\n",
       "    var attempts = 0;\n",
       "    var timer = setInterval(function(root) {\n",
       "      if (root.Bokeh !== undefined) {\n",
       "        embed_document(root);\n",
       "        clearInterval(timer);\n",
       "      }\n",
       "      attempts++;\n",
       "      if (attempts > 100) {\n",
       "        console.log(\"Bokeh: ERROR: Unable to run BokehJS code because BokehJS library is missing\");\n",
       "        clearInterval(timer);\n",
       "      }\n",
       "    }, 10, root)\n",
       "  }\n",
       "})(window);"
      ],
      "application/vnd.bokehjs_exec.v0+json": ""
     },
     "metadata": {
      "application/vnd.bokehjs_exec.v0+json": {
       "id": "1396"
      }
     },
     "output_type": "display_data"
    },
    {
     "data": {
      "text/html": [
       "\n",
       "\n",
       "\n",
       "\n",
       "\n",
       "\n",
       "  <div class=\"bk-root\" id=\"12fb7a68-6902-4abe-af7d-46a7ff299991\" data-root-id=\"1902\"></div>\n"
      ]
     },
     "metadata": {},
     "output_type": "display_data"
    },
    {
     "data": {
      "application/javascript": [
       "(function(root) {\n",
       "  function embed_document(root) {\n",
       "    \n",
       "  var docs_json = {\"e3f30f8c-e6b2-4131-96a7-58ed07e0586f\":{\"roots\":{\"references\":[{\"attributes\":{\"below\":[{\"id\":\"1912\",\"type\":\"LinearAxis\"}],\"left\":[{\"id\":\"1917\",\"type\":\"LinearAxis\"}],\"plot_height\":500,\"plot_width\":400,\"renderers\":[{\"id\":\"1912\",\"type\":\"LinearAxis\"},{\"id\":\"1916\",\"type\":\"Grid\"},{\"id\":\"1917\",\"type\":\"LinearAxis\"},{\"id\":\"1921\",\"type\":\"Grid\"},{\"id\":\"1930\",\"type\":\"BoxAnnotation\"},{\"id\":\"1940\",\"type\":\"GlyphRenderer\"},{\"id\":\"1945\",\"type\":\"GlyphRenderer\"},{\"id\":\"1950\",\"type\":\"GlyphRenderer\"},{\"id\":\"1955\",\"type\":\"GlyphRenderer\"},{\"id\":\"1960\",\"type\":\"GlyphRenderer\"},{\"id\":\"1965\",\"type\":\"GlyphRenderer\"},{\"id\":\"1970\",\"type\":\"GlyphRenderer\"},{\"id\":\"1975\",\"type\":\"GlyphRenderer\"},{\"id\":\"1980\",\"type\":\"GlyphRenderer\"},{\"id\":\"1985\",\"type\":\"GlyphRenderer\"},{\"id\":\"1990\",\"type\":\"GlyphRenderer\"},{\"id\":\"1995\",\"type\":\"GlyphRenderer\"},{\"id\":\"2000\",\"type\":\"GlyphRenderer\"},{\"id\":\"2005\",\"type\":\"GlyphRenderer\"},{\"id\":\"2010\",\"type\":\"GlyphRenderer\"},{\"id\":\"2015\",\"type\":\"GlyphRenderer\"},{\"id\":\"2020\",\"type\":\"GlyphRenderer\"},{\"id\":\"2025\",\"type\":\"GlyphRenderer\"},{\"id\":\"2030\",\"type\":\"GlyphRenderer\"},{\"id\":\"2035\",\"type\":\"GlyphRenderer\"},{\"id\":\"2040\",\"type\":\"GlyphRenderer\"}],\"title\":{\"id\":\"1901\",\"type\":\"Title\"},\"toolbar\":{\"id\":\"1928\",\"type\":\"Toolbar\"},\"x_range\":{\"id\":\"1904\",\"type\":\"DataRange1d\"},\"x_scale\":{\"id\":\"1908\",\"type\":\"LinearScale\"},\"y_range\":{\"id\":\"1906\",\"type\":\"DataRange1d\"},\"y_scale\":{\"id\":\"1910\",\"type\":\"LinearScale\"}},\"id\":\"1902\",\"subtype\":\"Figure\",\"type\":\"Plot\"},{\"attributes\":{\"data_source\":{\"id\":\"1952\",\"type\":\"ColumnDataSource\"},\"glyph\":{\"id\":\"1953\",\"type\":\"Circle\"},\"hover_glyph\":null,\"muted_glyph\":null,\"nonselection_glyph\":{\"id\":\"1954\",\"type\":\"Circle\"},\"selection_glyph\":null,\"view\":{\"id\":\"1956\",\"type\":\"CDSView\"}},\"id\":\"1955\",\"type\":\"GlyphRenderer\"},{\"attributes\":{\"source\":{\"id\":\"1952\",\"type\":\"ColumnDataSource\"}},\"id\":\"1956\",\"type\":\"CDSView\"},{\"attributes\":{\"callback\":null,\"data\":{\"x\":{\"__ndarray__\":\"AQAAAAIAAAA=\",\"dtype\":\"int32\",\"shape\":[2]},\"y\":{\"__ndarray__\":\"Xew+mTPn8z8O/c9P3UkAQA==\",\"dtype\":\"float64\",\"shape\":[2]}},\"selected\":{\"id\":\"2152\",\"type\":\"Selection\"},\"selection_policy\":{\"id\":\"2151\",\"type\":\"UnionRenderers\"}},\"id\":\"1992\",\"type\":\"ColumnDataSource\"},{\"attributes\":{\"source\":{\"id\":\"2027\",\"type\":\"ColumnDataSource\"}},\"id\":\"2031\",\"type\":\"CDSView\"},{\"attributes\":{},\"id\":\"2150\",\"type\":\"Selection\"},{\"attributes\":{\"line_color\":\"green\",\"line_width\":0.5,\"x\":{\"field\":\"x\"},\"y\":{\"field\":\"y\"}},\"id\":\"1993\",\"type\":\"Line\"},{\"attributes\":{\"callback\":null,\"data\":{\"x\":{\"__ndarray__\":\"AQAAAAIAAAA=\",\"dtype\":\"int32\",\"shape\":[2]},\"y\":{\"__ndarray__\":\"NeSigOsmAkB7CMedMLUAQA==\",\"dtype\":\"float64\",\"shape\":[2]}},\"selected\":{\"id\":\"2168\",\"type\":\"Selection\"},\"selection_policy\":{\"id\":\"2167\",\"type\":\"UnionRenderers\"}},\"id\":\"2032\",\"type\":\"ColumnDataSource\"},{\"attributes\":{},\"id\":\"2151\",\"type\":\"UnionRenderers\"},{\"attributes\":{\"callback\":null,\"data\":{\"x\":{\"__ndarray__\":\"AQAAAAIAAAA=\",\"dtype\":\"int32\",\"shape\":[2]},\"y\":{\"__ndarray__\":\"hgqWvh6GAECABbP9QYsEQA==\",\"dtype\":\"float64\",\"shape\":[2]}},\"selected\":{\"id\":\"2138\",\"type\":\"Selection\"},\"selection_policy\":{\"id\":\"2137\",\"type\":\"UnionRenderers\"}},\"id\":\"1957\",\"type\":\"ColumnDataSource\"},{\"attributes\":{\"line_alpha\":0.1,\"line_color\":\"#1f77b4\",\"line_width\":0.5,\"x\":{\"field\":\"x\"},\"y\":{\"field\":\"y\"}},\"id\":\"1994\",\"type\":\"Line\"},{\"attributes\":{\"line_color\":\"green\",\"line_width\":0.5,\"x\":{\"field\":\"x\"},\"y\":{\"field\":\"y\"}},\"id\":\"2033\",\"type\":\"Line\"},{\"attributes\":{},\"id\":\"2152\",\"type\":\"Selection\"},{\"attributes\":{\"line_color\":\"green\",\"line_width\":0.5,\"x\":{\"field\":\"x\"},\"y\":{\"field\":\"y\"}},\"id\":\"1958\",\"type\":\"Line\"},{\"attributes\":{\"data_source\":{\"id\":\"1992\",\"type\":\"ColumnDataSource\"},\"glyph\":{\"id\":\"1993\",\"type\":\"Line\"},\"hover_glyph\":null,\"muted_glyph\":null,\"nonselection_glyph\":{\"id\":\"1994\",\"type\":\"Line\"},\"selection_glyph\":null,\"view\":{\"id\":\"1996\",\"type\":\"CDSView\"}},\"id\":\"1995\",\"type\":\"GlyphRenderer\"},{\"attributes\":{\"line_alpha\":0.1,\"line_color\":\"#1f77b4\",\"line_width\":0.5,\"x\":{\"field\":\"x\"},\"y\":{\"field\":\"y\"}},\"id\":\"2034\",\"type\":\"Line\"},{\"attributes\":{},\"id\":\"2153\",\"type\":\"UnionRenderers\"},{\"attributes\":{\"data_source\":{\"id\":\"1957\",\"type\":\"ColumnDataSource\"},\"glyph\":{\"id\":\"1958\",\"type\":\"Line\"},\"hover_glyph\":null,\"muted_glyph\":null,\"nonselection_glyph\":{\"id\":\"1959\",\"type\":\"Line\"},\"selection_glyph\":null,\"view\":{\"id\":\"1961\",\"type\":\"CDSView\"}},\"id\":\"1960\",\"type\":\"GlyphRenderer\"},{\"attributes\":{\"data_source\":{\"id\":\"2032\",\"type\":\"ColumnDataSource\"},\"glyph\":{\"id\":\"2033\",\"type\":\"Line\"},\"hover_glyph\":null,\"muted_glyph\":null,\"nonselection_glyph\":{\"id\":\"2034\",\"type\":\"Line\"},\"selection_glyph\":null,\"view\":{\"id\":\"2036\",\"type\":\"CDSView\"}},\"id\":\"2035\",\"type\":\"GlyphRenderer\"},{\"attributes\":{\"source\":{\"id\":\"1992\",\"type\":\"ColumnDataSource\"}},\"id\":\"1996\",\"type\":\"CDSView\"},{\"attributes\":{},\"id\":\"2154\",\"type\":\"Selection\"},{\"attributes\":{\"source\":{\"id\":\"1957\",\"type\":\"ColumnDataSource\"}},\"id\":\"1961\",\"type\":\"CDSView\"},{\"attributes\":{\"callback\":null,\"data\":{\"x\":{\"__ndarray__\":\"AQAAAAIAAAA=\",\"dtype\":\"int32\",\"shape\":[2]},\"y\":{\"__ndarray__\":\"AU2MJ0oAAkAYiXLvOewCQA==\",\"dtype\":\"float64\",\"shape\":[2]}},\"selected\":{\"id\":\"2154\",\"type\":\"Selection\"},\"selection_policy\":{\"id\":\"2153\",\"type\":\"UnionRenderers\"}},\"id\":\"1997\",\"type\":\"ColumnDataSource\"},{\"attributes\":{\"source\":{\"id\":\"2032\",\"type\":\"ColumnDataSource\"}},\"id\":\"2036\",\"type\":\"CDSView\"},{\"attributes\":{},\"id\":\"2155\",\"type\":\"UnionRenderers\"},{\"attributes\":{\"callback\":null,\"data\":{\"x\":{\"__ndarray__\":\"AQAAAAIAAAA=\",\"dtype\":\"int32\",\"shape\":[2]},\"y\":{\"__ndarray__\":\"HZqV7Ukq8D8/AHsHPCj8Pw==\",\"dtype\":\"float64\",\"shape\":[2]}},\"selected\":{\"id\":\"2140\",\"type\":\"Selection\"},\"selection_policy\":{\"id\":\"2139\",\"type\":\"UnionRenderers\"}},\"id\":\"1962\",\"type\":\"ColumnDataSource\"},{\"attributes\":{\"line_color\":\"green\",\"line_width\":0.5,\"x\":{\"field\":\"x\"},\"y\":{\"field\":\"y\"}},\"id\":\"1998\",\"type\":\"Line\"},{\"attributes\":{},\"id\":\"2156\",\"type\":\"Selection\"},{\"attributes\":{\"line_color\":\"green\",\"line_width\":2,\"x\":{\"field\":\"x\"},\"y\":{\"field\":\"y\"}},\"id\":\"2038\",\"type\":\"Line\"},{\"attributes\":{\"line_color\":\"green\",\"line_width\":0.5,\"x\":{\"field\":\"x\"},\"y\":{\"field\":\"y\"}},\"id\":\"1963\",\"type\":\"Line\"},{\"attributes\":{\"line_alpha\":0.1,\"line_color\":\"#1f77b4\",\"line_width\":0.5,\"x\":{\"field\":\"x\"},\"y\":{\"field\":\"y\"}},\"id\":\"1999\",\"type\":\"Line\"},{\"attributes\":{},\"id\":\"2157\",\"type\":\"UnionRenderers\"},{\"attributes\":{\"line_alpha\":0.1,\"line_color\":\"#1f77b4\",\"line_width\":2,\"x\":{\"field\":\"x\"},\"y\":{\"field\":\"y\"}},\"id\":\"2039\",\"type\":\"Line\"},{\"attributes\":{\"data_source\":{\"id\":\"1997\",\"type\":\"ColumnDataSource\"},\"glyph\":{\"id\":\"1998\",\"type\":\"Line\"},\"hover_glyph\":null,\"muted_glyph\":null,\"nonselection_glyph\":{\"id\":\"1999\",\"type\":\"Line\"},\"selection_glyph\":null,\"view\":{\"id\":\"2001\",\"type\":\"CDSView\"}},\"id\":\"2000\",\"type\":\"GlyphRenderer\"},{\"attributes\":{\"line_alpha\":0.1,\"line_color\":\"#1f77b4\",\"line_width\":0.5,\"x\":{\"field\":\"x\"},\"y\":{\"field\":\"y\"}},\"id\":\"1964\",\"type\":\"Line\"},{\"attributes\":{},\"id\":\"2158\",\"type\":\"Selection\"},{\"attributes\":{\"data_source\":{\"id\":\"2037\",\"type\":\"ColumnDataSource\"},\"glyph\":{\"id\":\"2038\",\"type\":\"Line\"},\"hover_glyph\":null,\"muted_glyph\":null,\"nonselection_glyph\":{\"id\":\"2039\",\"type\":\"Line\"},\"selection_glyph\":null,\"view\":{\"id\":\"2041\",\"type\":\"CDSView\"}},\"id\":\"2040\",\"type\":\"GlyphRenderer\"},{\"attributes\":{\"data_source\":{\"id\":\"1962\",\"type\":\"ColumnDataSource\"},\"glyph\":{\"id\":\"1963\",\"type\":\"Line\"},\"hover_glyph\":null,\"muted_glyph\":null,\"nonselection_glyph\":{\"id\":\"1964\",\"type\":\"Line\"},\"selection_glyph\":null,\"view\":{\"id\":\"1966\",\"type\":\"CDSView\"}},\"id\":\"1965\",\"type\":\"GlyphRenderer\"},{\"attributes\":{\"source\":{\"id\":\"1997\",\"type\":\"ColumnDataSource\"}},\"id\":\"2001\",\"type\":\"CDSView\"},{\"attributes\":{},\"id\":\"2159\",\"type\":\"UnionRenderers\"},{\"attributes\":{\"source\":{\"id\":\"2037\",\"type\":\"ColumnDataSource\"}},\"id\":\"2041\",\"type\":\"CDSView\"},{\"attributes\":{\"source\":{\"id\":\"1962\",\"type\":\"ColumnDataSource\"}},\"id\":\"1966\",\"type\":\"CDSView\"},{\"attributes\":{\"callback\":null,\"data\":{\"x\":{\"__ndarray__\":\"AQAAAAIAAAA=\",\"dtype\":\"int32\",\"shape\":[2]},\"y\":{\"__ndarray__\":\"0IbFOud8+z8NUQ1+E4L6Pw==\",\"dtype\":\"float64\",\"shape\":[2]}},\"selected\":{\"id\":\"2156\",\"type\":\"Selection\"},\"selection_policy\":{\"id\":\"2155\",\"type\":\"UnionRenderers\"}},\"id\":\"2002\",\"type\":\"ColumnDataSource\"},{\"attributes\":{},\"id\":\"2160\",\"type\":\"Selection\"},{\"attributes\":{\"callback\":null,\"data\":{\"x\":{\"__ndarray__\":\"AQAAAAIAAAA=\",\"dtype\":\"int32\",\"shape\":[2]},\"y\":{\"__ndarray__\":\"wHWT7Uq08T8Kd8hOWiL2Pw==\",\"dtype\":\"float64\",\"shape\":[2]}},\"selected\":{\"id\":\"2142\",\"type\":\"Selection\"},\"selection_policy\":{\"id\":\"2141\",\"type\":\"UnionRenderers\"}},\"id\":\"1967\",\"type\":\"ColumnDataSource\"},{\"attributes\":{\"source\":{\"id\":\"2002\",\"type\":\"ColumnDataSource\"}},\"id\":\"2006\",\"type\":\"CDSView\"},{\"attributes\":{},\"id\":\"2161\",\"type\":\"UnionRenderers\"},{\"attributes\":{\"ticks\":[1,1.2,1.4,1.6,1.8,2]},\"id\":\"2042\",\"type\":\"FixedTicker\"},{\"attributes\":{\"line_color\":\"green\",\"line_width\":0.5,\"x\":{\"field\":\"x\"},\"y\":{\"field\":\"y\"}},\"id\":\"1968\",\"type\":\"Line\"},{\"attributes\":{\"callback\":null,\"data\":{\"x\":{\"__ndarray__\":\"AQAAAAIAAAA=\",\"dtype\":\"int32\",\"shape\":[2]},\"y\":{\"__ndarray__\":\"IqUJCReI9z8r+X2rjUT+Pw==\",\"dtype\":\"float64\",\"shape\":[2]}},\"selected\":{\"id\":\"2158\",\"type\":\"Selection\"},\"selection_policy\":{\"id\":\"2157\",\"type\":\"UnionRenderers\"}},\"id\":\"2007\",\"type\":\"ColumnDataSource\"},{\"attributes\":{},\"id\":\"2162\",\"type\":\"Selection\"},{\"attributes\":{},\"id\":\"2126\",\"type\":\"BasicTickFormatter\"},{\"attributes\":{\"line_alpha\":0.1,\"line_color\":\"#1f77b4\",\"line_width\":0.5,\"x\":{\"field\":\"x\"},\"y\":{\"field\":\"y\"}},\"id\":\"1969\",\"type\":\"Line\"},{\"attributes\":{\"line_color\":\"green\",\"line_width\":0.5,\"x\":{\"field\":\"x\"},\"y\":{\"field\":\"y\"}},\"id\":\"2008\",\"type\":\"Line\"},{\"attributes\":{},\"id\":\"2163\",\"type\":\"UnionRenderers\"},{\"attributes\":{\"data_source\":{\"id\":\"1967\",\"type\":\"ColumnDataSource\"},\"glyph\":{\"id\":\"1968\",\"type\":\"Line\"},\"hover_glyph\":null,\"muted_glyph\":null,\"nonselection_glyph\":{\"id\":\"1969\",\"type\":\"Line\"},\"selection_glyph\":null,\"view\":{\"id\":\"1971\",\"type\":\"CDSView\"}},\"id\":\"1970\",\"type\":\"GlyphRenderer\"},{\"attributes\":{},\"id\":\"2128\",\"type\":\"BasicTickFormatter\"},{\"attributes\":{\"line_alpha\":0.1,\"line_color\":\"#1f77b4\",\"line_width\":0.5,\"x\":{\"field\":\"x\"},\"y\":{\"field\":\"y\"}},\"id\":\"2009\",\"type\":\"Line\"},{\"attributes\":{},\"id\":\"2164\",\"type\":\"Selection\"},{\"attributes\":{\"data_source\":{\"id\":\"2007\",\"type\":\"ColumnDataSource\"},\"glyph\":{\"id\":\"2008\",\"type\":\"Line\"},\"hover_glyph\":null,\"muted_glyph\":null,\"nonselection_glyph\":{\"id\":\"2009\",\"type\":\"Line\"},\"selection_glyph\":null,\"view\":{\"id\":\"2011\",\"type\":\"CDSView\"}},\"id\":\"2010\",\"type\":\"GlyphRenderer\"},{\"attributes\":{\"source\":{\"id\":\"1967\",\"type\":\"ColumnDataSource\"}},\"id\":\"1971\",\"type\":\"CDSView\"},{\"attributes\":{},\"id\":\"2129\",\"type\":\"UnionRenderers\"},{\"attributes\":{},\"id\":\"2165\",\"type\":\"UnionRenderers\"},{\"attributes\":{\"callback\":null,\"data\":{\"x\":{\"__ndarray__\":\"AQAAAAIAAAA=\",\"dtype\":\"int32\",\"shape\":[2]},\"y\":{\"__ndarray__\":\"vCY/GQQQA0CBNOK1SycCQA==\",\"dtype\":\"float64\",\"shape\":[2]}},\"selected\":{\"id\":\"2144\",\"type\":\"Selection\"},\"selection_policy\":{\"id\":\"2143\",\"type\":\"UnionRenderers\"}},\"id\":\"1972\",\"type\":\"ColumnDataSource\"},{\"attributes\":{\"source\":{\"id\":\"2007\",\"type\":\"ColumnDataSource\"}},\"id\":\"2011\",\"type\":\"CDSView\"},{\"attributes\":{},\"id\":\"2130\",\"type\":\"Selection\"},{\"attributes\":{},\"id\":\"2166\",\"type\":\"Selection\"},{\"attributes\":{\"line_color\":\"green\",\"line_width\":0.5,\"x\":{\"field\":\"x\"},\"y\":{\"field\":\"y\"}},\"id\":\"1973\",\"type\":\"Line\"},{\"attributes\":{\"callback\":null,\"data\":{\"x\":{\"__ndarray__\":\"AQAAAAIAAAA=\",\"dtype\":\"int32\",\"shape\":[2]},\"y\":{\"__ndarray__\":\"Eq7VGaFBpj/o+XEx59brPw==\",\"dtype\":\"float64\",\"shape\":[2]}},\"selected\":{\"id\":\"2160\",\"type\":\"Selection\"},\"selection_policy\":{\"id\":\"2159\",\"type\":\"UnionRenderers\"}},\"id\":\"2012\",\"type\":\"ColumnDataSource\"},{\"attributes\":{},\"id\":\"2131\",\"type\":\"UnionRenderers\"},{\"attributes\":{},\"id\":\"2167\",\"type\":\"UnionRenderers\"},{\"attributes\":{\"line_alpha\":0.1,\"line_color\":\"#1f77b4\",\"line_width\":0.5,\"x\":{\"field\":\"x\"},\"y\":{\"field\":\"y\"}},\"id\":\"1974\",\"type\":\"Line\"},{\"attributes\":{\"line_color\":\"green\",\"line_width\":0.5,\"x\":{\"field\":\"x\"},\"y\":{\"field\":\"y\"}},\"id\":\"2013\",\"type\":\"Line\"},{\"attributes\":{},\"id\":\"2132\",\"type\":\"Selection\"},{\"attributes\":{},\"id\":\"2168\",\"type\":\"Selection\"},{\"attributes\":{\"data_source\":{\"id\":\"1972\",\"type\":\"ColumnDataSource\"},\"glyph\":{\"id\":\"1973\",\"type\":\"Line\"},\"hover_glyph\":null,\"muted_glyph\":null,\"nonselection_glyph\":{\"id\":\"1974\",\"type\":\"Line\"},\"selection_glyph\":null,\"view\":{\"id\":\"1976\",\"type\":\"CDSView\"}},\"id\":\"1975\",\"type\":\"GlyphRenderer\"},{\"attributes\":{\"line_alpha\":0.1,\"line_color\":\"#1f77b4\",\"line_width\":0.5,\"x\":{\"field\":\"x\"},\"y\":{\"field\":\"y\"}},\"id\":\"2014\",\"type\":\"Line\"},{\"attributes\":{},\"id\":\"2133\",\"type\":\"UnionRenderers\"},{\"attributes\":{},\"id\":\"2169\",\"type\":\"UnionRenderers\"},{\"attributes\":{\"data_source\":{\"id\":\"2012\",\"type\":\"ColumnDataSource\"},\"glyph\":{\"id\":\"2013\",\"type\":\"Line\"},\"hover_glyph\":null,\"muted_glyph\":null,\"nonselection_glyph\":{\"id\":\"2014\",\"type\":\"Line\"},\"selection_glyph\":null,\"view\":{\"id\":\"2016\",\"type\":\"CDSView\"}},\"id\":\"2015\",\"type\":\"GlyphRenderer\"},{\"attributes\":{\"source\":{\"id\":\"1972\",\"type\":\"ColumnDataSource\"}},\"id\":\"1976\",\"type\":\"CDSView\"},{\"attributes\":{},\"id\":\"2134\",\"type\":\"Selection\"},{\"attributes\":{},\"id\":\"2170\",\"type\":\"Selection\"},{\"attributes\":{\"callback\":null,\"data\":{\"x\":{\"__ndarray__\":\"AQAAAAIAAAA=\",\"dtype\":\"int32\",\"shape\":[2]},\"y\":{\"__ndarray__\":\"09PjzuuQ7j/5no+1TX7+Pw==\",\"dtype\":\"float64\",\"shape\":[2]}},\"selected\":{\"id\":\"2146\",\"type\":\"Selection\"},\"selection_policy\":{\"id\":\"2145\",\"type\":\"UnionRenderers\"}},\"id\":\"1977\",\"type\":\"ColumnDataSource\"},{\"attributes\":{\"source\":{\"id\":\"2012\",\"type\":\"ColumnDataSource\"}},\"id\":\"2016\",\"type\":\"CDSView\"},{\"attributes\":{},\"id\":\"2135\",\"type\":\"UnionRenderers\"},{\"attributes\":{\"line_color\":\"green\",\"line_width\":0.5,\"x\":{\"field\":\"x\"},\"y\":{\"field\":\"y\"}},\"id\":\"1978\",\"type\":\"Line\"},{\"attributes\":{\"callback\":null,\"data\":{\"x\":{\"__ndarray__\":\"AQAAAAIAAAA=\",\"dtype\":\"int32\",\"shape\":[2]},\"y\":{\"__ndarray__\":\"cs30t7qw8j/c0eL5h1jyPw==\",\"dtype\":\"float64\",\"shape\":[2]}},\"selected\":{\"id\":\"2162\",\"type\":\"Selection\"},\"selection_policy\":{\"id\":\"2161\",\"type\":\"UnionRenderers\"}},\"id\":\"2017\",\"type\":\"ColumnDataSource\"},{\"attributes\":{},\"id\":\"2136\",\"type\":\"Selection\"},{\"attributes\":{\"line_alpha\":0.1,\"line_color\":\"#1f77b4\",\"line_width\":0.5,\"x\":{\"field\":\"x\"},\"y\":{\"field\":\"y\"}},\"id\":\"1979\",\"type\":\"Line\"},{\"attributes\":{\"line_color\":\"green\",\"line_width\":0.5,\"x\":{\"field\":\"x\"},\"y\":{\"field\":\"y\"}},\"id\":\"2018\",\"type\":\"Line\"},{\"attributes\":{},\"id\":\"2137\",\"type\":\"UnionRenderers\"},{\"attributes\":{\"callback\":null,\"data\":{},\"selected\":{\"id\":\"2132\",\"type\":\"Selection\"},\"selection_policy\":{\"id\":\"2131\",\"type\":\"UnionRenderers\"}},\"id\":\"1942\",\"type\":\"ColumnDataSource\"},{\"attributes\":{\"data_source\":{\"id\":\"1977\",\"type\":\"ColumnDataSource\"},\"glyph\":{\"id\":\"1978\",\"type\":\"Line\"},\"hover_glyph\":null,\"muted_glyph\":null,\"nonselection_glyph\":{\"id\":\"1979\",\"type\":\"Line\"},\"selection_glyph\":null,\"view\":{\"id\":\"1981\",\"type\":\"CDSView\"}},\"id\":\"1980\",\"type\":\"GlyphRenderer\"},{\"attributes\":{\"line_alpha\":0.1,\"line_color\":\"#1f77b4\",\"line_width\":0.5,\"x\":{\"field\":\"x\"},\"y\":{\"field\":\"y\"}},\"id\":\"2019\",\"type\":\"Line\"},{\"attributes\":{},\"id\":\"2138\",\"type\":\"Selection\"},{\"attributes\":{\"data_source\":{\"id\":\"2017\",\"type\":\"ColumnDataSource\"},\"glyph\":{\"id\":\"2018\",\"type\":\"Line\"},\"hover_glyph\":null,\"muted_glyph\":null,\"nonselection_glyph\":{\"id\":\"2019\",\"type\":\"Line\"},\"selection_glyph\":null,\"view\":{\"id\":\"2021\",\"type\":\"CDSView\"}},\"id\":\"2020\",\"type\":\"GlyphRenderer\"},{\"attributes\":{\"source\":{\"id\":\"1977\",\"type\":\"ColumnDataSource\"}},\"id\":\"1981\",\"type\":\"CDSView\"},{\"attributes\":{},\"id\":\"2139\",\"type\":\"UnionRenderers\"},{\"attributes\":{\"callback\":null,\"data\":{\"x\":{\"__ndarray__\":\"AQAAAAIAAAA=\",\"dtype\":\"int32\",\"shape\":[2]},\"y\":{\"__ndarray__\":\"pHGg3QGW7T+08yoMlZ0AQA==\",\"dtype\":\"float64\",\"shape\":[2]}},\"selected\":{\"id\":\"2148\",\"type\":\"Selection\"},\"selection_policy\":{\"id\":\"2147\",\"type\":\"UnionRenderers\"}},\"id\":\"1982\",\"type\":\"ColumnDataSource\"},{\"attributes\":{\"source\":{\"id\":\"2017\",\"type\":\"ColumnDataSource\"}},\"id\":\"2021\",\"type\":\"CDSView\"},{\"attributes\":{},\"id\":\"2140\",\"type\":\"Selection\"},{\"attributes\":{\"line_color\":\"green\",\"line_width\":0.5,\"x\":{\"field\":\"x\"},\"y\":{\"field\":\"y\"}},\"id\":\"1983\",\"type\":\"Line\"},{\"attributes\":{\"callback\":null,\"data\":{\"x\":{\"__ndarray__\":\"AQAAAAIAAAA=\",\"dtype\":\"int32\",\"shape\":[2]},\"y\":{\"__ndarray__\":\"QQYWVUED+j+kKdaQSBf2Pw==\",\"dtype\":\"float64\",\"shape\":[2]}},\"selected\":{\"id\":\"2164\",\"type\":\"Selection\"},\"selection_policy\":{\"id\":\"2163\",\"type\":\"UnionRenderers\"}},\"id\":\"2022\",\"type\":\"ColumnDataSource\"},{\"attributes\":{},\"id\":\"2141\",\"type\":\"UnionRenderers\"},{\"attributes\":{\"data_source\":{\"id\":\"2002\",\"type\":\"ColumnDataSource\"},\"glyph\":{\"id\":\"2003\",\"type\":\"Line\"},\"hover_glyph\":null,\"muted_glyph\":null,\"nonselection_glyph\":{\"id\":\"2004\",\"type\":\"Line\"},\"selection_glyph\":null,\"view\":{\"id\":\"2006\",\"type\":\"CDSView\"}},\"id\":\"2005\",\"type\":\"GlyphRenderer\"},{\"attributes\":{\"line_alpha\":0.1,\"line_color\":\"#1f77b4\",\"line_width\":0.5,\"x\":{\"field\":\"x\"},\"y\":{\"field\":\"y\"}},\"id\":\"1984\",\"type\":\"Line\"},{\"attributes\":{\"line_color\":\"green\",\"line_width\":0.5,\"x\":{\"field\":\"x\"},\"y\":{\"field\":\"y\"}},\"id\":\"2023\",\"type\":\"Line\"},{\"attributes\":{},\"id\":\"2142\",\"type\":\"Selection\"},{\"attributes\":{\"data_source\":{\"id\":\"1982\",\"type\":\"ColumnDataSource\"},\"glyph\":{\"id\":\"1983\",\"type\":\"Line\"},\"hover_glyph\":null,\"muted_glyph\":null,\"nonselection_glyph\":{\"id\":\"1984\",\"type\":\"Line\"},\"selection_glyph\":null,\"view\":{\"id\":\"1986\",\"type\":\"CDSView\"}},\"id\":\"1985\",\"type\":\"GlyphRenderer\"},{\"attributes\":{\"line_alpha\":0.1,\"line_color\":\"#1f77b4\",\"line_width\":0.5,\"x\":{\"field\":\"x\"},\"y\":{\"field\":\"y\"}},\"id\":\"2024\",\"type\":\"Line\"},{\"attributes\":{},\"id\":\"2143\",\"type\":\"UnionRenderers\"},{\"attributes\":{\"data_source\":{\"id\":\"2022\",\"type\":\"ColumnDataSource\"},\"glyph\":{\"id\":\"2023\",\"type\":\"Line\"},\"hover_glyph\":null,\"muted_glyph\":null,\"nonselection_glyph\":{\"id\":\"2024\",\"type\":\"Line\"},\"selection_glyph\":null,\"view\":{\"id\":\"2026\",\"type\":\"CDSView\"}},\"id\":\"2025\",\"type\":\"GlyphRenderer\"},{\"attributes\":{},\"id\":\"2144\",\"type\":\"Selection\"},{\"attributes\":{\"callback\":null,\"data\":{\"x\":{\"__ndarray__\":\"AQAAAAIAAAA=\",\"dtype\":\"int32\",\"shape\":[2]},\"y\":{\"__ndarray__\":\"6be6quYMAUDs531p85UCQA==\",\"dtype\":\"float64\",\"shape\":[2]}},\"selected\":{\"id\":\"2150\",\"type\":\"Selection\"},\"selection_policy\":{\"id\":\"2149\",\"type\":\"UnionRenderers\"}},\"id\":\"1987\",\"type\":\"ColumnDataSource\"},{\"attributes\":{\"source\":{\"id\":\"2022\",\"type\":\"ColumnDataSource\"}},\"id\":\"2026\",\"type\":\"CDSView\"},{\"attributes\":{},\"id\":\"2145\",\"type\":\"UnionRenderers\"},{\"attributes\":{\"line_color\":\"green\",\"line_width\":0.5,\"x\":{\"field\":\"x\"},\"y\":{\"field\":\"y\"}},\"id\":\"1988\",\"type\":\"Line\"},{\"attributes\":{\"callback\":null,\"data\":{\"x\":{\"__ndarray__\":\"AQAAAAIAAAA=\",\"dtype\":\"int32\",\"shape\":[2]},\"y\":{\"__ndarray__\":\"kRh/W/Uw3D/SG5NDxPn3Pw==\",\"dtype\":\"float64\",\"shape\":[2]}},\"selected\":{\"id\":\"2166\",\"type\":\"Selection\"},\"selection_policy\":{\"id\":\"2165\",\"type\":\"UnionRenderers\"}},\"id\":\"2027\",\"type\":\"ColumnDataSource\"},{\"attributes\":{},\"id\":\"2146\",\"type\":\"Selection\"},{\"attributes\":{\"line_color\":\"green\",\"line_width\":0.5,\"x\":{\"field\":\"x\"},\"y\":{\"field\":\"y\"}},\"id\":\"2003\",\"type\":\"Line\"},{\"attributes\":{\"line_alpha\":0.1,\"line_color\":\"#1f77b4\",\"line_width\":0.5,\"x\":{\"field\":\"x\"},\"y\":{\"field\":\"y\"}},\"id\":\"1989\",\"type\":\"Line\"},{\"attributes\":{\"line_color\":\"green\",\"line_width\":0.5,\"x\":{\"field\":\"x\"},\"y\":{\"field\":\"y\"}},\"id\":\"2028\",\"type\":\"Line\"},{\"attributes\":{},\"id\":\"2147\",\"type\":\"UnionRenderers\"},{\"attributes\":{\"fill_alpha\":{\"value\":0.1},\"fill_color\":{\"value\":\"#1f77b4\"},\"line_alpha\":{\"value\":0.1},\"line_color\":{\"value\":\"#1f77b4\"},\"line_width\":{\"value\":1.5},\"size\":{\"units\":\"screen\",\"value\":5},\"x\":{\"value\":2},\"y\":{\"field\":\"y\"}},\"id\":\"1949\",\"type\":\"Circle\"},{\"attributes\":{\"data_source\":{\"id\":\"1987\",\"type\":\"ColumnDataSource\"},\"glyph\":{\"id\":\"1988\",\"type\":\"Line\"},\"hover_glyph\":null,\"muted_glyph\":null,\"nonselection_glyph\":{\"id\":\"1989\",\"type\":\"Line\"},\"selection_glyph\":null,\"view\":{\"id\":\"1991\",\"type\":\"CDSView\"}},\"id\":\"1990\",\"type\":\"GlyphRenderer\"},{\"attributes\":{\"line_alpha\":0.1,\"line_color\":\"#1f77b4\",\"line_width\":0.5,\"x\":{\"field\":\"x\"},\"y\":{\"field\":\"y\"}},\"id\":\"1959\",\"type\":\"Line\"},{\"attributes\":{\"line_alpha\":0.1,\"line_color\":\"#1f77b4\",\"line_width\":0.5,\"x\":{\"field\":\"x\"},\"y\":{\"field\":\"y\"}},\"id\":\"2029\",\"type\":\"Line\"},{\"attributes\":{},\"id\":\"2148\",\"type\":\"Selection\"},{\"attributes\":{\"callback\":null,\"data\":{\"y\":{\"__ndarray__\":\"hgqWvh6GAEAdmpXtSSrwP8B1k+1KtPE/vCY/GQQQA0DT0+PO65DuP6RxoN0Blu0/6be6quYMAUBd7D6ZM+fzPwFNjCdKAAJA0IbFOud8+z8ipQkJF4j3PxKu1RmhQaY/cs30t7qw8j9BBhZVQQP6P5EYf1v1MNw/NeSigOsmAkA=\",\"dtype\":\"float64\",\"shape\":[16]}},\"selected\":{\"id\":\"2130\",\"type\":\"Selection\"},\"selection_policy\":{\"id\":\"2129\",\"type\":\"UnionRenderers\"}},\"id\":\"1937\",\"type\":\"ColumnDataSource\"},{\"attributes\":{\"data_source\":{\"id\":\"2027\",\"type\":\"ColumnDataSource\"},\"glyph\":{\"id\":\"2028\",\"type\":\"Line\"},\"hover_glyph\":null,\"muted_glyph\":null,\"nonselection_glyph\":{\"id\":\"2029\",\"type\":\"Line\"},\"selection_glyph\":null,\"view\":{\"id\":\"2031\",\"type\":\"CDSView\"}},\"id\":\"2030\",\"type\":\"GlyphRenderer\"},{\"attributes\":{\"source\":{\"id\":\"1987\",\"type\":\"ColumnDataSource\"}},\"id\":\"1991\",\"type\":\"CDSView\"},{\"attributes\":{},\"id\":\"2149\",\"type\":\"UnionRenderers\"},{\"attributes\":{\"align\":\"center\",\"plot\":null,\"text\":\"Individual Mouse dprime for W\"},\"id\":\"1901\",\"type\":\"Title\"},{\"attributes\":{},\"id\":\"1918\",\"type\":\"BasicTicker\"},{\"attributes\":{\"callback\":null,\"data\":{\"y\":{\"__ndarray__\":\"gAWz/UGLBEA/AHsHPCj8Pwp3yE5aIvY/gTTitUsnAkD5no+1TX7+P7TzKgyVnQBA7Od9afOVAkAO/c9P3UkAQBiJcu857AJADVENfhOC+j8r+X2rjUT+P+j5cTHn1us/3NHi+YdY8j+kKdaQSBf2P9Ibk0PE+fc/ewjHnTC1AEA=\",\"dtype\":\"float64\",\"shape\":[16]}},\"selected\":{\"id\":\"2134\",\"type\":\"Selection\"},\"selection_policy\":{\"id\":\"2133\",\"type\":\"UnionRenderers\"}},\"id\":\"1947\",\"type\":\"ColumnDataSource\"},{\"attributes\":{\"dimension\":1,\"plot\":{\"id\":\"1902\",\"subtype\":\"Figure\",\"type\":\"Plot\"},\"ticker\":{\"id\":\"1918\",\"type\":\"BasicTicker\"}},\"id\":\"1921\",\"type\":\"Grid\"},{\"attributes\":{\"fill_alpha\":{\"value\":0.1},\"fill_color\":{\"value\":\"#1f77b4\"},\"line_alpha\":{\"value\":0.1},\"line_color\":{\"value\":\"#1f77b4\"},\"line_width\":{\"value\":1.5},\"size\":{\"units\":\"screen\",\"value\":5},\"x\":{\"value\":1},\"y\":{\"field\":\"y\"}},\"id\":\"1939\",\"type\":\"Circle\"},{\"attributes\":{\"fill_color\":{\"value\":\"white\"},\"line_color\":{\"value\":\"green\"},\"line_width\":{\"value\":1.5},\"size\":{\"units\":\"screen\",\"value\":5},\"x\":{\"value\":1},\"y\":{\"field\":\"y\"}},\"id\":\"1938\",\"type\":\"Circle\"},{\"attributes\":{},\"id\":\"1922\",\"type\":\"PanTool\"},{\"attributes\":{},\"id\":\"1923\",\"type\":\"WheelZoomTool\"},{\"attributes\":{\"overlay\":{\"id\":\"1930\",\"type\":\"BoxAnnotation\"}},\"id\":\"1924\",\"type\":\"BoxZoomTool\"},{\"attributes\":{},\"id\":\"1925\",\"type\":\"SaveTool\"},{\"attributes\":{\"line_alpha\":0.1,\"line_color\":\"#1f77b4\",\"line_width\":0.5,\"x\":{\"field\":\"x\"},\"y\":{\"field\":\"y\"}},\"id\":\"2004\",\"type\":\"Line\"},{\"attributes\":{},\"id\":\"1926\",\"type\":\"ResetTool\"},{\"attributes\":{},\"id\":\"1927\",\"type\":\"HelpTool\"},{\"attributes\":{\"active_drag\":\"auto\",\"active_inspect\":\"auto\",\"active_multi\":null,\"active_scroll\":\"auto\",\"active_tap\":\"auto\",\"tools\":[{\"id\":\"1922\",\"type\":\"PanTool\"},{\"id\":\"1923\",\"type\":\"WheelZoomTool\"},{\"id\":\"1924\",\"type\":\"BoxZoomTool\"},{\"id\":\"1925\",\"type\":\"SaveTool\"},{\"id\":\"1926\",\"type\":\"ResetTool\"},{\"id\":\"1927\",\"type\":\"HelpTool\"}]},\"id\":\"1928\",\"type\":\"Toolbar\"},{\"attributes\":{\"data_source\":{\"id\":\"1937\",\"type\":\"ColumnDataSource\"},\"glyph\":{\"id\":\"1938\",\"type\":\"Circle\"},\"hover_glyph\":null,\"muted_glyph\":null,\"nonselection_glyph\":{\"id\":\"1939\",\"type\":\"Circle\"},\"selection_glyph\":null,\"view\":{\"id\":\"1941\",\"type\":\"CDSView\"}},\"id\":\"1940\",\"type\":\"GlyphRenderer\"},{\"attributes\":{\"bottom_units\":\"screen\",\"fill_alpha\":{\"value\":0.5},\"fill_color\":{\"value\":\"lightgrey\"},\"left_units\":\"screen\",\"level\":\"overlay\",\"line_alpha\":{\"value\":1.0},\"line_color\":{\"value\":\"black\"},\"line_dash\":[4,4],\"line_width\":{\"value\":2},\"plot\":null,\"render_mode\":\"css\",\"right_units\":\"screen\",\"top_units\":\"screen\"},\"id\":\"1930\",\"type\":\"BoxAnnotation\"},{\"attributes\":{\"source\":{\"id\":\"1937\",\"type\":\"ColumnDataSource\"}},\"id\":\"1941\",\"type\":\"CDSView\"},{\"attributes\":{\"callback\":null},\"id\":\"1904\",\"type\":\"DataRange1d\"},{\"attributes\":{\"axis_label\":\"dprime for W\",\"axis_label_text_font_style\":\"bold\",\"formatter\":{\"id\":\"2126\",\"type\":\"BasicTickFormatter\"},\"plot\":{\"id\":\"1902\",\"subtype\":\"Figure\",\"type\":\"Plot\"},\"ticker\":{\"id\":\"1918\",\"type\":\"BasicTicker\"}},\"id\":\"1917\",\"type\":\"LinearAxis\"},{\"attributes\":{\"fill_alpha\":{\"value\":0.1},\"fill_color\":{\"value\":\"#1f77b4\"},\"line_alpha\":{\"value\":0.1},\"line_color\":{\"value\":\"#1f77b4\"},\"line_width\":{\"value\":1.5},\"size\":{\"units\":\"screen\",\"value\":5},\"x\":{\"value\":2},\"y\":{\"value\":1.8262830769988243}},\"id\":\"1954\",\"type\":\"Circle\"},{\"attributes\":{\"fill_color\":{\"value\":\"green\"},\"line_color\":{\"value\":\"green\"},\"line_width\":{\"value\":1.5},\"size\":{\"units\":\"screen\",\"value\":5},\"x\":{\"value\":2},\"y\":{\"value\":1.8262830769988243}},\"id\":\"1953\",\"type\":\"Circle\"},{\"attributes\":{\"plot\":{\"id\":\"1902\",\"subtype\":\"Figure\",\"type\":\"Plot\"},\"ticker\":{\"id\":\"1913\",\"type\":\"BasicTicker\"}},\"id\":\"1916\",\"type\":\"Grid\"},{\"attributes\":{},\"id\":\"1913\",\"type\":\"BasicTicker\"},{\"attributes\":{\"axis_label\":\"Switching Day\",\"axis_label_text_font_style\":\"bold\",\"formatter\":{\"id\":\"2128\",\"type\":\"BasicTickFormatter\"},\"major_label_overrides\":{\"1\":\"SWD\",\"1.2\":\"\",\"1.4\":\"\",\"1.6\":\"\",\"1.8\":\"\",\"2\":\"SWD+1\"},\"plot\":{\"id\":\"1902\",\"subtype\":\"Figure\",\"type\":\"Plot\"},\"ticker\":{\"id\":\"2042\",\"type\":\"FixedTicker\"}},\"id\":\"1912\",\"type\":\"LinearAxis\"},{\"attributes\":{},\"id\":\"1910\",\"type\":\"LinearScale\"},{\"attributes\":{},\"id\":\"1908\",\"type\":\"LinearScale\"},{\"attributes\":{\"callback\":null},\"id\":\"1906\",\"type\":\"DataRange1d\"},{\"attributes\":{\"fill_alpha\":{\"value\":0.1},\"fill_color\":{\"value\":\"#1f77b4\"},\"line_alpha\":{\"value\":0.1},\"line_color\":{\"value\":\"#1f77b4\"},\"line_width\":{\"value\":1.5},\"size\":{\"units\":\"screen\",\"value\":5},\"x\":{\"value\":1},\"y\":{\"value\":1.4253694006918314}},\"id\":\"1944\",\"type\":\"Circle\"},{\"attributes\":{\"fill_color\":{\"value\":\"green\"},\"line_color\":{\"value\":\"green\"},\"line_width\":{\"value\":1.5},\"size\":{\"units\":\"screen\",\"value\":5},\"x\":{\"value\":1},\"y\":{\"value\":1.4253694006918314}},\"id\":\"1943\",\"type\":\"Circle\"},{\"attributes\":{\"data_source\":{\"id\":\"1942\",\"type\":\"ColumnDataSource\"},\"glyph\":{\"id\":\"1943\",\"type\":\"Circle\"},\"hover_glyph\":null,\"muted_glyph\":null,\"nonselection_glyph\":{\"id\":\"1944\",\"type\":\"Circle\"},\"selection_glyph\":null,\"view\":{\"id\":\"1946\",\"type\":\"CDSView\"}},\"id\":\"1945\",\"type\":\"GlyphRenderer\"},{\"attributes\":{\"source\":{\"id\":\"1982\",\"type\":\"ColumnDataSource\"}},\"id\":\"1986\",\"type\":\"CDSView\"},{\"attributes\":{\"source\":{\"id\":\"1942\",\"type\":\"ColumnDataSource\"}},\"id\":\"1946\",\"type\":\"CDSView\"},{\"attributes\":{\"callback\":null,\"data\":{},\"selected\":{\"id\":\"2136\",\"type\":\"Selection\"},\"selection_policy\":{\"id\":\"2135\",\"type\":\"UnionRenderers\"}},\"id\":\"1952\",\"type\":\"ColumnDataSource\"},{\"attributes\":{\"callback\":null,\"data\":{\"x\":{\"__ndarray__\":\"AQAAAAIAAAA=\",\"dtype\":\"int32\",\"shape\":[2]},\"y\":{\"__ndarray__\":\"bwwLJVDO9j/UK4+adDj9Pw==\",\"dtype\":\"float64\",\"shape\":[2]}},\"selected\":{\"id\":\"2170\",\"type\":\"Selection\"},\"selection_policy\":{\"id\":\"2169\",\"type\":\"UnionRenderers\"}},\"id\":\"2037\",\"type\":\"ColumnDataSource\"},{\"attributes\":{\"source\":{\"id\":\"1947\",\"type\":\"ColumnDataSource\"}},\"id\":\"1951\",\"type\":\"CDSView\"},{\"attributes\":{\"data_source\":{\"id\":\"1947\",\"type\":\"ColumnDataSource\"},\"glyph\":{\"id\":\"1948\",\"type\":\"Circle\"},\"hover_glyph\":null,\"muted_glyph\":null,\"nonselection_glyph\":{\"id\":\"1949\",\"type\":\"Circle\"},\"selection_glyph\":null,\"view\":{\"id\":\"1951\",\"type\":\"CDSView\"}},\"id\":\"1950\",\"type\":\"GlyphRenderer\"},{\"attributes\":{\"fill_color\":{\"value\":\"white\"},\"line_color\":{\"value\":\"green\"},\"line_width\":{\"value\":1.5},\"size\":{\"units\":\"screen\",\"value\":5},\"x\":{\"value\":2},\"y\":{\"field\":\"y\"}},\"id\":\"1948\",\"type\":\"Circle\"}],\"root_ids\":[\"1902\"]},\"title\":\"Bokeh Application\",\"version\":\"1.0.4\"}};\n",
       "  var render_items = [{\"docid\":\"e3f30f8c-e6b2-4131-96a7-58ed07e0586f\",\"roots\":{\"1902\":\"12fb7a68-6902-4abe-af7d-46a7ff299991\"}}];\n",
       "  root.Bokeh.embed.embed_items_notebook(docs_json, render_items);\n",
       "\n",
       "  }\n",
       "  if (root.Bokeh !== undefined) {\n",
       "    embed_document(root);\n",
       "  } else {\n",
       "    var attempts = 0;\n",
       "    var timer = setInterval(function(root) {\n",
       "      if (root.Bokeh !== undefined) {\n",
       "        embed_document(root);\n",
       "        clearInterval(timer);\n",
       "      }\n",
       "      attempts++;\n",
       "      if (attempts > 100) {\n",
       "        console.log(\"Bokeh: ERROR: Unable to run BokehJS code because BokehJS library is missing\");\n",
       "        clearInterval(timer);\n",
       "      }\n",
       "    }, 10, root)\n",
       "  }\n",
       "})(window);"
      ],
      "application/vnd.bokehjs_exec.v0+json": ""
     },
     "metadata": {
      "application/vnd.bokehjs_exec.v0+json": {
       "id": "1902"
      }
     },
     "output_type": "display_data"
    }
   ],
   "source": [
    "p = bokeh.plotting.figure(\n",
    "    width=400,\n",
    "    height=500,\n",
    "    x_axis_label='Days',\n",
    "    y_axis_label='WhHit',\n",
    "    title= 'Individual Mouse Whisker Hit' \n",
    "    )\n",
    "\n",
    "p.yaxis.axis_label_text_font_style = \"bold\"\n",
    "p.xaxis.axis_label_text_font_style = \"bold\"\n",
    "p.title.align = 'center'\n",
    "\n",
    "p.circle(1, dataAll[:,3,1] ,line_color='black',line_width =1.5, fill_color = 'white',size=5,)\n",
    "p.circle(1, np.mean(dataAll[:,3,1]) ,line_color='black',line_width =1.5, fill_color = 'black',size=5,)\n",
    "\n",
    "p.circle(2, dataAll[:,4,1] ,line_color='black',line_width =1.5, fill_color = 'white',size=5,)\n",
    "p.circle(2, np.mean(dataAll[:,4,1]) ,line_color='black',line_width =1.5, fill_color = 'black',size=5,)\n",
    "\n",
    "for i in range(dataAll[:,3,1].shape[0]):\n",
    "    \n",
    "    p.line(\n",
    "    x= np.array([1 ,2]),\n",
    "    y= np.array([dataAll[i,3,1],dataAll[i,4,1]]),\n",
    "    line_join='bevel',\n",
    "    line_width=0.5,\n",
    "    color = 'gray',\n",
    "    )\n",
    "\n",
    "p.line(\n",
    "x= np.array([1 ,2]),\n",
    "y= np.array([np.mean(dataAll[:,3,1],axis =0),np.mean(dataAll[:,4,1],axis =0)]),\n",
    "line_join='bevel',line_width=1,\n",
    "color = 'black',\n",
    "    )\n",
    "\n",
    "\n",
    "p.xaxis.ticker = [1, 1.2, 1.4, 1.6, 1.8, 2]\n",
    "p.xaxis.major_label_overrides = {1: 'SWD', 1.2 : '', 1.4 : '', 1.6 : '', 1.8 : '' , 2: 'SWD+1'}\n",
    "\n",
    "bokeh.io.show(p)    \n",
    "\n",
    "\n",
    "k = bokeh.plotting.figure(\n",
    "    width=400,\n",
    "    height=500,\n",
    "    x_axis_label='Switching Day',\n",
    "    y_axis_label='dprime for W',\n",
    "    title= 'Individual Mouse dprime for W' \n",
    "    )\n",
    "\n",
    "k.yaxis.axis_label_text_font_style = \"bold\"\n",
    "k.xaxis.axis_label_text_font_style = \"bold\"\n",
    "k.title.align = 'center'\n",
    "\n",
    "k.circle(1, dataAll[:,3,3] ,line_color='green',line_width =1.5, fill_color = 'white',size=5,)\n",
    "k.circle(1, np.mean(dataAll[:,3,3]) ,line_color='green',line_width =1.5, fill_color = 'green',size=5,)\n",
    "k.circle(2, dataAll[:,4,3] ,line_color='green',line_width =1.5, fill_color = 'white',size=5,)\n",
    "k.circle(2, np.mean(dataAll[:,4,3]) ,line_color='green',line_width =1.5, fill_color = 'green',size=5,)\n",
    "\n",
    "\n",
    "for i in range(dataAll[:,3,3].shape[0]):\n",
    "    \n",
    "    k.line(\n",
    "    x= np.array([1 ,2]),\n",
    "    y= np.array([dataAll[i,3,3],dataAll[i,4,3]]),\n",
    "    line_join='bevel',\n",
    "    line_width=0.5,\n",
    "    color = 'green',\n",
    "    )\n",
    "    \n",
    "k.line(\n",
    "x= np.array([1 ,2]),\n",
    "y= np.array([np.mean(dataAll[:,3,3],axis =0),np.mean(dataAll[:,4,3],axis =0)]),\n",
    "line_join='bevel',line_width=2,\n",
    "color = 'green',\n",
    "    )\n",
    "\n",
    "k.xaxis.ticker = [1, 1.2, 1.4, 1.6, 1.8, 2]\n",
    "k.xaxis.major_label_overrides = {1: 'SWD', 1.2 : '', 1.4 : '', 1.6 : '', 1.8 : '' , 2: 'SWD+1'}\n",
    "\n",
    "bokeh.io.show(k)  "
   ]
  },
  {
   "cell_type": "code",
   "execution_count": 8,
   "metadata": {},
   "outputs": [
    {
     "data": {
      "text/plain": [
       "14"
      ]
     },
     "execution_count": 8,
     "metadata": {},
     "output_type": "execute_result"
    }
   ],
   "source": [
    "dataAll[:,3,1].shape[0]"
   ]
  },
  {
   "cell_type": "code",
   "execution_count": 118,
   "metadata": {},
   "outputs": [
    {
     "data": {
      "text/plain": [
       "array([0.78461538, 0.42136499, 0.45806452, 0.78888889, 0.38      ,\n",
       "       0.37606838, 0.85496183, 0.40707965, 0.79411765, 0.72380952,\n",
       "       0.59027778, 0.72826087, 0.15555556, 0.77922078])"
      ]
     },
     "execution_count": 118,
     "metadata": {},
     "output_type": "execute_result"
    }
   ],
   "source": [
    "dprime = d"
   ]
  }
 ],
 "metadata": {
  "kernelspec": {
   "display_name": "Python 3",
   "language": "python",
   "name": "python3"
  },
  "language_info": {
   "codemirror_mode": {
    "name": "ipython",
    "version": 3
   },
   "file_extension": ".py",
   "mimetype": "text/x-python",
   "name": "python",
   "nbconvert_exporter": "python",
   "pygments_lexer": "ipython3",
   "version": "3.7.3"
  }
 },
 "nbformat": 4,
 "nbformat_minor": 2
}

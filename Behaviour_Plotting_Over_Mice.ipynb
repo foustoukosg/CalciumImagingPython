{
 "cells": [
  {
   "cell_type": "code",
   "execution_count": 1,
   "metadata": {},
   "outputs": [
    {
     "data": {
      "text/html": [
       "\n",
       "    <div class=\"bk-root\">\n",
       "        <a href=\"https://bokeh.pydata.org\" target=\"_blank\" class=\"bk-logo bk-logo-small bk-logo-notebook\"></a>\n",
       "        <span id=\"1001\">Loading BokehJS ...</span>\n",
       "    </div>"
      ]
     },
     "metadata": {},
     "output_type": "display_data"
    },
    {
     "data": {
      "application/javascript": [
       "\n",
       "(function(root) {\n",
       "  function now() {\n",
       "    return new Date();\n",
       "  }\n",
       "\n",
       "  var force = true;\n",
       "\n",
       "  if (typeof (root._bokeh_onload_callbacks) === \"undefined\" || force === true) {\n",
       "    root._bokeh_onload_callbacks = [];\n",
       "    root._bokeh_is_loading = undefined;\n",
       "  }\n",
       "\n",
       "  var JS_MIME_TYPE = 'application/javascript';\n",
       "  var HTML_MIME_TYPE = 'text/html';\n",
       "  var EXEC_MIME_TYPE = 'application/vnd.bokehjs_exec.v0+json';\n",
       "  var CLASS_NAME = 'output_bokeh rendered_html';\n",
       "\n",
       "  /**\n",
       "   * Render data to the DOM node\n",
       "   */\n",
       "  function render(props, node) {\n",
       "    var script = document.createElement(\"script\");\n",
       "    node.appendChild(script);\n",
       "  }\n",
       "\n",
       "  /**\n",
       "   * Handle when an output is cleared or removed\n",
       "   */\n",
       "  function handleClearOutput(event, handle) {\n",
       "    var cell = handle.cell;\n",
       "\n",
       "    var id = cell.output_area._bokeh_element_id;\n",
       "    var server_id = cell.output_area._bokeh_server_id;\n",
       "    // Clean up Bokeh references\n",
       "    if (id != null && id in Bokeh.index) {\n",
       "      Bokeh.index[id].model.document.clear();\n",
       "      delete Bokeh.index[id];\n",
       "    }\n",
       "\n",
       "    if (server_id !== undefined) {\n",
       "      // Clean up Bokeh references\n",
       "      var cmd = \"from bokeh.io.state import curstate; print(curstate().uuid_to_server['\" + server_id + \"'].get_sessions()[0].document.roots[0]._id)\";\n",
       "      cell.notebook.kernel.execute(cmd, {\n",
       "        iopub: {\n",
       "          output: function(msg) {\n",
       "            var id = msg.content.text.trim();\n",
       "            if (id in Bokeh.index) {\n",
       "              Bokeh.index[id].model.document.clear();\n",
       "              delete Bokeh.index[id];\n",
       "            }\n",
       "          }\n",
       "        }\n",
       "      });\n",
       "      // Destroy server and session\n",
       "      var cmd = \"import bokeh.io.notebook as ion; ion.destroy_server('\" + server_id + \"')\";\n",
       "      cell.notebook.kernel.execute(cmd);\n",
       "    }\n",
       "  }\n",
       "\n",
       "  /**\n",
       "   * Handle when a new output is added\n",
       "   */\n",
       "  function handleAddOutput(event, handle) {\n",
       "    var output_area = handle.output_area;\n",
       "    var output = handle.output;\n",
       "\n",
       "    // limit handleAddOutput to display_data with EXEC_MIME_TYPE content only\n",
       "    if ((output.output_type != \"display_data\") || (!output.data.hasOwnProperty(EXEC_MIME_TYPE))) {\n",
       "      return\n",
       "    }\n",
       "\n",
       "    var toinsert = output_area.element.find(\".\" + CLASS_NAME.split(' ')[0]);\n",
       "\n",
       "    if (output.metadata[EXEC_MIME_TYPE][\"id\"] !== undefined) {\n",
       "      toinsert[toinsert.length - 1].firstChild.textContent = output.data[JS_MIME_TYPE];\n",
       "      // store reference to embed id on output_area\n",
       "      output_area._bokeh_element_id = output.metadata[EXEC_MIME_TYPE][\"id\"];\n",
       "    }\n",
       "    if (output.metadata[EXEC_MIME_TYPE][\"server_id\"] !== undefined) {\n",
       "      var bk_div = document.createElement(\"div\");\n",
       "      bk_div.innerHTML = output.data[HTML_MIME_TYPE];\n",
       "      var script_attrs = bk_div.children[0].attributes;\n",
       "      for (var i = 0; i < script_attrs.length; i++) {\n",
       "        toinsert[toinsert.length - 1].firstChild.setAttribute(script_attrs[i].name, script_attrs[i].value);\n",
       "      }\n",
       "      // store reference to server id on output_area\n",
       "      output_area._bokeh_server_id = output.metadata[EXEC_MIME_TYPE][\"server_id\"];\n",
       "    }\n",
       "  }\n",
       "\n",
       "  function register_renderer(events, OutputArea) {\n",
       "\n",
       "    function append_mime(data, metadata, element) {\n",
       "      // create a DOM node to render to\n",
       "      var toinsert = this.create_output_subarea(\n",
       "        metadata,\n",
       "        CLASS_NAME,\n",
       "        EXEC_MIME_TYPE\n",
       "      );\n",
       "      this.keyboard_manager.register_events(toinsert);\n",
       "      // Render to node\n",
       "      var props = {data: data, metadata: metadata[EXEC_MIME_TYPE]};\n",
       "      render(props, toinsert[toinsert.length - 1]);\n",
       "      element.append(toinsert);\n",
       "      return toinsert\n",
       "    }\n",
       "\n",
       "    /* Handle when an output is cleared or removed */\n",
       "    events.on('clear_output.CodeCell', handleClearOutput);\n",
       "    events.on('delete.Cell', handleClearOutput);\n",
       "\n",
       "    /* Handle when a new output is added */\n",
       "    events.on('output_added.OutputArea', handleAddOutput);\n",
       "\n",
       "    /**\n",
       "     * Register the mime type and append_mime function with output_area\n",
       "     */\n",
       "    OutputArea.prototype.register_mime_type(EXEC_MIME_TYPE, append_mime, {\n",
       "      /* Is output safe? */\n",
       "      safe: true,\n",
       "      /* Index of renderer in `output_area.display_order` */\n",
       "      index: 0\n",
       "    });\n",
       "  }\n",
       "\n",
       "  // register the mime type if in Jupyter Notebook environment and previously unregistered\n",
       "  if (root.Jupyter !== undefined) {\n",
       "    var events = require('base/js/events');\n",
       "    var OutputArea = require('notebook/js/outputarea').OutputArea;\n",
       "\n",
       "    if (OutputArea.prototype.mime_types().indexOf(EXEC_MIME_TYPE) == -1) {\n",
       "      register_renderer(events, OutputArea);\n",
       "    }\n",
       "  }\n",
       "\n",
       "  \n",
       "  if (typeof (root._bokeh_timeout) === \"undefined\" || force === true) {\n",
       "    root._bokeh_timeout = Date.now() + 5000;\n",
       "    root._bokeh_failed_load = false;\n",
       "  }\n",
       "\n",
       "  var NB_LOAD_WARNING = {'data': {'text/html':\n",
       "     \"<div style='background-color: #fdd'>\\n\"+\n",
       "     \"<p>\\n\"+\n",
       "     \"BokehJS does not appear to have successfully loaded. If loading BokehJS from CDN, this \\n\"+\n",
       "     \"may be due to a slow or bad network connection. Possible fixes:\\n\"+\n",
       "     \"</p>\\n\"+\n",
       "     \"<ul>\\n\"+\n",
       "     \"<li>re-rerun `output_notebook()` to attempt to load from CDN again, or</li>\\n\"+\n",
       "     \"<li>use INLINE resources instead, as so:</li>\\n\"+\n",
       "     \"</ul>\\n\"+\n",
       "     \"<code>\\n\"+\n",
       "     \"from bokeh.resources import INLINE\\n\"+\n",
       "     \"output_notebook(resources=INLINE)\\n\"+\n",
       "     \"</code>\\n\"+\n",
       "     \"</div>\"}};\n",
       "\n",
       "  function display_loaded() {\n",
       "    var el = document.getElementById(\"1001\");\n",
       "    if (el != null) {\n",
       "      el.textContent = \"BokehJS is loading...\";\n",
       "    }\n",
       "    if (root.Bokeh !== undefined) {\n",
       "      if (el != null) {\n",
       "        el.textContent = \"BokehJS \" + root.Bokeh.version + \" successfully loaded.\";\n",
       "      }\n",
       "    } else if (Date.now() < root._bokeh_timeout) {\n",
       "      setTimeout(display_loaded, 100)\n",
       "    }\n",
       "  }\n",
       "\n",
       "\n",
       "  function run_callbacks() {\n",
       "    try {\n",
       "      root._bokeh_onload_callbacks.forEach(function(callback) { callback() });\n",
       "    }\n",
       "    finally {\n",
       "      delete root._bokeh_onload_callbacks\n",
       "    }\n",
       "    console.info(\"Bokeh: all callbacks have finished\");\n",
       "  }\n",
       "\n",
       "  function load_libs(js_urls, callback) {\n",
       "    root._bokeh_onload_callbacks.push(callback);\n",
       "    if (root._bokeh_is_loading > 0) {\n",
       "      console.log(\"Bokeh: BokehJS is being loaded, scheduling callback at\", now());\n",
       "      return null;\n",
       "    }\n",
       "    if (js_urls == null || js_urls.length === 0) {\n",
       "      run_callbacks();\n",
       "      return null;\n",
       "    }\n",
       "    console.log(\"Bokeh: BokehJS not loaded, scheduling load and callback at\", now());\n",
       "    root._bokeh_is_loading = js_urls.length;\n",
       "    for (var i = 0; i < js_urls.length; i++) {\n",
       "      var url = js_urls[i];\n",
       "      var s = document.createElement('script');\n",
       "      s.src = url;\n",
       "      s.async = false;\n",
       "      s.onreadystatechange = s.onload = function() {\n",
       "        root._bokeh_is_loading--;\n",
       "        if (root._bokeh_is_loading === 0) {\n",
       "          console.log(\"Bokeh: all BokehJS libraries loaded\");\n",
       "          run_callbacks()\n",
       "        }\n",
       "      };\n",
       "      s.onerror = function() {\n",
       "        console.warn(\"failed to load library \" + url);\n",
       "      };\n",
       "      console.log(\"Bokeh: injecting script tag for BokehJS library: \", url);\n",
       "      document.getElementsByTagName(\"head\")[0].appendChild(s);\n",
       "    }\n",
       "  };var element = document.getElementById(\"1001\");\n",
       "  if (element == null) {\n",
       "    console.log(\"Bokeh: ERROR: autoload.js configured with elementid '1001' but no matching script tag was found. \")\n",
       "    return false;\n",
       "  }\n",
       "\n",
       "  var js_urls = [\"https://cdn.pydata.org/bokeh/release/bokeh-1.0.4.min.js\", \"https://cdn.pydata.org/bokeh/release/bokeh-widgets-1.0.4.min.js\", \"https://cdn.pydata.org/bokeh/release/bokeh-tables-1.0.4.min.js\", \"https://cdn.pydata.org/bokeh/release/bokeh-gl-1.0.4.min.js\"];\n",
       "\n",
       "  var inline_js = [\n",
       "    function(Bokeh) {\n",
       "      Bokeh.set_log_level(\"info\");\n",
       "    },\n",
       "    \n",
       "    function(Bokeh) {\n",
       "      \n",
       "    },\n",
       "    function(Bokeh) {\n",
       "      console.log(\"Bokeh: injecting CSS: https://cdn.pydata.org/bokeh/release/bokeh-1.0.4.min.css\");\n",
       "      Bokeh.embed.inject_css(\"https://cdn.pydata.org/bokeh/release/bokeh-1.0.4.min.css\");\n",
       "      console.log(\"Bokeh: injecting CSS: https://cdn.pydata.org/bokeh/release/bokeh-widgets-1.0.4.min.css\");\n",
       "      Bokeh.embed.inject_css(\"https://cdn.pydata.org/bokeh/release/bokeh-widgets-1.0.4.min.css\");\n",
       "      console.log(\"Bokeh: injecting CSS: https://cdn.pydata.org/bokeh/release/bokeh-tables-1.0.4.min.css\");\n",
       "      Bokeh.embed.inject_css(\"https://cdn.pydata.org/bokeh/release/bokeh-tables-1.0.4.min.css\");\n",
       "    }\n",
       "  ];\n",
       "\n",
       "  function run_inline_js() {\n",
       "    \n",
       "    if ((root.Bokeh !== undefined) || (force === true)) {\n",
       "      for (var i = 0; i < inline_js.length; i++) {\n",
       "        inline_js[i].call(root, root.Bokeh);\n",
       "      }if (force === true) {\n",
       "        display_loaded();\n",
       "      }} else if (Date.now() < root._bokeh_timeout) {\n",
       "      setTimeout(run_inline_js, 100);\n",
       "    } else if (!root._bokeh_failed_load) {\n",
       "      console.log(\"Bokeh: BokehJS failed to load within specified timeout.\");\n",
       "      root._bokeh_failed_load = true;\n",
       "    } else if (force !== true) {\n",
       "      var cell = $(document.getElementById(\"1001\")).parents('.cell').data().cell;\n",
       "      cell.output_area.append_execute_result(NB_LOAD_WARNING)\n",
       "    }\n",
       "\n",
       "  }\n",
       "\n",
       "  if (root._bokeh_is_loading === 0) {\n",
       "    console.log(\"Bokeh: BokehJS loaded, going straight to plotting\");\n",
       "    run_inline_js();\n",
       "  } else {\n",
       "    load_libs(js_urls, function() {\n",
       "      console.log(\"Bokeh: BokehJS plotting callback run at\", now());\n",
       "      run_inline_js();\n",
       "    });\n",
       "  }\n",
       "}(window));"
      ],
      "application/vnd.bokehjs_load.v0+json": "\n(function(root) {\n  function now() {\n    return new Date();\n  }\n\n  var force = true;\n\n  if (typeof (root._bokeh_onload_callbacks) === \"undefined\" || force === true) {\n    root._bokeh_onload_callbacks = [];\n    root._bokeh_is_loading = undefined;\n  }\n\n  \n\n  \n  if (typeof (root._bokeh_timeout) === \"undefined\" || force === true) {\n    root._bokeh_timeout = Date.now() + 5000;\n    root._bokeh_failed_load = false;\n  }\n\n  var NB_LOAD_WARNING = {'data': {'text/html':\n     \"<div style='background-color: #fdd'>\\n\"+\n     \"<p>\\n\"+\n     \"BokehJS does not appear to have successfully loaded. If loading BokehJS from CDN, this \\n\"+\n     \"may be due to a slow or bad network connection. Possible fixes:\\n\"+\n     \"</p>\\n\"+\n     \"<ul>\\n\"+\n     \"<li>re-rerun `output_notebook()` to attempt to load from CDN again, or</li>\\n\"+\n     \"<li>use INLINE resources instead, as so:</li>\\n\"+\n     \"</ul>\\n\"+\n     \"<code>\\n\"+\n     \"from bokeh.resources import INLINE\\n\"+\n     \"output_notebook(resources=INLINE)\\n\"+\n     \"</code>\\n\"+\n     \"</div>\"}};\n\n  function display_loaded() {\n    var el = document.getElementById(\"1001\");\n    if (el != null) {\n      el.textContent = \"BokehJS is loading...\";\n    }\n    if (root.Bokeh !== undefined) {\n      if (el != null) {\n        el.textContent = \"BokehJS \" + root.Bokeh.version + \" successfully loaded.\";\n      }\n    } else if (Date.now() < root._bokeh_timeout) {\n      setTimeout(display_loaded, 100)\n    }\n  }\n\n\n  function run_callbacks() {\n    try {\n      root._bokeh_onload_callbacks.forEach(function(callback) { callback() });\n    }\n    finally {\n      delete root._bokeh_onload_callbacks\n    }\n    console.info(\"Bokeh: all callbacks have finished\");\n  }\n\n  function load_libs(js_urls, callback) {\n    root._bokeh_onload_callbacks.push(callback);\n    if (root._bokeh_is_loading > 0) {\n      console.log(\"Bokeh: BokehJS is being loaded, scheduling callback at\", now());\n      return null;\n    }\n    if (js_urls == null || js_urls.length === 0) {\n      run_callbacks();\n      return null;\n    }\n    console.log(\"Bokeh: BokehJS not loaded, scheduling load and callback at\", now());\n    root._bokeh_is_loading = js_urls.length;\n    for (var i = 0; i < js_urls.length; i++) {\n      var url = js_urls[i];\n      var s = document.createElement('script');\n      s.src = url;\n      s.async = false;\n      s.onreadystatechange = s.onload = function() {\n        root._bokeh_is_loading--;\n        if (root._bokeh_is_loading === 0) {\n          console.log(\"Bokeh: all BokehJS libraries loaded\");\n          run_callbacks()\n        }\n      };\n      s.onerror = function() {\n        console.warn(\"failed to load library \" + url);\n      };\n      console.log(\"Bokeh: injecting script tag for BokehJS library: \", url);\n      document.getElementsByTagName(\"head\")[0].appendChild(s);\n    }\n  };var element = document.getElementById(\"1001\");\n  if (element == null) {\n    console.log(\"Bokeh: ERROR: autoload.js configured with elementid '1001' but no matching script tag was found. \")\n    return false;\n  }\n\n  var js_urls = [\"https://cdn.pydata.org/bokeh/release/bokeh-1.0.4.min.js\", \"https://cdn.pydata.org/bokeh/release/bokeh-widgets-1.0.4.min.js\", \"https://cdn.pydata.org/bokeh/release/bokeh-tables-1.0.4.min.js\", \"https://cdn.pydata.org/bokeh/release/bokeh-gl-1.0.4.min.js\"];\n\n  var inline_js = [\n    function(Bokeh) {\n      Bokeh.set_log_level(\"info\");\n    },\n    \n    function(Bokeh) {\n      \n    },\n    function(Bokeh) {\n      console.log(\"Bokeh: injecting CSS: https://cdn.pydata.org/bokeh/release/bokeh-1.0.4.min.css\");\n      Bokeh.embed.inject_css(\"https://cdn.pydata.org/bokeh/release/bokeh-1.0.4.min.css\");\n      console.log(\"Bokeh: injecting CSS: https://cdn.pydata.org/bokeh/release/bokeh-widgets-1.0.4.min.css\");\n      Bokeh.embed.inject_css(\"https://cdn.pydata.org/bokeh/release/bokeh-widgets-1.0.4.min.css\");\n      console.log(\"Bokeh: injecting CSS: https://cdn.pydata.org/bokeh/release/bokeh-tables-1.0.4.min.css\");\n      Bokeh.embed.inject_css(\"https://cdn.pydata.org/bokeh/release/bokeh-tables-1.0.4.min.css\");\n    }\n  ];\n\n  function run_inline_js() {\n    \n    if ((root.Bokeh !== undefined) || (force === true)) {\n      for (var i = 0; i < inline_js.length; i++) {\n        inline_js[i].call(root, root.Bokeh);\n      }if (force === true) {\n        display_loaded();\n      }} else if (Date.now() < root._bokeh_timeout) {\n      setTimeout(run_inline_js, 100);\n    } else if (!root._bokeh_failed_load) {\n      console.log(\"Bokeh: BokehJS failed to load within specified timeout.\");\n      root._bokeh_failed_load = true;\n    } else if (force !== true) {\n      var cell = $(document.getElementById(\"1001\")).parents('.cell').data().cell;\n      cell.output_area.append_execute_result(NB_LOAD_WARNING)\n    }\n\n  }\n\n  if (root._bokeh_is_loading === 0) {\n    console.log(\"Bokeh: BokehJS loaded, going straight to plotting\");\n    run_inline_js();\n  } else {\n    load_libs(js_urls, function() {\n      console.log(\"Bokeh: BokehJS plotting callback run at\", now());\n      run_inline_js();\n    });\n  }\n}(window));"
     },
     "metadata": {},
     "output_type": "display_data"
    }
   ],
   "source": [
    "import bokeh.io\n",
    "import bokeh.plotting\n",
    "from bokeh.io import output_file, show\n",
    "from bokeh.layouts import column, row\n",
    "from bokeh.plotting import figure\n",
    "import sys\n",
    "import glob \n",
    "import os \n",
    "import scipy.io as sio\n",
    "import numpy as np\n",
    "import decimal as dc\n",
    "import matplotlib.pyplot as plt\n",
    "import matplotlib.image as mpimg\n",
    "import pickle\n",
    "from bokeh.models import ColumnDataSource, Whisker\n",
    "\n",
    "from natsort import natsorted, ns\n",
    "\n",
    "from bokeh.models import Legend\n",
    "\n",
    "from pathlib import Path\n",
    "\n",
    "from scipy.stats import norm\n",
    "\n",
    "# Enable viewing Bokeh plots in the notebook\n",
    "bokeh.io.output_notebook()"
   ]
  },
  {
   "cell_type": "code",
   "execution_count": 2,
   "metadata": {},
   "outputs": [],
   "source": [
    "MiceToAnalyze = ['GF173','GF174','GF175','GF181',\n",
    "                 'GF182','GF187','GF193','GF199',\n",
    "                 'GF200','GF201','GF202','GF203',\n",
    "                 'GF204','GF206','GF207','GF209']"
   ]
  },
  {
   "cell_type": "code",
   "execution_count": 3,
   "metadata": {},
   "outputs": [
    {
     "name": "stdout",
     "output_type": "stream",
     "text": [
      "Reading behaviour file for the mouse : GF173...\n",
      "Reading behaviour file for the mouse : GF174...\n",
      "Reading behaviour file for the mouse : GF175...\n",
      "Reading behaviour file for the mouse : GF181...\n",
      "Reading behaviour file for the mouse : GF182...\n",
      "Reading behaviour file for the mouse : GF187...\n",
      "Reading behaviour file for the mouse : GF193...\n",
      "Reading behaviour file for the mouse : GF199...\n",
      "Reading behaviour file for the mouse : GF200...\n",
      "Reading behaviour file for the mouse : GF201...\n",
      "Reading behaviour file for the mouse : GF202...\n",
      "Reading behaviour file for the mouse : GF203...\n",
      "Reading behaviour file for the mouse : GF204...\n",
      "Reading behaviour file for the mouse : GF206...\n",
      "Reading behaviour file for the mouse : GF207...\n",
      "Reading behaviour file for the mouse : GF209...\n"
     ]
    }
   ],
   "source": [
    "#Read the behaviour pickle file for every mouse to analyse\n",
    "\n",
    "serverPath = '\\\\\\\\sv1files.epfl.ch\\\\Petersen-Lab\\\\analysis\\\\Georgios_Foustoukos\\\\'\n",
    "\n",
    "dataAll = np.zeros([len(MiceToAnalyze),6,4])\n",
    "dprime = np.zeros([len(MiceToAnalyze),6])\n",
    "\n",
    "\n",
    "for i, mouse in enumerate(MiceToAnalyze):\n",
    "    \n",
    "    print('Reading behaviour file for the mouse : ' + mouse + '...')\n",
    "    \n",
    "    dataPath = serverPath + mouse + \"\\\\Behaviour\\\\\" + mouse + '_Bhv.p' \n",
    "    \n",
    "    with open(dataPath, 'rb') as fp:\n",
    "        data = pickle.load(fp)\n",
    "      \n",
    "    dDays = np.zeros([len(data['dR'])]) \n",
    "    \n",
    "    for d in range(len(data['dR'])):\n",
    "        dDays[d] =np.nanmean(data['dR'][d])\n",
    "    \n",
    "    if len(data['AudHit']) == 6 :\n",
    "        \n",
    "        AudHit = np.reshape(np.array(data['AudHit']),[1,6])\n",
    "        WhHit =  np.reshape(np.array(data['WhHit']), [1,6]) \n",
    "        FA = np.reshape(np.array(data['FA']),[1,6])\n",
    "    \n",
    "        dataAll[i,:,0] = AudHit\n",
    "        dataAll[i,:,1] = WhHit\n",
    "        dataAll[i,:,2] = FA\n",
    "        dataAll[i,:,3] = dDays\n",
    "        \n",
    "    else:\n",
    "        \n",
    "        AudHit = np.reshape(np.array(data['AudHit']),[1,2])\n",
    "        WhHit =  np.reshape(np.array(data['WhHit']), [1,2]) \n",
    "        FA = np.reshape(np.array(data['FA']),[1,2])\n",
    "        dDays = np.reshape(dDays,[1,2])\n",
    "        \n",
    "        AudHitExt = np.concatenate((np.empty([1,3])*np.nan,AudHit,np.empty([1,1])*np.nan),axis =1)\n",
    "        WhHitExt = np.concatenate((np.empty([1,3])*np.nan,WhHit,np.empty([1,1])*np.nan),axis =1) \n",
    "        FAExt = np.concatenate((np.empty([1,3])*np.nan,FA,np.empty([1,1])*np.nan),axis =1)\n",
    "        dpExt = np.concatenate((np.empty([1,3])*np.nan,dDays,np.empty([1,1])*np.nan),axis =1)\n",
    "        \n",
    "        \n",
    "        dataAll[i,:,0] = AudHitExt\n",
    "        dataAll[i,:,1] = WhHitExt\n",
    "        dataAll[i,:,2] = FAExt\n",
    "        dataAll[i,:,3] = dpExt\n",
    "    \n",
    "    "
   ]
  },
  {
   "cell_type": "code",
   "execution_count": 13,
   "metadata": {},
   "outputs": [
    {
     "data": {
      "text/plain": [
       "array([2.06548833, 1.01032441, 1.10651677, 2.38282032, 0.95519057,\n",
       "       0.92456144, 2.13129934, 1.24394569, 2.25014144, 1.71799396,\n",
       "       1.47072509, 0.04346946, 1.16814682, 1.62579473, 0.44048819,\n",
       "       2.26900387])"
      ]
     },
     "execution_count": 13,
     "metadata": {},
     "output_type": "execute_result"
    }
   ],
   "source": [
    " dataAll[:,3,3]"
   ]
  },
  {
   "cell_type": "code",
   "execution_count": 28,
   "metadata": {},
   "outputs": [],
   "source": [
    "Learningflag = []\n",
    "for i, value in enumerate(dataAll[:,3,3]):\n",
    "    Learningflag.append(value>=1)"
   ]
  },
  {
   "cell_type": "code",
   "execution_count": 29,
   "metadata": {},
   "outputs": [
    {
     "data": {
      "text/plain": [
       "[True,\n",
       " True,\n",
       " True,\n",
       " True,\n",
       " False,\n",
       " False,\n",
       " True,\n",
       " True,\n",
       " True,\n",
       " True,\n",
       " True,\n",
       " False,\n",
       " True,\n",
       " True,\n",
       " False,\n",
       " True]"
      ]
     },
     "execution_count": 29,
     "metadata": {},
     "output_type": "execute_result"
    }
   ],
   "source": [
    "Learningflag"
   ]
  },
  {
   "cell_type": "code",
   "execution_count": 27,
   "metadata": {},
   "outputs": [
    {
     "data": {
      "text/plain": [
       "[True,\n",
       " False,\n",
       " False,\n",
       " True,\n",
       " False,\n",
       " False,\n",
       " True,\n",
       " False,\n",
       " True,\n",
       " True,\n",
       " False,\n",
       " False,\n",
       " False,\n",
       " True,\n",
       " False,\n",
       " True]"
      ]
     },
     "execution_count": 27,
     "metadata": {},
     "output_type": "execute_result"
    }
   ],
   "source": [
    "Learningflag\n"
   ]
  },
  {
   "cell_type": "code",
   "execution_count": null,
   "metadata": {},
   "outputs": [],
   "source": [
    "LearningDictionary = {\n",
    "    \n",
    "    'GF173' : True,\n",
    "    'GF174' : False,\n",
    "    'GF175' : False,\n",
    "    'GF181' : True,\n",
    "    'GF182' : False,\n",
    "    'GF187' : False,\n",
    "    'GF193' : True,\n",
    "    'GF199' : False,\n",
    "    'GF200' : True,\n",
    "    'GF201' : True,\n",
    "    'GF202' : False,\n",
    "    'GF203' : False,\n",
    "    'GF204' : False,\n",
    "    'GF206' : True,\n",
    "    'GF207' : False,\n",
    "    'GF209' : True \n",
    "    \n",
    "    \n",
    "}"
   ]
  },
  {
   "cell_type": "code",
   "execution_count": 127,
   "metadata": {},
   "outputs": [],
   "source": [
    "with open(dataPath, 'rb') as fp:\n",
    "    data = pickle.load(fp)"
   ]
  },
  {
   "cell_type": "code",
   "execution_count": 137,
   "metadata": {},
   "outputs": [
    {
     "data": {
      "text/plain": [
       "(2,)"
      ]
     },
     "execution_count": 137,
     "metadata": {},
     "output_type": "execute_result"
    }
   ],
   "source": [
    "d = np.array(data['dR'])\n",
    "\n",
    "dDays = np.zeros([len(data['dR'])]) \n",
    "\n",
    "dDays.shape"
   ]
  },
  {
   "cell_type": "code",
   "execution_count": 144,
   "metadata": {},
   "outputs": [],
   "source": [
    "for d in range(len(data['dR'])):\n",
    "    dDays[d] =np.nanmean(data['dR'][d])"
   ]
  },
  {
   "cell_type": "code",
   "execution_count": 145,
   "metadata": {},
   "outputs": [
    {
     "data": {
      "text/plain": [
       "array([2.26900387, 2.08847163])"
      ]
     },
     "execution_count": 145,
     "metadata": {},
     "output_type": "execute_result"
    }
   ],
   "source": [
    "dDays"
   ]
  },
  {
   "cell_type": "code",
   "execution_count": 7,
   "metadata": {},
   "outputs": [
    {
     "data": {
      "text/plain": [
       "(14, 6)"
      ]
     },
     "execution_count": 7,
     "metadata": {},
     "output_type": "execute_result"
    }
   ],
   "source": [
    "dataAll[:,:,3].shape"
   ]
  },
  {
   "cell_type": "code",
   "execution_count": 10,
   "metadata": {},
   "outputs": [
    {
     "data": {
      "text/plain": [
       "[<matplotlib.lines.Line2D at 0x215c80b8>]"
      ]
     },
     "execution_count": 10,
     "metadata": {},
     "output_type": "execute_result"
    },
    {
     "data": {
      "image/png": "[encoded data removed]",
      "text/plain": [
       "<Figure size 432x288 with 1 Axes>"
      ]
     },
     "metadata": {
      "needs_background": "light"
     },
     "output_type": "display_data"
    }
   ],
   "source": [
    "plt.plot(np.nanmean(dataAll[:,:,3],axis=0))"
   ]
  },
  {
   "cell_type": "code",
   "execution_count": 8,
   "metadata": {},
   "outputs": [
    {
     "data": {
      "text/html": [
       "\n",
       "\n",
       "\n",
       "\n",
       "\n",
       "\n",
       "  <div class=\"bk-root\" id=\"66968056-540c-453e-bca9-481ba47e094f\" data-root-id=\"2741\"></div>\n"
      ]
     },
     "metadata": {},
     "output_type": "display_data"
    },
    {
     "data": {
      "application/javascript": [
       "(function(root) {\n",
       "  function embed_document(root) {\n",
       "    \n",
       "  var docs_json = {\"58b56f03-c48b-4824-b272-1fadfcb87a68\":{\"roots\":{\"references\":[{\"attributes\":{\"below\":[{\"id\":\"2751\",\"type\":\"LinearAxis\"}],\"left\":[{\"id\":\"2756\",\"type\":\"LinearAxis\"}],\"plot_height\":400,\"renderers\":[{\"id\":\"2751\",\"type\":\"LinearAxis\"},{\"id\":\"2755\",\"type\":\"Grid\"},{\"id\":\"2756\",\"type\":\"LinearAxis\"},{\"id\":\"2760\",\"type\":\"Grid\"},{\"id\":\"2769\",\"type\":\"BoxAnnotation\"},{\"id\":\"2779\",\"type\":\"GlyphRenderer\"},{\"id\":\"2784\",\"type\":\"GlyphRenderer\"},{\"id\":\"2789\",\"type\":\"GlyphRenderer\"},{\"id\":\"2794\",\"type\":\"GlyphRenderer\"},{\"id\":\"2799\",\"type\":\"GlyphRenderer\"},{\"id\":\"2804\",\"type\":\"GlyphRenderer\"},{\"id\":\"2809\",\"type\":\"GlyphRenderer\"},{\"id\":\"2814\",\"type\":\"GlyphRenderer\"},{\"id\":\"2819\",\"type\":\"GlyphRenderer\"},{\"id\":\"2821\",\"type\":\"Legend\"}],\"right\":[{\"id\":\"2821\",\"type\":\"Legend\"}],\"title\":{\"id\":\"2740\",\"type\":\"Title\"},\"toolbar\":{\"id\":\"2767\",\"type\":\"Toolbar\"},\"x_range\":{\"id\":\"2743\",\"type\":\"DataRange1d\"},\"x_scale\":{\"id\":\"2747\",\"type\":\"LinearScale\"},\"y_range\":{\"id\":\"2745\",\"type\":\"DataRange1d\"},\"y_scale\":{\"id\":\"2749\",\"type\":\"LinearScale\"}},\"id\":\"2741\",\"subtype\":\"Figure\",\"type\":\"Plot\"},{\"attributes\":{\"callback\":null,\"data\":{\"x\":[1,2,3,4,5,6],\"y\":{\"__ndarray__\":\"L60PIk0+xj8mU3qi96jCP9E6Yd1ef78/gU1X5Ye3vz+qUnSi4xfAP0bc6LDBGrs/\",\"dtype\":\"float64\",\"shape\":[6]}},\"selected\":{\"id\":\"2967\",\"type\":\"Selection\"},\"selection_policy\":{\"id\":\"2966\",\"type\":\"UnionRenderers\"}},\"id\":\"2801\",\"type\":\"ColumnDataSource\"},{\"attributes\":{\"line_color\":\"red\",\"line_width\":2,\"x\":{\"field\":\"x\"},\"y\":{\"field\":\"y\"}},\"id\":\"2802\",\"type\":\"Line\"},{\"attributes\":{\"line_alpha\":0.1,\"line_color\":\"#1f77b4\",\"line_width\":2,\"x\":{\"field\":\"x\"},\"y\":{\"field\":\"y\"}},\"id\":\"2803\",\"type\":\"Line\"},{\"attributes\":{\"data_source\":{\"id\":\"2801\",\"type\":\"ColumnDataSource\"},\"glyph\":{\"id\":\"2802\",\"type\":\"Line\"},\"hover_glyph\":null,\"muted_glyph\":null,\"nonselection_glyph\":{\"id\":\"2803\",\"type\":\"Line\"},\"selection_glyph\":null,\"view\":{\"id\":\"2805\",\"type\":\"CDSView\"}},\"id\":\"2804\",\"type\":\"GlyphRenderer\"},{\"attributes\":{\"source\":{\"id\":\"2801\",\"type\":\"ColumnDataSource\"}},\"id\":\"2805\",\"type\":\"CDSView\"},{\"attributes\":{\"callback\":null,\"data\":{\"x\":[1,2,3,4,5,6],\"y\":{\"__ndarray__\":\"sqao33CTlT/mbWDGEbOXPwd2vAU1K6A/5f4K5NNI4j/rUVvltjTmP/uW3FfQNec/\",\"dtype\":\"float64\",\"shape\":[6]}},\"selected\":{\"id\":\"2973\",\"type\":\"Selection\"},\"selection_policy\":{\"id\":\"2972\",\"type\":\"UnionRenderers\"}},\"id\":\"2816\",\"type\":\"ColumnDataSource\"},{\"attributes\":{\"fill_color\":{\"value\":\"red\"},\"line_alpha\":{\"value\":0},\"line_color\":{\"value\":\"red\"},\"size\":{\"units\":\"screen\",\"value\":5},\"x\":{\"field\":\"x\"},\"y\":{\"field\":\"y\"}},\"id\":\"2807\",\"type\":\"Circle\"},{\"attributes\":{\"fill_alpha\":{\"value\":0.1},\"fill_color\":{\"value\":\"#1f77b4\"},\"line_alpha\":{\"value\":0.1},\"line_color\":{\"value\":\"#1f77b4\"},\"size\":{\"units\":\"screen\",\"value\":5},\"x\":{\"field\":\"x\"},\"y\":{\"field\":\"y\"}},\"id\":\"2808\",\"type\":\"Circle\"},{\"attributes\":{\"data_source\":{\"id\":\"2806\",\"type\":\"ColumnDataSource\"},\"glyph\":{\"id\":\"2807\",\"type\":\"Circle\"},\"hover_glyph\":null,\"muted_glyph\":null,\"nonselection_glyph\":{\"id\":\"2808\",\"type\":\"Circle\"},\"selection_glyph\":null,\"view\":{\"id\":\"2810\",\"type\":\"CDSView\"}},\"id\":\"2809\",\"type\":\"GlyphRenderer\"},{\"attributes\":{\"source\":{\"id\":\"2806\",\"type\":\"ColumnDataSource\"}},\"id\":\"2810\",\"type\":\"CDSView\"},{\"attributes\":{\"callback\":null,\"data\":{\"x\":[1,2,3,4,5,6],\"y\":{\"__ndarray__\":\"sqao33CTlT/mbWDGEbOXPwd2vAU1K6A/5f4K5NNI4j/rUVvltjTmP/uW3FfQNec/\",\"dtype\":\"float64\",\"shape\":[6]}},\"selected\":{\"id\":\"2971\",\"type\":\"Selection\"},\"selection_policy\":{\"id\":\"2970\",\"type\":\"UnionRenderers\"}},\"id\":\"2811\",\"type\":\"ColumnDataSource\"},{\"attributes\":{\"line_width\":2,\"x\":{\"field\":\"x\"},\"y\":{\"field\":\"y\"}},\"id\":\"2812\",\"type\":\"Line\"},{\"attributes\":{\"line_alpha\":0.1,\"line_color\":\"#1f77b4\",\"line_width\":2,\"x\":{\"field\":\"x\"},\"y\":{\"field\":\"y\"}},\"id\":\"2813\",\"type\":\"Line\"},{\"attributes\":{\"data_source\":{\"id\":\"2811\",\"type\":\"ColumnDataSource\"},\"glyph\":{\"id\":\"2812\",\"type\":\"Line\"},\"hover_glyph\":null,\"muted_glyph\":null,\"nonselection_glyph\":{\"id\":\"2813\",\"type\":\"Line\"},\"selection_glyph\":null,\"view\":{\"id\":\"2815\",\"type\":\"CDSView\"}},\"id\":\"2814\",\"type\":\"GlyphRenderer\"},{\"attributes\":{\"source\":{\"id\":\"2811\",\"type\":\"ColumnDataSource\"}},\"id\":\"2815\",\"type\":\"CDSView\"},{\"attributes\":{\"click_policy\":\"hide\",\"items\":[{\"id\":\"2822\",\"type\":\"LegendItem\"},{\"id\":\"2823\",\"type\":\"LegendItem\"},{\"id\":\"2824\",\"type\":\"LegendItem\"}],\"location\":\"center\",\"plot\":{\"id\":\"2741\",\"subtype\":\"Figure\",\"type\":\"Plot\"}},\"id\":\"2821\",\"type\":\"Legend\"},{\"attributes\":{\"fill_color\":{\"value\":\"black\"},\"line_alpha\":{\"value\":0},\"size\":{\"units\":\"screen\",\"value\":5},\"x\":{\"field\":\"x\"},\"y\":{\"field\":\"y\"}},\"id\":\"2817\",\"type\":\"Circle\"},{\"attributes\":{\"fill_alpha\":{\"value\":0.1},\"fill_color\":{\"value\":\"#1f77b4\"},\"line_alpha\":{\"value\":0.1},\"line_color\":{\"value\":\"#1f77b4\"},\"size\":{\"units\":\"screen\",\"value\":5},\"x\":{\"field\":\"x\"},\"y\":{\"field\":\"y\"}},\"id\":\"2818\",\"type\":\"Circle\"},{\"attributes\":{\"data_source\":{\"id\":\"2816\",\"type\":\"ColumnDataSource\"},\"glyph\":{\"id\":\"2817\",\"type\":\"Circle\"},\"hover_glyph\":null,\"muted_glyph\":null,\"nonselection_glyph\":{\"id\":\"2818\",\"type\":\"Circle\"},\"selection_glyph\":null,\"view\":{\"id\":\"2820\",\"type\":\"CDSView\"}},\"id\":\"2819\",\"type\":\"GlyphRenderer\"},{\"attributes\":{\"source\":{\"id\":\"2816\",\"type\":\"ColumnDataSource\"}},\"id\":\"2820\",\"type\":\"CDSView\"},{\"attributes\":{},\"id\":\"2952\",\"type\":\"BasicTickFormatter\"},{\"attributes\":{\"label\":{\"value\":\"AudHit\"},\"renderers\":[{\"id\":\"2779\",\"type\":\"GlyphRenderer\"}]},\"id\":\"2822\",\"type\":\"LegendItem\"},{\"attributes\":{\"label\":{\"value\":\"WhHit\"},\"renderers\":[{\"id\":\"2814\",\"type\":\"GlyphRenderer\"}]},\"id\":\"2823\",\"type\":\"LegendItem\"},{\"attributes\":{\"label\":{\"value\":\"FA\"},\"renderers\":[{\"id\":\"2804\",\"type\":\"GlyphRenderer\"}]},\"id\":\"2824\",\"type\":\"LegendItem\"},{\"attributes\":{},\"id\":\"2954\",\"type\":\"BasicTickFormatter\"},{\"attributes\":{},\"id\":\"2956\",\"type\":\"UnionRenderers\"},{\"attributes\":{},\"id\":\"2957\",\"type\":\"Selection\"},{\"attributes\":{},\"id\":\"2958\",\"type\":\"UnionRenderers\"},{\"attributes\":{},\"id\":\"2959\",\"type\":\"Selection\"},{\"attributes\":{},\"id\":\"2960\",\"type\":\"UnionRenderers\"},{\"attributes\":{},\"id\":\"2961\",\"type\":\"Selection\"},{\"attributes\":{},\"id\":\"2962\",\"type\":\"UnionRenderers\"},{\"attributes\":{},\"id\":\"2963\",\"type\":\"Selection\"},{\"attributes\":{},\"id\":\"2964\",\"type\":\"UnionRenderers\"},{\"attributes\":{},\"id\":\"2965\",\"type\":\"Selection\"},{\"attributes\":{},\"id\":\"2757\",\"type\":\"BasicTicker\"},{\"attributes\":{},\"id\":\"2966\",\"type\":\"UnionRenderers\"},{\"attributes\":{\"dimension\":1,\"plot\":{\"id\":\"2741\",\"subtype\":\"Figure\",\"type\":\"Plot\"},\"ticker\":{\"id\":\"2757\",\"type\":\"BasicTicker\"}},\"id\":\"2760\",\"type\":\"Grid\"},{\"attributes\":{},\"id\":\"2967\",\"type\":\"Selection\"},{\"attributes\":{\"line_alpha\":0.1,\"line_color\":\"#1f77b4\",\"line_width\":2,\"x\":{\"field\":\"x\"},\"y\":{\"field\":\"y\"}},\"id\":\"2778\",\"type\":\"Line\"},{\"attributes\":{},\"id\":\"2968\",\"type\":\"UnionRenderers\"},{\"attributes\":{\"line_color\":\"blue\",\"line_width\":2,\"x\":{\"field\":\"x\"},\"y\":{\"field\":\"y\"}},\"id\":\"2777\",\"type\":\"Line\"},{\"attributes\":{},\"id\":\"2969\",\"type\":\"Selection\"},{\"attributes\":{\"data_source\":{\"id\":\"2776\",\"type\":\"ColumnDataSource\"},\"glyph\":{\"id\":\"2777\",\"type\":\"Line\"},\"hover_glyph\":null,\"muted_glyph\":null,\"nonselection_glyph\":{\"id\":\"2778\",\"type\":\"Line\"},\"selection_glyph\":null,\"view\":{\"id\":\"2780\",\"type\":\"CDSView\"}},\"id\":\"2779\",\"type\":\"GlyphRenderer\"},{\"attributes\":{},\"id\":\"2970\",\"type\":\"UnionRenderers\"},{\"attributes\":{},\"id\":\"2761\",\"type\":\"PanTool\"},{\"attributes\":{},\"id\":\"2971\",\"type\":\"Selection\"},{\"attributes\":{},\"id\":\"2762\",\"type\":\"WheelZoomTool\"},{\"attributes\":{},\"id\":\"2972\",\"type\":\"UnionRenderers\"},{\"attributes\":{\"overlay\":{\"id\":\"2769\",\"type\":\"BoxAnnotation\"}},\"id\":\"2763\",\"type\":\"BoxZoomTool\"},{\"attributes\":{},\"id\":\"2973\",\"type\":\"Selection\"},{\"attributes\":{},\"id\":\"2764\",\"type\":\"SaveTool\"},{\"attributes\":{},\"id\":\"2765\",\"type\":\"ResetTool\"},{\"attributes\":{},\"id\":\"2766\",\"type\":\"HelpTool\"},{\"attributes\":{\"active_drag\":\"auto\",\"active_inspect\":\"auto\",\"active_multi\":null,\"active_scroll\":\"auto\",\"active_tap\":\"auto\",\"tools\":[{\"id\":\"2761\",\"type\":\"PanTool\"},{\"id\":\"2762\",\"type\":\"WheelZoomTool\"},{\"id\":\"2763\",\"type\":\"BoxZoomTool\"},{\"id\":\"2764\",\"type\":\"SaveTool\"},{\"id\":\"2765\",\"type\":\"ResetTool\"},{\"id\":\"2766\",\"type\":\"HelpTool\"}]},\"id\":\"2767\",\"type\":\"Toolbar\"},{\"attributes\":{\"bottom_units\":\"screen\",\"fill_alpha\":{\"value\":0.5},\"fill_color\":{\"value\":\"lightgrey\"},\"left_units\":\"screen\",\"level\":\"overlay\",\"line_alpha\":{\"value\":1.0},\"line_color\":{\"value\":\"black\"},\"line_dash\":[4,4],\"line_width\":{\"value\":2},\"plot\":null,\"render_mode\":\"css\",\"right_units\":\"screen\",\"top_units\":\"screen\"},\"id\":\"2769\",\"type\":\"BoxAnnotation\"},{\"attributes\":{\"source\":{\"id\":\"2776\",\"type\":\"ColumnDataSource\"}},\"id\":\"2780\",\"type\":\"CDSView\"},{\"attributes\":{\"line_color\":{\"value\":\"blue\"},\"xs\":{\"field\":\"xs\"},\"ys\":{\"field\":\"ys\"}},\"id\":\"2782\",\"type\":\"MultiLine\"},{\"attributes\":{\"line_alpha\":{\"value\":0.1},\"line_color\":{\"value\":\"#1f77b4\"},\"xs\":{\"field\":\"xs\"},\"ys\":{\"field\":\"ys\"}},\"id\":\"2783\",\"type\":\"MultiLine\"},{\"attributes\":{\"data_source\":{\"id\":\"2781\",\"type\":\"ColumnDataSource\"},\"glyph\":{\"id\":\"2782\",\"type\":\"MultiLine\"},\"hover_glyph\":null,\"muted_glyph\":null,\"nonselection_glyph\":{\"id\":\"2783\",\"type\":\"MultiLine\"},\"selection_glyph\":null,\"view\":{\"id\":\"2785\",\"type\":\"CDSView\"}},\"id\":\"2784\",\"type\":\"GlyphRenderer\"},{\"attributes\":{\"source\":{\"id\":\"2781\",\"type\":\"ColumnDataSource\"}},\"id\":\"2785\",\"type\":\"CDSView\"},{\"attributes\":{\"callback\":null,\"data\":{\"xs\":[[1,1],[2,2],[3,3],[4,4],[5,5],[6,6]],\"ys\":[[0.015412421289288093,0.026728088604223512],[0.017017774028343306,0.02927029232631572],[0.016124348645015635,0.0470349396664025],[0.5082640010168346,0.6345161987901234],[0.6626487604645551,0.72522097518139],[0.6963017319917792,0.7543364127012928]]},\"selected\":{\"id\":\"2961\",\"type\":\"Selection\"},\"selection_policy\":{\"id\":\"2960\",\"type\":\"UnionRenderers\"}},\"id\":\"2786\",\"type\":\"ColumnDataSource\"},{\"attributes\":{\"xs\":{\"field\":\"xs\"},\"ys\":{\"field\":\"ys\"}},\"id\":\"2787\",\"type\":\"MultiLine\"},{\"attributes\":{\"line_alpha\":{\"value\":0.1},\"line_color\":{\"value\":\"#1f77b4\"},\"xs\":{\"field\":\"xs\"},\"ys\":{\"field\":\"ys\"}},\"id\":\"2788\",\"type\":\"MultiLine\"},{\"attributes\":{\"data_source\":{\"id\":\"2786\",\"type\":\"ColumnDataSource\"},\"glyph\":{\"id\":\"2787\",\"type\":\"MultiLine\"},\"hover_glyph\":null,\"muted_glyph\":null,\"nonselection_glyph\":{\"id\":\"2788\",\"type\":\"MultiLine\"},\"selection_glyph\":null,\"view\":{\"id\":\"2790\",\"type\":\"CDSView\"}},\"id\":\"2789\",\"type\":\"GlyphRenderer\"},{\"attributes\":{\"callback\":null,\"data\":{\"xs\":[[1,1],[2,2],[3,3],[4,4],[5,5],[6,6]],\"ys\":[[0.7885222956762401,0.8247819567780394],[0.7753540542247528,0.8083188694313541],[0.7973413392044364,0.857231991688211],[0.821787866881164,0.8679853865055056],[0.7720019804551588,0.8246756369271269],[0.7781509129482859,0.8421943959172605]]},\"selected\":{\"id\":\"2959\",\"type\":\"Selection\"},\"selection_policy\":{\"id\":\"2958\",\"type\":\"UnionRenderers\"}},\"id\":\"2781\",\"type\":\"ColumnDataSource\"},{\"attributes\":{\"source\":{\"id\":\"2786\",\"type\":\"ColumnDataSource\"}},\"id\":\"2790\",\"type\":\"CDSView\"},{\"attributes\":{\"callback\":null,\"data\":{\"x\":[1,2,3,4,5,6],\"y\":{\"__ndarray__\":\"Kp+sHhjQ6T9znmpruVbpP4dIkOIheeo/ZDjPrU8J6z8JmE7U/YvpP2bf3DPv7Ok/\",\"dtype\":\"float64\",\"shape\":[6]}},\"selected\":{\"id\":\"2957\",\"type\":\"Selection\"},\"selection_policy\":{\"id\":\"2956\",\"type\":\"UnionRenderers\"}},\"id\":\"2776\",\"type\":\"ColumnDataSource\"},{\"attributes\":{\"callback\":null,\"data\":{\"xs\":[[1,1],[2,2],[3,3],[4,4],[5,5],[6,6]],\"ys\":[[0.16016642326843328,0.18738614637165585],[0.12719485233194044,0.16436809462636975],[0.10624237422163937,0.13983216696145778],[0.11208789896638321,0.1357005178798187],[0.10907012906733726,0.14238795184130615],[0.0965169834288032,0.11523706337528734]]},\"selected\":{\"id\":\"2963\",\"type\":\"Selection\"},\"selection_policy\":{\"id\":\"2962\",\"type\":\"UnionRenderers\"}},\"id\":\"2791\",\"type\":\"ColumnDataSource\"},{\"attributes\":{\"callback\":null,\"data\":{\"x\":[1,2,3,4,5,6],\"y\":{\"__ndarray__\":\"Kp+sHhjQ6T9znmpruVbpP4dIkOIheeo/ZDjPrU8J6z8JmE7U/YvpP2bf3DPv7Ok/\",\"dtype\":\"float64\",\"shape\":[6]}},\"selected\":{\"id\":\"2965\",\"type\":\"Selection\"},\"selection_policy\":{\"id\":\"2964\",\"type\":\"UnionRenderers\"}},\"id\":\"2796\",\"type\":\"ColumnDataSource\"},{\"attributes\":{\"align\":\"center\",\"plot\":null,\"text\":\"Mean Behaviour (n=16)\"},\"id\":\"2740\",\"type\":\"Title\"},{\"attributes\":{\"line_color\":{\"value\":\"red\"},\"xs\":{\"field\":\"xs\"},\"ys\":{\"field\":\"ys\"}},\"id\":\"2792\",\"type\":\"MultiLine\"},{\"attributes\":{\"line_alpha\":{\"value\":0.1},\"line_color\":{\"value\":\"#1f77b4\"},\"xs\":{\"field\":\"xs\"},\"ys\":{\"field\":\"ys\"}},\"id\":\"2793\",\"type\":\"MultiLine\"},{\"attributes\":{\"callback\":null},\"id\":\"2743\",\"type\":\"DataRange1d\"},{\"attributes\":{\"data_source\":{\"id\":\"2791\",\"type\":\"ColumnDataSource\"},\"glyph\":{\"id\":\"2792\",\"type\":\"MultiLine\"},\"hover_glyph\":null,\"muted_glyph\":null,\"nonselection_glyph\":{\"id\":\"2793\",\"type\":\"MultiLine\"},\"selection_glyph\":null,\"view\":{\"id\":\"2795\",\"type\":\"CDSView\"}},\"id\":\"2794\",\"type\":\"GlyphRenderer\"},{\"attributes\":{\"callback\":null},\"id\":\"2745\",\"type\":\"DataRange1d\"},{\"attributes\":{\"source\":{\"id\":\"2791\",\"type\":\"ColumnDataSource\"}},\"id\":\"2795\",\"type\":\"CDSView\"},{\"attributes\":{},\"id\":\"2747\",\"type\":\"LinearScale\"},{\"attributes\":{\"callback\":null,\"data\":{\"x\":[1,2,3,4,5,6],\"y\":{\"__ndarray__\":\"L60PIk0+xj8mU3qi96jCP9E6Yd1ef78/gU1X5Ye3vz+qUnSi4xfAP0bc6LDBGrs/\",\"dtype\":\"float64\",\"shape\":[6]}},\"selected\":{\"id\":\"2969\",\"type\":\"Selection\"},\"selection_policy\":{\"id\":\"2968\",\"type\":\"UnionRenderers\"}},\"id\":\"2806\",\"type\":\"ColumnDataSource\"},{\"attributes\":{},\"id\":\"2749\",\"type\":\"LinearScale\"},{\"attributes\":{\"fill_color\":{\"value\":\"blue\"},\"line_alpha\":{\"value\":0},\"line_color\":{\"value\":\"blue\"},\"size\":{\"units\":\"screen\",\"value\":5},\"x\":{\"field\":\"x\"},\"y\":{\"field\":\"y\"}},\"id\":\"2797\",\"type\":\"Circle\"},{\"attributes\":{\"axis_label\":\"Days of training\",\"axis_label_text_font_style\":\"bold\",\"formatter\":{\"id\":\"2952\",\"type\":\"BasicTickFormatter\"},\"plot\":{\"id\":\"2741\",\"subtype\":\"Figure\",\"type\":\"Plot\"},\"ticker\":{\"id\":\"2752\",\"type\":\"BasicTicker\"}},\"id\":\"2751\",\"type\":\"LinearAxis\"},{\"attributes\":{\"fill_alpha\":{\"value\":0.1},\"fill_color\":{\"value\":\"#1f77b4\"},\"line_alpha\":{\"value\":0.1},\"line_color\":{\"value\":\"#1f77b4\"},\"size\":{\"units\":\"screen\",\"value\":5},\"x\":{\"field\":\"x\"},\"y\":{\"field\":\"y\"}},\"id\":\"2798\",\"type\":\"Circle\"},{\"attributes\":{\"data_source\":{\"id\":\"2796\",\"type\":\"ColumnDataSource\"},\"glyph\":{\"id\":\"2797\",\"type\":\"Circle\"},\"hover_glyph\":null,\"muted_glyph\":null,\"nonselection_glyph\":{\"id\":\"2798\",\"type\":\"Circle\"},\"selection_glyph\":null,\"view\":{\"id\":\"2800\",\"type\":\"CDSView\"}},\"id\":\"2799\",\"type\":\"GlyphRenderer\"},{\"attributes\":{},\"id\":\"2752\",\"type\":\"BasicTicker\"},{\"attributes\":{\"plot\":{\"id\":\"2741\",\"subtype\":\"Figure\",\"type\":\"Plot\"},\"ticker\":{\"id\":\"2752\",\"type\":\"BasicTicker\"}},\"id\":\"2755\",\"type\":\"Grid\"},{\"attributes\":{\"source\":{\"id\":\"2796\",\"type\":\"ColumnDataSource\"}},\"id\":\"2800\",\"type\":\"CDSView\"},{\"attributes\":{\"axis_label\":\"AudHit/WhHit/FA\",\"axis_label_text_font_style\":\"bold\",\"formatter\":{\"id\":\"2954\",\"type\":\"BasicTickFormatter\"},\"plot\":{\"id\":\"2741\",\"subtype\":\"Figure\",\"type\":\"Plot\"},\"ticker\":{\"id\":\"2757\",\"type\":\"BasicTicker\"}},\"id\":\"2756\",\"type\":\"LinearAxis\"}],\"root_ids\":[\"2741\"]},\"title\":\"Bokeh Application\",\"version\":\"1.0.4\"}};\n",
       "  var render_items = [{\"docid\":\"58b56f03-c48b-4824-b272-1fadfcb87a68\",\"roots\":{\"2741\":\"66968056-540c-453e-bca9-481ba47e094f\"}}];\n",
       "  root.Bokeh.embed.embed_items_notebook(docs_json, render_items);\n",
       "\n",
       "  }\n",
       "  if (root.Bokeh !== undefined) {\n",
       "    embed_document(root);\n",
       "  } else {\n",
       "    var attempts = 0;\n",
       "    var timer = setInterval(function(root) {\n",
       "      if (root.Bokeh !== undefined) {\n",
       "        embed_document(root);\n",
       "        clearInterval(timer);\n",
       "      }\n",
       "      attempts++;\n",
       "      if (attempts > 100) {\n",
       "        console.log(\"Bokeh: ERROR: Unable to run BokehJS code because BokehJS library is missing\");\n",
       "        clearInterval(timer);\n",
       "      }\n",
       "    }, 10, root)\n",
       "  }\n",
       "})(window);"
      ],
      "application/vnd.bokehjs_exec.v0+json": ""
     },
     "metadata": {
      "application/vnd.bokehjs_exec.v0+json": {
       "id": "2741"
      }
     },
     "output_type": "display_data"
    },
    {
     "data": {
      "text/html": [
       "\n",
       "\n",
       "\n",
       "\n",
       "\n",
       "\n",
       "  <div class=\"bk-root\" id=\"a3ada964-3761-4941-a1be-f157c1c323a2\" data-root-id=\"3120\"></div>\n"
      ]
     },
     "metadata": {},
     "output_type": "display_data"
    },
    {
     "data": {
      "application/javascript": [
       "(function(root) {\n",
       "  function embed_document(root) {\n",
       "    \n",
       "  var docs_json = {\"6199038d-3bf0-47f6-85c5-d6a77afe71d4\":{\"roots\":{\"references\":[{\"attributes\":{\"below\":[{\"id\":\"3130\",\"type\":\"LinearAxis\"}],\"left\":[{\"id\":\"3135\",\"type\":\"LinearAxis\"}],\"plot_height\":400,\"renderers\":[{\"id\":\"3130\",\"type\":\"LinearAxis\"},{\"id\":\"3134\",\"type\":\"Grid\"},{\"id\":\"3135\",\"type\":\"LinearAxis\"},{\"id\":\"3139\",\"type\":\"Grid\"},{\"id\":\"3148\",\"type\":\"BoxAnnotation\"},{\"id\":\"3158\",\"type\":\"GlyphRenderer\"},{\"id\":\"3163\",\"type\":\"GlyphRenderer\"}],\"title\":{\"id\":\"3119\",\"type\":\"Title\"},\"toolbar\":{\"id\":\"3146\",\"type\":\"Toolbar\"},\"x_range\":{\"id\":\"3122\",\"type\":\"DataRange1d\"},\"x_scale\":{\"id\":\"3126\",\"type\":\"LinearScale\"},\"y_range\":{\"id\":\"3124\",\"type\":\"DataRange1d\"},\"y_scale\":{\"id\":\"3128\",\"type\":\"LinearScale\"}},\"id\":\"3120\",\"subtype\":\"Figure\",\"type\":\"Plot\"},{\"attributes\":{},\"id\":\"3318\",\"type\":\"BasicTickFormatter\"},{\"attributes\":{\"overlay\":{\"id\":\"3148\",\"type\":\"BoxAnnotation\"}},\"id\":\"3142\",\"type\":\"BoxZoomTool\"},{\"attributes\":{},\"id\":\"3320\",\"type\":\"UnionRenderers\"},{\"attributes\":{\"callback\":null,\"data\":{\"xs\":[[1,1],[2,2],[3,3],[4,4],[5,5],[6,6]],\"ys\":[[-0.09794361988160095,0.020097230003860767],[-0.16014021190989902,-0.024234153159153435],[-0.1815588638420142,0.02401715753080301],[1.2591952079489357,1.591543593434727],[1.7113473218927155,1.941218832104933],[1.9773523549560788,2.1840991866117943]]},\"selected\":{\"id\":\"3323\",\"type\":\"Selection\"},\"selection_policy\":{\"id\":\"3322\",\"type\":\"UnionRenderers\"}},\"id\":\"3160\",\"type\":\"ColumnDataSource\"},{\"attributes\":{},\"id\":\"3143\",\"type\":\"SaveTool\"},{\"attributes\":{},\"id\":\"3323\",\"type\":\"Selection\"},{\"attributes\":{\"data_source\":{\"id\":\"3160\",\"type\":\"ColumnDataSource\"},\"glyph\":{\"id\":\"3161\",\"type\":\"MultiLine\"},\"hover_glyph\":null,\"muted_glyph\":null,\"nonselection_glyph\":{\"id\":\"3162\",\"type\":\"MultiLine\"},\"selection_glyph\":null,\"view\":{\"id\":\"3164\",\"type\":\"CDSView\"}},\"id\":\"3163\",\"type\":\"GlyphRenderer\"},{\"attributes\":{},\"id\":\"3144\",\"type\":\"ResetTool\"},{\"attributes\":{},\"id\":\"3145\",\"type\":\"HelpTool\"},{\"attributes\":{},\"id\":\"3322\",\"type\":\"UnionRenderers\"},{\"attributes\":{},\"id\":\"3321\",\"type\":\"Selection\"},{\"attributes\":{},\"id\":\"3136\",\"type\":\"BasicTicker\"},{\"attributes\":{\"line_alpha\":{\"value\":0.1},\"line_color\":{\"value\":\"#1f77b4\"},\"xs\":{\"field\":\"xs\"},\"ys\":{\"field\":\"ys\"}},\"id\":\"3162\",\"type\":\"MultiLine\"},{\"attributes\":{\"line_alpha\":0.1,\"line_color\":\"#1f77b4\",\"line_width\":2,\"x\":{\"field\":\"x\"},\"y\":{\"field\":\"y\"}},\"id\":\"3157\",\"type\":\"Line\"},{\"attributes\":{\"axis_label\":\"dprime for W\",\"axis_label_text_font_style\":\"bold\",\"formatter\":{\"id\":\"3318\",\"type\":\"BasicTickFormatter\"},\"plot\":{\"id\":\"3120\",\"subtype\":\"Figure\",\"type\":\"Plot\"},\"ticker\":{\"id\":\"3136\",\"type\":\"BasicTicker\"}},\"id\":\"3135\",\"type\":\"LinearAxis\"},{\"attributes\":{\"plot\":{\"id\":\"3120\",\"subtype\":\"Figure\",\"type\":\"Plot\"},\"ticker\":{\"id\":\"3131\",\"type\":\"BasicTicker\"}},\"id\":\"3134\",\"type\":\"Grid\"},{\"attributes\":{},\"id\":\"3131\",\"type\":\"BasicTicker\"},{\"attributes\":{\"align\":\"center\",\"plot\":null,\"text\":\"Mean dprime (n=16)\"},\"id\":\"3119\",\"type\":\"Title\"},{\"attributes\":{\"axis_label\":\"Days of training\",\"axis_label_text_font_style\":\"bold\",\"formatter\":{\"id\":\"3316\",\"type\":\"BasicTickFormatter\"},\"plot\":{\"id\":\"3120\",\"subtype\":\"Figure\",\"type\":\"Plot\"},\"ticker\":{\"id\":\"3131\",\"type\":\"BasicTicker\"}},\"id\":\"3130\",\"type\":\"LinearAxis\"},{\"attributes\":{\"active_drag\":\"auto\",\"active_inspect\":\"auto\",\"active_multi\":null,\"active_scroll\":\"auto\",\"active_tap\":\"auto\",\"tools\":[{\"id\":\"3140\",\"type\":\"PanTool\"},{\"id\":\"3141\",\"type\":\"WheelZoomTool\"},{\"id\":\"3142\",\"type\":\"BoxZoomTool\"},{\"id\":\"3143\",\"type\":\"SaveTool\"},{\"id\":\"3144\",\"type\":\"ResetTool\"},{\"id\":\"3145\",\"type\":\"HelpTool\"}]},\"id\":\"3146\",\"type\":\"Toolbar\"},{\"attributes\":{},\"id\":\"3128\",\"type\":\"LinearScale\"},{\"attributes\":{\"source\":{\"id\":\"3160\",\"type\":\"ColumnDataSource\"}},\"id\":\"3164\",\"type\":\"CDSView\"},{\"attributes\":{},\"id\":\"3126\",\"type\":\"LinearScale\"},{\"attributes\":{\"dimension\":1,\"plot\":{\"id\":\"3120\",\"subtype\":\"Figure\",\"type\":\"Plot\"},\"ticker\":{\"id\":\"3136\",\"type\":\"BasicTicker\"}},\"id\":\"3139\",\"type\":\"Grid\"},{\"attributes\":{\"callback\":null},\"id\":\"3124\",\"type\":\"DataRange1d\"},{\"attributes\":{\"line_color\":{\"value\":\"green\"},\"xs\":{\"field\":\"xs\"},\"ys\":{\"field\":\"ys\"}},\"id\":\"3161\",\"type\":\"MultiLine\"},{\"attributes\":{\"callback\":null},\"id\":\"3122\",\"type\":\"DataRange1d\"},{\"attributes\":{\"line_color\":\"green\",\"line_width\":2,\"x\":{\"field\":\"x\"},\"y\":{\"field\":\"y\"}},\"id\":\"3156\",\"type\":\"Line\"},{\"attributes\":{\"source\":{\"id\":\"3155\",\"type\":\"ColumnDataSource\"}},\"id\":\"3159\",\"type\":\"CDSView\"},{\"attributes\":{},\"id\":\"3316\",\"type\":\"BasicTickFormatter\"},{\"attributes\":{\"callback\":null,\"data\":{\"x\":[1,2,3,4,5,6],\"y\":{\"__ndarray__\":\"kfWisr3to7/DnhhGlJm3v5dsLp5TKrS/bwwLJVDO9j/UK4+adDj9P/Kwi41TpQBA\",\"dtype\":\"float64\",\"shape\":[6]}},\"selected\":{\"id\":\"3321\",\"type\":\"Selection\"},\"selection_policy\":{\"id\":\"3320\",\"type\":\"UnionRenderers\"}},\"id\":\"3155\",\"type\":\"ColumnDataSource\"},{\"attributes\":{},\"id\":\"3141\",\"type\":\"WheelZoomTool\"},{\"attributes\":{\"data_source\":{\"id\":\"3155\",\"type\":\"ColumnDataSource\"},\"glyph\":{\"id\":\"3156\",\"type\":\"Line\"},\"hover_glyph\":null,\"muted_glyph\":null,\"nonselection_glyph\":{\"id\":\"3157\",\"type\":\"Line\"},\"selection_glyph\":null,\"view\":{\"id\":\"3159\",\"type\":\"CDSView\"}},\"id\":\"3158\",\"type\":\"GlyphRenderer\"},{\"attributes\":{\"bottom_units\":\"screen\",\"fill_alpha\":{\"value\":0.5},\"fill_color\":{\"value\":\"lightgrey\"},\"left_units\":\"screen\",\"level\":\"overlay\",\"line_alpha\":{\"value\":1.0},\"line_color\":{\"value\":\"black\"},\"line_dash\":[4,4],\"line_width\":{\"value\":2},\"plot\":null,\"render_mode\":\"css\",\"right_units\":\"screen\",\"top_units\":\"screen\"},\"id\":\"3148\",\"type\":\"BoxAnnotation\"},{\"attributes\":{},\"id\":\"3140\",\"type\":\"PanTool\"}],\"root_ids\":[\"3120\"]},\"title\":\"Bokeh Application\",\"version\":\"1.0.4\"}};\n",
       "  var render_items = [{\"docid\":\"6199038d-3bf0-47f6-85c5-d6a77afe71d4\",\"roots\":{\"3120\":\"a3ada964-3761-4941-a1be-f157c1c323a2\"}}];\n",
       "  root.Bokeh.embed.embed_items_notebook(docs_json, render_items);\n",
       "\n",
       "  }\n",
       "  if (root.Bokeh !== undefined) {\n",
       "    embed_document(root);\n",
       "  } else {\n",
       "    var attempts = 0;\n",
       "    var timer = setInterval(function(root) {\n",
       "      if (root.Bokeh !== undefined) {\n",
       "        embed_document(root);\n",
       "        clearInterval(timer);\n",
       "      }\n",
       "      attempts++;\n",
       "      if (attempts > 100) {\n",
       "        console.log(\"Bokeh: ERROR: Unable to run BokehJS code because BokehJS library is missing\");\n",
       "        clearInterval(timer);\n",
       "      }\n",
       "    }, 10, root)\n",
       "  }\n",
       "})(window);"
      ],
      "application/vnd.bokehjs_exec.v0+json": ""
     },
     "metadata": {
      "application/vnd.bokehjs_exec.v0+json": {
       "id": "3120"
      }
     },
     "output_type": "display_data"
    }
   ],
   "source": [
    "errorAudH = np.nanstd(dataAll[:,:,0],axis = 0)/np.sqrt(np.sum(np.invert(np.isnan(dataAll[:,:,0])),axis = 0))\n",
    "errorWhH = np.nanstd(dataAll[:,:,1],axis = 0)/np.sqrt(np.sum(np.invert(np.isnan(dataAll[:,:,1])),axis = 0))\n",
    "errorFA = np.nanstd(dataAll[:,:,2],axis = 0)/np.sqrt(np.sum(np.invert(np.isnan(dataAll[:,:,2])),axis = 0))\n",
    "\n",
    "\n",
    "MeanAudH = np.nanmean(dataAll[:,:,0],axis=0)\n",
    "MeanWhH = np.nanmean(dataAll[:,:,1],axis=0)\n",
    "MeanFA = np.nanmean(dataAll[:,:,2],axis=0)\n",
    "\n",
    "Days = dataAll.shape[1] + 1\n",
    "\n",
    "p = bokeh.plotting.figure(\n",
    "    width=600,\n",
    "    height=400,\n",
    "    x_axis_label='Days of training',\n",
    "    y_axis_label='AudHit/WhHit/FA',\n",
    "    title= 'Mean Behaviour (n=16)' \n",
    "    )\n",
    "\n",
    "p.yaxis.axis_label_text_font_style = \"bold\"\n",
    "p.xaxis.axis_label_text_font_style = \"bold\"\n",
    "p.title.align = 'center'\n",
    "\n",
    "\n",
    "audh = p.line(\n",
    "x= range(1,Days,1),\n",
    "y= MeanAudH ,\n",
    "line_join='bevel',\n",
    "line_width=2,\n",
    "color = 'blue',\n",
    ")\n",
    "\n",
    "\n",
    "err_xs = []\n",
    "err_ys = []\n",
    "\n",
    "for x, y, yerr in zip(range(1,Days,1), MeanAudH, errorAudH ):\n",
    "    err_xs.append((x, x))\n",
    "    err_ys.append((y - yerr, y + yerr))\n",
    "\n",
    "# plot them\n",
    "p.multi_line(err_xs, err_ys, color='blue')\n",
    "\n",
    "\n",
    "\n",
    "err_xs = []\n",
    "err_ys = []\n",
    "\n",
    "for x, y, yerr in zip(range(1,Days,1), MeanWhH, errorWhH ):\n",
    "    err_xs.append((x, x))\n",
    "    err_ys.append((y - yerr, y + yerr))\n",
    "\n",
    "# plot them\n",
    "p.multi_line(err_xs, err_ys, color='black')\n",
    "\n",
    "\n",
    "err_xs = []\n",
    "err_ys = []\n",
    "\n",
    "for x, y, yerr in zip(range(1,Days,1), MeanFA, errorFA ):\n",
    "    err_xs.append((x, x))\n",
    "    err_ys.append((y - yerr, y + yerr))\n",
    "\n",
    "# plot them\n",
    "p.multi_line(err_xs, err_ys, color='red')\n",
    "\n",
    "\n",
    "p.circle(range(1,Days,1), MeanAudH , color='blue', size=5, line_alpha=0)\n",
    "\n",
    "fa = p.line(\n",
    "x= range(1,Days,1),\n",
    "y= MeanFA,\n",
    "line_join='bevel',\n",
    "line_width=2,\n",
    "color = 'red',\n",
    ")\n",
    "\n",
    "p.circle(range(1,Days,1), MeanFA , color='red', size=5, line_alpha=0)\n",
    "\n",
    "whhit = p.line(\n",
    "x= range(1,Days,1),\n",
    "y= MeanWhH,\n",
    "line_join='bevel',\n",
    "line_width=2,\n",
    "color = 'black',\n",
    ")\n",
    "\n",
    "p.circle(range(1,Days,1), MeanWhH , color='black', size=5, line_alpha=0)\n",
    "\n",
    "legend = Legend(items=[\n",
    "(\"AudHit\" , [audh]),\n",
    "(\"WhHit\" , [whhit]),\n",
    "(\"FA\" , [fa])   \n",
    "], location=\"center\")\n",
    "\n",
    "p.add_layout(legend, 'right')\n",
    "\n",
    "p.legend.click_policy=\"hide\"\n",
    "\n",
    "bokeh.io.show(p) \n",
    "\n",
    "errorDprime = np.nanstd(dataAll[:,:,3],axis = 0)/np.sqrt(np.sum(np.invert(np.isnan(dataAll[:,:,3])),axis = 0))\n",
    "MeanDprime = np.nanmean(dataAll[:,:,3],axis=0)\n",
    "\n",
    "k = bokeh.plotting.figure(\n",
    "    width=600,\n",
    "    height=400,\n",
    "    x_axis_label='Days of training',\n",
    "    y_axis_label='dprime for W',\n",
    "    title= 'Mean dprime (n=16)' \n",
    "    )\n",
    "\n",
    "k.yaxis.axis_label_text_font_style = \"bold\"\n",
    "k.xaxis.axis_label_text_font_style = \"bold\"\n",
    "k.title.align = 'center'\n",
    "\n",
    "dprime = k.line(\n",
    "x= range(1,Days,1),\n",
    "y= MeanDprime ,\n",
    "line_join='bevel',\n",
    "line_width=2,\n",
    "color = 'green',\n",
    ")\n",
    "\n",
    "\n",
    "err_xs = []\n",
    "err_ys = []\n",
    "\n",
    "for x, y, yerr in zip(range(1,Days,1), MeanDprime, errorDprime):\n",
    "    err_xs.append((x, x))\n",
    "    err_ys.append((y - yerr, y + yerr))\n",
    "\n",
    "# plot them\n",
    "k.multi_line(err_xs, err_ys, color='green')\n",
    "bokeh.io.show(k) \n"
   ]
  },
  {
   "cell_type": "code",
   "execution_count": 113,
   "metadata": {},
   "outputs": [
    {
     "data": {
      "text/plain": [
       "array([[0.89772727, 0.        , 0.14285714],\n",
       "       [0.75      , 0.        , 0.10447761],\n",
       "       [0.692607  , 0.        , 0.07421875],\n",
       "       [0.68548387, 0.        , 0.05263158],\n",
       "       [0.88405797, 0.        , 0.14285714],\n",
       "       [0.87804878, 0.        , 0.08433735],\n",
       "       [0.83571429, 0.        , 0.23571429],\n",
       "       [0.82758621, 0.        , 0.18103448],\n",
       "       [0.79807692, 0.        , 0.20192308],\n",
       "       [0.87313433, 0.        , 0.17164179],\n",
       "       [0.8452381 , 0.        , 0.1       ],\n",
       "       [0.72826087, 0.        , 0.2173913 ],\n",
       "       [0.60416667, 0.        , 0.11805556]])"
      ]
     },
     "execution_count": 113,
     "metadata": {},
     "output_type": "execute_result"
    }
   ],
   "source": [
    "dataAll[dataAll[:,:,1] ==0]"
   ]
  },
  {
   "cell_type": "code",
   "execution_count": 9,
   "metadata": {},
   "outputs": [
    {
     "data": {
      "text/html": [
       "\n",
       "\n",
       "\n",
       "\n",
       "\n",
       "\n",
       "  <div class=\"bk-root\" id=\"fad6c264-2f48-44c6-a10b-5f9e3689a86c\" data-root-id=\"3386\"></div>\n"
      ]
     },
     "metadata": {},
     "output_type": "display_data"
    },
    {
     "data": {
      "application/javascript": [
       "(function(root) {\n",
       "  function embed_document(root) {\n",
       "    \n",
       "  var docs_json = {\"c53c21b1-fba5-4cf6-956f-7e457ace64d4\":{\"roots\":{\"references\":[{\"attributes\":{\"below\":[{\"id\":\"3396\",\"type\":\"LinearAxis\"}],\"left\":[{\"id\":\"3401\",\"type\":\"LinearAxis\"}],\"plot_height\":500,\"plot_width\":400,\"renderers\":[{\"id\":\"3396\",\"type\":\"LinearAxis\"},{\"id\":\"3400\",\"type\":\"Grid\"},{\"id\":\"3401\",\"type\":\"LinearAxis\"},{\"id\":\"3405\",\"type\":\"Grid\"},{\"id\":\"3414\",\"type\":\"BoxAnnotation\"},{\"id\":\"3424\",\"type\":\"GlyphRenderer\"},{\"id\":\"3429\",\"type\":\"GlyphRenderer\"},{\"id\":\"3434\",\"type\":\"GlyphRenderer\"},{\"id\":\"3439\",\"type\":\"GlyphRenderer\"},{\"id\":\"3444\",\"type\":\"GlyphRenderer\"},{\"id\":\"3449\",\"type\":\"GlyphRenderer\"},{\"id\":\"3454\",\"type\":\"GlyphRenderer\"},{\"id\":\"3459\",\"type\":\"GlyphRenderer\"},{\"id\":\"3464\",\"type\":\"GlyphRenderer\"},{\"id\":\"3469\",\"type\":\"GlyphRenderer\"},{\"id\":\"3474\",\"type\":\"GlyphRenderer\"},{\"id\":\"3479\",\"type\":\"GlyphRenderer\"},{\"id\":\"3484\",\"type\":\"GlyphRenderer\"},{\"id\":\"3489\",\"type\":\"GlyphRenderer\"},{\"id\":\"3494\",\"type\":\"GlyphRenderer\"},{\"id\":\"3499\",\"type\":\"GlyphRenderer\"},{\"id\":\"3504\",\"type\":\"GlyphRenderer\"},{\"id\":\"3509\",\"type\":\"GlyphRenderer\"},{\"id\":\"3514\",\"type\":\"GlyphRenderer\"},{\"id\":\"3519\",\"type\":\"GlyphRenderer\"},{\"id\":\"3524\",\"type\":\"GlyphRenderer\"}],\"title\":{\"id\":\"3385\",\"type\":\"Title\"},\"toolbar\":{\"id\":\"3412\",\"type\":\"Toolbar\"},\"x_range\":{\"id\":\"3388\",\"type\":\"DataRange1d\"},\"x_scale\":{\"id\":\"3392\",\"type\":\"LinearScale\"},\"y_range\":{\"id\":\"3390\",\"type\":\"DataRange1d\"},\"y_scale\":{\"id\":\"3394\",\"type\":\"LinearScale\"}},\"id\":\"3386\",\"subtype\":\"Figure\",\"type\":\"Plot\"},{\"attributes\":{},\"id\":\"3409\",\"type\":\"SaveTool\"},{\"attributes\":{\"data_source\":{\"id\":\"3421\",\"type\":\"ColumnDataSource\"},\"glyph\":{\"id\":\"3422\",\"type\":\"Circle\"},\"hover_glyph\":null,\"muted_glyph\":null,\"nonselection_glyph\":{\"id\":\"3423\",\"type\":\"Circle\"},\"selection_glyph\":null,\"view\":{\"id\":\"3425\",\"type\":\"CDSView\"}},\"id\":\"3424\",\"type\":\"GlyphRenderer\"},{\"attributes\":{\"line_color\":\"gray\",\"line_width\":0.5,\"x\":{\"field\":\"x\"},\"y\":{\"field\":\"y\"}},\"id\":\"3512\",\"type\":\"Line\"},{\"attributes\":{\"line_alpha\":0.1,\"line_color\":\"#1f77b4\",\"line_width\":0.5,\"x\":{\"field\":\"x\"},\"y\":{\"field\":\"y\"}},\"id\":\"3513\",\"type\":\"Line\"},{\"attributes\":{\"overlay\":{\"id\":\"3414\",\"type\":\"BoxAnnotation\"}},\"id\":\"3408\",\"type\":\"BoxZoomTool\"},{\"attributes\":{\"data_source\":{\"id\":\"3511\",\"type\":\"ColumnDataSource\"},\"glyph\":{\"id\":\"3512\",\"type\":\"Line\"},\"hover_glyph\":null,\"muted_glyph\":null,\"nonselection_glyph\":{\"id\":\"3513\",\"type\":\"Line\"},\"selection_glyph\":null,\"view\":{\"id\":\"3515\",\"type\":\"CDSView\"}},\"id\":\"3514\",\"type\":\"GlyphRenderer\"},{\"attributes\":{\"source\":{\"id\":\"3511\",\"type\":\"ColumnDataSource\"}},\"id\":\"3515\",\"type\":\"CDSView\"},{\"attributes\":{\"callback\":null,\"data\":{\"x\":{\"__ndarray__\":\"AQAAAAIAAAA=\",\"dtype\":\"int32\",\"shape\":[2]},\"y\":{\"__ndarray__\":\"gr1jamDv6D9BnhLkKUHmPw==\",\"dtype\":\"float64\",\"shape\":[2]}},\"selected\":{\"id\":\"3731\",\"type\":\"Selection\"},\"selection_policy\":{\"id\":\"3730\",\"type\":\"UnionRenderers\"}},\"id\":\"3516\",\"type\":\"ColumnDataSource\"},{\"attributes\":{},\"id\":\"3394\",\"type\":\"LinearScale\"},{\"attributes\":{\"line_color\":\"gray\",\"line_width\":0.5,\"x\":{\"field\":\"x\"},\"y\":{\"field\":\"y\"}},\"id\":\"3517\",\"type\":\"Line\"},{\"attributes\":{\"line_alpha\":0.1,\"line_color\":\"#1f77b4\",\"line_width\":0.5,\"x\":{\"field\":\"x\"},\"y\":{\"field\":\"y\"}},\"id\":\"3518\",\"type\":\"Line\"},{\"attributes\":{\"axis_label\":\"Days\",\"axis_label_text_font_style\":\"bold\",\"formatter\":{\"id\":\"3689\",\"type\":\"BasicTickFormatter\"},\"major_label_overrides\":{\"1\":\"SWD\",\"1.2\":\"\",\"1.4\":\"\",\"1.6\":\"\",\"1.8\":\"\",\"2\":\"SWD+1\"},\"plot\":{\"id\":\"3386\",\"subtype\":\"Figure\",\"type\":\"Plot\"},\"ticker\":{\"id\":\"3526\",\"type\":\"FixedTicker\"}},\"id\":\"3396\",\"type\":\"LinearAxis\"},{\"attributes\":{\"data_source\":{\"id\":\"3516\",\"type\":\"ColumnDataSource\"},\"glyph\":{\"id\":\"3517\",\"type\":\"Line\"},\"hover_glyph\":null,\"muted_glyph\":null,\"nonselection_glyph\":{\"id\":\"3518\",\"type\":\"Line\"},\"selection_glyph\":null,\"view\":{\"id\":\"3520\",\"type\":\"CDSView\"}},\"id\":\"3519\",\"type\":\"GlyphRenderer\"},{\"attributes\":{\"align\":\"center\",\"plot\":null,\"text\":\"Individual Mouse Whisker Hit\"},\"id\":\"3385\",\"type\":\"Title\"},{\"attributes\":{\"source\":{\"id\":\"3516\",\"type\":\"ColumnDataSource\"}},\"id\":\"3520\",\"type\":\"CDSView\"},{\"attributes\":{},\"id\":\"3407\",\"type\":\"WheelZoomTool\"},{\"attributes\":{\"x\":{\"field\":\"x\"},\"y\":{\"field\":\"y\"}},\"id\":\"3522\",\"type\":\"Line\"},{\"attributes\":{\"line_alpha\":0.1,\"line_color\":\"#1f77b4\",\"x\":{\"field\":\"x\"},\"y\":{\"field\":\"y\"}},\"id\":\"3523\",\"type\":\"Line\"},{\"attributes\":{\"data_source\":{\"id\":\"3521\",\"type\":\"ColumnDataSource\"},\"glyph\":{\"id\":\"3522\",\"type\":\"Line\"},\"hover_glyph\":null,\"muted_glyph\":null,\"nonselection_glyph\":{\"id\":\"3523\",\"type\":\"Line\"},\"selection_glyph\":null,\"view\":{\"id\":\"3525\",\"type\":\"CDSView\"}},\"id\":\"3524\",\"type\":\"GlyphRenderer\"},{\"attributes\":{},\"id\":\"3392\",\"type\":\"LinearScale\"},{\"attributes\":{\"source\":{\"id\":\"3521\",\"type\":\"ColumnDataSource\"}},\"id\":\"3525\",\"type\":\"CDSView\"},{\"attributes\":{\"fill_alpha\":{\"value\":0.1},\"fill_color\":{\"value\":\"#1f77b4\"},\"line_alpha\":{\"value\":0.1},\"line_color\":{\"value\":\"#1f77b4\"},\"line_width\":{\"value\":1.5},\"size\":{\"units\":\"screen\",\"value\":5},\"x\":{\"value\":1},\"y\":{\"field\":\"y\"}},\"id\":\"3423\",\"type\":\"Circle\"},{\"attributes\":{},\"id\":\"3406\",\"type\":\"PanTool\"},{\"attributes\":{},\"id\":\"3397\",\"type\":\"BasicTicker\"},{\"attributes\":{\"ticks\":[1,1.2,1.4,1.6,1.8,2]},\"id\":\"3526\",\"type\":\"FixedTicker\"},{\"attributes\":{\"axis_label\":\"WhHit\",\"axis_label_text_font_style\":\"bold\",\"formatter\":{\"id\":\"3690\",\"type\":\"BasicTickFormatter\"},\"plot\":{\"id\":\"3386\",\"subtype\":\"Figure\",\"type\":\"Plot\"},\"ticker\":{\"id\":\"3402\",\"type\":\"BasicTicker\"}},\"id\":\"3401\",\"type\":\"LinearAxis\"},{\"attributes\":{},\"id\":\"3692\",\"type\":\"UnionRenderers\"},{\"attributes\":{\"dimension\":1,\"plot\":{\"id\":\"3386\",\"subtype\":\"Figure\",\"type\":\"Plot\"},\"ticker\":{\"id\":\"3402\",\"type\":\"BasicTicker\"}},\"id\":\"3405\",\"type\":\"Grid\"},{\"attributes\":{\"plot\":{\"id\":\"3386\",\"subtype\":\"Figure\",\"type\":\"Plot\"},\"ticker\":{\"id\":\"3397\",\"type\":\"BasicTicker\"}},\"id\":\"3400\",\"type\":\"Grid\"},{\"attributes\":{},\"id\":\"3693\",\"type\":\"Selection\"},{\"attributes\":{\"fill_color\":{\"value\":\"white\"},\"line_width\":{\"value\":1.5},\"size\":{\"units\":\"screen\",\"value\":5},\"x\":{\"value\":1},\"y\":{\"field\":\"y\"}},\"id\":\"3422\",\"type\":\"Circle\"},{\"attributes\":{},\"id\":\"3694\",\"type\":\"UnionRenderers\"},{\"attributes\":{\"callback\":null,\"data\":{},\"selected\":{\"id\":\"3695\",\"type\":\"Selection\"},\"selection_policy\":{\"id\":\"3694\",\"type\":\"UnionRenderers\"}},\"id\":\"3426\",\"type\":\"ColumnDataSource\"},{\"attributes\":{\"callback\":null},\"id\":\"3388\",\"type\":\"DataRange1d\"},{\"attributes\":{\"source\":{\"id\":\"3471\",\"type\":\"ColumnDataSource\"}},\"id\":\"3475\",\"type\":\"CDSView\"},{\"attributes\":{},\"id\":\"3695\",\"type\":\"Selection\"},{\"attributes\":{},\"id\":\"3402\",\"type\":\"BasicTicker\"},{\"attributes\":{\"callback\":null},\"id\":\"3390\",\"type\":\"DataRange1d\"},{\"attributes\":{},\"id\":\"3696\",\"type\":\"UnionRenderers\"},{\"attributes\":{},\"id\":\"3697\",\"type\":\"Selection\"},{\"attributes\":{},\"id\":\"3698\",\"type\":\"UnionRenderers\"},{\"attributes\":{},\"id\":\"3699\",\"type\":\"Selection\"},{\"attributes\":{},\"id\":\"3700\",\"type\":\"UnionRenderers\"},{\"attributes\":{},\"id\":\"3701\",\"type\":\"Selection\"},{\"attributes\":{},\"id\":\"3690\",\"type\":\"BasicTickFormatter\"},{\"attributes\":{},\"id\":\"3702\",\"type\":\"UnionRenderers\"},{\"attributes\":{},\"id\":\"3703\",\"type\":\"Selection\"},{\"attributes\":{},\"id\":\"3704\",\"type\":\"UnionRenderers\"},{\"attributes\":{},\"id\":\"3705\",\"type\":\"Selection\"},{\"attributes\":{},\"id\":\"3706\",\"type\":\"UnionRenderers\"},{\"attributes\":{},\"id\":\"3707\",\"type\":\"Selection\"},{\"attributes\":{\"callback\":null,\"data\":{\"y\":{\"__ndarray__\":\"uZEbuZEb6T++Jr3XpPfaP1HdDtXtUN0/6ZM+6ZM+6T9SuB6F61HYPxiBERiBEdg/I/qA6thb6z992aDJlw3aP2lpaWlpaek/l3Ipl3Ip5z85juM4juPiP0ArAa0EtJI/27Zt27Zt6z+BC1zgAhfoP5Q+6ZM+6cM/gr1jamDv6D8=\",\"dtype\":\"float64\",\"shape\":[16]}},\"selected\":{\"id\":\"3693\",\"type\":\"Selection\"},\"selection_policy\":{\"id\":\"3692\",\"type\":\"UnionRenderers\"}},\"id\":\"3421\",\"type\":\"ColumnDataSource\"},{\"attributes\":{},\"id\":\"3708\",\"type\":\"UnionRenderers\"},{\"attributes\":{},\"id\":\"3709\",\"type\":\"Selection\"},{\"attributes\":{},\"id\":\"3710\",\"type\":\"UnionRenderers\"},{\"attributes\":{},\"id\":\"3711\",\"type\":\"Selection\"},{\"attributes\":{\"callback\":null,\"data\":{\"x\":{\"__ndarray__\":\"AQAAAAIAAAA=\",\"dtype\":\"int32\",\"shape\":[2]},\"y\":{\"__ndarray__\":\"fdmgyZcN2j9HLUL+mh3lPw==\",\"dtype\":\"float64\",\"shape\":[2]}},\"selected\":{\"id\":\"3715\",\"type\":\"Selection\"},\"selection_policy\":{\"id\":\"3714\",\"type\":\"UnionRenderers\"}},\"id\":\"3476\",\"type\":\"ColumnDataSource\"},{\"attributes\":{},\"id\":\"3712\",\"type\":\"UnionRenderers\"},{\"attributes\":{},\"id\":\"3410\",\"type\":\"ResetTool\"},{\"attributes\":{\"line_color\":\"gray\",\"line_width\":0.5,\"x\":{\"field\":\"x\"},\"y\":{\"field\":\"y\"}},\"id\":\"3447\",\"type\":\"Line\"},{\"attributes\":{\"line_color\":\"gray\",\"line_width\":0.5,\"x\":{\"field\":\"x\"},\"y\":{\"field\":\"y\"}},\"id\":\"3477\",\"type\":\"Line\"},{\"attributes\":{},\"id\":\"3411\",\"type\":\"HelpTool\"},{\"attributes\":{},\"id\":\"3713\",\"type\":\"Selection\"},{\"attributes\":{\"line_alpha\":0.1,\"line_color\":\"#1f77b4\",\"line_width\":0.5,\"x\":{\"field\":\"x\"},\"y\":{\"field\":\"y\"}},\"id\":\"3478\",\"type\":\"Line\"},{\"attributes\":{\"callback\":null,\"data\":{\"x\":{\"__ndarray__\":\"AQAAAAIAAAA=\",\"dtype\":\"int32\",\"shape\":[2]},\"y\":{\"__ndarray__\":\"5v4K5NNI4j/sUVvltjTmPw==\",\"dtype\":\"float64\",\"shape\":[2]}},\"selected\":{\"id\":\"3733\",\"type\":\"Selection\"},\"selection_policy\":{\"id\":\"3732\",\"type\":\"UnionRenderers\"}},\"id\":\"3521\",\"type\":\"ColumnDataSource\"},{\"attributes\":{},\"id\":\"3714\",\"type\":\"UnionRenderers\"},{\"attributes\":{\"data_source\":{\"id\":\"3476\",\"type\":\"ColumnDataSource\"},\"glyph\":{\"id\":\"3477\",\"type\":\"Line\"},\"hover_glyph\":null,\"muted_glyph\":null,\"nonselection_glyph\":{\"id\":\"3478\",\"type\":\"Line\"},\"selection_glyph\":null,\"view\":{\"id\":\"3480\",\"type\":\"CDSView\"}},\"id\":\"3479\",\"type\":\"GlyphRenderer\"},{\"attributes\":{\"fill_color\":{\"value\":\"black\"},\"line_width\":{\"value\":1.5},\"size\":{\"units\":\"screen\",\"value\":5},\"x\":{\"value\":2},\"y\":{\"value\":0.6939348678229726}},\"id\":\"3437\",\"type\":\"Circle\"},{\"attributes\":{},\"id\":\"3715\",\"type\":\"Selection\"},{\"attributes\":{\"callback\":null,\"data\":{},\"selected\":{\"id\":\"3699\",\"type\":\"Selection\"},\"selection_policy\":{\"id\":\"3698\",\"type\":\"UnionRenderers\"}},\"id\":\"3436\",\"type\":\"ColumnDataSource\"},{\"attributes\":{\"source\":{\"id\":\"3431\",\"type\":\"ColumnDataSource\"}},\"id\":\"3435\",\"type\":\"CDSView\"},{\"attributes\":{\"source\":{\"id\":\"3476\",\"type\":\"ColumnDataSource\"}},\"id\":\"3480\",\"type\":\"CDSView\"},{\"attributes\":{},\"id\":\"3716\",\"type\":\"UnionRenderers\"},{\"attributes\":{\"source\":{\"id\":\"3441\",\"type\":\"ColumnDataSource\"}},\"id\":\"3445\",\"type\":\"CDSView\"},{\"attributes\":{\"callback\":null,\"data\":{\"x\":{\"__ndarray__\":\"AQAAAAIAAAA=\",\"dtype\":\"int32\",\"shape\":[2]},\"y\":{\"__ndarray__\":\"aWlpaWlp6T9vMEU+6wbrPw==\",\"dtype\":\"float64\",\"shape\":[2]}},\"selected\":{\"id\":\"3717\",\"type\":\"Selection\"},\"selection_policy\":{\"id\":\"3716\",\"type\":\"UnionRenderers\"}},\"id\":\"3481\",\"type\":\"ColumnDataSource\"},{\"attributes\":{},\"id\":\"3717\",\"type\":\"Selection\"},{\"attributes\":{\"fill_color\":{\"value\":\"white\"},\"line_width\":{\"value\":1.5},\"size\":{\"units\":\"screen\",\"value\":5},\"x\":{\"value\":2},\"y\":{\"field\":\"y\"}},\"id\":\"3432\",\"type\":\"Circle\"},{\"attributes\":{\"line_color\":\"gray\",\"line_width\":0.5,\"x\":{\"field\":\"x\"},\"y\":{\"field\":\"y\"}},\"id\":\"3482\",\"type\":\"Line\"},{\"attributes\":{},\"id\":\"3718\",\"type\":\"UnionRenderers\"},{\"attributes\":{\"fill_alpha\":{\"value\":0.1},\"fill_color\":{\"value\":\"#1f77b4\"},\"line_alpha\":{\"value\":0.1},\"line_color\":{\"value\":\"#1f77b4\"},\"line_width\":{\"value\":1.5},\"size\":{\"units\":\"screen\",\"value\":5},\"x\":{\"value\":2},\"y\":{\"field\":\"y\"}},\"id\":\"3433\",\"type\":\"Circle\"},{\"attributes\":{\"line_color\":\"gray\",\"line_width\":0.5,\"x\":{\"field\":\"x\"},\"y\":{\"field\":\"y\"}},\"id\":\"3462\",\"type\":\"Line\"},{\"attributes\":{\"data_source\":{\"id\":\"3431\",\"type\":\"ColumnDataSource\"},\"glyph\":{\"id\":\"3432\",\"type\":\"Circle\"},\"hover_glyph\":null,\"muted_glyph\":null,\"nonselection_glyph\":{\"id\":\"3433\",\"type\":\"Circle\"},\"selection_glyph\":null,\"view\":{\"id\":\"3435\",\"type\":\"CDSView\"}},\"id\":\"3434\",\"type\":\"GlyphRenderer\"},{\"attributes\":{\"line_alpha\":0.1,\"line_color\":\"#1f77b4\",\"line_width\":0.5,\"x\":{\"field\":\"x\"},\"y\":{\"field\":\"y\"}},\"id\":\"3483\",\"type\":\"Line\"},{\"attributes\":{},\"id\":\"3719\",\"type\":\"Selection\"},{\"attributes\":{\"data_source\":{\"id\":\"3481\",\"type\":\"ColumnDataSource\"},\"glyph\":{\"id\":\"3482\",\"type\":\"Line\"},\"hover_glyph\":null,\"muted_glyph\":null,\"nonselection_glyph\":{\"id\":\"3483\",\"type\":\"Line\"},\"selection_glyph\":null,\"view\":{\"id\":\"3485\",\"type\":\"CDSView\"}},\"id\":\"3484\",\"type\":\"GlyphRenderer\"},{\"attributes\":{\"source\":{\"id\":\"3466\",\"type\":\"ColumnDataSource\"}},\"id\":\"3470\",\"type\":\"CDSView\"},{\"attributes\":{},\"id\":\"3720\",\"type\":\"UnionRenderers\"},{\"attributes\":{\"data_source\":{\"id\":\"3471\",\"type\":\"ColumnDataSource\"},\"glyph\":{\"id\":\"3472\",\"type\":\"Line\"},\"hover_glyph\":null,\"muted_glyph\":null,\"nonselection_glyph\":{\"id\":\"3473\",\"type\":\"Line\"},\"selection_glyph\":null,\"view\":{\"id\":\"3475\",\"type\":\"CDSView\"}},\"id\":\"3474\",\"type\":\"GlyphRenderer\"},{\"attributes\":{\"active_drag\":\"auto\",\"active_inspect\":\"auto\",\"active_multi\":null,\"active_scroll\":\"auto\",\"active_tap\":\"auto\",\"tools\":[{\"id\":\"3406\",\"type\":\"PanTool\"},{\"id\":\"3407\",\"type\":\"WheelZoomTool\"},{\"id\":\"3408\",\"type\":\"BoxZoomTool\"},{\"id\":\"3409\",\"type\":\"SaveTool\"},{\"id\":\"3410\",\"type\":\"ResetTool\"},{\"id\":\"3411\",\"type\":\"HelpTool\"}]},\"id\":\"3412\",\"type\":\"Toolbar\"},{\"attributes\":{\"source\":{\"id\":\"3481\",\"type\":\"ColumnDataSource\"}},\"id\":\"3485\",\"type\":\"CDSView\"},{\"attributes\":{},\"id\":\"3721\",\"type\":\"Selection\"},{\"attributes\":{\"source\":{\"id\":\"3421\",\"type\":\"ColumnDataSource\"}},\"id\":\"3425\",\"type\":\"CDSView\"},{\"attributes\":{\"callback\":null,\"data\":{\"x\":{\"__ndarray__\":\"AQAAAAIAAAA=\",\"dtype\":\"int32\",\"shape\":[2]},\"y\":{\"__ndarray__\":\"l3Ipl3Ip5z8TjLeyzyHlPw==\",\"dtype\":\"float64\",\"shape\":[2]}},\"selected\":{\"id\":\"3719\",\"type\":\"Selection\"},\"selection_policy\":{\"id\":\"3718\",\"type\":\"UnionRenderers\"}},\"id\":\"3486\",\"type\":\"ColumnDataSource\"},{\"attributes\":{},\"id\":\"3722\",\"type\":\"UnionRenderers\"},{\"attributes\":{\"bottom_units\":\"screen\",\"fill_alpha\":{\"value\":0.5},\"fill_color\":{\"value\":\"lightgrey\"},\"left_units\":\"screen\",\"level\":\"overlay\",\"line_alpha\":{\"value\":1.0},\"line_color\":{\"value\":\"black\"},\"line_dash\":[4,4],\"line_width\":{\"value\":2},\"plot\":null,\"render_mode\":\"css\",\"right_units\":\"screen\",\"top_units\":\"screen\"},\"id\":\"3414\",\"type\":\"BoxAnnotation\"},{\"attributes\":{\"line_color\":\"gray\",\"line_width\":0.5,\"x\":{\"field\":\"x\"},\"y\":{\"field\":\"y\"}},\"id\":\"3487\",\"type\":\"Line\"},{\"attributes\":{},\"id\":\"3723\",\"type\":\"Selection\"},{\"attributes\":{\"line_color\":\"gray\",\"line_width\":0.5,\"x\":{\"field\":\"x\"},\"y\":{\"field\":\"y\"}},\"id\":\"3472\",\"type\":\"Line\"},{\"attributes\":{\"callback\":null,\"data\":{\"y\":{\"__ndarray__\":\"WPuGtW9Y6z8atQZykrniP+Bcnv3N5dk/r6G8hvIa5j8aYbmnEZbjP+9bI6vLsOc/yKR4gUyK5z9HLUL+mh3lP28wRT7rBus/E4y3ss8h5T/Z2NjY2NjoP/jee++9994/vxoT6YHK6T8fclkxUMLrPxZf8RVf8eU/QZ4S5ClB5j8=\",\"dtype\":\"float64\",\"shape\":[16]}},\"selected\":{\"id\":\"3697\",\"type\":\"Selection\"},\"selection_policy\":{\"id\":\"3696\",\"type\":\"UnionRenderers\"}},\"id\":\"3431\",\"type\":\"ColumnDataSource\"},{\"attributes\":{\"line_alpha\":0.1,\"line_color\":\"#1f77b4\",\"line_width\":0.5,\"x\":{\"field\":\"x\"},\"y\":{\"field\":\"y\"}},\"id\":\"3488\",\"type\":\"Line\"},{\"attributes\":{},\"id\":\"3724\",\"type\":\"UnionRenderers\"},{\"attributes\":{\"source\":{\"id\":\"3426\",\"type\":\"ColumnDataSource\"}},\"id\":\"3430\",\"type\":\"CDSView\"},{\"attributes\":{\"data_source\":{\"id\":\"3486\",\"type\":\"ColumnDataSource\"},\"glyph\":{\"id\":\"3487\",\"type\":\"Line\"},\"hover_glyph\":null,\"muted_glyph\":null,\"nonselection_glyph\":{\"id\":\"3488\",\"type\":\"Line\"},\"selection_glyph\":null,\"view\":{\"id\":\"3490\",\"type\":\"CDSView\"}},\"id\":\"3489\",\"type\":\"GlyphRenderer\"},{\"attributes\":{},\"id\":\"3725\",\"type\":\"Selection\"},{\"attributes\":{\"data_source\":{\"id\":\"3466\",\"type\":\"ColumnDataSource\"},\"glyph\":{\"id\":\"3467\",\"type\":\"Line\"},\"hover_glyph\":null,\"muted_glyph\":null,\"nonselection_glyph\":{\"id\":\"3468\",\"type\":\"Line\"},\"selection_glyph\":null,\"view\":{\"id\":\"3470\",\"type\":\"CDSView\"}},\"id\":\"3469\",\"type\":\"GlyphRenderer\"},{\"attributes\":{\"fill_color\":{\"value\":\"black\"},\"line_width\":{\"value\":1.5},\"size\":{\"units\":\"screen\",\"value\":5},\"x\":{\"value\":1},\"y\":{\"value\":0.5713900999034791}},\"id\":\"3427\",\"type\":\"Circle\"},{\"attributes\":{\"line_alpha\":0.1,\"line_color\":\"#1f77b4\",\"line_width\":0.5,\"x\":{\"field\":\"x\"},\"y\":{\"field\":\"y\"}},\"id\":\"3473\",\"type\":\"Line\"},{\"attributes\":{\"source\":{\"id\":\"3486\",\"type\":\"ColumnDataSource\"}},\"id\":\"3490\",\"type\":\"CDSView\"},{\"attributes\":{\"fill_alpha\":{\"value\":0.1},\"fill_color\":{\"value\":\"#1f77b4\"},\"line_alpha\":{\"value\":0.1},\"line_color\":{\"value\":\"#1f77b4\"},\"line_width\":{\"value\":1.5},\"size\":{\"units\":\"screen\",\"value\":5},\"x\":{\"value\":1},\"y\":{\"value\":0.5713900999034791}},\"id\":\"3428\",\"type\":\"Circle\"},{\"attributes\":{\"source\":{\"id\":\"3446\",\"type\":\"ColumnDataSource\"}},\"id\":\"3450\",\"type\":\"CDSView\"},{\"attributes\":{},\"id\":\"3726\",\"type\":\"UnionRenderers\"},{\"attributes\":{\"callback\":null,\"data\":{\"x\":{\"__ndarray__\":\"AQAAAAIAAAA=\",\"dtype\":\"int32\",\"shape\":[2]},\"y\":{\"__ndarray__\":\"OY7jOI7j4j/Z2NjY2NjoPw==\",\"dtype\":\"float64\",\"shape\":[2]}},\"selected\":{\"id\":\"3721\",\"type\":\"Selection\"},\"selection_policy\":{\"id\":\"3720\",\"type\":\"UnionRenderers\"}},\"id\":\"3491\",\"type\":\"ColumnDataSource\"},{\"attributes\":{},\"id\":\"3727\",\"type\":\"Selection\"},{\"attributes\":{\"callback\":null,\"data\":{\"x\":{\"__ndarray__\":\"AQAAAAIAAAA=\",\"dtype\":\"int32\",\"shape\":[2]},\"y\":{\"__ndarray__\":\"UrgehetR2D8aYbmnEZbjPw==\",\"dtype\":\"float64\",\"shape\":[2]}},\"selected\":{\"id\":\"3709\",\"type\":\"Selection\"},\"selection_policy\":{\"id\":\"3708\",\"type\":\"UnionRenderers\"}},\"id\":\"3461\",\"type\":\"ColumnDataSource\"},{\"attributes\":{\"line_color\":\"gray\",\"line_width\":0.5,\"x\":{\"field\":\"x\"},\"y\":{\"field\":\"y\"}},\"id\":\"3492\",\"type\":\"Line\"},{\"attributes\":{},\"id\":\"3728\",\"type\":\"UnionRenderers\"},{\"attributes\":{\"data_source\":{\"id\":\"3456\",\"type\":\"ColumnDataSource\"},\"glyph\":{\"id\":\"3457\",\"type\":\"Line\"},\"hover_glyph\":null,\"muted_glyph\":null,\"nonselection_glyph\":{\"id\":\"3458\",\"type\":\"Line\"},\"selection_glyph\":null,\"view\":{\"id\":\"3460\",\"type\":\"CDSView\"}},\"id\":\"3459\",\"type\":\"GlyphRenderer\"},{\"attributes\":{\"data_source\":{\"id\":\"3426\",\"type\":\"ColumnDataSource\"},\"glyph\":{\"id\":\"3427\",\"type\":\"Circle\"},\"hover_glyph\":null,\"muted_glyph\":null,\"nonselection_glyph\":{\"id\":\"3428\",\"type\":\"Circle\"},\"selection_glyph\":null,\"view\":{\"id\":\"3430\",\"type\":\"CDSView\"}},\"id\":\"3429\",\"type\":\"GlyphRenderer\"},{\"attributes\":{\"line_alpha\":0.1,\"line_color\":\"#1f77b4\",\"line_width\":0.5,\"x\":{\"field\":\"x\"},\"y\":{\"field\":\"y\"}},\"id\":\"3493\",\"type\":\"Line\"},{\"attributes\":{},\"id\":\"3729\",\"type\":\"Selection\"},{\"attributes\":{\"fill_alpha\":{\"value\":0.1},\"fill_color\":{\"value\":\"#1f77b4\"},\"line_alpha\":{\"value\":0.1},\"line_color\":{\"value\":\"#1f77b4\"},\"line_width\":{\"value\":1.5},\"size\":{\"units\":\"screen\",\"value\":5},\"x\":{\"value\":2},\"y\":{\"value\":0.6939348678229726}},\"id\":\"3438\",\"type\":\"Circle\"},{\"attributes\":{\"line_color\":\"gray\",\"line_width\":0.5,\"x\":{\"field\":\"x\"},\"y\":{\"field\":\"y\"}},\"id\":\"3457\",\"type\":\"Line\"},{\"attributes\":{\"data_source\":{\"id\":\"3491\",\"type\":\"ColumnDataSource\"},\"glyph\":{\"id\":\"3492\",\"type\":\"Line\"},\"hover_glyph\":null,\"muted_glyph\":null,\"nonselection_glyph\":{\"id\":\"3493\",\"type\":\"Line\"},\"selection_glyph\":null,\"view\":{\"id\":\"3495\",\"type\":\"CDSView\"}},\"id\":\"3494\",\"type\":\"GlyphRenderer\"},{\"attributes\":{\"line_alpha\":0.1,\"line_color\":\"#1f77b4\",\"line_width\":0.5,\"x\":{\"field\":\"x\"},\"y\":{\"field\":\"y\"}},\"id\":\"3458\",\"type\":\"Line\"},{\"attributes\":{},\"id\":\"3730\",\"type\":\"UnionRenderers\"},{\"attributes\":{\"source\":{\"id\":\"3491\",\"type\":\"ColumnDataSource\"}},\"id\":\"3495\",\"type\":\"CDSView\"},{\"attributes\":{},\"id\":\"3731\",\"type\":\"Selection\"},{\"attributes\":{\"source\":{\"id\":\"3436\",\"type\":\"ColumnDataSource\"}},\"id\":\"3440\",\"type\":\"CDSView\"},{\"attributes\":{\"source\":{\"id\":\"3456\",\"type\":\"ColumnDataSource\"}},\"id\":\"3460\",\"type\":\"CDSView\"},{\"attributes\":{\"callback\":null,\"data\":{\"x\":{\"__ndarray__\":\"AQAAAAIAAAA=\",\"dtype\":\"int32\",\"shape\":[2]},\"y\":{\"__ndarray__\":\"QCsBrQS0kj/43nvvvffePw==\",\"dtype\":\"float64\",\"shape\":[2]}},\"selected\":{\"id\":\"3723\",\"type\":\"Selection\"},\"selection_policy\":{\"id\":\"3722\",\"type\":\"UnionRenderers\"}},\"id\":\"3496\",\"type\":\"ColumnDataSource\"},{\"attributes\":{},\"id\":\"3732\",\"type\":\"UnionRenderers\"},{\"attributes\":{\"data_source\":{\"id\":\"3436\",\"type\":\"ColumnDataSource\"},\"glyph\":{\"id\":\"3437\",\"type\":\"Circle\"},\"hover_glyph\":null,\"muted_glyph\":null,\"nonselection_glyph\":{\"id\":\"3438\",\"type\":\"Circle\"},\"selection_glyph\":null,\"view\":{\"id\":\"3440\",\"type\":\"CDSView\"}},\"id\":\"3439\",\"type\":\"GlyphRenderer\"},{\"attributes\":{\"callback\":null,\"data\":{\"x\":{\"__ndarray__\":\"AQAAAAIAAAA=\",\"dtype\":\"int32\",\"shape\":[2]},\"y\":{\"__ndarray__\":\"uZEbuZEb6T9Y+4a1b1jrPw==\",\"dtype\":\"float64\",\"shape\":[2]}},\"selected\":{\"id\":\"3701\",\"type\":\"Selection\"},\"selection_policy\":{\"id\":\"3700\",\"type\":\"UnionRenderers\"}},\"id\":\"3441\",\"type\":\"ColumnDataSource\"},{\"attributes\":{\"line_color\":\"gray\",\"line_width\":0.5,\"x\":{\"field\":\"x\"},\"y\":{\"field\":\"y\"}},\"id\":\"3497\",\"type\":\"Line\"},{\"attributes\":{},\"id\":\"3733\",\"type\":\"Selection\"},{\"attributes\":{},\"id\":\"3689\",\"type\":\"BasicTickFormatter\"},{\"attributes\":{\"callback\":null,\"data\":{\"x\":{\"__ndarray__\":\"AQAAAAIAAAA=\",\"dtype\":\"int32\",\"shape\":[2]},\"y\":{\"__ndarray__\":\"6ZM+6ZM+6T+vobyG8hrmPw==\",\"dtype\":\"float64\",\"shape\":[2]}},\"selected\":{\"id\":\"3707\",\"type\":\"Selection\"},\"selection_policy\":{\"id\":\"3706\",\"type\":\"UnionRenderers\"}},\"id\":\"3456\",\"type\":\"ColumnDataSource\"},{\"attributes\":{\"line_alpha\":0.1,\"line_color\":\"#1f77b4\",\"line_width\":0.5,\"x\":{\"field\":\"x\"},\"y\":{\"field\":\"y\"}},\"id\":\"3498\",\"type\":\"Line\"},{\"attributes\":{\"line_alpha\":0.1,\"line_color\":\"#1f77b4\",\"line_width\":0.5,\"x\":{\"field\":\"x\"},\"y\":{\"field\":\"y\"}},\"id\":\"3443\",\"type\":\"Line\"},{\"attributes\":{\"source\":{\"id\":\"3451\",\"type\":\"ColumnDataSource\"}},\"id\":\"3455\",\"type\":\"CDSView\"},{\"attributes\":{\"data_source\":{\"id\":\"3496\",\"type\":\"ColumnDataSource\"},\"glyph\":{\"id\":\"3497\",\"type\":\"Line\"},\"hover_glyph\":null,\"muted_glyph\":null,\"nonselection_glyph\":{\"id\":\"3498\",\"type\":\"Line\"},\"selection_glyph\":null,\"view\":{\"id\":\"3500\",\"type\":\"CDSView\"}},\"id\":\"3499\",\"type\":\"GlyphRenderer\"},{\"attributes\":{\"data_source\":{\"id\":\"3451\",\"type\":\"ColumnDataSource\"},\"glyph\":{\"id\":\"3452\",\"type\":\"Line\"},\"hover_glyph\":null,\"muted_glyph\":null,\"nonselection_glyph\":{\"id\":\"3453\",\"type\":\"Line\"},\"selection_glyph\":null,\"view\":{\"id\":\"3455\",\"type\":\"CDSView\"}},\"id\":\"3454\",\"type\":\"GlyphRenderer\"},{\"attributes\":{\"line_color\":\"gray\",\"line_width\":0.5,\"x\":{\"field\":\"x\"},\"y\":{\"field\":\"y\"}},\"id\":\"3442\",\"type\":\"Line\"},{\"attributes\":{\"data_source\":{\"id\":\"3441\",\"type\":\"ColumnDataSource\"},\"glyph\":{\"id\":\"3442\",\"type\":\"Line\"},\"hover_glyph\":null,\"muted_glyph\":null,\"nonselection_glyph\":{\"id\":\"3443\",\"type\":\"Line\"},\"selection_glyph\":null,\"view\":{\"id\":\"3445\",\"type\":\"CDSView\"}},\"id\":\"3444\",\"type\":\"GlyphRenderer\"},{\"attributes\":{\"source\":{\"id\":\"3496\",\"type\":\"ColumnDataSource\"}},\"id\":\"3500\",\"type\":\"CDSView\"},{\"attributes\":{\"line_alpha\":0.1,\"line_color\":\"#1f77b4\",\"line_width\":0.5,\"x\":{\"field\":\"x\"},\"y\":{\"field\":\"y\"}},\"id\":\"3453\",\"type\":\"Line\"},{\"attributes\":{\"callback\":null,\"data\":{\"x\":{\"__ndarray__\":\"AQAAAAIAAAA=\",\"dtype\":\"int32\",\"shape\":[2]},\"y\":{\"__ndarray__\":\"27Zt27Zt6z+/GhPpgcrpPw==\",\"dtype\":\"float64\",\"shape\":[2]}},\"selected\":{\"id\":\"3725\",\"type\":\"Selection\"},\"selection_policy\":{\"id\":\"3724\",\"type\":\"UnionRenderers\"}},\"id\":\"3501\",\"type\":\"ColumnDataSource\"},{\"attributes\":{\"line_color\":\"gray\",\"line_width\":0.5,\"x\":{\"field\":\"x\"},\"y\":{\"field\":\"y\"}},\"id\":\"3452\",\"type\":\"Line\"},{\"attributes\":{\"line_color\":\"gray\",\"line_width\":0.5,\"x\":{\"field\":\"x\"},\"y\":{\"field\":\"y\"}},\"id\":\"3502\",\"type\":\"Line\"},{\"attributes\":{\"callback\":null,\"data\":{\"x\":{\"__ndarray__\":\"AQAAAAIAAAA=\",\"dtype\":\"int32\",\"shape\":[2]},\"y\":{\"__ndarray__\":\"Ud0O1e1Q3T/gXJ79zeXZPw==\",\"dtype\":\"float64\",\"shape\":[2]}},\"selected\":{\"id\":\"3705\",\"type\":\"Selection\"},\"selection_policy\":{\"id\":\"3704\",\"type\":\"UnionRenderers\"}},\"id\":\"3451\",\"type\":\"ColumnDataSource\"},{\"attributes\":{\"data_source\":{\"id\":\"3446\",\"type\":\"ColumnDataSource\"},\"glyph\":{\"id\":\"3447\",\"type\":\"Line\"},\"hover_glyph\":null,\"muted_glyph\":null,\"nonselection_glyph\":{\"id\":\"3448\",\"type\":\"Line\"},\"selection_glyph\":null,\"view\":{\"id\":\"3450\",\"type\":\"CDSView\"}},\"id\":\"3449\",\"type\":\"GlyphRenderer\"},{\"attributes\":{\"line_alpha\":0.1,\"line_color\":\"#1f77b4\",\"line_width\":0.5,\"x\":{\"field\":\"x\"},\"y\":{\"field\":\"y\"}},\"id\":\"3503\",\"type\":\"Line\"},{\"attributes\":{\"data_source\":{\"id\":\"3501\",\"type\":\"ColumnDataSource\"},\"glyph\":{\"id\":\"3502\",\"type\":\"Line\"},\"hover_glyph\":null,\"muted_glyph\":null,\"nonselection_glyph\":{\"id\":\"3503\",\"type\":\"Line\"},\"selection_glyph\":null,\"view\":{\"id\":\"3505\",\"type\":\"CDSView\"}},\"id\":\"3504\",\"type\":\"GlyphRenderer\"},{\"attributes\":{\"callback\":null,\"data\":{\"x\":{\"__ndarray__\":\"AQAAAAIAAAA=\",\"dtype\":\"int32\",\"shape\":[2]},\"y\":{\"__ndarray__\":\"via916T32j8atQZykrniPw==\",\"dtype\":\"float64\",\"shape\":[2]}},\"selected\":{\"id\":\"3703\",\"type\":\"Selection\"},\"selection_policy\":{\"id\":\"3702\",\"type\":\"UnionRenderers\"}},\"id\":\"3446\",\"type\":\"ColumnDataSource\"},{\"attributes\":{\"line_alpha\":0.1,\"line_color\":\"#1f77b4\",\"line_width\":0.5,\"x\":{\"field\":\"x\"},\"y\":{\"field\":\"y\"}},\"id\":\"3448\",\"type\":\"Line\"},{\"attributes\":{\"source\":{\"id\":\"3501\",\"type\":\"ColumnDataSource\"}},\"id\":\"3505\",\"type\":\"CDSView\"},{\"attributes\":{\"line_alpha\":0.1,\"line_color\":\"#1f77b4\",\"line_width\":0.5,\"x\":{\"field\":\"x\"},\"y\":{\"field\":\"y\"}},\"id\":\"3463\",\"type\":\"Line\"},{\"attributes\":{\"callback\":null,\"data\":{\"x\":{\"__ndarray__\":\"AQAAAAIAAAA=\",\"dtype\":\"int32\",\"shape\":[2]},\"y\":{\"__ndarray__\":\"gQtc4AIX6D8fclkxUMLrPw==\",\"dtype\":\"float64\",\"shape\":[2]}},\"selected\":{\"id\":\"3727\",\"type\":\"Selection\"},\"selection_policy\":{\"id\":\"3726\",\"type\":\"UnionRenderers\"}},\"id\":\"3506\",\"type\":\"ColumnDataSource\"},{\"attributes\":{\"callback\":null,\"data\":{\"x\":{\"__ndarray__\":\"AQAAAAIAAAA=\",\"dtype\":\"int32\",\"shape\":[2]},\"y\":{\"__ndarray__\":\"I/qA6thb6z/IpHiBTIrnPw==\",\"dtype\":\"float64\",\"shape\":[2]}},\"selected\":{\"id\":\"3713\",\"type\":\"Selection\"},\"selection_policy\":{\"id\":\"3712\",\"type\":\"UnionRenderers\"}},\"id\":\"3471\",\"type\":\"ColumnDataSource\"},{\"attributes\":{\"data_source\":{\"id\":\"3461\",\"type\":\"ColumnDataSource\"},\"glyph\":{\"id\":\"3462\",\"type\":\"Line\"},\"hover_glyph\":null,\"muted_glyph\":null,\"nonselection_glyph\":{\"id\":\"3463\",\"type\":\"Line\"},\"selection_glyph\":null,\"view\":{\"id\":\"3465\",\"type\":\"CDSView\"}},\"id\":\"3464\",\"type\":\"GlyphRenderer\"},{\"attributes\":{\"line_color\":\"gray\",\"line_width\":0.5,\"x\":{\"field\":\"x\"},\"y\":{\"field\":\"y\"}},\"id\":\"3507\",\"type\":\"Line\"},{\"attributes\":{\"source\":{\"id\":\"3461\",\"type\":\"ColumnDataSource\"}},\"id\":\"3465\",\"type\":\"CDSView\"},{\"attributes\":{\"line_alpha\":0.1,\"line_color\":\"#1f77b4\",\"line_width\":0.5,\"x\":{\"field\":\"x\"},\"y\":{\"field\":\"y\"}},\"id\":\"3508\",\"type\":\"Line\"},{\"attributes\":{\"line_alpha\":0.1,\"line_color\":\"#1f77b4\",\"line_width\":0.5,\"x\":{\"field\":\"x\"},\"y\":{\"field\":\"y\"}},\"id\":\"3468\",\"type\":\"Line\"},{\"attributes\":{\"data_source\":{\"id\":\"3506\",\"type\":\"ColumnDataSource\"},\"glyph\":{\"id\":\"3507\",\"type\":\"Line\"},\"hover_glyph\":null,\"muted_glyph\":null,\"nonselection_glyph\":{\"id\":\"3508\",\"type\":\"Line\"},\"selection_glyph\":null,\"view\":{\"id\":\"3510\",\"type\":\"CDSView\"}},\"id\":\"3509\",\"type\":\"GlyphRenderer\"},{\"attributes\":{\"line_color\":\"gray\",\"line_width\":0.5,\"x\":{\"field\":\"x\"},\"y\":{\"field\":\"y\"}},\"id\":\"3467\",\"type\":\"Line\"},{\"attributes\":{\"source\":{\"id\":\"3506\",\"type\":\"ColumnDataSource\"}},\"id\":\"3510\",\"type\":\"CDSView\"},{\"attributes\":{\"callback\":null,\"data\":{\"x\":{\"__ndarray__\":\"AQAAAAIAAAA=\",\"dtype\":\"int32\",\"shape\":[2]},\"y\":{\"__ndarray__\":\"GIERGIER2D/vWyOry7DnPw==\",\"dtype\":\"float64\",\"shape\":[2]}},\"selected\":{\"id\":\"3711\",\"type\":\"Selection\"},\"selection_policy\":{\"id\":\"3710\",\"type\":\"UnionRenderers\"}},\"id\":\"3466\",\"type\":\"ColumnDataSource\"},{\"attributes\":{\"callback\":null,\"data\":{\"x\":{\"__ndarray__\":\"AQAAAAIAAAA=\",\"dtype\":\"int32\",\"shape\":[2]},\"y\":{\"__ndarray__\":\"lD7pkz7pwz8WX/EVX/HlPw==\",\"dtype\":\"float64\",\"shape\":[2]}},\"selected\":{\"id\":\"3729\",\"type\":\"Selection\"},\"selection_policy\":{\"id\":\"3728\",\"type\":\"UnionRenderers\"}},\"id\":\"3511\",\"type\":\"ColumnDataSource\"}],\"root_ids\":[\"3386\"]},\"title\":\"Bokeh Application\",\"version\":\"1.0.4\"}};\n",
       "  var render_items = [{\"docid\":\"c53c21b1-fba5-4cf6-956f-7e457ace64d4\",\"roots\":{\"3386\":\"fad6c264-2f48-44c6-a10b-5f9e3689a86c\"}}];\n",
       "  root.Bokeh.embed.embed_items_notebook(docs_json, render_items);\n",
       "\n",
       "  }\n",
       "  if (root.Bokeh !== undefined) {\n",
       "    embed_document(root);\n",
       "  } else {\n",
       "    var attempts = 0;\n",
       "    var timer = setInterval(function(root) {\n",
       "      if (root.Bokeh !== undefined) {\n",
       "        embed_document(root);\n",
       "        clearInterval(timer);\n",
       "      }\n",
       "      attempts++;\n",
       "      if (attempts > 100) {\n",
       "        console.log(\"Bokeh: ERROR: Unable to run BokehJS code because BokehJS library is missing\");\n",
       "        clearInterval(timer);\n",
       "      }\n",
       "    }, 10, root)\n",
       "  }\n",
       "})(window);"
      ],
      "application/vnd.bokehjs_exec.v0+json": ""
     },
     "metadata": {
      "application/vnd.bokehjs_exec.v0+json": {
       "id": "3386"
      }
     },
     "output_type": "display_data"
    },
    {
     "data": {
      "text/html": [
       "\n",
       "\n",
       "\n",
       "\n",
       "\n",
       "\n",
       "  <div class=\"bk-root\" id=\"e46b0814-2309-4729-9467-ced56685d2f7\" data-root-id=\"4018\"></div>\n"
      ]
     },
     "metadata": {},
     "output_type": "display_data"
    },
    {
     "data": {
      "application/javascript": [
       "(function(root) {\n",
       "  function embed_document(root) {\n",
       "    \n",
       "  var docs_json = {\"fd8ebf12-f20c-404b-aead-926973e5d91d\":{\"roots\":{\"references\":[{\"attributes\":{\"below\":[{\"id\":\"4028\",\"type\":\"LinearAxis\"}],\"left\":[{\"id\":\"4033\",\"type\":\"LinearAxis\"}],\"plot_height\":500,\"plot_width\":400,\"renderers\":[{\"id\":\"4028\",\"type\":\"LinearAxis\"},{\"id\":\"4032\",\"type\":\"Grid\"},{\"id\":\"4033\",\"type\":\"LinearAxis\"},{\"id\":\"4037\",\"type\":\"Grid\"},{\"id\":\"4046\",\"type\":\"BoxAnnotation\"},{\"id\":\"4056\",\"type\":\"GlyphRenderer\"},{\"id\":\"4061\",\"type\":\"GlyphRenderer\"},{\"id\":\"4066\",\"type\":\"GlyphRenderer\"},{\"id\":\"4071\",\"type\":\"GlyphRenderer\"},{\"id\":\"4076\",\"type\":\"GlyphRenderer\"},{\"id\":\"4081\",\"type\":\"GlyphRenderer\"},{\"id\":\"4086\",\"type\":\"GlyphRenderer\"},{\"id\":\"4091\",\"type\":\"GlyphRenderer\"},{\"id\":\"4096\",\"type\":\"GlyphRenderer\"},{\"id\":\"4101\",\"type\":\"GlyphRenderer\"},{\"id\":\"4106\",\"type\":\"GlyphRenderer\"},{\"id\":\"4111\",\"type\":\"GlyphRenderer\"},{\"id\":\"4116\",\"type\":\"GlyphRenderer\"},{\"id\":\"4121\",\"type\":\"GlyphRenderer\"},{\"id\":\"4126\",\"type\":\"GlyphRenderer\"},{\"id\":\"4131\",\"type\":\"GlyphRenderer\"},{\"id\":\"4136\",\"type\":\"GlyphRenderer\"},{\"id\":\"4141\",\"type\":\"GlyphRenderer\"},{\"id\":\"4146\",\"type\":\"GlyphRenderer\"},{\"id\":\"4151\",\"type\":\"GlyphRenderer\"},{\"id\":\"4156\",\"type\":\"GlyphRenderer\"}],\"title\":{\"id\":\"4017\",\"type\":\"Title\"},\"toolbar\":{\"id\":\"4044\",\"type\":\"Toolbar\"},\"x_range\":{\"id\":\"4020\",\"type\":\"DataRange1d\"},\"x_scale\":{\"id\":\"4024\",\"type\":\"LinearScale\"},\"y_range\":{\"id\":\"4022\",\"type\":\"DataRange1d\"},\"y_scale\":{\"id\":\"4026\",\"type\":\"LinearScale\"}},\"id\":\"4018\",\"subtype\":\"Figure\",\"type\":\"Plot\"},{\"attributes\":{\"data_source\":{\"id\":\"4053\",\"type\":\"ColumnDataSource\"},\"glyph\":{\"id\":\"4054\",\"type\":\"Circle\"},\"hover_glyph\":null,\"muted_glyph\":null,\"nonselection_glyph\":{\"id\":\"4055\",\"type\":\"Circle\"},\"selection_glyph\":null,\"view\":{\"id\":\"4057\",\"type\":\"CDSView\"}},\"id\":\"4056\",\"type\":\"GlyphRenderer\"},{\"attributes\":{},\"id\":\"4400\",\"type\":\"Selection\"},{\"attributes\":{\"bottom_units\":\"screen\",\"fill_alpha\":{\"value\":0.5},\"fill_color\":{\"value\":\"lightgrey\"},\"left_units\":\"screen\",\"level\":\"overlay\",\"line_alpha\":{\"value\":1.0},\"line_color\":{\"value\":\"black\"},\"line_dash\":[4,4],\"line_width\":{\"value\":2},\"plot\":null,\"render_mode\":\"css\",\"right_units\":\"screen\",\"top_units\":\"screen\"},\"id\":\"4046\",\"type\":\"BoxAnnotation\"},{\"attributes\":{},\"id\":\"4401\",\"type\":\"UnionRenderers\"},{\"attributes\":{\"source\":{\"id\":\"4053\",\"type\":\"ColumnDataSource\"}},\"id\":\"4057\",\"type\":\"CDSView\"},{\"attributes\":{},\"id\":\"4402\",\"type\":\"Selection\"},{\"attributes\":{\"callback\":null,\"data\":{\"y\":{\"__ndarray__\":\"gAWz/UGLBEA/AHsHPCj8Pwp3yE5aIvY/gTTitUsnAkD5no+1TX7+P7TzKgyVnQBA7Od9afOVAkAO/c9P3UkAQBiJcu857AJADVENfhOC+j8r+X2rjUT+P+j5cTHn1us/3NHi+YdY8j+kKdaQSBf2P9Ibk0PE+fc/ewjHnTC1AEA=\",\"dtype\":\"float64\",\"shape\":[16]}},\"selected\":{\"id\":\"4376\",\"type\":\"Selection\"},\"selection_policy\":{\"id\":\"4375\",\"type\":\"UnionRenderers\"}},\"id\":\"4063\",\"type\":\"ColumnDataSource\"},{\"attributes\":{},\"id\":\"4403\",\"type\":\"UnionRenderers\"},{\"attributes\":{},\"id\":\"4399\",\"type\":\"UnionRenderers\"},{\"attributes\":{\"fill_color\":{\"value\":\"green\"},\"line_color\":{\"value\":\"green\"},\"line_width\":{\"value\":1.5},\"size\":{\"units\":\"screen\",\"value\":5},\"x\":{\"value\":1},\"y\":{\"value\":1.4253694006918314}},\"id\":\"4059\",\"type\":\"Circle\"},{\"attributes\":{},\"id\":\"4404\",\"type\":\"Selection\"},{\"attributes\":{\"active_drag\":\"auto\",\"active_inspect\":\"auto\",\"active_multi\":null,\"active_scroll\":\"auto\",\"active_tap\":\"auto\",\"tools\":[{\"id\":\"4038\",\"type\":\"PanTool\"},{\"id\":\"4039\",\"type\":\"WheelZoomTool\"},{\"id\":\"4040\",\"type\":\"BoxZoomTool\"},{\"id\":\"4041\",\"type\":\"SaveTool\"},{\"id\":\"4042\",\"type\":\"ResetTool\"},{\"id\":\"4043\",\"type\":\"HelpTool\"}]},\"id\":\"4044\",\"type\":\"Toolbar\"},{\"attributes\":{},\"id\":\"4405\",\"type\":\"UnionRenderers\"},{\"attributes\":{\"line_alpha\":0.1,\"line_color\":\"#1f77b4\",\"line_width\":0.5,\"x\":{\"field\":\"x\"},\"y\":{\"field\":\"y\"}},\"id\":\"4080\",\"type\":\"Line\"},{\"attributes\":{},\"id\":\"4406\",\"type\":\"Selection\"},{\"attributes\":{},\"id\":\"4407\",\"type\":\"UnionRenderers\"},{\"attributes\":{},\"id\":\"4043\",\"type\":\"HelpTool\"},{\"attributes\":{},\"id\":\"4408\",\"type\":\"Selection\"},{\"attributes\":{},\"id\":\"4041\",\"type\":\"SaveTool\"},{\"attributes\":{},\"id\":\"4409\",\"type\":\"UnionRenderers\"},{\"attributes\":{},\"id\":\"4042\",\"type\":\"ResetTool\"},{\"attributes\":{},\"id\":\"4410\",\"type\":\"Selection\"},{\"attributes\":{},\"id\":\"4039\",\"type\":\"WheelZoomTool\"},{\"attributes\":{},\"id\":\"4411\",\"type\":\"UnionRenderers\"},{\"attributes\":{\"overlay\":{\"id\":\"4046\",\"type\":\"BoxAnnotation\"}},\"id\":\"4040\",\"type\":\"BoxZoomTool\"},{\"attributes\":{},\"id\":\"4412\",\"type\":\"Selection\"},{\"attributes\":{\"data_source\":{\"id\":\"4073\",\"type\":\"ColumnDataSource\"},\"glyph\":{\"id\":\"4074\",\"type\":\"Line\"},\"hover_glyph\":null,\"muted_glyph\":null,\"nonselection_glyph\":{\"id\":\"4075\",\"type\":\"Line\"},\"selection_glyph\":null,\"view\":{\"id\":\"4077\",\"type\":\"CDSView\"}},\"id\":\"4076\",\"type\":\"GlyphRenderer\"},{\"attributes\":{\"callback\":null,\"data\":{},\"selected\":{\"id\":\"4374\",\"type\":\"Selection\"},\"selection_policy\":{\"id\":\"4373\",\"type\":\"UnionRenderers\"}},\"id\":\"4058\",\"type\":\"ColumnDataSource\"},{\"attributes\":{},\"id\":\"4038\",\"type\":\"PanTool\"},{\"attributes\":{\"fill_color\":{\"value\":\"white\"},\"line_color\":{\"value\":\"green\"},\"line_width\":{\"value\":1.5},\"size\":{\"units\":\"screen\",\"value\":5},\"x\":{\"value\":1},\"y\":{\"field\":\"y\"}},\"id\":\"4054\",\"type\":\"Circle\"},{\"attributes\":{\"data_source\":{\"id\":\"4078\",\"type\":\"ColumnDataSource\"},\"glyph\":{\"id\":\"4079\",\"type\":\"Line\"},\"hover_glyph\":null,\"muted_glyph\":null,\"nonselection_glyph\":{\"id\":\"4080\",\"type\":\"Line\"},\"selection_glyph\":null,\"view\":{\"id\":\"4082\",\"type\":\"CDSView\"}},\"id\":\"4081\",\"type\":\"GlyphRenderer\"},{\"attributes\":{\"fill_alpha\":{\"value\":0.1},\"fill_color\":{\"value\":\"#1f77b4\"},\"line_alpha\":{\"value\":0.1},\"line_color\":{\"value\":\"#1f77b4\"},\"line_width\":{\"value\":1.5},\"size\":{\"units\":\"screen\",\"value\":5},\"x\":{\"value\":1},\"y\":{\"field\":\"y\"}},\"id\":\"4055\",\"type\":\"Circle\"},{\"attributes\":{\"fill_color\":{\"value\":\"white\"},\"line_color\":{\"value\":\"green\"},\"line_width\":{\"value\":1.5},\"size\":{\"units\":\"screen\",\"value\":5},\"x\":{\"value\":2},\"y\":{\"field\":\"y\"}},\"id\":\"4064\",\"type\":\"Circle\"},{\"attributes\":{\"callback\":null,\"data\":{},\"selected\":{\"id\":\"4378\",\"type\":\"Selection\"},\"selection_policy\":{\"id\":\"4377\",\"type\":\"UnionRenderers\"}},\"id\":\"4068\",\"type\":\"ColumnDataSource\"},{\"attributes\":{\"source\":{\"id\":\"4058\",\"type\":\"ColumnDataSource\"}},\"id\":\"4062\",\"type\":\"CDSView\"},{\"attributes\":{\"data_source\":{\"id\":\"4058\",\"type\":\"ColumnDataSource\"},\"glyph\":{\"id\":\"4059\",\"type\":\"Circle\"},\"hover_glyph\":null,\"muted_glyph\":null,\"nonselection_glyph\":{\"id\":\"4060\",\"type\":\"Circle\"},\"selection_glyph\":null,\"view\":{\"id\":\"4062\",\"type\":\"CDSView\"}},\"id\":\"4061\",\"type\":\"GlyphRenderer\"},{\"attributes\":{\"fill_alpha\":{\"value\":0.1},\"fill_color\":{\"value\":\"#1f77b4\"},\"line_alpha\":{\"value\":0.1},\"line_color\":{\"value\":\"#1f77b4\"},\"line_width\":{\"value\":1.5},\"size\":{\"units\":\"screen\",\"value\":5},\"x\":{\"value\":1},\"y\":{\"value\":1.4253694006918314}},\"id\":\"4060\",\"type\":\"Circle\"},{\"attributes\":{\"data_source\":{\"id\":\"4063\",\"type\":\"ColumnDataSource\"},\"glyph\":{\"id\":\"4064\",\"type\":\"Circle\"},\"hover_glyph\":null,\"muted_glyph\":null,\"nonselection_glyph\":{\"id\":\"4065\",\"type\":\"Circle\"},\"selection_glyph\":null,\"view\":{\"id\":\"4067\",\"type\":\"CDSView\"}},\"id\":\"4066\",\"type\":\"GlyphRenderer\"},{\"attributes\":{\"fill_alpha\":{\"value\":0.1},\"fill_color\":{\"value\":\"#1f77b4\"},\"line_alpha\":{\"value\":0.1},\"line_color\":{\"value\":\"#1f77b4\"},\"line_width\":{\"value\":1.5},\"size\":{\"units\":\"screen\",\"value\":5},\"x\":{\"value\":2},\"y\":{\"field\":\"y\"}},\"id\":\"4065\",\"type\":\"Circle\"},{\"attributes\":{\"callback\":null,\"data\":{\"x\":{\"__ndarray__\":\"AQAAAAIAAAA=\",\"dtype\":\"int32\",\"shape\":[2]},\"y\":{\"__ndarray__\":\"bwwLJVDO9j/UK4+adDj9Pw==\",\"dtype\":\"float64\",\"shape\":[2]}},\"selected\":{\"id\":\"4412\",\"type\":\"Selection\"},\"selection_policy\":{\"id\":\"4411\",\"type\":\"UnionRenderers\"}},\"id\":\"4153\",\"type\":\"ColumnDataSource\"},{\"attributes\":{\"source\":{\"id\":\"4063\",\"type\":\"ColumnDataSource\"}},\"id\":\"4067\",\"type\":\"CDSView\"},{\"attributes\":{\"fill_color\":{\"value\":\"green\"},\"line_color\":{\"value\":\"green\"},\"line_width\":{\"value\":1.5},\"size\":{\"units\":\"screen\",\"value\":5},\"x\":{\"value\":2},\"y\":{\"value\":1.8262830769988243}},\"id\":\"4069\",\"type\":\"Circle\"},{\"attributes\":{\"callback\":null,\"data\":{\"x\":{\"__ndarray__\":\"AQAAAAIAAAA=\",\"dtype\":\"int32\",\"shape\":[2]},\"y\":{\"__ndarray__\":\"hgqWvh6GAECABbP9QYsEQA==\",\"dtype\":\"float64\",\"shape\":[2]}},\"selected\":{\"id\":\"4380\",\"type\":\"Selection\"},\"selection_policy\":{\"id\":\"4379\",\"type\":\"UnionRenderers\"}},\"id\":\"4073\",\"type\":\"ColumnDataSource\"},{\"attributes\":{\"source\":{\"id\":\"4068\",\"type\":\"ColumnDataSource\"}},\"id\":\"4072\",\"type\":\"CDSView\"},{\"attributes\":{\"data_source\":{\"id\":\"4068\",\"type\":\"ColumnDataSource\"},\"glyph\":{\"id\":\"4069\",\"type\":\"Circle\"},\"hover_glyph\":null,\"muted_glyph\":null,\"nonselection_glyph\":{\"id\":\"4070\",\"type\":\"Circle\"},\"selection_glyph\":null,\"view\":{\"id\":\"4072\",\"type\":\"CDSView\"}},\"id\":\"4071\",\"type\":\"GlyphRenderer\"},{\"attributes\":{\"fill_alpha\":{\"value\":0.1},\"fill_color\":{\"value\":\"#1f77b4\"},\"line_alpha\":{\"value\":0.1},\"line_color\":{\"value\":\"#1f77b4\"},\"line_width\":{\"value\":1.5},\"size\":{\"units\":\"screen\",\"value\":5},\"x\":{\"value\":2},\"y\":{\"value\":1.8262830769988243}},\"id\":\"4070\",\"type\":\"Circle\"},{\"attributes\":{\"line_alpha\":0.1,\"line_color\":\"#1f77b4\",\"line_width\":0.5,\"x\":{\"field\":\"x\"},\"y\":{\"field\":\"y\"}},\"id\":\"4075\",\"type\":\"Line\"},{\"attributes\":{\"line_color\":\"green\",\"line_width\":0.5,\"x\":{\"field\":\"x\"},\"y\":{\"field\":\"y\"}},\"id\":\"4074\",\"type\":\"Line\"},{\"attributes\":{\"line_color\":\"green\",\"line_width\":0.5,\"x\":{\"field\":\"x\"},\"y\":{\"field\":\"y\"}},\"id\":\"4079\",\"type\":\"Line\"},{\"attributes\":{\"callback\":null,\"data\":{\"x\":{\"__ndarray__\":\"AQAAAAIAAAA=\",\"dtype\":\"int32\",\"shape\":[2]},\"y\":{\"__ndarray__\":\"HZqV7Ukq8D8/AHsHPCj8Pw==\",\"dtype\":\"float64\",\"shape\":[2]}},\"selected\":{\"id\":\"4382\",\"type\":\"Selection\"},\"selection_policy\":{\"id\":\"4381\",\"type\":\"UnionRenderers\"}},\"id\":\"4078\",\"type\":\"ColumnDataSource\"},{\"attributes\":{\"source\":{\"id\":\"4073\",\"type\":\"ColumnDataSource\"}},\"id\":\"4077\",\"type\":\"CDSView\"},{\"attributes\":{\"source\":{\"id\":\"4078\",\"type\":\"ColumnDataSource\"}},\"id\":\"4082\",\"type\":\"CDSView\"},{\"attributes\":{\"callback\":null,\"data\":{\"x\":{\"__ndarray__\":\"AQAAAAIAAAA=\",\"dtype\":\"int32\",\"shape\":[2]},\"y\":{\"__ndarray__\":\"0IbFOud8+z8NUQ1+E4L6Pw==\",\"dtype\":\"float64\",\"shape\":[2]}},\"selected\":{\"id\":\"4398\",\"type\":\"Selection\"},\"selection_policy\":{\"id\":\"4397\",\"type\":\"UnionRenderers\"}},\"id\":\"4118\",\"type\":\"ColumnDataSource\"},{\"attributes\":{\"line_alpha\":0.1,\"line_color\":\"#1f77b4\",\"line_width\":2,\"x\":{\"field\":\"x\"},\"y\":{\"field\":\"y\"}},\"id\":\"4155\",\"type\":\"Line\"},{\"attributes\":{\"callback\":null,\"data\":{\"x\":{\"__ndarray__\":\"AQAAAAIAAAA=\",\"dtype\":\"int32\",\"shape\":[2]},\"y\":{\"__ndarray__\":\"wHWT7Uq08T8Kd8hOWiL2Pw==\",\"dtype\":\"float64\",\"shape\":[2]}},\"selected\":{\"id\":\"4384\",\"type\":\"Selection\"},\"selection_policy\":{\"id\":\"4383\",\"type\":\"UnionRenderers\"}},\"id\":\"4083\",\"type\":\"ColumnDataSource\"},{\"attributes\":{\"line_color\":\"green\",\"line_width\":0.5,\"x\":{\"field\":\"x\"},\"y\":{\"field\":\"y\"}},\"id\":\"4119\",\"type\":\"Line\"},{\"attributes\":{\"data_source\":{\"id\":\"4153\",\"type\":\"ColumnDataSource\"},\"glyph\":{\"id\":\"4154\",\"type\":\"Line\"},\"hover_glyph\":null,\"muted_glyph\":null,\"nonselection_glyph\":{\"id\":\"4155\",\"type\":\"Line\"},\"selection_glyph\":null,\"view\":{\"id\":\"4157\",\"type\":\"CDSView\"}},\"id\":\"4156\",\"type\":\"GlyphRenderer\"},{\"attributes\":{\"line_color\":\"green\",\"line_width\":0.5,\"x\":{\"field\":\"x\"},\"y\":{\"field\":\"y\"}},\"id\":\"4084\",\"type\":\"Line\"},{\"attributes\":{\"line_alpha\":0.1,\"line_color\":\"#1f77b4\",\"line_width\":0.5,\"x\":{\"field\":\"x\"},\"y\":{\"field\":\"y\"}},\"id\":\"4120\",\"type\":\"Line\"},{\"attributes\":{\"source\":{\"id\":\"4153\",\"type\":\"ColumnDataSource\"}},\"id\":\"4157\",\"type\":\"CDSView\"},{\"attributes\":{\"data_source\":{\"id\":\"4118\",\"type\":\"ColumnDataSource\"},\"glyph\":{\"id\":\"4119\",\"type\":\"Line\"},\"hover_glyph\":null,\"muted_glyph\":null,\"nonselection_glyph\":{\"id\":\"4120\",\"type\":\"Line\"},\"selection_glyph\":null,\"view\":{\"id\":\"4122\",\"type\":\"CDSView\"}},\"id\":\"4121\",\"type\":\"GlyphRenderer\"},{\"attributes\":{\"line_alpha\":0.1,\"line_color\":\"#1f77b4\",\"line_width\":0.5,\"x\":{\"field\":\"x\"},\"y\":{\"field\":\"y\"}},\"id\":\"4085\",\"type\":\"Line\"},{\"attributes\":{\"data_source\":{\"id\":\"4083\",\"type\":\"ColumnDataSource\"},\"glyph\":{\"id\":\"4084\",\"type\":\"Line\"},\"hover_glyph\":null,\"muted_glyph\":null,\"nonselection_glyph\":{\"id\":\"4085\",\"type\":\"Line\"},\"selection_glyph\":null,\"view\":{\"id\":\"4087\",\"type\":\"CDSView\"}},\"id\":\"4086\",\"type\":\"GlyphRenderer\"},{\"attributes\":{\"source\":{\"id\":\"4118\",\"type\":\"ColumnDataSource\"}},\"id\":\"4122\",\"type\":\"CDSView\"},{\"attributes\":{},\"id\":\"4368\",\"type\":\"BasicTickFormatter\"},{\"attributes\":{\"ticks\":[1,1.2,1.4,1.6,1.8,2]},\"id\":\"4158\",\"type\":\"FixedTicker\"},{\"attributes\":{\"source\":{\"id\":\"4083\",\"type\":\"ColumnDataSource\"}},\"id\":\"4087\",\"type\":\"CDSView\"},{\"attributes\":{\"callback\":null,\"data\":{\"x\":{\"__ndarray__\":\"AQAAAAIAAAA=\",\"dtype\":\"int32\",\"shape\":[2]},\"y\":{\"__ndarray__\":\"IqUJCReI9z8r+X2rjUT+Pw==\",\"dtype\":\"float64\",\"shape\":[2]}},\"selected\":{\"id\":\"4400\",\"type\":\"Selection\"},\"selection_policy\":{\"id\":\"4399\",\"type\":\"UnionRenderers\"}},\"id\":\"4123\",\"type\":\"ColumnDataSource\"},{\"attributes\":{\"callback\":null,\"data\":{\"x\":{\"__ndarray__\":\"AQAAAAIAAAA=\",\"dtype\":\"int32\",\"shape\":[2]},\"y\":{\"__ndarray__\":\"vCY/GQQQA0CBNOK1SycCQA==\",\"dtype\":\"float64\",\"shape\":[2]}},\"selected\":{\"id\":\"4386\",\"type\":\"Selection\"},\"selection_policy\":{\"id\":\"4385\",\"type\":\"UnionRenderers\"}},\"id\":\"4088\",\"type\":\"ColumnDataSource\"},{\"attributes\":{\"line_color\":\"green\",\"line_width\":0.5,\"x\":{\"field\":\"x\"},\"y\":{\"field\":\"y\"}},\"id\":\"4124\",\"type\":\"Line\"},{\"attributes\":{},\"id\":\"4369\",\"type\":\"BasicTickFormatter\"},{\"attributes\":{\"line_color\":\"green\",\"line_width\":0.5,\"x\":{\"field\":\"x\"},\"y\":{\"field\":\"y\"}},\"id\":\"4089\",\"type\":\"Line\"},{\"attributes\":{\"line_alpha\":0.1,\"line_color\":\"#1f77b4\",\"line_width\":0.5,\"x\":{\"field\":\"x\"},\"y\":{\"field\":\"y\"}},\"id\":\"4125\",\"type\":\"Line\"},{\"attributes\":{},\"id\":\"4371\",\"type\":\"UnionRenderers\"},{\"attributes\":{\"data_source\":{\"id\":\"4123\",\"type\":\"ColumnDataSource\"},\"glyph\":{\"id\":\"4124\",\"type\":\"Line\"},\"hover_glyph\":null,\"muted_glyph\":null,\"nonselection_glyph\":{\"id\":\"4125\",\"type\":\"Line\"},\"selection_glyph\":null,\"view\":{\"id\":\"4127\",\"type\":\"CDSView\"}},\"id\":\"4126\",\"type\":\"GlyphRenderer\"},{\"attributes\":{\"line_alpha\":0.1,\"line_color\":\"#1f77b4\",\"line_width\":0.5,\"x\":{\"field\":\"x\"},\"y\":{\"field\":\"y\"}},\"id\":\"4090\",\"type\":\"Line\"},{\"attributes\":{},\"id\":\"4372\",\"type\":\"Selection\"},{\"attributes\":{\"data_source\":{\"id\":\"4088\",\"type\":\"ColumnDataSource\"},\"glyph\":{\"id\":\"4089\",\"type\":\"Line\"},\"hover_glyph\":null,\"muted_glyph\":null,\"nonselection_glyph\":{\"id\":\"4090\",\"type\":\"Line\"},\"selection_glyph\":null,\"view\":{\"id\":\"4092\",\"type\":\"CDSView\"}},\"id\":\"4091\",\"type\":\"GlyphRenderer\"},{\"attributes\":{\"source\":{\"id\":\"4123\",\"type\":\"ColumnDataSource\"}},\"id\":\"4127\",\"type\":\"CDSView\"},{\"attributes\":{},\"id\":\"4373\",\"type\":\"UnionRenderers\"},{\"attributes\":{\"source\":{\"id\":\"4088\",\"type\":\"ColumnDataSource\"}},\"id\":\"4092\",\"type\":\"CDSView\"},{\"attributes\":{\"callback\":null,\"data\":{\"x\":{\"__ndarray__\":\"AQAAAAIAAAA=\",\"dtype\":\"int32\",\"shape\":[2]},\"y\":{\"__ndarray__\":\"Eq7VGaFBpj/o+XEx59brPw==\",\"dtype\":\"float64\",\"shape\":[2]}},\"selected\":{\"id\":\"4402\",\"type\":\"Selection\"},\"selection_policy\":{\"id\":\"4401\",\"type\":\"UnionRenderers\"}},\"id\":\"4128\",\"type\":\"ColumnDataSource\"},{\"attributes\":{},\"id\":\"4374\",\"type\":\"Selection\"},{\"attributes\":{\"callback\":null,\"data\":{\"x\":{\"__ndarray__\":\"AQAAAAIAAAA=\",\"dtype\":\"int32\",\"shape\":[2]},\"y\":{\"__ndarray__\":\"09PjzuuQ7j/5no+1TX7+Pw==\",\"dtype\":\"float64\",\"shape\":[2]}},\"selected\":{\"id\":\"4388\",\"type\":\"Selection\"},\"selection_policy\":{\"id\":\"4387\",\"type\":\"UnionRenderers\"}},\"id\":\"4093\",\"type\":\"ColumnDataSource\"},{\"attributes\":{\"line_color\":\"green\",\"line_width\":0.5,\"x\":{\"field\":\"x\"},\"y\":{\"field\":\"y\"}},\"id\":\"4129\",\"type\":\"Line\"},{\"attributes\":{\"line_color\":\"green\",\"line_width\":2,\"x\":{\"field\":\"x\"},\"y\":{\"field\":\"y\"}},\"id\":\"4154\",\"type\":\"Line\"},{\"attributes\":{},\"id\":\"4375\",\"type\":\"UnionRenderers\"},{\"attributes\":{\"line_color\":\"green\",\"line_width\":0.5,\"x\":{\"field\":\"x\"},\"y\":{\"field\":\"y\"}},\"id\":\"4094\",\"type\":\"Line\"},{\"attributes\":{\"line_alpha\":0.1,\"line_color\":\"#1f77b4\",\"line_width\":0.5,\"x\":{\"field\":\"x\"},\"y\":{\"field\":\"y\"}},\"id\":\"4130\",\"type\":\"Line\"},{\"attributes\":{},\"id\":\"4376\",\"type\":\"Selection\"},{\"attributes\":{\"data_source\":{\"id\":\"4128\",\"type\":\"ColumnDataSource\"},\"glyph\":{\"id\":\"4129\",\"type\":\"Line\"},\"hover_glyph\":null,\"muted_glyph\":null,\"nonselection_glyph\":{\"id\":\"4130\",\"type\":\"Line\"},\"selection_glyph\":null,\"view\":{\"id\":\"4132\",\"type\":\"CDSView\"}},\"id\":\"4131\",\"type\":\"GlyphRenderer\"},{\"attributes\":{\"line_alpha\":0.1,\"line_color\":\"#1f77b4\",\"line_width\":0.5,\"x\":{\"field\":\"x\"},\"y\":{\"field\":\"y\"}},\"id\":\"4095\",\"type\":\"Line\"},{\"attributes\":{},\"id\":\"4377\",\"type\":\"UnionRenderers\"},{\"attributes\":{\"data_source\":{\"id\":\"4093\",\"type\":\"ColumnDataSource\"},\"glyph\":{\"id\":\"4094\",\"type\":\"Line\"},\"hover_glyph\":null,\"muted_glyph\":null,\"nonselection_glyph\":{\"id\":\"4095\",\"type\":\"Line\"},\"selection_glyph\":null,\"view\":{\"id\":\"4097\",\"type\":\"CDSView\"}},\"id\":\"4096\",\"type\":\"GlyphRenderer\"},{\"attributes\":{\"source\":{\"id\":\"4128\",\"type\":\"ColumnDataSource\"}},\"id\":\"4132\",\"type\":\"CDSView\"},{\"attributes\":{},\"id\":\"4378\",\"type\":\"Selection\"},{\"attributes\":{\"source\":{\"id\":\"4093\",\"type\":\"ColumnDataSource\"}},\"id\":\"4097\",\"type\":\"CDSView\"},{\"attributes\":{\"callback\":null,\"data\":{\"x\":{\"__ndarray__\":\"AQAAAAIAAAA=\",\"dtype\":\"int32\",\"shape\":[2]},\"y\":{\"__ndarray__\":\"cs30t7qw8j/c0eL5h1jyPw==\",\"dtype\":\"float64\",\"shape\":[2]}},\"selected\":{\"id\":\"4404\",\"type\":\"Selection\"},\"selection_policy\":{\"id\":\"4403\",\"type\":\"UnionRenderers\"}},\"id\":\"4133\",\"type\":\"ColumnDataSource\"},{\"attributes\":{},\"id\":\"4379\",\"type\":\"UnionRenderers\"},{\"attributes\":{\"callback\":null,\"data\":{\"x\":{\"__ndarray__\":\"AQAAAAIAAAA=\",\"dtype\":\"int32\",\"shape\":[2]},\"y\":{\"__ndarray__\":\"pHGg3QGW7T+08yoMlZ0AQA==\",\"dtype\":\"float64\",\"shape\":[2]}},\"selected\":{\"id\":\"4390\",\"type\":\"Selection\"},\"selection_policy\":{\"id\":\"4389\",\"type\":\"UnionRenderers\"}},\"id\":\"4098\",\"type\":\"ColumnDataSource\"},{\"attributes\":{\"line_color\":\"green\",\"line_width\":0.5,\"x\":{\"field\":\"x\"},\"y\":{\"field\":\"y\"}},\"id\":\"4134\",\"type\":\"Line\"},{\"attributes\":{},\"id\":\"4380\",\"type\":\"Selection\"},{\"attributes\":{\"line_color\":\"green\",\"line_width\":0.5,\"x\":{\"field\":\"x\"},\"y\":{\"field\":\"y\"}},\"id\":\"4099\",\"type\":\"Line\"},{\"attributes\":{\"line_alpha\":0.1,\"line_color\":\"#1f77b4\",\"line_width\":0.5,\"x\":{\"field\":\"x\"},\"y\":{\"field\":\"y\"}},\"id\":\"4135\",\"type\":\"Line\"},{\"attributes\":{},\"id\":\"4381\",\"type\":\"UnionRenderers\"},{\"attributes\":{\"data_source\":{\"id\":\"4133\",\"type\":\"ColumnDataSource\"},\"glyph\":{\"id\":\"4134\",\"type\":\"Line\"},\"hover_glyph\":null,\"muted_glyph\":null,\"nonselection_glyph\":{\"id\":\"4135\",\"type\":\"Line\"},\"selection_glyph\":null,\"view\":{\"id\":\"4137\",\"type\":\"CDSView\"}},\"id\":\"4136\",\"type\":\"GlyphRenderer\"},{\"attributes\":{\"line_alpha\":0.1,\"line_color\":\"#1f77b4\",\"line_width\":0.5,\"x\":{\"field\":\"x\"},\"y\":{\"field\":\"y\"}},\"id\":\"4100\",\"type\":\"Line\"},{\"attributes\":{},\"id\":\"4382\",\"type\":\"Selection\"},{\"attributes\":{\"data_source\":{\"id\":\"4098\",\"type\":\"ColumnDataSource\"},\"glyph\":{\"id\":\"4099\",\"type\":\"Line\"},\"hover_glyph\":null,\"muted_glyph\":null,\"nonselection_glyph\":{\"id\":\"4100\",\"type\":\"Line\"},\"selection_glyph\":null,\"view\":{\"id\":\"4102\",\"type\":\"CDSView\"}},\"id\":\"4101\",\"type\":\"GlyphRenderer\"},{\"attributes\":{\"source\":{\"id\":\"4133\",\"type\":\"ColumnDataSource\"}},\"id\":\"4137\",\"type\":\"CDSView\"},{\"attributes\":{},\"id\":\"4383\",\"type\":\"UnionRenderers\"},{\"attributes\":{\"source\":{\"id\":\"4098\",\"type\":\"ColumnDataSource\"}},\"id\":\"4102\",\"type\":\"CDSView\"},{\"attributes\":{\"callback\":null,\"data\":{\"x\":{\"__ndarray__\":\"AQAAAAIAAAA=\",\"dtype\":\"int32\",\"shape\":[2]},\"y\":{\"__ndarray__\":\"QQYWVUED+j+kKdaQSBf2Pw==\",\"dtype\":\"float64\",\"shape\":[2]}},\"selected\":{\"id\":\"4406\",\"type\":\"Selection\"},\"selection_policy\":{\"id\":\"4405\",\"type\":\"UnionRenderers\"}},\"id\":\"4138\",\"type\":\"ColumnDataSource\"},{\"attributes\":{},\"id\":\"4384\",\"type\":\"Selection\"},{\"attributes\":{\"callback\":null,\"data\":{\"x\":{\"__ndarray__\":\"AQAAAAIAAAA=\",\"dtype\":\"int32\",\"shape\":[2]},\"y\":{\"__ndarray__\":\"6be6quYMAUDs531p85UCQA==\",\"dtype\":\"float64\",\"shape\":[2]}},\"selected\":{\"id\":\"4392\",\"type\":\"Selection\"},\"selection_policy\":{\"id\":\"4391\",\"type\":\"UnionRenderers\"}},\"id\":\"4103\",\"type\":\"ColumnDataSource\"},{\"attributes\":{\"line_color\":\"green\",\"line_width\":0.5,\"x\":{\"field\":\"x\"},\"y\":{\"field\":\"y\"}},\"id\":\"4139\",\"type\":\"Line\"},{\"attributes\":{},\"id\":\"4385\",\"type\":\"UnionRenderers\"},{\"attributes\":{\"line_color\":\"green\",\"line_width\":0.5,\"x\":{\"field\":\"x\"},\"y\":{\"field\":\"y\"}},\"id\":\"4104\",\"type\":\"Line\"},{\"attributes\":{\"line_alpha\":0.1,\"line_color\":\"#1f77b4\",\"line_width\":0.5,\"x\":{\"field\":\"x\"},\"y\":{\"field\":\"y\"}},\"id\":\"4140\",\"type\":\"Line\"},{\"attributes\":{},\"id\":\"4386\",\"type\":\"Selection\"},{\"attributes\":{\"data_source\":{\"id\":\"4138\",\"type\":\"ColumnDataSource\"},\"glyph\":{\"id\":\"4139\",\"type\":\"Line\"},\"hover_glyph\":null,\"muted_glyph\":null,\"nonselection_glyph\":{\"id\":\"4140\",\"type\":\"Line\"},\"selection_glyph\":null,\"view\":{\"id\":\"4142\",\"type\":\"CDSView\"}},\"id\":\"4141\",\"type\":\"GlyphRenderer\"},{\"attributes\":{\"line_alpha\":0.1,\"line_color\":\"#1f77b4\",\"line_width\":0.5,\"x\":{\"field\":\"x\"},\"y\":{\"field\":\"y\"}},\"id\":\"4105\",\"type\":\"Line\"},{\"attributes\":{},\"id\":\"4387\",\"type\":\"UnionRenderers\"},{\"attributes\":{\"data_source\":{\"id\":\"4103\",\"type\":\"ColumnDataSource\"},\"glyph\":{\"id\":\"4104\",\"type\":\"Line\"},\"hover_glyph\":null,\"muted_glyph\":null,\"nonselection_glyph\":{\"id\":\"4105\",\"type\":\"Line\"},\"selection_glyph\":null,\"view\":{\"id\":\"4107\",\"type\":\"CDSView\"}},\"id\":\"4106\",\"type\":\"GlyphRenderer\"},{\"attributes\":{\"source\":{\"id\":\"4138\",\"type\":\"ColumnDataSource\"}},\"id\":\"4142\",\"type\":\"CDSView\"},{\"attributes\":{},\"id\":\"4388\",\"type\":\"Selection\"},{\"attributes\":{\"dimension\":1,\"plot\":{\"id\":\"4018\",\"subtype\":\"Figure\",\"type\":\"Plot\"},\"ticker\":{\"id\":\"4034\",\"type\":\"BasicTicker\"}},\"id\":\"4037\",\"type\":\"Grid\"},{\"attributes\":{\"source\":{\"id\":\"4103\",\"type\":\"ColumnDataSource\"}},\"id\":\"4107\",\"type\":\"CDSView\"},{\"attributes\":{\"callback\":null,\"data\":{\"x\":{\"__ndarray__\":\"AQAAAAIAAAA=\",\"dtype\":\"int32\",\"shape\":[2]},\"y\":{\"__ndarray__\":\"kRh/W/Uw3D/SG5NDxPn3Pw==\",\"dtype\":\"float64\",\"shape\":[2]}},\"selected\":{\"id\":\"4408\",\"type\":\"Selection\"},\"selection_policy\":{\"id\":\"4407\",\"type\":\"UnionRenderers\"}},\"id\":\"4143\",\"type\":\"ColumnDataSource\"},{\"attributes\":{},\"id\":\"4034\",\"type\":\"BasicTicker\"},{\"attributes\":{},\"id\":\"4389\",\"type\":\"UnionRenderers\"},{\"attributes\":{\"callback\":null,\"data\":{\"x\":{\"__ndarray__\":\"AQAAAAIAAAA=\",\"dtype\":\"int32\",\"shape\":[2]},\"y\":{\"__ndarray__\":\"Xew+mTPn8z8O/c9P3UkAQA==\",\"dtype\":\"float64\",\"shape\":[2]}},\"selected\":{\"id\":\"4394\",\"type\":\"Selection\"},\"selection_policy\":{\"id\":\"4393\",\"type\":\"UnionRenderers\"}},\"id\":\"4108\",\"type\":\"ColumnDataSource\"},{\"attributes\":{\"line_color\":\"green\",\"line_width\":0.5,\"x\":{\"field\":\"x\"},\"y\":{\"field\":\"y\"}},\"id\":\"4144\",\"type\":\"Line\"},{\"attributes\":{},\"id\":\"4390\",\"type\":\"Selection\"},{\"attributes\":{\"align\":\"center\",\"plot\":null,\"text\":\"Individual Mouse dprime for W\"},\"id\":\"4017\",\"type\":\"Title\"},{\"attributes\":{\"line_color\":\"green\",\"line_width\":0.5,\"x\":{\"field\":\"x\"},\"y\":{\"field\":\"y\"}},\"id\":\"4109\",\"type\":\"Line\"},{\"attributes\":{\"line_alpha\":0.1,\"line_color\":\"#1f77b4\",\"line_width\":0.5,\"x\":{\"field\":\"x\"},\"y\":{\"field\":\"y\"}},\"id\":\"4145\",\"type\":\"Line\"},{\"attributes\":{\"callback\":null},\"id\":\"4022\",\"type\":\"DataRange1d\"},{\"attributes\":{},\"id\":\"4391\",\"type\":\"UnionRenderers\"},{\"attributes\":{\"data_source\":{\"id\":\"4143\",\"type\":\"ColumnDataSource\"},\"glyph\":{\"id\":\"4144\",\"type\":\"Line\"},\"hover_glyph\":null,\"muted_glyph\":null,\"nonselection_glyph\":{\"id\":\"4145\",\"type\":\"Line\"},\"selection_glyph\":null,\"view\":{\"id\":\"4147\",\"type\":\"CDSView\"}},\"id\":\"4146\",\"type\":\"GlyphRenderer\"},{\"attributes\":{\"callback\":null},\"id\":\"4020\",\"type\":\"DataRange1d\"},{\"attributes\":{\"line_alpha\":0.1,\"line_color\":\"#1f77b4\",\"line_width\":0.5,\"x\":{\"field\":\"x\"},\"y\":{\"field\":\"y\"}},\"id\":\"4110\",\"type\":\"Line\"},{\"attributes\":{},\"id\":\"4392\",\"type\":\"Selection\"},{\"attributes\":{\"data_source\":{\"id\":\"4108\",\"type\":\"ColumnDataSource\"},\"glyph\":{\"id\":\"4109\",\"type\":\"Line\"},\"hover_glyph\":null,\"muted_glyph\":null,\"nonselection_glyph\":{\"id\":\"4110\",\"type\":\"Line\"},\"selection_glyph\":null,\"view\":{\"id\":\"4112\",\"type\":\"CDSView\"}},\"id\":\"4111\",\"type\":\"GlyphRenderer\"},{\"attributes\":{\"source\":{\"id\":\"4143\",\"type\":\"ColumnDataSource\"}},\"id\":\"4147\",\"type\":\"CDSView\"},{\"attributes\":{\"callback\":null,\"data\":{\"y\":{\"__ndarray__\":\"hgqWvh6GAEAdmpXtSSrwP8B1k+1KtPE/vCY/GQQQA0DT0+PO65DuP6RxoN0Blu0/6be6quYMAUBd7D6ZM+fzPwFNjCdKAAJA0IbFOud8+z8ipQkJF4j3PxKu1RmhQaY/cs30t7qw8j9BBhZVQQP6P5EYf1v1MNw/NeSigOsmAkA=\",\"dtype\":\"float64\",\"shape\":[16]}},\"selected\":{\"id\":\"4372\",\"type\":\"Selection\"},\"selection_policy\":{\"id\":\"4371\",\"type\":\"UnionRenderers\"}},\"id\":\"4053\",\"type\":\"ColumnDataSource\"},{\"attributes\":{},\"id\":\"4393\",\"type\":\"UnionRenderers\"},{\"attributes\":{\"source\":{\"id\":\"4108\",\"type\":\"ColumnDataSource\"}},\"id\":\"4112\",\"type\":\"CDSView\"},{\"attributes\":{\"callback\":null,\"data\":{\"x\":{\"__ndarray__\":\"AQAAAAIAAAA=\",\"dtype\":\"int32\",\"shape\":[2]},\"y\":{\"__ndarray__\":\"NeSigOsmAkB7CMedMLUAQA==\",\"dtype\":\"float64\",\"shape\":[2]}},\"selected\":{\"id\":\"4410\",\"type\":\"Selection\"},\"selection_policy\":{\"id\":\"4409\",\"type\":\"UnionRenderers\"}},\"id\":\"4148\",\"type\":\"ColumnDataSource\"},{\"attributes\":{},\"id\":\"4024\",\"type\":\"LinearScale\"},{\"attributes\":{},\"id\":\"4394\",\"type\":\"Selection\"},{\"attributes\":{\"callback\":null,\"data\":{\"x\":{\"__ndarray__\":\"AQAAAAIAAAA=\",\"dtype\":\"int32\",\"shape\":[2]},\"y\":{\"__ndarray__\":\"AU2MJ0oAAkAYiXLvOewCQA==\",\"dtype\":\"float64\",\"shape\":[2]}},\"selected\":{\"id\":\"4396\",\"type\":\"Selection\"},\"selection_policy\":{\"id\":\"4395\",\"type\":\"UnionRenderers\"}},\"id\":\"4113\",\"type\":\"ColumnDataSource\"},{\"attributes\":{\"line_color\":\"green\",\"line_width\":0.5,\"x\":{\"field\":\"x\"},\"y\":{\"field\":\"y\"}},\"id\":\"4149\",\"type\":\"Line\"},{\"attributes\":{},\"id\":\"4026\",\"type\":\"LinearScale\"},{\"attributes\":{},\"id\":\"4395\",\"type\":\"UnionRenderers\"},{\"attributes\":{\"line_color\":\"green\",\"line_width\":0.5,\"x\":{\"field\":\"x\"},\"y\":{\"field\":\"y\"}},\"id\":\"4114\",\"type\":\"Line\"},{\"attributes\":{\"line_alpha\":0.1,\"line_color\":\"#1f77b4\",\"line_width\":0.5,\"x\":{\"field\":\"x\"},\"y\":{\"field\":\"y\"}},\"id\":\"4150\",\"type\":\"Line\"},{\"attributes\":{\"axis_label\":\"Switching Day\",\"axis_label_text_font_style\":\"bold\",\"formatter\":{\"id\":\"4368\",\"type\":\"BasicTickFormatter\"},\"major_label_overrides\":{\"1\":\"SWD\",\"1.2\":\"\",\"1.4\":\"\",\"1.6\":\"\",\"1.8\":\"\",\"2\":\"SWD+1\"},\"plot\":{\"id\":\"4018\",\"subtype\":\"Figure\",\"type\":\"Plot\"},\"ticker\":{\"id\":\"4158\",\"type\":\"FixedTicker\"}},\"id\":\"4028\",\"type\":\"LinearAxis\"},{\"attributes\":{},\"id\":\"4396\",\"type\":\"Selection\"},{\"attributes\":{\"data_source\":{\"id\":\"4148\",\"type\":\"ColumnDataSource\"},\"glyph\":{\"id\":\"4149\",\"type\":\"Line\"},\"hover_glyph\":null,\"muted_glyph\":null,\"nonselection_glyph\":{\"id\":\"4150\",\"type\":\"Line\"},\"selection_glyph\":null,\"view\":{\"id\":\"4152\",\"type\":\"CDSView\"}},\"id\":\"4151\",\"type\":\"GlyphRenderer\"},{\"attributes\":{\"line_alpha\":0.1,\"line_color\":\"#1f77b4\",\"line_width\":0.5,\"x\":{\"field\":\"x\"},\"y\":{\"field\":\"y\"}},\"id\":\"4115\",\"type\":\"Line\"},{\"attributes\":{},\"id\":\"4029\",\"type\":\"BasicTicker\"},{\"attributes\":{},\"id\":\"4397\",\"type\":\"UnionRenderers\"},{\"attributes\":{\"data_source\":{\"id\":\"4113\",\"type\":\"ColumnDataSource\"},\"glyph\":{\"id\":\"4114\",\"type\":\"Line\"},\"hover_glyph\":null,\"muted_glyph\":null,\"nonselection_glyph\":{\"id\":\"4115\",\"type\":\"Line\"},\"selection_glyph\":null,\"view\":{\"id\":\"4117\",\"type\":\"CDSView\"}},\"id\":\"4116\",\"type\":\"GlyphRenderer\"},{\"attributes\":{\"source\":{\"id\":\"4148\",\"type\":\"ColumnDataSource\"}},\"id\":\"4152\",\"type\":\"CDSView\"},{\"attributes\":{\"plot\":{\"id\":\"4018\",\"subtype\":\"Figure\",\"type\":\"Plot\"},\"ticker\":{\"id\":\"4029\",\"type\":\"BasicTicker\"}},\"id\":\"4032\",\"type\":\"Grid\"},{\"attributes\":{},\"id\":\"4398\",\"type\":\"Selection\"},{\"attributes\":{\"source\":{\"id\":\"4113\",\"type\":\"ColumnDataSource\"}},\"id\":\"4117\",\"type\":\"CDSView\"},{\"attributes\":{\"axis_label\":\"dprime for W\",\"axis_label_text_font_style\":\"bold\",\"formatter\":{\"id\":\"4369\",\"type\":\"BasicTickFormatter\"},\"plot\":{\"id\":\"4018\",\"subtype\":\"Figure\",\"type\":\"Plot\"},\"ticker\":{\"id\":\"4034\",\"type\":\"BasicTicker\"}},\"id\":\"4033\",\"type\":\"LinearAxis\"}],\"root_ids\":[\"4018\"]},\"title\":\"Bokeh Application\",\"version\":\"1.0.4\"}};\n",
       "  var render_items = [{\"docid\":\"fd8ebf12-f20c-404b-aead-926973e5d91d\",\"roots\":{\"4018\":\"e46b0814-2309-4729-9467-ced56685d2f7\"}}];\n",
       "  root.Bokeh.embed.embed_items_notebook(docs_json, render_items);\n",
       "\n",
       "  }\n",
       "  if (root.Bokeh !== undefined) {\n",
       "    embed_document(root);\n",
       "  } else {\n",
       "    var attempts = 0;\n",
       "    var timer = setInterval(function(root) {\n",
       "      if (root.Bokeh !== undefined) {\n",
       "        embed_document(root);\n",
       "        clearInterval(timer);\n",
       "      }\n",
       "      attempts++;\n",
       "      if (attempts > 100) {\n",
       "        console.log(\"Bokeh: ERROR: Unable to run BokehJS code because BokehJS library is missing\");\n",
       "        clearInterval(timer);\n",
       "      }\n",
       "    }, 10, root)\n",
       "  }\n",
       "})(window);"
      ],
      "application/vnd.bokehjs_exec.v0+json": ""
     },
     "metadata": {
      "application/vnd.bokehjs_exec.v0+json": {
       "id": "4018"
      }
     },
     "output_type": "display_data"
    }
   ],
   "source": [
    "p = bokeh.plotting.figure(\n",
    "    width=400,\n",
    "    height=500,\n",
    "    x_axis_label='Days',\n",
    "    y_axis_label='WhHit',\n",
    "    title= 'Individual Mouse Whisker Hit' \n",
    "    )\n",
    "\n",
    "p.yaxis.axis_label_text_font_style = \"bold\"\n",
    "p.xaxis.axis_label_text_font_style = \"bold\"\n",
    "p.title.align = 'center'\n",
    "\n",
    "p.circle(1, dataAll[:,3,1] ,line_color='black',line_width =1.5, fill_color = 'white',size=5,)\n",
    "p.circle(1, np.mean(dataAll[:,3,1]) ,line_color='black',line_width =1.5, fill_color = 'black',size=5,)\n",
    "\n",
    "p.circle(2, dataAll[:,4,1] ,line_color='black',line_width =1.5, fill_color = 'white',size=5,)\n",
    "p.circle(2, np.mean(dataAll[:,4,1]) ,line_color='black',line_width =1.5, fill_color = 'black',size=5,)\n",
    "\n",
    "for i in range(dataAll[:,3,1].shape[0]):\n",
    "    \n",
    "    p.line(\n",
    "    x= np.array([1 ,2]),\n",
    "    y= np.array([dataAll[i,3,1],dataAll[i,4,1]]),\n",
    "    line_join='bevel',\n",
    "    line_width=0.5,\n",
    "    color = 'gray',\n",
    "    )\n",
    "\n",
    "p.line(\n",
    "x= np.array([1 ,2]),\n",
    "y= np.array([np.mean(dataAll[:,3,1],axis =0),np.mean(dataAll[:,4,1],axis =0)]),\n",
    "line_join='bevel',line_width=1,\n",
    "color = 'black',\n",
    "    )\n",
    "\n",
    "\n",
    "p.xaxis.ticker = [1, 1.2, 1.4, 1.6, 1.8, 2]\n",
    "p.xaxis.major_label_overrides = {1: 'SWD', 1.2 : '', 1.4 : '', 1.6 : '', 1.8 : '' , 2: 'SWD+1'}\n",
    "\n",
    "bokeh.io.show(p)    \n",
    "\n",
    "\n",
    "k = bokeh.plotting.figure(\n",
    "    width=400,\n",
    "    height=500,\n",
    "    x_axis_label='Switching Day',\n",
    "    y_axis_label='dprime for W',\n",
    "    title= 'Individual Mouse dprime for W' \n",
    "    )\n",
    "\n",
    "k.yaxis.axis_label_text_font_style = \"bold\"\n",
    "k.xaxis.axis_label_text_font_style = \"bold\"\n",
    "k.title.align = 'center'\n",
    "\n",
    "k.circle(1, dataAll[:,3,3] ,line_color='green',line_width =1.5, fill_color = 'white',size=5,)\n",
    "k.circle(1, np.mean(dataAll[:,3,3]) ,line_color='green',line_width =1.5, fill_color = 'green',size=5,)\n",
    "k.circle(2, dataAll[:,4,3] ,line_color='green',line_width =1.5, fill_color = 'white',size=5,)\n",
    "k.circle(2, np.mean(dataAll[:,4,3]) ,line_color='green',line_width =1.5, fill_color = 'green',size=5,)\n",
    "\n",
    "\n",
    "for i in range(dataAll[:,3,3].shape[0]):\n",
    "    \n",
    "    k.line(\n",
    "    x= np.array([1 ,2]),\n",
    "    y= np.array([dataAll[i,3,3],dataAll[i,4,3]]),\n",
    "    line_join='bevel',\n",
    "    line_width=0.5,\n",
    "    color = 'green',\n",
    "    )\n",
    "    \n",
    "k.line(\n",
    "x= np.array([1 ,2]),\n",
    "y= np.array([np.mean(dataAll[:,3,3],axis =0),np.mean(dataAll[:,4,3],axis =0)]),\n",
    "line_join='bevel',line_width=2,\n",
    "color = 'green',\n",
    "    )\n",
    "\n",
    "k.xaxis.ticker = [1, 1.2, 1.4, 1.6, 1.8, 2]\n",
    "k.xaxis.major_label_overrides = {1: 'SWD', 1.2 : '', 1.4 : '', 1.6 : '', 1.8 : '' , 2: 'SWD+1'}\n",
    "\n",
    "bokeh.io.show(k)  "
   ]
  },
  {
   "cell_type": "code",
   "execution_count": 11,
   "metadata": {},
   "outputs": [
    {
     "data": {
      "text/plain": [
       "0.5713900999034791"
      ]
     },
     "execution_count": 11,
     "metadata": {},
     "output_type": "execute_result"
    }
   ],
   "source": [
    "np.mean(dataAll[:,3,1],axis =0)"
   ]
  },
  {
   "cell_type": "code",
   "execution_count": 8,
   "metadata": {},
   "outputs": [
    {
     "data": {
      "text/plain": [
       "14"
      ]
     },
     "execution_count": 8,
     "metadata": {},
     "output_type": "execute_result"
    }
   ],
   "source": [
    "dataAll[:,3,1].shape[0]"
   ]
  },
  {
   "cell_type": "code",
   "execution_count": 118,
   "metadata": {},
   "outputs": [
    {
     "data": {
      "text/plain": [
       "array([0.78461538, 0.42136499, 0.45806452, 0.78888889, 0.38      ,\n",
       "       0.37606838, 0.85496183, 0.40707965, 0.79411765, 0.72380952,\n",
       "       0.59027778, 0.72826087, 0.15555556, 0.77922078])"
      ]
     },
     "execution_count": 118,
     "metadata": {},
     "output_type": "execute_result"
    }
   ],
   "source": [
    "dprime = d"
   ]
  }
 ],
 "metadata": {
  "kernelspec": {
   "display_name": "Python 3",
   "language": "python",
   "name": "python3"
  },
  "language_info": {
   "codemirror_mode": {
    "name": "ipython",
    "version": 3
   },
   "file_extension": ".py",
   "mimetype": "text/x-python",
   "name": "python",
   "nbconvert_exporter": "python",
   "pygments_lexer": "ipython3",
   "version": "3.7.3"
  }
 },
 "nbformat": 4,
 "nbformat_minor": 2
}

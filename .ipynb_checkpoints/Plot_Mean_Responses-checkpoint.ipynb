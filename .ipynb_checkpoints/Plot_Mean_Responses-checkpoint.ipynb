{
 "cells": [
  {
   "cell_type": "code",
   "execution_count": 1,
   "metadata": {},
   "outputs": [
    {
     "data": {
      "text/html": [
       "\n",
       "    <div class=\"bk-root\">\n",
       "        <a href=\"https://bokeh.pydata.org\" target=\"_blank\" class=\"bk-logo bk-logo-small bk-logo-notebook\"></a>\n",
       "        <span id=\"1001\">Loading BokehJS ...</span>\n",
       "    </div>"
      ]
     },
     "metadata": {},
     "output_type": "display_data"
    },
    {
     "data": {
      "application/javascript": [
       "\n",
       "(function(root) {\n",
       "  function now() {\n",
       "    return new Date();\n",
       "  }\n",
       "\n",
       "  var force = true;\n",
       "\n",
       "  if (typeof (root._bokeh_onload_callbacks) === \"undefined\" || force === true) {\n",
       "    root._bokeh_onload_callbacks = [];\n",
       "    root._bokeh_is_loading = undefined;\n",
       "  }\n",
       "\n",
       "  var JS_MIME_TYPE = 'application/javascript';\n",
       "  var HTML_MIME_TYPE = 'text/html';\n",
       "  var EXEC_MIME_TYPE = 'application/vnd.bokehjs_exec.v0+json';\n",
       "  var CLASS_NAME = 'output_bokeh rendered_html';\n",
       "\n",
       "  /**\n",
       "   * Render data to the DOM node\n",
       "   */\n",
       "  function render(props, node) {\n",
       "    var script = document.createElement(\"script\");\n",
       "    node.appendChild(script);\n",
       "  }\n",
       "\n",
       "  /**\n",
       "   * Handle when an output is cleared or removed\n",
       "   */\n",
       "  function handleClearOutput(event, handle) {\n",
       "    var cell = handle.cell;\n",
       "\n",
       "    var id = cell.output_area._bokeh_element_id;\n",
       "    var server_id = cell.output_area._bokeh_server_id;\n",
       "    // Clean up Bokeh references\n",
       "    if (id != null && id in Bokeh.index) {\n",
       "      Bokeh.index[id].model.document.clear();\n",
       "      delete Bokeh.index[id];\n",
       "    }\n",
       "\n",
       "    if (server_id !== undefined) {\n",
       "      // Clean up Bokeh references\n",
       "      var cmd = \"from bokeh.io.state import curstate; print(curstate().uuid_to_server['\" + server_id + \"'].get_sessions()[0].document.roots[0]._id)\";\n",
       "      cell.notebook.kernel.execute(cmd, {\n",
       "        iopub: {\n",
       "          output: function(msg) {\n",
       "            var id = msg.content.text.trim();\n",
       "            if (id in Bokeh.index) {\n",
       "              Bokeh.index[id].model.document.clear();\n",
       "              delete Bokeh.index[id];\n",
       "            }\n",
       "          }\n",
       "        }\n",
       "      });\n",
       "      // Destroy server and session\n",
       "      var cmd = \"import bokeh.io.notebook as ion; ion.destroy_server('\" + server_id + \"')\";\n",
       "      cell.notebook.kernel.execute(cmd);\n",
       "    }\n",
       "  }\n",
       "\n",
       "  /**\n",
       "   * Handle when a new output is added\n",
       "   */\n",
       "  function handleAddOutput(event, handle) {\n",
       "    var output_area = handle.output_area;\n",
       "    var output = handle.output;\n",
       "\n",
       "    // limit handleAddOutput to display_data with EXEC_MIME_TYPE content only\n",
       "    if ((output.output_type != \"display_data\") || (!output.data.hasOwnProperty(EXEC_MIME_TYPE))) {\n",
       "      return\n",
       "    }\n",
       "\n",
       "    var toinsert = output_area.element.find(\".\" + CLASS_NAME.split(' ')[0]);\n",
       "\n",
       "    if (output.metadata[EXEC_MIME_TYPE][\"id\"] !== undefined) {\n",
       "      toinsert[toinsert.length - 1].firstChild.textContent = output.data[JS_MIME_TYPE];\n",
       "      // store reference to embed id on output_area\n",
       "      output_area._bokeh_element_id = output.metadata[EXEC_MIME_TYPE][\"id\"];\n",
       "    }\n",
       "    if (output.metadata[EXEC_MIME_TYPE][\"server_id\"] !== undefined) {\n",
       "      var bk_div = document.createElement(\"div\");\n",
       "      bk_div.innerHTML = output.data[HTML_MIME_TYPE];\n",
       "      var script_attrs = bk_div.children[0].attributes;\n",
       "      for (var i = 0; i < script_attrs.length; i++) {\n",
       "        toinsert[toinsert.length - 1].firstChild.setAttribute(script_attrs[i].name, script_attrs[i].value);\n",
       "      }\n",
       "      // store reference to server id on output_area\n",
       "      output_area._bokeh_server_id = output.metadata[EXEC_MIME_TYPE][\"server_id\"];\n",
       "    }\n",
       "  }\n",
       "\n",
       "  function register_renderer(events, OutputArea) {\n",
       "\n",
       "    function append_mime(data, metadata, element) {\n",
       "      // create a DOM node to render to\n",
       "      var toinsert = this.create_output_subarea(\n",
       "        metadata,\n",
       "        CLASS_NAME,\n",
       "        EXEC_MIME_TYPE\n",
       "      );\n",
       "      this.keyboard_manager.register_events(toinsert);\n",
       "      // Render to node\n",
       "      var props = {data: data, metadata: metadata[EXEC_MIME_TYPE]};\n",
       "      render(props, toinsert[toinsert.length - 1]);\n",
       "      element.append(toinsert);\n",
       "      return toinsert\n",
       "    }\n",
       "\n",
       "    /* Handle when an output is cleared or removed */\n",
       "    events.on('clear_output.CodeCell', handleClearOutput);\n",
       "    events.on('delete.Cell', handleClearOutput);\n",
       "\n",
       "    /* Handle when a new output is added */\n",
       "    events.on('output_added.OutputArea', handleAddOutput);\n",
       "\n",
       "    /**\n",
       "     * Register the mime type and append_mime function with output_area\n",
       "     */\n",
       "    OutputArea.prototype.register_mime_type(EXEC_MIME_TYPE, append_mime, {\n",
       "      /* Is output safe? */\n",
       "      safe: true,\n",
       "      /* Index of renderer in `output_area.display_order` */\n",
       "      index: 0\n",
       "    });\n",
       "  }\n",
       "\n",
       "  // register the mime type if in Jupyter Notebook environment and previously unregistered\n",
       "  if (root.Jupyter !== undefined) {\n",
       "    var events = require('base/js/events');\n",
       "    var OutputArea = require('notebook/js/outputarea').OutputArea;\n",
       "\n",
       "    if (OutputArea.prototype.mime_types().indexOf(EXEC_MIME_TYPE) == -1) {\n",
       "      register_renderer(events, OutputArea);\n",
       "    }\n",
       "  }\n",
       "\n",
       "  \n",
       "  if (typeof (root._bokeh_timeout) === \"undefined\" || force === true) {\n",
       "    root._bokeh_timeout = Date.now() + 5000;\n",
       "    root._bokeh_failed_load = false;\n",
       "  }\n",
       "\n",
       "  var NB_LOAD_WARNING = {'data': {'text/html':\n",
       "     \"<div style='background-color: #fdd'>\\n\"+\n",
       "     \"<p>\\n\"+\n",
       "     \"BokehJS does not appear to have successfully loaded. If loading BokehJS from CDN, this \\n\"+\n",
       "     \"may be due to a slow or bad network connection. Possible fixes:\\n\"+\n",
       "     \"</p>\\n\"+\n",
       "     \"<ul>\\n\"+\n",
       "     \"<li>re-rerun `output_notebook()` to attempt to load from CDN again, or</li>\\n\"+\n",
       "     \"<li>use INLINE resources instead, as so:</li>\\n\"+\n",
       "     \"</ul>\\n\"+\n",
       "     \"<code>\\n\"+\n",
       "     \"from bokeh.resources import INLINE\\n\"+\n",
       "     \"output_notebook(resources=INLINE)\\n\"+\n",
       "     \"</code>\\n\"+\n",
       "     \"</div>\"}};\n",
       "\n",
       "  function display_loaded() {\n",
       "    var el = document.getElementById(\"1001\");\n",
       "    if (el != null) {\n",
       "      el.textContent = \"BokehJS is loading...\";\n",
       "    }\n",
       "    if (root.Bokeh !== undefined) {\n",
       "      if (el != null) {\n",
       "        el.textContent = \"BokehJS \" + root.Bokeh.version + \" successfully loaded.\";\n",
       "      }\n",
       "    } else if (Date.now() < root._bokeh_timeout) {\n",
       "      setTimeout(display_loaded, 100)\n",
       "    }\n",
       "  }\n",
       "\n",
       "\n",
       "  function run_callbacks() {\n",
       "    try {\n",
       "      root._bokeh_onload_callbacks.forEach(function(callback) { callback() });\n",
       "    }\n",
       "    finally {\n",
       "      delete root._bokeh_onload_callbacks\n",
       "    }\n",
       "    console.info(\"Bokeh: all callbacks have finished\");\n",
       "  }\n",
       "\n",
       "  function load_libs(js_urls, callback) {\n",
       "    root._bokeh_onload_callbacks.push(callback);\n",
       "    if (root._bokeh_is_loading > 0) {\n",
       "      console.log(\"Bokeh: BokehJS is being loaded, scheduling callback at\", now());\n",
       "      return null;\n",
       "    }\n",
       "    if (js_urls == null || js_urls.length === 0) {\n",
       "      run_callbacks();\n",
       "      return null;\n",
       "    }\n",
       "    console.log(\"Bokeh: BokehJS not loaded, scheduling load and callback at\", now());\n",
       "    root._bokeh_is_loading = js_urls.length;\n",
       "    for (var i = 0; i < js_urls.length; i++) {\n",
       "      var url = js_urls[i];\n",
       "      var s = document.createElement('script');\n",
       "      s.src = url;\n",
       "      s.async = false;\n",
       "      s.onreadystatechange = s.onload = function() {\n",
       "        root._bokeh_is_loading--;\n",
       "        if (root._bokeh_is_loading === 0) {\n",
       "          console.log(\"Bokeh: all BokehJS libraries loaded\");\n",
       "          run_callbacks()\n",
       "        }\n",
       "      };\n",
       "      s.onerror = function() {\n",
       "        console.warn(\"failed to load library \" + url);\n",
       "      };\n",
       "      console.log(\"Bokeh: injecting script tag for BokehJS library: \", url);\n",
       "      document.getElementsByTagName(\"head\")[0].appendChild(s);\n",
       "    }\n",
       "  };var element = document.getElementById(\"1001\");\n",
       "  if (element == null) {\n",
       "    console.log(\"Bokeh: ERROR: autoload.js configured with elementid '1001' but no matching script tag was found. \")\n",
       "    return false;\n",
       "  }\n",
       "\n",
       "  var js_urls = [\"https://cdn.pydata.org/bokeh/release/bokeh-1.0.4.min.js\", \"https://cdn.pydata.org/bokeh/release/bokeh-widgets-1.0.4.min.js\", \"https://cdn.pydata.org/bokeh/release/bokeh-tables-1.0.4.min.js\", \"https://cdn.pydata.org/bokeh/release/bokeh-gl-1.0.4.min.js\"];\n",
       "\n",
       "  var inline_js = [\n",
       "    function(Bokeh) {\n",
       "      Bokeh.set_log_level(\"info\");\n",
       "    },\n",
       "    \n",
       "    function(Bokeh) {\n",
       "      \n",
       "    },\n",
       "    function(Bokeh) {\n",
       "      console.log(\"Bokeh: injecting CSS: https://cdn.pydata.org/bokeh/release/bokeh-1.0.4.min.css\");\n",
       "      Bokeh.embed.inject_css(\"https://cdn.pydata.org/bokeh/release/bokeh-1.0.4.min.css\");\n",
       "      console.log(\"Bokeh: injecting CSS: https://cdn.pydata.org/bokeh/release/bokeh-widgets-1.0.4.min.css\");\n",
       "      Bokeh.embed.inject_css(\"https://cdn.pydata.org/bokeh/release/bokeh-widgets-1.0.4.min.css\");\n",
       "      console.log(\"Bokeh: injecting CSS: https://cdn.pydata.org/bokeh/release/bokeh-tables-1.0.4.min.css\");\n",
       "      Bokeh.embed.inject_css(\"https://cdn.pydata.org/bokeh/release/bokeh-tables-1.0.4.min.css\");\n",
       "    }\n",
       "  ];\n",
       "\n",
       "  function run_inline_js() {\n",
       "    \n",
       "    if ((root.Bokeh !== undefined) || (force === true)) {\n",
       "      for (var i = 0; i < inline_js.length; i++) {\n",
       "        inline_js[i].call(root, root.Bokeh);\n",
       "      }if (force === true) {\n",
       "        display_loaded();\n",
       "      }} else if (Date.now() < root._bokeh_timeout) {\n",
       "      setTimeout(run_inline_js, 100);\n",
       "    } else if (!root._bokeh_failed_load) {\n",
       "      console.log(\"Bokeh: BokehJS failed to load within specified timeout.\");\n",
       "      root._bokeh_failed_load = true;\n",
       "    } else if (force !== true) {\n",
       "      var cell = $(document.getElementById(\"1001\")).parents('.cell').data().cell;\n",
       "      cell.output_area.append_execute_result(NB_LOAD_WARNING)\n",
       "    }\n",
       "\n",
       "  }\n",
       "\n",
       "  if (root._bokeh_is_loading === 0) {\n",
       "    console.log(\"Bokeh: BokehJS loaded, going straight to plotting\");\n",
       "    run_inline_js();\n",
       "  } else {\n",
       "    load_libs(js_urls, function() {\n",
       "      console.log(\"Bokeh: BokehJS plotting callback run at\", now());\n",
       "      run_inline_js();\n",
       "    });\n",
       "  }\n",
       "}(window));"
      ],
      "application/vnd.bokehjs_load.v0+json": "\n(function(root) {\n  function now() {\n    return new Date();\n  }\n\n  var force = true;\n\n  if (typeof (root._bokeh_onload_callbacks) === \"undefined\" || force === true) {\n    root._bokeh_onload_callbacks = [];\n    root._bokeh_is_loading = undefined;\n  }\n\n  \n\n  \n  if (typeof (root._bokeh_timeout) === \"undefined\" || force === true) {\n    root._bokeh_timeout = Date.now() + 5000;\n    root._bokeh_failed_load = false;\n  }\n\n  var NB_LOAD_WARNING = {'data': {'text/html':\n     \"<div style='background-color: #fdd'>\\n\"+\n     \"<p>\\n\"+\n     \"BokehJS does not appear to have successfully loaded. If loading BokehJS from CDN, this \\n\"+\n     \"may be due to a slow or bad network connection. Possible fixes:\\n\"+\n     \"</p>\\n\"+\n     \"<ul>\\n\"+\n     \"<li>re-rerun `output_notebook()` to attempt to load from CDN again, or</li>\\n\"+\n     \"<li>use INLINE resources instead, as so:</li>\\n\"+\n     \"</ul>\\n\"+\n     \"<code>\\n\"+\n     \"from bokeh.resources import INLINE\\n\"+\n     \"output_notebook(resources=INLINE)\\n\"+\n     \"</code>\\n\"+\n     \"</div>\"}};\n\n  function display_loaded() {\n    var el = document.getElementById(\"1001\");\n    if (el != null) {\n      el.textContent = \"BokehJS is loading...\";\n    }\n    if (root.Bokeh !== undefined) {\n      if (el != null) {\n        el.textContent = \"BokehJS \" + root.Bokeh.version + \" successfully loaded.\";\n      }\n    } else if (Date.now() < root._bokeh_timeout) {\n      setTimeout(display_loaded, 100)\n    }\n  }\n\n\n  function run_callbacks() {\n    try {\n      root._bokeh_onload_callbacks.forEach(function(callback) { callback() });\n    }\n    finally {\n      delete root._bokeh_onload_callbacks\n    }\n    console.info(\"Bokeh: all callbacks have finished\");\n  }\n\n  function load_libs(js_urls, callback) {\n    root._bokeh_onload_callbacks.push(callback);\n    if (root._bokeh_is_loading > 0) {\n      console.log(\"Bokeh: BokehJS is being loaded, scheduling callback at\", now());\n      return null;\n    }\n    if (js_urls == null || js_urls.length === 0) {\n      run_callbacks();\n      return null;\n    }\n    console.log(\"Bokeh: BokehJS not loaded, scheduling load and callback at\", now());\n    root._bokeh_is_loading = js_urls.length;\n    for (var i = 0; i < js_urls.length; i++) {\n      var url = js_urls[i];\n      var s = document.createElement('script');\n      s.src = url;\n      s.async = false;\n      s.onreadystatechange = s.onload = function() {\n        root._bokeh_is_loading--;\n        if (root._bokeh_is_loading === 0) {\n          console.log(\"Bokeh: all BokehJS libraries loaded\");\n          run_callbacks()\n        }\n      };\n      s.onerror = function() {\n        console.warn(\"failed to load library \" + url);\n      };\n      console.log(\"Bokeh: injecting script tag for BokehJS library: \", url);\n      document.getElementsByTagName(\"head\")[0].appendChild(s);\n    }\n  };var element = document.getElementById(\"1001\");\n  if (element == null) {\n    console.log(\"Bokeh: ERROR: autoload.js configured with elementid '1001' but no matching script tag was found. \")\n    return false;\n  }\n\n  var js_urls = [\"https://cdn.pydata.org/bokeh/release/bokeh-1.0.4.min.js\", \"https://cdn.pydata.org/bokeh/release/bokeh-widgets-1.0.4.min.js\", \"https://cdn.pydata.org/bokeh/release/bokeh-tables-1.0.4.min.js\", \"https://cdn.pydata.org/bokeh/release/bokeh-gl-1.0.4.min.js\"];\n\n  var inline_js = [\n    function(Bokeh) {\n      Bokeh.set_log_level(\"info\");\n    },\n    \n    function(Bokeh) {\n      \n    },\n    function(Bokeh) {\n      console.log(\"Bokeh: injecting CSS: https://cdn.pydata.org/bokeh/release/bokeh-1.0.4.min.css\");\n      Bokeh.embed.inject_css(\"https://cdn.pydata.org/bokeh/release/bokeh-1.0.4.min.css\");\n      console.log(\"Bokeh: injecting CSS: https://cdn.pydata.org/bokeh/release/bokeh-widgets-1.0.4.min.css\");\n      Bokeh.embed.inject_css(\"https://cdn.pydata.org/bokeh/release/bokeh-widgets-1.0.4.min.css\");\n      console.log(\"Bokeh: injecting CSS: https://cdn.pydata.org/bokeh/release/bokeh-tables-1.0.4.min.css\");\n      Bokeh.embed.inject_css(\"https://cdn.pydata.org/bokeh/release/bokeh-tables-1.0.4.min.css\");\n    }\n  ];\n\n  function run_inline_js() {\n    \n    if ((root.Bokeh !== undefined) || (force === true)) {\n      for (var i = 0; i < inline_js.length; i++) {\n        inline_js[i].call(root, root.Bokeh);\n      }if (force === true) {\n        display_loaded();\n      }} else if (Date.now() < root._bokeh_timeout) {\n      setTimeout(run_inline_js, 100);\n    } else if (!root._bokeh_failed_load) {\n      console.log(\"Bokeh: BokehJS failed to load within specified timeout.\");\n      root._bokeh_failed_load = true;\n    } else if (force !== true) {\n      var cell = $(document.getElementById(\"1001\")).parents('.cell').data().cell;\n      cell.output_area.append_execute_result(NB_LOAD_WARNING)\n    }\n\n  }\n\n  if (root._bokeh_is_loading === 0) {\n    console.log(\"Bokeh: BokehJS loaded, going straight to plotting\");\n    run_inline_js();\n  } else {\n    load_libs(js_urls, function() {\n      console.log(\"Bokeh: BokehJS plotting callback run at\", now());\n      run_inline_js();\n    });\n  }\n}(window));"
     },
     "metadata": {},
     "output_type": "display_data"
    }
   ],
   "source": [
    "import bokeh.io\n",
    "import bokeh.plotting\n",
    "from bokeh.io import output_file, show\n",
    "from bokeh.layouts import column, row\n",
    "from bokeh.plotting import figure\n",
    "import sys\n",
    "import glob \n",
    "import os \n",
    "import scipy.io as sio\n",
    "import numpy as np\n",
    "import decimal as dc\n",
    "import matplotlib.pyplot as plt\n",
    "import matplotlib.image as mpimg\n",
    "import pickle\n",
    "from bokeh.models import ColumnDataSource, Whisker\n",
    "\n",
    "from natsort import natsorted, ns\n",
    "\n",
    "from bokeh.models import Legend\n",
    "\n",
    "from pathlib import Path\n",
    "\n",
    "from scipy.stats import norm\n",
    "\n",
    "# Enable viewing Bokeh plots in the notebook\n",
    "bokeh.io.output_notebook()"
   ]
  },
  {
   "cell_type": "code",
   "execution_count": 3,
   "metadata": {},
   "outputs": [],
   "source": [
    "MiceToAnalyze = ['GF173','GF174','GF175','GF181',\n",
    "                 'GF182','GF187','GF193','GF199',\n",
    "                 'GF200','GF201','GF202','GF206',\n",
    "                 'GF207','GF209']"
   ]
  },
  {
   "cell_type": "code",
   "execution_count": 4,
   "metadata": {},
   "outputs": [
    {
     "name": "stdout",
     "output_type": "stream",
     "text": [
      "Reading behaviour file for the mouse : GF173...\n",
      "Reading behaviour file for the mouse : GF174...\n",
      "Reading behaviour file for the mouse : GF175...\n",
      "Reading behaviour file for the mouse : GF181...\n",
      "Reading behaviour file for the mouse : GF182...\n",
      "Reading behaviour file for the mouse : GF187...\n",
      "Reading behaviour file for the mouse : GF193...\n",
      "Reading behaviour file for the mouse : GF199...\n",
      "Reading behaviour file for the mouse : GF200...\n",
      "Reading behaviour file for the mouse : GF201...\n",
      "Reading behaviour file for the mouse : GF202...\n",
      "Reading behaviour file for the mouse : GF206...\n",
      "Reading behaviour file for the mouse : GF207...\n",
      "Reading behaviour file for the mouse : GF209...\n"
     ]
    }
   ],
   "source": [
    "#Read the behaviour pickle file for every mouse to analyse\n",
    "\n",
    "serverPath = '\\\\\\\\sv1files.epfl.ch\\\\Petersen-Lab\\\\analysis\\\\Georgios_Foustoukos\\\\'\n",
    "\n",
    "dataAll = np.zeros([len(MiceToAnalyze),6,4])\n",
    "dprime = np.zeros([len(MiceToAnalyze),6])\n",
    "\n",
    "\n",
    "for i, mouse in enumerate(MiceToAnalyze):\n",
    "    \n",
    "    print('Reading behaviour file for the mouse : ' + mouse + '...')\n",
    "    \n",
    "    dataPath = serverPath + mouse + \"\\\\Behaviour\\\\\" + mouse + '_Bhv.p' \n",
    "    \n",
    "    with open(dataPath, 'rb') as fp:\n",
    "        data = pickle.load(fp)\n",
    "      \n",
    "    dDays = np.zeros([len(data['dR'])]) \n",
    "    \n",
    "    for d in range(len(data['dR'])):\n",
    "        dDays[d] =np.nanmean(data['dR'][d])\n",
    "    \n",
    "    if len(data['AudHit']) == 6 :\n",
    "        \n",
    "        AudHit = np.reshape(np.array(data['AudHit']),[1,6])\n",
    "        WhHit =  np.reshape(np.array(data['WhHit']), [1,6]) \n",
    "        FA = np.reshape(np.array(data['FA']),[1,6])\n",
    "    \n",
    "        dataAll[i,:,0] = AudHit\n",
    "        dataAll[i,:,1] = WhHit\n",
    "        dataAll[i,:,2] = FA\n",
    "        dataAll[i,:,3] = dDays\n",
    "        \n",
    "    else:\n",
    "        \n",
    "        AudHit = np.reshape(np.array(data['AudHit']),[1,2])\n",
    "        WhHit =  np.reshape(np.array(data['WhHit']), [1,2]) \n",
    "        FA = np.reshape(np.array(data['FA']),[1,2])\n",
    "        dDays = np.reshape(dDays,[1,2])\n",
    "        \n",
    "        AudHitExt = np.concatenate((np.empty([1,3])*np.nan,AudHit,np.empty([1,1])*np.nan),axis =1)\n",
    "        WhHitExt = np.concatenate((np.empty([1,3])*np.nan,WhHit,np.empty([1,1])*np.nan),axis =1) \n",
    "        FAExt = np.concatenate((np.empty([1,3])*np.nan,FA,np.empty([1,1])*np.nan),axis =1)\n",
    "        dpExt = np.concatenate((np.empty([1,3])*np.nan,dDays,np.empty([1,1])*np.nan),axis =1)\n",
    "        \n",
    "        \n",
    "        dataAll[i,:,0] = AudHitExt\n",
    "        dataAll[i,:,1] = WhHitExt\n",
    "        dataAll[i,:,2] = FAExt\n",
    "        dataAll[i,:,3] = dpExt\n",
    "    \n",
    "    "
   ]
  },
  {
   "cell_type": "code",
   "execution_count": 5,
   "metadata": {},
   "outputs": [
    {
     "data": {
      "text/plain": [
       "(2,)"
      ]
     },
     "execution_count": 5,
     "metadata": {},
     "output_type": "execute_result"
    }
   ],
   "source": [
    "dDays.shape"
   ]
  },
  {
   "cell_type": "code",
   "execution_count": 127,
   "metadata": {},
   "outputs": [],
   "source": [
    "with open(dataPath, 'rb') as fp:\n",
    "    data = pickle.load(fp)"
   ]
  },
  {
   "cell_type": "code",
   "execution_count": 137,
   "metadata": {},
   "outputs": [
    {
     "data": {
      "text/plain": [
       "(2,)"
      ]
     },
     "execution_count": 137,
     "metadata": {},
     "output_type": "execute_result"
    }
   ],
   "source": [
    "d = np.array(data['dR'])\n",
    "\n",
    "dDays = np.zeros([len(data['dR'])]) \n",
    "\n",
    "dDays.shape"
   ]
  },
  {
   "cell_type": "code",
   "execution_count": 144,
   "metadata": {},
   "outputs": [],
   "source": [
    "for d in range(len(data['dR'])):\n",
    "    dDays[d] =np.nanmean(data['dR'][d])"
   ]
  },
  {
   "cell_type": "code",
   "execution_count": 145,
   "metadata": {},
   "outputs": [
    {
     "data": {
      "text/plain": [
       "array([2.26900387, 2.08847163])"
      ]
     },
     "execution_count": 145,
     "metadata": {},
     "output_type": "execute_result"
    }
   ],
   "source": [
    "dDays"
   ]
  },
  {
   "cell_type": "code",
   "execution_count": 7,
   "metadata": {},
   "outputs": [
    {
     "data": {
      "text/plain": [
       "(14, 6)"
      ]
     },
     "execution_count": 7,
     "metadata": {},
     "output_type": "execute_result"
    }
   ],
   "source": [
    "dataAll[:,:,3].shape"
   ]
  },
  {
   "cell_type": "code",
   "execution_count": 10,
   "metadata": {},
   "outputs": [
    {
     "data": {
      "text/plain": [
       "[<matplotlib.lines.Line2D at 0x215c80b8>]"
      ]
     },
     "execution_count": 10,
     "metadata": {},
     "output_type": "execute_result"
    },
    {
     "data": {
      "image/png": "[encoded data removed]",
      "text/plain": [
       "<Figure size 432x288 with 1 Axes>"
      ]
     },
     "metadata": {
      "needs_background": "light"
     },
     "output_type": "display_data"
    }
   ],
   "source": [
    "plt.plot(np.nanmean(dataAll[:,:,3],axis=0))"
   ]
  },
  {
   "cell_type": "code",
   "execution_count": 6,
   "metadata": {},
   "outputs": [
    {
     "data": {
      "text/html": [
       "\n",
       "\n",
       "\n",
       "\n",
       "\n",
       "\n",
       "  <div class=\"bk-root\" id=\"e50965eb-1041-47a5-ab08-1903523fcbe6\" data-root-id=\"1396\"></div>\n"
      ]
     },
     "metadata": {},
     "output_type": "display_data"
    },
    {
     "data": {
      "application/javascript": [
       "(function(root) {\n",
       "  function embed_document(root) {\n",
       "    \n",
       "  var docs_json = {\"a80e5cfa-6cc3-4f19-857f-f29e1210cf59\":{\"roots\":{\"references\":[{\"attributes\":{\"below\":[{\"id\":\"1406\",\"type\":\"LinearAxis\"}],\"left\":[{\"id\":\"1411\",\"type\":\"LinearAxis\"}],\"plot_height\":500,\"plot_width\":900,\"renderers\":[{\"id\":\"1406\",\"type\":\"LinearAxis\"},{\"id\":\"1410\",\"type\":\"Grid\"},{\"id\":\"1411\",\"type\":\"LinearAxis\"},{\"id\":\"1415\",\"type\":\"Grid\"},{\"id\":\"1424\",\"type\":\"BoxAnnotation\"},{\"id\":\"1434\",\"type\":\"GlyphRenderer\"},{\"id\":\"1439\",\"type\":\"GlyphRenderer\"},{\"id\":\"1444\",\"type\":\"GlyphRenderer\"},{\"id\":\"1449\",\"type\":\"GlyphRenderer\"},{\"id\":\"1454\",\"type\":\"GlyphRenderer\"},{\"id\":\"1459\",\"type\":\"GlyphRenderer\"},{\"id\":\"1464\",\"type\":\"GlyphRenderer\"},{\"id\":\"1469\",\"type\":\"GlyphRenderer\"},{\"id\":\"1474\",\"type\":\"GlyphRenderer\"},{\"id\":\"1476\",\"type\":\"Legend\"}],\"right\":[{\"id\":\"1476\",\"type\":\"Legend\"}],\"title\":{\"id\":\"1395\",\"type\":\"Title\"},\"toolbar\":{\"id\":\"1422\",\"type\":\"Toolbar\"},\"x_range\":{\"id\":\"1398\",\"type\":\"DataRange1d\"},\"x_scale\":{\"id\":\"1402\",\"type\":\"LinearScale\"},\"y_range\":{\"id\":\"1400\",\"type\":\"DataRange1d\"},\"y_scale\":{\"id\":\"1404\",\"type\":\"LinearScale\"}},\"id\":\"1396\",\"subtype\":\"Figure\",\"type\":\"Plot\"},{\"attributes\":{},\"id\":\"1516\",\"type\":\"BasicTickFormatter\"},{\"attributes\":{\"data_source\":{\"id\":\"1431\",\"type\":\"ColumnDataSource\"},\"glyph\":{\"id\":\"1432\",\"type\":\"Line\"},\"hover_glyph\":null,\"muted_glyph\":null,\"nonselection_glyph\":{\"id\":\"1433\",\"type\":\"Line\"},\"selection_glyph\":null,\"view\":{\"id\":\"1435\",\"type\":\"CDSView\"}},\"id\":\"1434\",\"type\":\"GlyphRenderer\"},{\"attributes\":{\"fill_color\":{\"value\":\"red\"},\"line_alpha\":{\"value\":0},\"line_color\":{\"value\":\"red\"},\"size\":{\"units\":\"screen\",\"value\":5},\"x\":{\"field\":\"x\"},\"y\":{\"field\":\"y\"}},\"id\":\"1462\",\"type\":\"Circle\"},{\"attributes\":{},\"id\":\"1416\",\"type\":\"PanTool\"},{\"attributes\":{},\"id\":\"1535\",\"type\":\"Selection\"},{\"attributes\":{\"fill_alpha\":{\"value\":0.1},\"fill_color\":{\"value\":\"#1f77b4\"},\"line_alpha\":{\"value\":0.1},\"line_color\":{\"value\":\"#1f77b4\"},\"size\":{\"units\":\"screen\",\"value\":5},\"x\":{\"field\":\"x\"},\"y\":{\"field\":\"y\"}},\"id\":\"1463\",\"type\":\"Circle\"},{\"attributes\":{},\"id\":\"1417\",\"type\":\"WheelZoomTool\"},{\"attributes\":{},\"id\":\"1536\",\"type\":\"UnionRenderers\"},{\"attributes\":{\"data_source\":{\"id\":\"1461\",\"type\":\"ColumnDataSource\"},\"glyph\":{\"id\":\"1462\",\"type\":\"Circle\"},\"hover_glyph\":null,\"muted_glyph\":null,\"nonselection_glyph\":{\"id\":\"1463\",\"type\":\"Circle\"},\"selection_glyph\":null,\"view\":{\"id\":\"1465\",\"type\":\"CDSView\"}},\"id\":\"1464\",\"type\":\"GlyphRenderer\"},{\"attributes\":{\"overlay\":{\"id\":\"1424\",\"type\":\"BoxAnnotation\"}},\"id\":\"1418\",\"type\":\"BoxZoomTool\"},{\"attributes\":{\"source\":{\"id\":\"1461\",\"type\":\"ColumnDataSource\"}},\"id\":\"1465\",\"type\":\"CDSView\"},{\"attributes\":{},\"id\":\"1419\",\"type\":\"SaveTool\"},{\"attributes\":{\"callback\":null,\"data\":{\"x\":[1,2,3,4,5,6],\"y\":{\"__ndarray__\":\"sqao33CTlT/mbWDGEbOXPwd2vAU1K6A/QkWfJurW4j/N3/kq/oTlP/uW3FfQNec/\",\"dtype\":\"float64\",\"shape\":[6]}},\"selected\":{\"id\":\"1533\",\"type\":\"Selection\"},\"selection_policy\":{\"id\":\"1534\",\"type\":\"UnionRenderers\"}},\"id\":\"1466\",\"type\":\"ColumnDataSource\"},{\"attributes\":{},\"id\":\"1420\",\"type\":\"ResetTool\"},{\"attributes\":{\"line_width\":2,\"x\":{\"field\":\"x\"},\"y\":{\"field\":\"y\"}},\"id\":\"1467\",\"type\":\"Line\"},{\"attributes\":{},\"id\":\"1421\",\"type\":\"HelpTool\"},{\"attributes\":{\"active_drag\":\"auto\",\"active_inspect\":\"auto\",\"active_multi\":null,\"active_scroll\":\"auto\",\"active_tap\":\"auto\",\"tools\":[{\"id\":\"1416\",\"type\":\"PanTool\"},{\"id\":\"1417\",\"type\":\"WheelZoomTool\"},{\"id\":\"1418\",\"type\":\"BoxZoomTool\"},{\"id\":\"1419\",\"type\":\"SaveTool\"},{\"id\":\"1420\",\"type\":\"ResetTool\"},{\"id\":\"1421\",\"type\":\"HelpTool\"}]},\"id\":\"1422\",\"type\":\"Toolbar\"},{\"attributes\":{\"line_alpha\":0.1,\"line_color\":\"#1f77b4\",\"line_width\":2,\"x\":{\"field\":\"x\"},\"y\":{\"field\":\"y\"}},\"id\":\"1468\",\"type\":\"Line\"},{\"attributes\":{\"data_source\":{\"id\":\"1466\",\"type\":\"ColumnDataSource\"},\"glyph\":{\"id\":\"1467\",\"type\":\"Line\"},\"hover_glyph\":null,\"muted_glyph\":null,\"nonselection_glyph\":{\"id\":\"1468\",\"type\":\"Line\"},\"selection_glyph\":null,\"view\":{\"id\":\"1470\",\"type\":\"CDSView\"}},\"id\":\"1469\",\"type\":\"GlyphRenderer\"},{\"attributes\":{\"bottom_units\":\"screen\",\"fill_alpha\":{\"value\":0.5},\"fill_color\":{\"value\":\"lightgrey\"},\"left_units\":\"screen\",\"level\":\"overlay\",\"line_alpha\":{\"value\":1.0},\"line_color\":{\"value\":\"black\"},\"line_dash\":[4,4],\"line_width\":{\"value\":2},\"plot\":null,\"render_mode\":\"css\",\"right_units\":\"screen\",\"top_units\":\"screen\"},\"id\":\"1424\",\"type\":\"BoxAnnotation\"},{\"attributes\":{\"source\":{\"id\":\"1466\",\"type\":\"ColumnDataSource\"}},\"id\":\"1470\",\"type\":\"CDSView\"},{\"attributes\":{\"click_policy\":\"hide\",\"items\":[{\"id\":\"1477\",\"type\":\"LegendItem\"},{\"id\":\"1478\",\"type\":\"LegendItem\"},{\"id\":\"1479\",\"type\":\"LegendItem\"}],\"location\":\"center\",\"plot\":{\"id\":\"1396\",\"subtype\":\"Figure\",\"type\":\"Plot\"}},\"id\":\"1476\",\"type\":\"Legend\"},{\"attributes\":{\"source\":{\"id\":\"1431\",\"type\":\"ColumnDataSource\"}},\"id\":\"1435\",\"type\":\"CDSView\"},{\"attributes\":{\"fill_color\":{\"value\":\"black\"},\"line_alpha\":{\"value\":0},\"size\":{\"units\":\"screen\",\"value\":5},\"x\":{\"field\":\"x\"},\"y\":{\"field\":\"y\"}},\"id\":\"1472\",\"type\":\"Circle\"},{\"attributes\":{\"fill_alpha\":{\"value\":0.1},\"fill_color\":{\"value\":\"#1f77b4\"},\"line_alpha\":{\"value\":0.1},\"line_color\":{\"value\":\"#1f77b4\"},\"size\":{\"units\":\"screen\",\"value\":5},\"x\":{\"field\":\"x\"},\"y\":{\"field\":\"y\"}},\"id\":\"1473\",\"type\":\"Circle\"},{\"attributes\":{\"callback\":null,\"data\":{\"x\":[1,2,3,4,5,6],\"y\":{\"__ndarray__\":\"Kp+sHhjQ6T9znmpruVbpP4dIkOIheeo/RhqjoqpX6z8jgufA6cfoP2bf3DPv7Ok/\",\"dtype\":\"float64\",\"shape\":[6]}},\"selected\":{\"id\":\"1527\",\"type\":\"Selection\"},\"selection_policy\":{\"id\":\"1528\",\"type\":\"UnionRenderers\"}},\"id\":\"1451\",\"type\":\"ColumnDataSource\"},{\"attributes\":{\"line_color\":{\"value\":\"blue\"},\"xs\":{\"field\":\"xs\"},\"ys\":{\"field\":\"ys\"}},\"id\":\"1437\",\"type\":\"MultiLine\"},{\"attributes\":{\"data_source\":{\"id\":\"1471\",\"type\":\"ColumnDataSource\"},\"glyph\":{\"id\":\"1472\",\"type\":\"Circle\"},\"hover_glyph\":null,\"muted_glyph\":null,\"nonselection_glyph\":{\"id\":\"1473\",\"type\":\"Circle\"},\"selection_glyph\":null,\"view\":{\"id\":\"1475\",\"type\":\"CDSView\"}},\"id\":\"1474\",\"type\":\"GlyphRenderer\"},{\"attributes\":{\"line_alpha\":{\"value\":0.1},\"line_color\":{\"value\":\"#1f77b4\"},\"xs\":{\"field\":\"xs\"},\"ys\":{\"field\":\"ys\"}},\"id\":\"1438\",\"type\":\"MultiLine\"},{\"attributes\":{\"source\":{\"id\":\"1471\",\"type\":\"ColumnDataSource\"}},\"id\":\"1475\",\"type\":\"CDSView\"},{\"attributes\":{\"data_source\":{\"id\":\"1436\",\"type\":\"ColumnDataSource\"},\"glyph\":{\"id\":\"1437\",\"type\":\"MultiLine\"},\"hover_glyph\":null,\"muted_glyph\":null,\"nonselection_glyph\":{\"id\":\"1438\",\"type\":\"MultiLine\"},\"selection_glyph\":null,\"view\":{\"id\":\"1440\",\"type\":\"CDSView\"}},\"id\":\"1439\",\"type\":\"GlyphRenderer\"},{\"attributes\":{\"source\":{\"id\":\"1436\",\"type\":\"ColumnDataSource\"}},\"id\":\"1440\",\"type\":\"CDSView\"},{\"attributes\":{\"callback\":null,\"data\":{\"xs\":[[1,1],[2,2],[3,3],[4,4],[5,5],[6,6]],\"ys\":[[0.015412421289288093,0.026728088604223512],[0.017017774028343306,0.02927029232631572],[0.016124348645015635,0.0470349396664025],[0.5324910025208902,0.6449783948978716],[0.6399176036142672,0.705051352260441],[0.6963017319917792,0.7543364127012928]]},\"selected\":{\"id\":\"1523\",\"type\":\"Selection\"},\"selection_policy\":{\"id\":\"1524\",\"type\":\"UnionRenderers\"}},\"id\":\"1441\",\"type\":\"ColumnDataSource\"},{\"attributes\":{\"label\":{\"value\":\"AudHit\"},\"renderers\":[{\"id\":\"1434\",\"type\":\"GlyphRenderer\"}]},\"id\":\"1477\",\"type\":\"LegendItem\"},{\"attributes\":{\"xs\":{\"field\":\"xs\"},\"ys\":{\"field\":\"ys\"}},\"id\":\"1442\",\"type\":\"MultiLine\"},{\"attributes\":{\"label\":{\"value\":\"WhHit\"},\"renderers\":[{\"id\":\"1469\",\"type\":\"GlyphRenderer\"}]},\"id\":\"1478\",\"type\":\"LegendItem\"},{\"attributes\":{\"line_alpha\":{\"value\":0.1},\"line_color\":{\"value\":\"#1f77b4\"},\"xs\":{\"field\":\"xs\"},\"ys\":{\"field\":\"ys\"}},\"id\":\"1443\",\"type\":\"MultiLine\"},{\"attributes\":{\"data_source\":{\"id\":\"1441\",\"type\":\"ColumnDataSource\"},\"glyph\":{\"id\":\"1442\",\"type\":\"MultiLine\"},\"hover_glyph\":null,\"muted_glyph\":null,\"nonselection_glyph\":{\"id\":\"1443\",\"type\":\"MultiLine\"},\"selection_glyph\":null,\"view\":{\"id\":\"1445\",\"type\":\"CDSView\"}},\"id\":\"1444\",\"type\":\"GlyphRenderer\"},{\"attributes\":{\"label\":{\"value\":\"FA\"},\"renderers\":[{\"id\":\"1459\",\"type\":\"GlyphRenderer\"}]},\"id\":\"1479\",\"type\":\"LegendItem\"},{\"attributes\":{},\"id\":\"1518\",\"type\":\"BasicTickFormatter\"},{\"attributes\":{\"source\":{\"id\":\"1441\",\"type\":\"ColumnDataSource\"}},\"id\":\"1445\",\"type\":\"CDSView\"},{\"attributes\":{\"callback\":null,\"data\":{\"xs\":[[1,1],[2,2],[3,3],[4,4],[5,5],[6,6]],\"ys\":[[0.7885222956762401,0.8247819567780394],[0.7753540542247528,0.8083188694313541],[0.7973413392044364,0.857231991688211],[0.8295920102057579,0.8793109546735152],[0.7400745440998424,0.8087323650155074],[0.7781509129482859,0.8421943959172605]]},\"selected\":{\"id\":\"1521\",\"type\":\"Selection\"},\"selection_policy\":{\"id\":\"1522\",\"type\":\"UnionRenderers\"}},\"id\":\"1436\",\"type\":\"ColumnDataSource\"},{\"attributes\":{\"callback\":null,\"data\":{\"xs\":[[1,1],[2,2],[3,3],[4,4],[5,5],[6,6]],\"ys\":[[0.16016642326843328,0.18738614637165585],[0.12719485233194044,0.16436809462636975],[0.10624237422163937,0.13983216696145778],[0.11292168093517335,0.1311503758685021],[0.09303895900949213,0.11792039618505579],[0.0965169834288032,0.11523706337528734]]},\"selected\":{\"id\":\"1525\",\"type\":\"Selection\"},\"selection_policy\":{\"id\":\"1526\",\"type\":\"UnionRenderers\"}},\"id\":\"1446\",\"type\":\"ColumnDataSource\"},{\"attributes\":{},\"id\":\"1519\",\"type\":\"Selection\"},{\"attributes\":{\"callback\":null,\"data\":{\"x\":[1,2,3,4,5,6],\"y\":{\"__ndarray__\":\"Kp+sHhjQ6T9znmpruVbpP4dIkOIheeo/RhqjoqpX6z8jgufA6cfoP2bf3DPv7Ok/\",\"dtype\":\"float64\",\"shape\":[6]}},\"selected\":{\"id\":\"1519\",\"type\":\"Selection\"},\"selection_policy\":{\"id\":\"1520\",\"type\":\"UnionRenderers\"}},\"id\":\"1431\",\"type\":\"ColumnDataSource\"},{\"attributes\":{\"line_color\":{\"value\":\"red\"},\"xs\":{\"field\":\"xs\"},\"ys\":{\"field\":\"ys\"}},\"id\":\"1447\",\"type\":\"MultiLine\"},{\"attributes\":{},\"id\":\"1520\",\"type\":\"UnionRenderers\"},{\"attributes\":{\"line_alpha\":0.1,\"line_color\":\"#1f77b4\",\"line_width\":2,\"x\":{\"field\":\"x\"},\"y\":{\"field\":\"y\"}},\"id\":\"1433\",\"type\":\"Line\"},{\"attributes\":{},\"id\":\"1534\",\"type\":\"UnionRenderers\"},{\"attributes\":{\"align\":\"center\",\"plot\":null,\"text\":\"Mean Behaviour (n=15)\"},\"id\":\"1395\",\"type\":\"Title\"},{\"attributes\":{\"line_alpha\":{\"value\":0.1},\"line_color\":{\"value\":\"#1f77b4\"},\"xs\":{\"field\":\"xs\"},\"ys\":{\"field\":\"ys\"}},\"id\":\"1448\",\"type\":\"MultiLine\"},{\"attributes\":{},\"id\":\"1521\",\"type\":\"Selection\"},{\"attributes\":{\"data_source\":{\"id\":\"1446\",\"type\":\"ColumnDataSource\"},\"glyph\":{\"id\":\"1447\",\"type\":\"MultiLine\"},\"hover_glyph\":null,\"muted_glyph\":null,\"nonselection_glyph\":{\"id\":\"1448\",\"type\":\"MultiLine\"},\"selection_glyph\":null,\"view\":{\"id\":\"1450\",\"type\":\"CDSView\"}},\"id\":\"1449\",\"type\":\"GlyphRenderer\"},{\"attributes\":{},\"id\":\"1522\",\"type\":\"UnionRenderers\"},{\"attributes\":{\"callback\":null},\"id\":\"1398\",\"type\":\"DataRange1d\"},{\"attributes\":{\"source\":{\"id\":\"1446\",\"type\":\"ColumnDataSource\"}},\"id\":\"1450\",\"type\":\"CDSView\"},{\"attributes\":{},\"id\":\"1523\",\"type\":\"Selection\"},{\"attributes\":{\"callback\":null},\"id\":\"1400\",\"type\":\"DataRange1d\"},{\"attributes\":{\"callback\":null,\"data\":{\"x\":[1,2,3,4,5,6],\"y\":{\"__ndarray__\":\"L60PIk0+xj8mU3qi96jCP9E6Yd1ef78/OmzrzsA9vz8xRKxVtwC7P0bc6LDBGrs/\",\"dtype\":\"float64\",\"shape\":[6]}},\"selected\":{\"id\":\"1531\",\"type\":\"Selection\"},\"selection_policy\":{\"id\":\"1532\",\"type\":\"UnionRenderers\"}},\"id\":\"1461\",\"type\":\"ColumnDataSource\"},{\"attributes\":{},\"id\":\"1524\",\"type\":\"UnionRenderers\"},{\"attributes\":{},\"id\":\"1402\",\"type\":\"LinearScale\"},{\"attributes\":{\"fill_color\":{\"value\":\"blue\"},\"line_alpha\":{\"value\":0},\"line_color\":{\"value\":\"blue\"},\"size\":{\"units\":\"screen\",\"value\":5},\"x\":{\"field\":\"x\"},\"y\":{\"field\":\"y\"}},\"id\":\"1452\",\"type\":\"Circle\"},{\"attributes\":{},\"id\":\"1525\",\"type\":\"Selection\"},{\"attributes\":{},\"id\":\"1404\",\"type\":\"LinearScale\"},{\"attributes\":{\"fill_alpha\":{\"value\":0.1},\"fill_color\":{\"value\":\"#1f77b4\"},\"line_alpha\":{\"value\":0.1},\"line_color\":{\"value\":\"#1f77b4\"},\"size\":{\"units\":\"screen\",\"value\":5},\"x\":{\"field\":\"x\"},\"y\":{\"field\":\"y\"}},\"id\":\"1453\",\"type\":\"Circle\"},{\"attributes\":{},\"id\":\"1526\",\"type\":\"UnionRenderers\"},{\"attributes\":{\"axis_label\":\"Days of training\",\"axis_label_text_font_style\":\"bold\",\"formatter\":{\"id\":\"1518\",\"type\":\"BasicTickFormatter\"},\"plot\":{\"id\":\"1396\",\"subtype\":\"Figure\",\"type\":\"Plot\"},\"ticker\":{\"id\":\"1407\",\"type\":\"BasicTicker\"}},\"id\":\"1406\",\"type\":\"LinearAxis\"},{\"attributes\":{\"data_source\":{\"id\":\"1451\",\"type\":\"ColumnDataSource\"},\"glyph\":{\"id\":\"1452\",\"type\":\"Circle\"},\"hover_glyph\":null,\"muted_glyph\":null,\"nonselection_glyph\":{\"id\":\"1453\",\"type\":\"Circle\"},\"selection_glyph\":null,\"view\":{\"id\":\"1455\",\"type\":\"CDSView\"}},\"id\":\"1454\",\"type\":\"GlyphRenderer\"},{\"attributes\":{},\"id\":\"1527\",\"type\":\"Selection\"},{\"attributes\":{},\"id\":\"1407\",\"type\":\"BasicTicker\"},{\"attributes\":{\"source\":{\"id\":\"1451\",\"type\":\"ColumnDataSource\"}},\"id\":\"1455\",\"type\":\"CDSView\"},{\"attributes\":{},\"id\":\"1528\",\"type\":\"UnionRenderers\"},{\"attributes\":{\"plot\":{\"id\":\"1396\",\"subtype\":\"Figure\",\"type\":\"Plot\"},\"ticker\":{\"id\":\"1407\",\"type\":\"BasicTicker\"}},\"id\":\"1410\",\"type\":\"Grid\"},{\"attributes\":{\"callback\":null,\"data\":{\"x\":[1,2,3,4,5,6],\"y\":{\"__ndarray__\":\"L60PIk0+xj8mU3qi96jCP9E6Yd1ef78/OmzrzsA9vz8xRKxVtwC7P0bc6LDBGrs/\",\"dtype\":\"float64\",\"shape\":[6]}},\"selected\":{\"id\":\"1529\",\"type\":\"Selection\"},\"selection_policy\":{\"id\":\"1530\",\"type\":\"UnionRenderers\"}},\"id\":\"1456\",\"type\":\"ColumnDataSource\"},{\"attributes\":{},\"id\":\"1529\",\"type\":\"Selection\"},{\"attributes\":{\"axis_label\":\"AudHit/WhHit/FA\",\"axis_label_text_font_style\":\"bold\",\"formatter\":{\"id\":\"1516\",\"type\":\"BasicTickFormatter\"},\"plot\":{\"id\":\"1396\",\"subtype\":\"Figure\",\"type\":\"Plot\"},\"ticker\":{\"id\":\"1412\",\"type\":\"BasicTicker\"}},\"id\":\"1411\",\"type\":\"LinearAxis\"},{\"attributes\":{\"line_color\":\"red\",\"line_width\":2,\"x\":{\"field\":\"x\"},\"y\":{\"field\":\"y\"}},\"id\":\"1457\",\"type\":\"Line\"},{\"attributes\":{},\"id\":\"1530\",\"type\":\"UnionRenderers\"},{\"attributes\":{},\"id\":\"1412\",\"type\":\"BasicTicker\"},{\"attributes\":{\"line_alpha\":0.1,\"line_color\":\"#1f77b4\",\"line_width\":2,\"x\":{\"field\":\"x\"},\"y\":{\"field\":\"y\"}},\"id\":\"1458\",\"type\":\"Line\"},{\"attributes\":{},\"id\":\"1531\",\"type\":\"Selection\"},{\"attributes\":{\"dimension\":1,\"plot\":{\"id\":\"1396\",\"subtype\":\"Figure\",\"type\":\"Plot\"},\"ticker\":{\"id\":\"1412\",\"type\":\"BasicTicker\"}},\"id\":\"1415\",\"type\":\"Grid\"},{\"attributes\":{\"data_source\":{\"id\":\"1456\",\"type\":\"ColumnDataSource\"},\"glyph\":{\"id\":\"1457\",\"type\":\"Line\"},\"hover_glyph\":null,\"muted_glyph\":null,\"nonselection_glyph\":{\"id\":\"1458\",\"type\":\"Line\"},\"selection_glyph\":null,\"view\":{\"id\":\"1460\",\"type\":\"CDSView\"}},\"id\":\"1459\",\"type\":\"GlyphRenderer\"},{\"attributes\":{},\"id\":\"1532\",\"type\":\"UnionRenderers\"},{\"attributes\":{\"line_color\":\"blue\",\"line_width\":2,\"x\":{\"field\":\"x\"},\"y\":{\"field\":\"y\"}},\"id\":\"1432\",\"type\":\"Line\"},{\"attributes\":{\"source\":{\"id\":\"1456\",\"type\":\"ColumnDataSource\"}},\"id\":\"1460\",\"type\":\"CDSView\"},{\"attributes\":{},\"id\":\"1533\",\"type\":\"Selection\"},{\"attributes\":{\"callback\":null,\"data\":{\"x\":[1,2,3,4,5,6],\"y\":{\"__ndarray__\":\"sqao33CTlT/mbWDGEbOXPwd2vAU1K6A/QkWfJurW4j/N3/kq/oTlP/uW3FfQNec/\",\"dtype\":\"float64\",\"shape\":[6]}},\"selected\":{\"id\":\"1535\",\"type\":\"Selection\"},\"selection_policy\":{\"id\":\"1536\",\"type\":\"UnionRenderers\"}},\"id\":\"1471\",\"type\":\"ColumnDataSource\"}],\"root_ids\":[\"1396\"]},\"title\":\"Bokeh Application\",\"version\":\"1.0.4\"}};\n",
       "  var render_items = [{\"docid\":\"a80e5cfa-6cc3-4f19-857f-f29e1210cf59\",\"roots\":{\"1396\":\"e50965eb-1041-47a5-ab08-1903523fcbe6\"}}];\n",
       "  root.Bokeh.embed.embed_items_notebook(docs_json, render_items);\n",
       "\n",
       "  }\n",
       "  if (root.Bokeh !== undefined) {\n",
       "    embed_document(root);\n",
       "  } else {\n",
       "    var attempts = 0;\n",
       "    var timer = setInterval(function(root) {\n",
       "      if (root.Bokeh !== undefined) {\n",
       "        embed_document(root);\n",
       "        clearInterval(timer);\n",
       "      }\n",
       "      attempts++;\n",
       "      if (attempts > 100) {\n",
       "        console.log(\"Bokeh: ERROR: Unable to run BokehJS code because BokehJS library is missing\");\n",
       "        clearInterval(timer);\n",
       "      }\n",
       "    }, 10, root)\n",
       "  }\n",
       "})(window);"
      ],
      "application/vnd.bokehjs_exec.v0+json": ""
     },
     "metadata": {
      "application/vnd.bokehjs_exec.v0+json": {
       "id": "1396"
      }
     },
     "output_type": "display_data"
    },
    {
     "data": {
      "text/html": [
       "\n",
       "\n",
       "\n",
       "\n",
       "\n",
       "\n",
       "  <div class=\"bk-root\" id=\"3ce8eded-af68-436b-b27c-a792114913d7\" data-root-id=\"1683\"></div>\n"
      ]
     },
     "metadata": {},
     "output_type": "display_data"
    },
    {
     "data": {
      "application/javascript": [
       "(function(root) {\n",
       "  function embed_document(root) {\n",
       "    \n",
       "  var docs_json = {\"5f115006-3fcb-4f12-86d0-2b4807d28f2e\":{\"roots\":{\"references\":[{\"attributes\":{\"below\":[{\"id\":\"1693\",\"type\":\"LinearAxis\"}],\"left\":[{\"id\":\"1698\",\"type\":\"LinearAxis\"}],\"plot_height\":500,\"plot_width\":900,\"renderers\":[{\"id\":\"1693\",\"type\":\"LinearAxis\"},{\"id\":\"1697\",\"type\":\"Grid\"},{\"id\":\"1698\",\"type\":\"LinearAxis\"},{\"id\":\"1702\",\"type\":\"Grid\"},{\"id\":\"1711\",\"type\":\"BoxAnnotation\"},{\"id\":\"1721\",\"type\":\"GlyphRenderer\"},{\"id\":\"1726\",\"type\":\"GlyphRenderer\"}],\"title\":{\"id\":\"1682\",\"type\":\"Title\"},\"toolbar\":{\"id\":\"1709\",\"type\":\"Toolbar\"},\"x_range\":{\"id\":\"1685\",\"type\":\"DataRange1d\"},\"x_scale\":{\"id\":\"1689\",\"type\":\"LinearScale\"},\"y_range\":{\"id\":\"1687\",\"type\":\"DataRange1d\"},\"y_scale\":{\"id\":\"1691\",\"type\":\"LinearScale\"}},\"id\":\"1683\",\"subtype\":\"Figure\",\"type\":\"Plot\"},{\"attributes\":{},\"id\":\"1707\",\"type\":\"ResetTool\"},{\"attributes\":{},\"id\":\"1699\",\"type\":\"BasicTicker\"},{\"attributes\":{},\"id\":\"1794\",\"type\":\"UnionRenderers\"},{\"attributes\":{\"axis_label\":\"dprime for W\",\"axis_label_text_font_style\":\"bold\",\"formatter\":{\"id\":\"1788\",\"type\":\"BasicTickFormatter\"},\"plot\":{\"id\":\"1683\",\"subtype\":\"Figure\",\"type\":\"Plot\"},\"ticker\":{\"id\":\"1699\",\"type\":\"BasicTicker\"}},\"id\":\"1698\",\"type\":\"LinearAxis\"},{\"attributes\":{},\"id\":\"1793\",\"type\":\"Selection\"},{\"attributes\":{\"line_alpha\":0.1,\"line_color\":\"#1f77b4\",\"line_width\":2,\"x\":{\"field\":\"x\"},\"y\":{\"field\":\"y\"}},\"id\":\"1720\",\"type\":\"Line\"},{\"attributes\":{\"plot\":{\"id\":\"1683\",\"subtype\":\"Figure\",\"type\":\"Plot\"},\"ticker\":{\"id\":\"1694\",\"type\":\"BasicTicker\"}},\"id\":\"1697\",\"type\":\"Grid\"},{\"attributes\":{},\"id\":\"1694\",\"type\":\"BasicTicker\"},{\"attributes\":{},\"id\":\"1790\",\"type\":\"BasicTickFormatter\"},{\"attributes\":{\"active_drag\":\"auto\",\"active_inspect\":\"auto\",\"active_multi\":null,\"active_scroll\":\"auto\",\"active_tap\":\"auto\",\"tools\":[{\"id\":\"1703\",\"type\":\"PanTool\"},{\"id\":\"1704\",\"type\":\"WheelZoomTool\"},{\"id\":\"1705\",\"type\":\"BoxZoomTool\"},{\"id\":\"1706\",\"type\":\"SaveTool\"},{\"id\":\"1707\",\"type\":\"ResetTool\"},{\"id\":\"1708\",\"type\":\"HelpTool\"}]},\"id\":\"1709\",\"type\":\"Toolbar\"},{\"attributes\":{\"axis_label\":\"Days of training\",\"axis_label_text_font_style\":\"bold\",\"formatter\":{\"id\":\"1790\",\"type\":\"BasicTickFormatter\"},\"plot\":{\"id\":\"1683\",\"subtype\":\"Figure\",\"type\":\"Plot\"},\"ticker\":{\"id\":\"1694\",\"type\":\"BasicTicker\"}},\"id\":\"1693\",\"type\":\"LinearAxis\"},{\"attributes\":{},\"id\":\"1691\",\"type\":\"LinearScale\"},{\"attributes\":{},\"id\":\"1792\",\"type\":\"UnionRenderers\"},{\"attributes\":{},\"id\":\"1708\",\"type\":\"HelpTool\"},{\"attributes\":{},\"id\":\"1689\",\"type\":\"LinearScale\"},{\"attributes\":{},\"id\":\"1791\",\"type\":\"Selection\"},{\"attributes\":{\"callback\":null},\"id\":\"1687\",\"type\":\"DataRange1d\"},{\"attributes\":{\"data_source\":{\"id\":\"1723\",\"type\":\"ColumnDataSource\"},\"glyph\":{\"id\":\"1724\",\"type\":\"MultiLine\"},\"hover_glyph\":null,\"muted_glyph\":null,\"nonselection_glyph\":{\"id\":\"1725\",\"type\":\"MultiLine\"},\"selection_glyph\":null,\"view\":{\"id\":\"1727\",\"type\":\"CDSView\"}},\"id\":\"1726\",\"type\":\"GlyphRenderer\"},{\"attributes\":{\"source\":{\"id\":\"1723\",\"type\":\"ColumnDataSource\"}},\"id\":\"1727\",\"type\":\"CDSView\"},{\"attributes\":{\"align\":\"center\",\"plot\":null,\"text\":\"Mean dprime (n=15)\"},\"id\":\"1682\",\"type\":\"Title\"},{\"attributes\":{\"line_color\":\"green\",\"line_width\":2,\"x\":{\"field\":\"x\"},\"y\":{\"field\":\"y\"}},\"id\":\"1719\",\"type\":\"Line\"},{\"attributes\":{\"callback\":null},\"id\":\"1685\",\"type\":\"DataRange1d\"},{\"attributes\":{\"dimension\":1,\"plot\":{\"id\":\"1683\",\"subtype\":\"Figure\",\"type\":\"Plot\"},\"ticker\":{\"id\":\"1699\",\"type\":\"BasicTicker\"}},\"id\":\"1702\",\"type\":\"Grid\"},{\"attributes\":{\"line_alpha\":{\"value\":0.1},\"line_color\":{\"value\":\"#1f77b4\"},\"xs\":{\"field\":\"xs\"},\"ys\":{\"field\":\"ys\"}},\"id\":\"1725\",\"type\":\"MultiLine\"},{\"attributes\":{\"line_color\":{\"value\":\"green\"},\"xs\":{\"field\":\"xs\"},\"ys\":{\"field\":\"ys\"}},\"id\":\"1724\",\"type\":\"MultiLine\"},{\"attributes\":{\"callback\":null,\"data\":{\"x\":[1,2,3,4,5,6],\"y\":{\"__ndarray__\":\"kfWisr3to7/DnhhGlJm3v5dsLp5TKrS/JvOQnN+t+D+aNQbdFxf/P/Kwi41TpQBA\",\"dtype\":\"float64\",\"shape\":[6]}},\"selected\":{\"id\":\"1791\",\"type\":\"Selection\"},\"selection_policy\":{\"id\":\"1792\",\"type\":\"UnionRenderers\"}},\"id\":\"1718\",\"type\":\"ColumnDataSource\"},{\"attributes\":{\"data_source\":{\"id\":\"1718\",\"type\":\"ColumnDataSource\"},\"glyph\":{\"id\":\"1719\",\"type\":\"Line\"},\"hover_glyph\":null,\"muted_glyph\":null,\"nonselection_glyph\":{\"id\":\"1720\",\"type\":\"Line\"},\"selection_glyph\":null,\"view\":{\"id\":\"1722\",\"type\":\"CDSView\"}},\"id\":\"1721\",\"type\":\"GlyphRenderer\"},{\"attributes\":{},\"id\":\"1703\",\"type\":\"PanTool\"},{\"attributes\":{},\"id\":\"1704\",\"type\":\"WheelZoomTool\"},{\"attributes\":{\"source\":{\"id\":\"1718\",\"type\":\"ColumnDataSource\"}},\"id\":\"1722\",\"type\":\"CDSView\"},{\"attributes\":{\"callback\":null,\"data\":{\"xs\":[[1,1],[2,2],[3,3],[4,4],[5,5],[6,6]],\"ys\":[[-0.09794361988160095,0.020097230003860767],[-0.16014021190989902,-0.024234153159153435],[-0.1815588638420142,0.02401715753080301],[1.384312642228197,1.7005865192760876],[1.8469295649639192,2.0393464195636644],[1.9773523549560788,2.1840991866117943]]},\"selected\":{\"id\":\"1793\",\"type\":\"Selection\"},\"selection_policy\":{\"id\":\"1794\",\"type\":\"UnionRenderers\"}},\"id\":\"1723\",\"type\":\"ColumnDataSource\"},{\"attributes\":{\"overlay\":{\"id\":\"1711\",\"type\":\"BoxAnnotation\"}},\"id\":\"1705\",\"type\":\"BoxZoomTool\"},{\"attributes\":{\"bottom_units\":\"screen\",\"fill_alpha\":{\"value\":0.5},\"fill_color\":{\"value\":\"lightgrey\"},\"left_units\":\"screen\",\"level\":\"overlay\",\"line_alpha\":{\"value\":1.0},\"line_color\":{\"value\":\"black\"},\"line_dash\":[4,4],\"line_width\":{\"value\":2},\"plot\":null,\"render_mode\":\"css\",\"right_units\":\"screen\",\"top_units\":\"screen\"},\"id\":\"1711\",\"type\":\"BoxAnnotation\"},{\"attributes\":{},\"id\":\"1706\",\"type\":\"SaveTool\"},{\"attributes\":{},\"id\":\"1788\",\"type\":\"BasicTickFormatter\"}],\"root_ids\":[\"1683\"]},\"title\":\"Bokeh Application\",\"version\":\"1.0.4\"}};\n",
       "  var render_items = [{\"docid\":\"5f115006-3fcb-4f12-86d0-2b4807d28f2e\",\"roots\":{\"1683\":\"3ce8eded-af68-436b-b27c-a792114913d7\"}}];\n",
       "  root.Bokeh.embed.embed_items_notebook(docs_json, render_items);\n",
       "\n",
       "  }\n",
       "  if (root.Bokeh !== undefined) {\n",
       "    embed_document(root);\n",
       "  } else {\n",
       "    var attempts = 0;\n",
       "    var timer = setInterval(function(root) {\n",
       "      if (root.Bokeh !== undefined) {\n",
       "        embed_document(root);\n",
       "        clearInterval(timer);\n",
       "      }\n",
       "      attempts++;\n",
       "      if (attempts > 100) {\n",
       "        console.log(\"Bokeh: ERROR: Unable to run BokehJS code because BokehJS library is missing\");\n",
       "        clearInterval(timer);\n",
       "      }\n",
       "    }, 10, root)\n",
       "  }\n",
       "})(window);"
      ],
      "application/vnd.bokehjs_exec.v0+json": ""
     },
     "metadata": {
      "application/vnd.bokehjs_exec.v0+json": {
       "id": "1683"
      }
     },
     "output_type": "display_data"
    }
   ],
   "source": [
    "errorAudH = np.nanstd(dataAll[:,:,0],axis = 0)/np.sqrt(np.sum(np.invert(np.isnan(dataAll[:,:,0])),axis = 0))\n",
    "errorWhH = np.nanstd(dataAll[:,:,1],axis = 0)/np.sqrt(np.sum(np.invert(np.isnan(dataAll[:,:,1])),axis = 0))\n",
    "errorFA = np.nanstd(dataAll[:,:,2],axis = 0)/np.sqrt(np.sum(np.invert(np.isnan(dataAll[:,:,2])),axis = 0))\n",
    "\n",
    "\n",
    "MeanAudH = np.nanmean(dataAll[:,:,0],axis=0)\n",
    "MeanWhH = np.nanmean(dataAll[:,:,1],axis=0)\n",
    "MeanFA = np.nanmean(dataAll[:,:,2],axis=0)\n",
    "\n",
    "Days = dataAll.shape[1] + 1\n",
    "\n",
    "p = bokeh.plotting.figure(\n",
    "    width=900,\n",
    "    height=500,\n",
    "    x_axis_label='Days of training',\n",
    "    y_axis_label='AudHit/WhHit/FA',\n",
    "    title= 'Mean Behaviour (n=15)' \n",
    "    )\n",
    "\n",
    "p.yaxis.axis_label_text_font_style = \"bold\"\n",
    "p.xaxis.axis_label_text_font_style = \"bold\"\n",
    "p.title.align = 'center'\n",
    "\n",
    "\n",
    "audh = p.line(\n",
    "x= range(1,Days,1),\n",
    "y= MeanAudH ,\n",
    "line_join='bevel',\n",
    "line_width=2,\n",
    "color = 'blue',\n",
    ")\n",
    "\n",
    "\n",
    "err_xs = []\n",
    "err_ys = []\n",
    "\n",
    "for x, y, yerr in zip(range(1,Days,1), MeanAudH, errorAudH ):\n",
    "    err_xs.append((x, x))\n",
    "    err_ys.append((y - yerr, y + yerr))\n",
    "\n",
    "# plot them\n",
    "p.multi_line(err_xs, err_ys, color='blue')\n",
    "\n",
    "\n",
    "\n",
    "err_xs = []\n",
    "err_ys = []\n",
    "\n",
    "for x, y, yerr in zip(range(1,Days,1), MeanWhH, errorWhH ):\n",
    "    err_xs.append((x, x))\n",
    "    err_ys.append((y - yerr, y + yerr))\n",
    "\n",
    "# plot them\n",
    "p.multi_line(err_xs, err_ys, color='black')\n",
    "\n",
    "\n",
    "err_xs = []\n",
    "err_ys = []\n",
    "\n",
    "for x, y, yerr in zip(range(1,Days,1), MeanFA, errorFA ):\n",
    "    err_xs.append((x, x))\n",
    "    err_ys.append((y - yerr, y + yerr))\n",
    "\n",
    "# plot them\n",
    "p.multi_line(err_xs, err_ys, color='red')\n",
    "\n",
    "\n",
    "p.circle(range(1,Days,1), MeanAudH , color='blue', size=5, line_alpha=0)\n",
    "\n",
    "fa = p.line(\n",
    "x= range(1,Days,1),\n",
    "y= MeanFA,\n",
    "line_join='bevel',\n",
    "line_width=2,\n",
    "color = 'red',\n",
    ")\n",
    "\n",
    "p.circle(range(1,Days,1), MeanFA , color='red', size=5, line_alpha=0)\n",
    "\n",
    "whhit = p.line(\n",
    "x= range(1,Days,1),\n",
    "y= MeanWhH,\n",
    "line_join='bevel',\n",
    "line_width=2,\n",
    "color = 'black',\n",
    ")\n",
    "\n",
    "p.circle(range(1,Days,1), MeanWhH , color='black', size=5, line_alpha=0)\n",
    "\n",
    "legend = Legend(items=[\n",
    "(\"AudHit\" , [audh]),\n",
    "(\"WhHit\" , [whhit]),\n",
    "(\"FA\" , [fa])   \n",
    "], location=\"center\")\n",
    "\n",
    "p.add_layout(legend, 'right')\n",
    "\n",
    "p.legend.click_policy=\"hide\"\n",
    "\n",
    "bokeh.io.show(p) \n",
    "\n",
    "errorDprime = np.nanstd(dataAll[:,:,3],axis = 0)/np.sqrt(np.sum(np.invert(np.isnan(dataAll[:,:,3])),axis = 0))\n",
    "MeanDprime = np.nanmean(dataAll[:,:,3],axis=0)\n",
    "\n",
    "k = bokeh.plotting.figure(\n",
    "    width=900,\n",
    "    height=500,\n",
    "    x_axis_label='Days of training',\n",
    "    y_axis_label='dprime for W',\n",
    "    title= 'Mean dprime (n=15)' \n",
    "    )\n",
    "\n",
    "k.yaxis.axis_label_text_font_style = \"bold\"\n",
    "k.xaxis.axis_label_text_font_style = \"bold\"\n",
    "k.title.align = 'center'\n",
    "\n",
    "dprime = k.line(\n",
    "x= range(1,Days,1),\n",
    "y= MeanDprime ,\n",
    "line_join='bevel',\n",
    "line_width=2,\n",
    "color = 'green',\n",
    ")\n",
    "\n",
    "\n",
    "err_xs = []\n",
    "err_ys = []\n",
    "\n",
    "for x, y, yerr in zip(range(1,Days,1), MeanDprime, errorDprime):\n",
    "    err_xs.append((x, x))\n",
    "    err_ys.append((y - yerr, y + yerr))\n",
    "\n",
    "# plot them\n",
    "k.multi_line(err_xs, err_ys, color='green')\n",
    "bokeh.io.show(k) \n"
   ]
  },
  {
   "cell_type": "code",
   "execution_count": 113,
   "metadata": {},
   "outputs": [
    {
     "data": {
      "text/plain": [
       "array([[0.89772727, 0.        , 0.14285714],\n",
       "       [0.75      , 0.        , 0.10447761],\n",
       "       [0.692607  , 0.        , 0.07421875],\n",
       "       [0.68548387, 0.        , 0.05263158],\n",
       "       [0.88405797, 0.        , 0.14285714],\n",
       "       [0.87804878, 0.        , 0.08433735],\n",
       "       [0.83571429, 0.        , 0.23571429],\n",
       "       [0.82758621, 0.        , 0.18103448],\n",
       "       [0.79807692, 0.        , 0.20192308],\n",
       "       [0.87313433, 0.        , 0.17164179],\n",
       "       [0.8452381 , 0.        , 0.1       ],\n",
       "       [0.72826087, 0.        , 0.2173913 ],\n",
       "       [0.60416667, 0.        , 0.11805556]])"
      ]
     },
     "execution_count": 113,
     "metadata": {},
     "output_type": "execute_result"
    }
   ],
   "source": [
    "dataAll[dataAll[:,:,1] ==0]"
   ]
  },
  {
   "cell_type": "code",
   "execution_count": 9,
   "metadata": {},
   "outputs": [
    {
     "data": {
      "text/html": [
       "\n",
       "\n",
       "\n",
       "\n",
       "\n",
       "\n",
       "  <div class=\"bk-root\" id=\"4159f362-4407-4c0f-9070-eae7d593f4ef\" data-root-id=\"2439\"></div>\n"
      ]
     },
     "metadata": {},
     "output_type": "display_data"
    },
    {
     "data": {
      "application/javascript": [
       "(function(root) {\n",
       "  function embed_document(root) {\n",
       "    \n",
       "  var docs_json = {\"be98a7d9-1c92-46bd-ac8f-1b724c9bd904\":{\"roots\":{\"references\":[{\"attributes\":{\"below\":[{\"id\":\"2449\",\"type\":\"LinearAxis\"}],\"left\":[{\"id\":\"2454\",\"type\":\"LinearAxis\"}],\"plot_height\":500,\"plot_width\":300,\"renderers\":[{\"id\":\"2449\",\"type\":\"LinearAxis\"},{\"id\":\"2453\",\"type\":\"Grid\"},{\"id\":\"2454\",\"type\":\"LinearAxis\"},{\"id\":\"2458\",\"type\":\"Grid\"},{\"id\":\"2467\",\"type\":\"BoxAnnotation\"},{\"id\":\"2477\",\"type\":\"GlyphRenderer\"},{\"id\":\"2482\",\"type\":\"GlyphRenderer\"}],\"title\":{\"id\":\"2438\",\"type\":\"Title\"},\"toolbar\":{\"id\":\"2465\",\"type\":\"Toolbar\"},\"x_range\":{\"id\":\"2441\",\"type\":\"DataRange1d\"},\"x_scale\":{\"id\":\"2445\",\"type\":\"LinearScale\"},\"y_range\":{\"id\":\"2443\",\"type\":\"DataRange1d\"},\"y_scale\":{\"id\":\"2447\",\"type\":\"LinearScale\"}},\"id\":\"2439\",\"subtype\":\"Figure\",\"type\":\"Plot\"},{\"attributes\":{\"callback\":null,\"data\":{\"y\":{\"__ndarray__\":\"uZEbuZEb6T++Jr3XpPfaP1HdDtXtUN0/6ZM+6ZM+6T9SuB6F61HYPxiBERiBEdg/I/qA6thb6z992aDJlw3aP2lpaWlpaek/l3Ipl3Ip5z85juM4juPiP/WmN73pTec/lD7pkz7pwz+CvWNqYO/oPw==\",\"dtype\":\"float64\",\"shape\":[14]}},\"selected\":{\"id\":\"2587\",\"type\":\"Selection\"},\"selection_policy\":{\"id\":\"2588\",\"type\":\"UnionRenderers\"}},\"id\":\"2474\",\"type\":\"ColumnDataSource\"},{\"attributes\":{},\"id\":\"2459\",\"type\":\"PanTool\"},{\"attributes\":{},\"id\":\"2460\",\"type\":\"WheelZoomTool\"},{\"attributes\":{},\"id\":\"2445\",\"type\":\"LinearScale\"},{\"attributes\":{\"overlay\":{\"id\":\"2467\",\"type\":\"BoxAnnotation\"}},\"id\":\"2461\",\"type\":\"BoxZoomTool\"},{\"attributes\":{},\"id\":\"2462\",\"type\":\"SaveTool\"},{\"attributes\":{},\"id\":\"2587\",\"type\":\"Selection\"},{\"attributes\":{},\"id\":\"2463\",\"type\":\"ResetTool\"},{\"attributes\":{},\"id\":\"2455\",\"type\":\"BasicTicker\"},{\"attributes\":{},\"id\":\"2588\",\"type\":\"UnionRenderers\"},{\"attributes\":{},\"id\":\"2464\",\"type\":\"HelpTool\"},{\"attributes\":{},\"id\":\"2586\",\"type\":\"BasicTickFormatter\"},{\"attributes\":{\"active_drag\":\"auto\",\"active_inspect\":\"auto\",\"active_multi\":null,\"active_scroll\":\"auto\",\"active_tap\":\"auto\",\"tools\":[{\"id\":\"2459\",\"type\":\"PanTool\"},{\"id\":\"2460\",\"type\":\"WheelZoomTool\"},{\"id\":\"2461\",\"type\":\"BoxZoomTool\"},{\"id\":\"2462\",\"type\":\"SaveTool\"},{\"id\":\"2463\",\"type\":\"ResetTool\"},{\"id\":\"2464\",\"type\":\"HelpTool\"}]},\"id\":\"2465\",\"type\":\"Toolbar\"},{\"attributes\":{\"plot\":{\"id\":\"2439\",\"subtype\":\"Figure\",\"type\":\"Plot\"},\"ticker\":{\"id\":\"2450\",\"type\":\"BasicTicker\"}},\"id\":\"2453\",\"type\":\"Grid\"},{\"attributes\":{\"callback\":null},\"id\":\"2443\",\"type\":\"DataRange1d\"},{\"attributes\":{\"axis_label\":\"Switching Day\",\"axis_label_text_font_style\":\"bold\",\"formatter\":{\"id\":\"2586\",\"type\":\"BasicTickFormatter\"},\"plot\":{\"id\":\"2439\",\"subtype\":\"Figure\",\"type\":\"Plot\"},\"ticker\":{\"id\":\"2450\",\"type\":\"BasicTicker\"}},\"id\":\"2449\",\"type\":\"LinearAxis\"},{\"attributes\":{\"dimension\":1,\"plot\":{\"id\":\"2439\",\"subtype\":\"Figure\",\"type\":\"Plot\"},\"ticker\":{\"id\":\"2455\",\"type\":\"BasicTicker\"}},\"id\":\"2458\",\"type\":\"Grid\"},{\"attributes\":{\"bottom_units\":\"screen\",\"fill_alpha\":{\"value\":0.5},\"fill_color\":{\"value\":\"lightgrey\"},\"left_units\":\"screen\",\"level\":\"overlay\",\"line_alpha\":{\"value\":1.0},\"line_color\":{\"value\":\"black\"},\"line_dash\":[4,4],\"line_width\":{\"value\":2},\"plot\":null,\"render_mode\":\"css\",\"right_units\":\"screen\",\"top_units\":\"screen\"},\"id\":\"2467\",\"type\":\"BoxAnnotation\"},{\"attributes\":{},\"id\":\"2450\",\"type\":\"BasicTicker\"},{\"attributes\":{\"callback\":null,\"data\":{},\"selected\":{\"id\":\"2589\",\"type\":\"Selection\"},\"selection_policy\":{\"id\":\"2590\",\"type\":\"UnionRenderers\"}},\"id\":\"2479\",\"type\":\"ColumnDataSource\"},{\"attributes\":{\"callback\":null},\"id\":\"2441\",\"type\":\"DataRange1d\"},{\"attributes\":{\"source\":{\"id\":\"2474\",\"type\":\"ColumnDataSource\"}},\"id\":\"2478\",\"type\":\"CDSView\"},{\"attributes\":{},\"id\":\"2589\",\"type\":\"Selection\"},{\"attributes\":{\"fill_color\":{\"value\":\"white\"},\"size\":{\"units\":\"screen\",\"value\":5},\"x\":{\"value\":1},\"y\":{\"field\":\"y\"}},\"id\":\"2475\",\"type\":\"Circle\"},{\"attributes\":{\"data_source\":{\"id\":\"2474\",\"type\":\"ColumnDataSource\"},\"glyph\":{\"id\":\"2475\",\"type\":\"Circle\"},\"hover_glyph\":null,\"muted_glyph\":null,\"nonselection_glyph\":{\"id\":\"2476\",\"type\":\"Circle\"},\"selection_glyph\":null,\"view\":{\"id\":\"2478\",\"type\":\"CDSView\"}},\"id\":\"2477\",\"type\":\"GlyphRenderer\"},{\"attributes\":{\"align\":\"center\",\"plot\":null,\"text\":\"Individual Mouse Whisker Hit\"},\"id\":\"2438\",\"type\":\"Title\"},{\"attributes\":{\"axis_label\":\"WhHit\",\"axis_label_text_font_style\":\"bold\",\"formatter\":{\"id\":\"2584\",\"type\":\"BasicTickFormatter\"},\"plot\":{\"id\":\"2439\",\"subtype\":\"Figure\",\"type\":\"Plot\"},\"ticker\":{\"id\":\"2455\",\"type\":\"BasicTicker\"}},\"id\":\"2454\",\"type\":\"LinearAxis\"},{\"attributes\":{},\"id\":\"2447\",\"type\":\"LinearScale\"},{\"attributes\":{\"fill_color\":{\"value\":\"black\"},\"size\":{\"units\":\"screen\",\"value\":5},\"x\":{\"value\":1},\"y\":{\"value\":0.5887346987093809}},\"id\":\"2480\",\"type\":\"Circle\"},{\"attributes\":{\"fill_alpha\":{\"value\":0.1},\"fill_color\":{\"value\":\"#1f77b4\"},\"line_alpha\":{\"value\":0.1},\"line_color\":{\"value\":\"#1f77b4\"},\"size\":{\"units\":\"screen\",\"value\":5},\"x\":{\"value\":1},\"y\":{\"value\":0.5887346987093809}},\"id\":\"2481\",\"type\":\"Circle\"},{\"attributes\":{\"data_source\":{\"id\":\"2479\",\"type\":\"ColumnDataSource\"},\"glyph\":{\"id\":\"2480\",\"type\":\"Circle\"},\"hover_glyph\":null,\"muted_glyph\":null,\"nonselection_glyph\":{\"id\":\"2481\",\"type\":\"Circle\"},\"selection_glyph\":null,\"view\":{\"id\":\"2483\",\"type\":\"CDSView\"}},\"id\":\"2482\",\"type\":\"GlyphRenderer\"},{\"attributes\":{\"fill_alpha\":{\"value\":0.1},\"fill_color\":{\"value\":\"#1f77b4\"},\"line_alpha\":{\"value\":0.1},\"line_color\":{\"value\":\"#1f77b4\"},\"size\":{\"units\":\"screen\",\"value\":5},\"x\":{\"value\":1},\"y\":{\"field\":\"y\"}},\"id\":\"2476\",\"type\":\"Circle\"},{\"attributes\":{\"source\":{\"id\":\"2479\",\"type\":\"ColumnDataSource\"}},\"id\":\"2483\",\"type\":\"CDSView\"},{\"attributes\":{},\"id\":\"2590\",\"type\":\"UnionRenderers\"},{\"attributes\":{},\"id\":\"2584\",\"type\":\"BasicTickFormatter\"}],\"root_ids\":[\"2439\"]},\"title\":\"Bokeh Application\",\"version\":\"1.0.4\"}};\n",
       "  var render_items = [{\"docid\":\"be98a7d9-1c92-46bd-ac8f-1b724c9bd904\",\"roots\":{\"2439\":\"4159f362-4407-4c0f-9070-eae7d593f4ef\"}}];\n",
       "  root.Bokeh.embed.embed_items_notebook(docs_json, render_items);\n",
       "\n",
       "  }\n",
       "  if (root.Bokeh !== undefined) {\n",
       "    embed_document(root);\n",
       "  } else {\n",
       "    var attempts = 0;\n",
       "    var timer = setInterval(function(root) {\n",
       "      if (root.Bokeh !== undefined) {\n",
       "        embed_document(root);\n",
       "        clearInterval(timer);\n",
       "      }\n",
       "      attempts++;\n",
       "      if (attempts > 100) {\n",
       "        console.log(\"Bokeh: ERROR: Unable to run BokehJS code because BokehJS library is missing\");\n",
       "        clearInterval(timer);\n",
       "      }\n",
       "    }, 10, root)\n",
       "  }\n",
       "})(window);"
      ],
      "application/vnd.bokehjs_exec.v0+json": ""
     },
     "metadata": {
      "application/vnd.bokehjs_exec.v0+json": {
       "id": "2439"
      }
     },
     "output_type": "display_data"
    },
    {
     "data": {
      "text/html": [
       "\n",
       "\n",
       "\n",
       "\n",
       "\n",
       "\n",
       "  <div class=\"bk-root\" id=\"3310127a-0005-4c9c-bd1d-389b431d8ad2\" data-root-id=\"2653\"></div>\n"
      ]
     },
     "metadata": {},
     "output_type": "display_data"
    },
    {
     "data": {
      "application/javascript": [
       "(function(root) {\n",
       "  function embed_document(root) {\n",
       "    \n",
       "  var docs_json = {\"e27c1c30-5a2b-4f52-b177-ee43afcfe546\":{\"roots\":{\"references\":[{\"attributes\":{\"below\":[{\"id\":\"2663\",\"type\":\"LinearAxis\"}],\"left\":[{\"id\":\"2668\",\"type\":\"LinearAxis\"}],\"plot_height\":500,\"plot_width\":300,\"renderers\":[{\"id\":\"2663\",\"type\":\"LinearAxis\"},{\"id\":\"2667\",\"type\":\"Grid\"},{\"id\":\"2668\",\"type\":\"LinearAxis\"},{\"id\":\"2672\",\"type\":\"Grid\"},{\"id\":\"2681\",\"type\":\"BoxAnnotation\"},{\"id\":\"2691\",\"type\":\"GlyphRenderer\"},{\"id\":\"2696\",\"type\":\"GlyphRenderer\"}],\"title\":{\"id\":\"2652\",\"type\":\"Title\"},\"toolbar\":{\"id\":\"2679\",\"type\":\"Toolbar\"},\"x_range\":{\"id\":\"2655\",\"type\":\"DataRange1d\"},\"x_scale\":{\"id\":\"2659\",\"type\":\"LinearScale\"},\"y_range\":{\"id\":\"2657\",\"type\":\"DataRange1d\"},\"y_scale\":{\"id\":\"2661\",\"type\":\"LinearScale\"}},\"id\":\"2653\",\"subtype\":\"Figure\",\"type\":\"Plot\"},{\"attributes\":{},\"id\":\"2814\",\"type\":\"UnionRenderers\"},{\"attributes\":{},\"id\":\"2676\",\"type\":\"SaveTool\"},{\"attributes\":{},\"id\":\"2673\",\"type\":\"PanTool\"},{\"attributes\":{},\"id\":\"2677\",\"type\":\"ResetTool\"},{\"attributes\":{},\"id\":\"2678\",\"type\":\"HelpTool\"},{\"attributes\":{\"active_drag\":\"auto\",\"active_inspect\":\"auto\",\"active_multi\":null,\"active_scroll\":\"auto\",\"active_tap\":\"auto\",\"tools\":[{\"id\":\"2673\",\"type\":\"PanTool\"},{\"id\":\"2674\",\"type\":\"WheelZoomTool\"},{\"id\":\"2675\",\"type\":\"BoxZoomTool\"},{\"id\":\"2676\",\"type\":\"SaveTool\"},{\"id\":\"2677\",\"type\":\"ResetTool\"},{\"id\":\"2678\",\"type\":\"HelpTool\"}]},\"id\":\"2679\",\"type\":\"Toolbar\"},{\"attributes\":{\"data_source\":{\"id\":\"2688\",\"type\":\"ColumnDataSource\"},\"glyph\":{\"id\":\"2689\",\"type\":\"Circle\"},\"hover_glyph\":null,\"muted_glyph\":null,\"nonselection_glyph\":{\"id\":\"2690\",\"type\":\"Circle\"},\"selection_glyph\":null,\"view\":{\"id\":\"2692\",\"type\":\"CDSView\"}},\"id\":\"2691\",\"type\":\"GlyphRenderer\"},{\"attributes\":{\"bottom_units\":\"screen\",\"fill_alpha\":{\"value\":0.5},\"fill_color\":{\"value\":\"lightgrey\"},\"left_units\":\"screen\",\"level\":\"overlay\",\"line_alpha\":{\"value\":1.0},\"line_color\":{\"value\":\"black\"},\"line_dash\":[4,4],\"line_width\":{\"value\":2},\"plot\":null,\"render_mode\":\"css\",\"right_units\":\"screen\",\"top_units\":\"screen\"},\"id\":\"2681\",\"type\":\"BoxAnnotation\"},{\"attributes\":{\"callback\":null,\"data\":{\"y\":{\"__ndarray__\":\"hgqWvh6GAEAdmpXtSSrwP8B1k+1KtPE/vCY/GQQQA0DT0+PO65DuP6RxoN0Blu0/6be6quYMAUBd7D6ZM+fzPwFNjCdKAAJA0IbFOud8+z8ipQkJF4j3P0EGFlVBA/o/kRh/W/Uw3D815KKA6yYCQA==\",\"dtype\":\"float64\",\"shape\":[14]}},\"selected\":{\"id\":\"2811\",\"type\":\"Selection\"},\"selection_policy\":{\"id\":\"2812\",\"type\":\"UnionRenderers\"}},\"id\":\"2688\",\"type\":\"ColumnDataSource\"},{\"attributes\":{\"fill_color\":{\"value\":\"white\"},\"line_color\":{\"value\":\"green\"},\"size\":{\"units\":\"screen\",\"value\":5},\"x\":{\"value\":1},\"y\":{\"field\":\"y\"}},\"id\":\"2689\",\"type\":\"Circle\"},{\"attributes\":{},\"id\":\"2808\",\"type\":\"BasicTickFormatter\"},{\"attributes\":{\"source\":{\"id\":\"2688\",\"type\":\"ColumnDataSource\"}},\"id\":\"2692\",\"type\":\"CDSView\"},{\"attributes\":{\"dimension\":1,\"plot\":{\"id\":\"2653\",\"subtype\":\"Figure\",\"type\":\"Plot\"},\"ticker\":{\"id\":\"2669\",\"type\":\"BasicTicker\"}},\"id\":\"2672\",\"type\":\"Grid\"},{\"attributes\":{\"axis_label\":\"dprime for W\",\"axis_label_text_font_style\":\"bold\",\"formatter\":{\"id\":\"2808\",\"type\":\"BasicTickFormatter\"},\"plot\":{\"id\":\"2653\",\"subtype\":\"Figure\",\"type\":\"Plot\"},\"ticker\":{\"id\":\"2669\",\"type\":\"BasicTicker\"}},\"id\":\"2668\",\"type\":\"LinearAxis\"},{\"attributes\":{},\"id\":\"2669\",\"type\":\"BasicTicker\"},{\"attributes\":{\"fill_color\":{\"value\":\"green\"},\"line_color\":{\"value\":\"green\"},\"size\":{\"units\":\"screen\",\"value\":5},\"x\":{\"value\":1},\"y\":{\"value\":1.5424495807521423}},\"id\":\"2694\",\"type\":\"Circle\"},{\"attributes\":{\"overlay\":{\"id\":\"2681\",\"type\":\"BoxAnnotation\"}},\"id\":\"2675\",\"type\":\"BoxZoomTool\"},{\"attributes\":{\"align\":\"center\",\"plot\":null,\"text\":\"Individual Mouse dprime for W\"},\"id\":\"2652\",\"type\":\"Title\"},{\"attributes\":{\"fill_alpha\":{\"value\":0.1},\"fill_color\":{\"value\":\"#1f77b4\"},\"line_alpha\":{\"value\":0.1},\"line_color\":{\"value\":\"#1f77b4\"},\"size\":{\"units\":\"screen\",\"value\":5},\"x\":{\"value\":1},\"y\":{\"value\":1.5424495807521423}},\"id\":\"2695\",\"type\":\"Circle\"},{\"attributes\":{\"fill_alpha\":{\"value\":0.1},\"fill_color\":{\"value\":\"#1f77b4\"},\"line_alpha\":{\"value\":0.1},\"line_color\":{\"value\":\"#1f77b4\"},\"size\":{\"units\":\"screen\",\"value\":5},\"x\":{\"value\":1},\"y\":{\"field\":\"y\"}},\"id\":\"2690\",\"type\":\"Circle\"},{\"attributes\":{\"data_source\":{\"id\":\"2693\",\"type\":\"ColumnDataSource\"},\"glyph\":{\"id\":\"2694\",\"type\":\"Circle\"},\"hover_glyph\":null,\"muted_glyph\":null,\"nonselection_glyph\":{\"id\":\"2695\",\"type\":\"Circle\"},\"selection_glyph\":null,\"view\":{\"id\":\"2697\",\"type\":\"CDSView\"}},\"id\":\"2696\",\"type\":\"GlyphRenderer\"},{\"attributes\":{\"source\":{\"id\":\"2693\",\"type\":\"ColumnDataSource\"}},\"id\":\"2697\",\"type\":\"CDSView\"},{\"attributes\":{\"plot\":{\"id\":\"2653\",\"subtype\":\"Figure\",\"type\":\"Plot\"},\"ticker\":{\"id\":\"2664\",\"type\":\"BasicTicker\"}},\"id\":\"2667\",\"type\":\"Grid\"},{\"attributes\":{},\"id\":\"2664\",\"type\":\"BasicTicker\"},{\"attributes\":{},\"id\":\"2674\",\"type\":\"WheelZoomTool\"},{\"attributes\":{\"axis_label\":\"Switching Day\",\"axis_label_text_font_style\":\"bold\",\"formatter\":{\"id\":\"2810\",\"type\":\"BasicTickFormatter\"},\"plot\":{\"id\":\"2653\",\"subtype\":\"Figure\",\"type\":\"Plot\"},\"ticker\":{\"id\":\"2664\",\"type\":\"BasicTicker\"}},\"id\":\"2663\",\"type\":\"LinearAxis\"},{\"attributes\":{},\"id\":\"2810\",\"type\":\"BasicTickFormatter\"},{\"attributes\":{},\"id\":\"2661\",\"type\":\"LinearScale\"},{\"attributes\":{\"callback\":null,\"data\":{},\"selected\":{\"id\":\"2813\",\"type\":\"Selection\"},\"selection_policy\":{\"id\":\"2814\",\"type\":\"UnionRenderers\"}},\"id\":\"2693\",\"type\":\"ColumnDataSource\"},{\"attributes\":{},\"id\":\"2811\",\"type\":\"Selection\"},{\"attributes\":{},\"id\":\"2659\",\"type\":\"LinearScale\"},{\"attributes\":{\"callback\":null},\"id\":\"2655\",\"type\":\"DataRange1d\"},{\"attributes\":{},\"id\":\"2812\",\"type\":\"UnionRenderers\"},{\"attributes\":{\"callback\":null},\"id\":\"2657\",\"type\":\"DataRange1d\"},{\"attributes\":{},\"id\":\"2813\",\"type\":\"Selection\"}],\"root_ids\":[\"2653\"]},\"title\":\"Bokeh Application\",\"version\":\"1.0.4\"}};\n",
       "  var render_items = [{\"docid\":\"e27c1c30-5a2b-4f52-b177-ee43afcfe546\",\"roots\":{\"2653\":\"3310127a-0005-4c9c-bd1d-389b431d8ad2\"}}];\n",
       "  root.Bokeh.embed.embed_items_notebook(docs_json, render_items);\n",
       "\n",
       "  }\n",
       "  if (root.Bokeh !== undefined) {\n",
       "    embed_document(root);\n",
       "  } else {\n",
       "    var attempts = 0;\n",
       "    var timer = setInterval(function(root) {\n",
       "      if (root.Bokeh !== undefined) {\n",
       "        embed_document(root);\n",
       "        clearInterval(timer);\n",
       "      }\n",
       "      attempts++;\n",
       "      if (attempts > 100) {\n",
       "        console.log(\"Bokeh: ERROR: Unable to run BokehJS code because BokehJS library is missing\");\n",
       "        clearInterval(timer);\n",
       "      }\n",
       "    }, 10, root)\n",
       "  }\n",
       "})(window);"
      ],
      "application/vnd.bokehjs_exec.v0+json": ""
     },
     "metadata": {
      "application/vnd.bokehjs_exec.v0+json": {
       "id": "2653"
      }
     },
     "output_type": "display_data"
    }
   ],
   "source": [
    "p = bokeh.plotting.figure(\n",
    "    width=300,\n",
    "    height=500,\n",
    "    x_axis_label='Switching Day',\n",
    "    y_axis_label='WhHit',\n",
    "    title= 'Individual Mouse Whisker Hit' \n",
    "    )\n",
    "\n",
    "p.yaxis.axis_label_text_font_style = \"bold\"\n",
    "p.xaxis.axis_label_text_font_style = \"bold\"\n",
    "p.title.align = 'center'\n",
    "\n",
    "p.circle(1, dataAll[:,3,1] ,line_color='black', fill_color = 'white',size=5,)\n",
    "p.circle(1, np.mean(dataAll[:,3,1]) ,line_color='black', fill_color = 'black',size=5,)\n",
    "\n",
    "bokeh.io.show(p)    \n",
    "\n",
    "\n",
    "k = bokeh.plotting.figure(\n",
    "    width=300,\n",
    "    height=500,\n",
    "    x_axis_label='Switching Day',\n",
    "    y_axis_label='dprime for W',\n",
    "    title= 'Individual Mouse dprime for W' \n",
    "    )\n",
    "\n",
    "k.yaxis.axis_label_text_font_style = \"bold\"\n",
    "k.xaxis.axis_label_text_font_style = \"bold\"\n",
    "k.title.align = 'center'\n",
    "\n",
    "k.circle(1, dataAll[:,3,3] ,line_color='green', fill_color = 'white',size=5,)\n",
    "k.circle(1, np.mean(dataAll[:,3,3]) ,line_color='green', fill_color = 'green',size=5,)\n",
    "\n",
    "bokeh.io.show(k)  "
   ]
  },
  {
   "cell_type": "code",
   "execution_count": 118,
   "metadata": {},
   "outputs": [
    {
     "data": {
      "text/plain": [
       "array([0.78461538, 0.42136499, 0.45806452, 0.78888889, 0.38      ,\n",
       "       0.37606838, 0.85496183, 0.40707965, 0.79411765, 0.72380952,\n",
       "       0.59027778, 0.72826087, 0.15555556, 0.77922078])"
      ]
     },
     "execution_count": 118,
     "metadata": {},
     "output_type": "execute_result"
    }
   ],
   "source": [
    "dprime = d"
   ]
  }
 ],
 "metadata": {
  "kernelspec": {
   "display_name": "Python 3",
   "language": "python",
   "name": "python3"
  },
  "language_info": {
   "codemirror_mode": {
    "name": "ipython",
    "version": 3
   },
   "file_extension": ".py",
   "mimetype": "text/x-python",
   "name": "python",
   "nbconvert_exporter": "python",
   "pygments_lexer": "ipython3",
   "version": "3.7.3"
  }
 },
 "nbformat": 4,
 "nbformat_minor": 2
}
